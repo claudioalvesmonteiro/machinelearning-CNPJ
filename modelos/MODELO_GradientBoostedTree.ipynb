{
  "nbformat": 4,
  "nbformat_minor": 0,
  "metadata": {
    "kernelspec": {
      "name": "python3",
      "display_name": "Python 3"
    },
    "language_info": {
      "codemirror_mode": {
        "name": "ipython",
        "version": 3
      },
      "file_extension": ".py",
      "mimetype": "text/x-python",
      "name": "python",
      "nbconvert_exporter": "python",
      "pygments_lexer": "ipython3",
      "version": "3.7.3"
    },
    "colab": {
      "name": "MODELO_GradientBoostedTree.ipynb",
      "version": "0.3.2",
      "provenance": [],
      "collapsed_sections": [],
      "include_colab_link": true
    },
    "accelerator": "TPU"
  },
  "cells": [
    {
      "cell_type": "markdown",
      "metadata": {
        "id": "view-in-github",
        "colab_type": "text"
      },
      "source": [
        "<a href=\"https://colab.research.google.com/github/claudioalvesmonteiro/machinelearning-CNPJ/blob/master/modelos/MODELO_GradientBoostedTree.ipynb\" target=\"_parent\"><img src=\"https://colab.research.google.com/assets/colab-badge.svg\" alt=\"Open In Colab\"/></a>"
      ]
    },
    {
      "cell_type": "markdown",
      "metadata": {
        "id": "460lR_XZsx34",
        "colab_type": "text"
      },
      "source": [
        "   # Projeto Machine Learning para Análise de Crédito\n",
        "   \n",
        "   ## Modelo Gradient Boosted Tree\n",
        "   \n",
        "    Equipe:\n",
        "    Claudio Alves Monteiro\n",
        "    Marcos Antonio Almeida Souto Júnior\n",
        "    Virgínia Heimann\n",
        "    Kayo Renato da Silva Nascimento\n",
        "    Rosely Cabral\n",
        "   \n",
        "\n",
        "   \n"
      ]
    },
    {
      "cell_type": "code",
      "metadata": {
        "id": "Wmc3XFvPpgjR",
        "colab_type": "code",
        "colab": {}
      },
      "source": [
        "!apt-get install openjdk-8-jdk-headless -qq > /dev/null\n",
        "!wget -q http://mirror.nbtelecom.com.br/apache/spark/spark-2.4.3/spark-2.4.3-bin-hadoop2.7.tgz\n",
        "!tar xf spark-2.4.3-bin-hadoop2.7.tgz\n",
        "!pip install -q findspark"
      ],
      "execution_count": 0,
      "outputs": []
    },
    {
      "cell_type": "code",
      "metadata": {
        "id": "EoX23c-nrSWz",
        "colab_type": "code",
        "colab": {}
      },
      "source": [
        "import os\n",
        "os.environ[\"JAVA_HOME\"] = \"/usr/lib/jvm/java-8-openjdk-amd64\"\n",
        "os.environ[\"SPARK_HOME\"] = \"/content/spark-2.4.3-bin-hadoop2.7\""
      ],
      "execution_count": 0,
      "outputs": []
    },
    {
      "cell_type": "code",
      "metadata": {
        "id": "P7K-Aj6JrVei",
        "colab_type": "code",
        "colab": {}
      },
      "source": [
        "import findspark\n",
        "findspark.init()\n",
        "from pyspark.sql import SparkSession\n",
        "spark = SparkSession.builder.master(\"local[*]\").getOrCreate()"
      ],
      "execution_count": 0,
      "outputs": []
    },
    {
      "cell_type": "code",
      "metadata": {
        "id": "Yj-6BAHKrnBn",
        "colab_type": "code",
        "colab": {}
      },
      "source": [
        "# import modules\n",
        "import os\n",
        "import pandas as pd\n",
        "from pyspark.sql import functions as SF\n",
        "import pyspark.sql.types as ST"
      ],
      "execution_count": 0,
      "outputs": []
    },
    {
      "cell_type": "markdown",
      "metadata": {
        "id": "ec0J1CJm0gdv",
        "colab_type": "text"
      },
      "source": [
        "## Importar dados"
      ]
    },
    {
      "cell_type": "code",
      "metadata": {
        "id": "1jRId6GF2UII",
        "colab_type": "code",
        "outputId": "15080d9c-5aa3-4fdc-df9f-7060eeab58dc",
        "colab": {
          "base_uri": "https://localhost:8080/",
          "height": 34
        }
      },
      "source": [
        "from google.colab import drive\n",
        "drive.mount('/content/drive')"
      ],
      "execution_count": 0,
      "outputs": [
        {
          "output_type": "stream",
          "text": [
            "Drive already mounted at /content/drive; to attempt to forcibly remount, call drive.mount(\"/content/drive\", force_remount=True).\n"
          ],
          "name": "stdout"
        }
      ]
    },
    {
      "cell_type": "code",
      "metadata": {
        "id": "Ebe_k4H005yd",
        "colab_type": "code",
        "outputId": "c2951ef5-76fb-40b0-f4d7-cb0b5c764185",
        "colab": {
          "base_uri": "https://localhost:8080/",
          "height": 222
        }
      },
      "source": [
        "# import data\n",
        "path = 'drive/My Drive/Colab Notebooks/ProjetoCESARSchool/codes/data/'\n",
        "\n",
        "\n",
        "df = spark.read.csv(path+'model_data5.csv',\n",
        "                    sep=',',\n",
        "                    encoding='utf-8',\n",
        "                    header=True,\n",
        "                    inferSchema=True)\n",
        "\n",
        "df.show(5)"
      ],
      "execution_count": 0,
      "outputs": [
        {
          "output_type": "stream",
          "text": [
            "+---+--------------+--------+-------+----------+--------------------+--------------------+----------+------------------------+-------------------------+-------------------------------+--------------+----------------+--------+------------------+-------------------+-----------------------+------------------+--------------------+-------------------------+----------------------+----------------------------+--------------------+-------------------+-------------------+-------------------+-------------------+\n",
            "|_c0|          CNPJ|DATA_REF|CS_ALVO|QTD_SOCIOS|      CAPITAL_SOCIAL|               IDADE|tipo_index|natureza_socied_limitada|natureza_empresario_indiv|natureza_empresa_indiv_limitada|situacao_ativa|situacao_baixada|UF_index|atividade_alimento|          populacao|municipio_metropolitano|      dist_capital|      area_municipio|taxa_atividade_18anosmais|porcent_pop_saneamento|porcent_mulheres10a17_filhos|mortalidade_infantil|               IDHM|         IDHM_renda| taxa_analfabetismo|     porcent_pobres|\n",
            "+---+--------------+--------+-------+----------+--------------------+--------------------+----------+------------------------+-------------------------+-------------------------------+--------------+----------------+--------+------------------+-------------------+-----------------------+------------------+--------------------+-------------------------+----------------------+----------------------------+--------------------+-------------------+-------------------+-------------------+-------------------+\n",
            "|  0|  156902000111| 2016-09|      0|         3|-0.01044467193150...|  0.9674022021009029|       0.0|                       1|                        0|                              0|             1|               0|     7.0|                 1|-0.7279768704066641|                      0|0.9528881923401529|-0.09921971900269752|      -0.7720641767768895|  -0.20754503451065506|          1.7852404133290412| -0.4153756989385943|-1.0082075855589212|-0.9635090772661333| 0.1160762727734105|0.49562776391684105|\n",
            "|  1|81295842000110| 2016-10|      0|         1|-0.01224412806742...|  1.4651990026438604|       0.0|                       0|                        0|                              0|             1|               0|     7.0|                 0|-0.7279768704066641|                      0|0.9528881923401529|-0.09921971900269752|      -0.7720641767768895|  -0.20754503451065506|          1.7852404133290412| -0.4153756989385943|-1.0082075855589212|-0.9635090772661333| 0.1160762727734105|0.49562776391684105|\n",
            "|  2|82156977000167| 2016-09|      0|         3|0.010548982987511384|  1.3335253411171013|       0.0|                       1|                        0|                              0|             1|               0|     7.0|                 0|-0.7279768704066641|                      0|0.9528881923401529|-0.09921971900269752|      -0.7720641767768895|  -0.20754503451065506|          1.7852404133290412| -0.4153756989385943|-1.0082075855589212|-0.9635090772661333| 0.1160762727734105|0.49562776391684105|\n",
            "|  3| 3372720000176| 2016-12|      0|         3|-0.01152434561305...|  0.5291600919813078|       0.0|                       1|                        0|                              0|             1|               0|     7.0|                 1| -0.700109450998781|                      0|0.4243909330769714|-0.21461830281712446|       2.6256743614506908|    0.4652859270114391|         -0.8532941414505758|  -1.205536395229418| 0.6014065414165615|0.12478896445523038|-0.7878266326954719|-0.8542298979558235|\n",
            "|  4|12830072000145| 2017-01|      0|         1|-0.00995521986253...|-0.49005435678307163|       0.0|                       0|                        0|                              0|             1|               0|     7.0|                 0| -0.700109450998781|                      0|0.4243909330769714|-0.21461830281712446|       2.6256743614506908|    0.4652859270114391|         -0.8532941414505758|  -1.205536395229418| 0.6014065414165615|0.12478896445523038|-0.7878266326954719|-0.8542298979558235|\n",
            "+---+--------------+--------+-------+----------+--------------------+--------------------+----------+------------------------+-------------------------+-------------------------------+--------------+----------------+--------+------------------+-------------------+-----------------------+------------------+--------------------+-------------------------+----------------------+----------------------------+--------------------+-------------------+-------------------+-------------------+-------------------+\n",
            "only showing top 5 rows\n",
            "\n"
          ],
          "name": "stdout"
        }
      ]
    },
    {
      "cell_type": "code",
      "metadata": {
        "id": "pvEf1bAVl1so",
        "colab_type": "code",
        "colab": {}
      },
      "source": [
        "# rename CS_ALVO as label\n",
        "df = df.withColumnRenamed('CS_ALVO', 'label')"
      ],
      "execution_count": 0,
      "outputs": []
    },
    {
      "cell_type": "markdown",
      "metadata": {
        "id": "2u7lMMlxkrrL",
        "colab_type": "text"
      },
      "source": [
        "## Construção do Modelo"
      ]
    },
    {
      "cell_type": "code",
      "metadata": {
        "id": "_S2VTi7ikrBl",
        "colab_type": "code",
        "colab": {}
      },
      "source": [
        "# ENCODE \n",
        "from pyspark.ml import Pipeline\n",
        "from pyspark.ml.feature import OneHotEncoderEstimator\n",
        "\n",
        "df = df.drop('UF_encoded')\n",
        "\n",
        "encoder = OneHotEncoderEstimator(inputCols=['UF_index'],\n",
        "                                 outputCols=['UF_encoded'])\n",
        "\n",
        "model = encoder.fit(df)\n",
        "df = model.transform(df)"
      ],
      "execution_count": 0,
      "outputs": []
    },
    {
      "cell_type": "code",
      "metadata": {
        "id": "g7esYA_8l_NI",
        "colab_type": "code",
        "outputId": "1c5b8cad-c344-4b59-d76b-113f83f0d7d8",
        "colab": {
          "base_uri": "https://localhost:8080/",
          "height": 222
        }
      },
      "source": [
        "df = df.withColumn('populacao', SF.col('populacao').cast('double'))\n",
        "df = df.withColumn('taxa_analfabetismo', SF.col('taxa_analfabetismo').cast('double'))\n",
        "df.show(5)"
      ],
      "execution_count": 0,
      "outputs": [
        {
          "output_type": "stream",
          "text": [
            "+---+--------------+--------+-----+----------+--------------------+--------------------+----------+------------------------+-------------------------+-------------------------------+--------------+----------------+--------+------------------+-------------------+-----------------------+------------------+--------------------+-------------------------+----------------------+----------------------------+--------------------+-------------------+-------------------+-------------------+-------------------+--------------+\n",
            "|_c0|          CNPJ|DATA_REF|label|QTD_SOCIOS|      CAPITAL_SOCIAL|               IDADE|tipo_index|natureza_socied_limitada|natureza_empresario_indiv|natureza_empresa_indiv_limitada|situacao_ativa|situacao_baixada|UF_index|atividade_alimento|          populacao|municipio_metropolitano|      dist_capital|      area_municipio|taxa_atividade_18anosmais|porcent_pop_saneamento|porcent_mulheres10a17_filhos|mortalidade_infantil|               IDHM|         IDHM_renda| taxa_analfabetismo|     porcent_pobres|    UF_encoded|\n",
            "+---+--------------+--------+-----+----------+--------------------+--------------------+----------+------------------------+-------------------------+-------------------------------+--------------+----------------+--------+------------------+-------------------+-----------------------+------------------+--------------------+-------------------------+----------------------+----------------------------+--------------------+-------------------+-------------------+-------------------+-------------------+--------------+\n",
            "|  0|  156902000111| 2016-09|    0|         3|-0.01044467193150...|  0.9674022021009029|       0.0|                       1|                        0|                              0|             1|               0|     7.0|                 1|-0.7279768704066641|                      0|0.9528881923401529|-0.09921971900269752|      -0.7720641767768895|  -0.20754503451065506|          1.7852404133290412| -0.4153756989385943|-1.0082075855589212|-0.9635090772661333| 0.1160762727734105|0.49562776391684105|(12,[7],[1.0])|\n",
            "|  1|81295842000110| 2016-10|    0|         1|-0.01224412806742...|  1.4651990026438604|       0.0|                       0|                        0|                              0|             1|               0|     7.0|                 0|-0.7279768704066641|                      0|0.9528881923401529|-0.09921971900269752|      -0.7720641767768895|  -0.20754503451065506|          1.7852404133290412| -0.4153756989385943|-1.0082075855589212|-0.9635090772661333| 0.1160762727734105|0.49562776391684105|(12,[7],[1.0])|\n",
            "|  2|82156977000167| 2016-09|    0|         3|0.010548982987511384|  1.3335253411171013|       0.0|                       1|                        0|                              0|             1|               0|     7.0|                 0|-0.7279768704066641|                      0|0.9528881923401529|-0.09921971900269752|      -0.7720641767768895|  -0.20754503451065506|          1.7852404133290412| -0.4153756989385943|-1.0082075855589212|-0.9635090772661333| 0.1160762727734105|0.49562776391684105|(12,[7],[1.0])|\n",
            "|  3| 3372720000176| 2016-12|    0|         3|-0.01152434561305...|  0.5291600919813078|       0.0|                       1|                        0|                              0|             1|               0|     7.0|                 1| -0.700109450998781|                      0|0.4243909330769714|-0.21461830281712446|       2.6256743614506908|    0.4652859270114391|         -0.8532941414505758|  -1.205536395229418| 0.6014065414165615|0.12478896445523038|-0.7878266326954719|-0.8542298979558235|(12,[7],[1.0])|\n",
            "|  4|12830072000145| 2017-01|    0|         1|-0.00995521986253...|-0.49005435678307163|       0.0|                       0|                        0|                              0|             1|               0|     7.0|                 0| -0.700109450998781|                      0|0.4243909330769714|-0.21461830281712446|       2.6256743614506908|    0.4652859270114391|         -0.8532941414505758|  -1.205536395229418| 0.6014065414165615|0.12478896445523038|-0.7878266326954719|-0.8542298979558235|(12,[7],[1.0])|\n",
            "+---+--------------+--------+-----+----------+--------------------+--------------------+----------+------------------------+-------------------------+-------------------------------+--------------+----------------+--------+------------------+-------------------+-----------------------+------------------+--------------------+-------------------------+----------------------+----------------------------+--------------------+-------------------+-------------------+-------------------+-------------------+--------------+\n",
            "only showing top 5 rows\n",
            "\n"
          ],
          "name": "stdout"
        }
      ]
    },
    {
      "cell_type": "markdown",
      "metadata": {
        "id": "C4FjoJMXRLvC",
        "colab_type": "text"
      },
      "source": [
        "## Gradient-boosted tree classifier"
      ]
    },
    {
      "cell_type": "code",
      "metadata": {
        "id": "jafy_7pSRVL5",
        "colab_type": "code",
        "colab": {}
      },
      "source": [
        "# import \n",
        "from pyspark.ml import Pipeline\n",
        "from pyspark.ml.classification import GBTClassifier\n",
        "from pyspark.ml.feature import StringIndexer, VectorIndexer, VectorAssembler\n",
        "from pyspark.ml.evaluation import MulticlassClassificationEvaluator"
      ],
      "execution_count": 0,
      "outputs": []
    },
    {
      "cell_type": "code",
      "metadata": {
        "id": "rtsZF6R_kfWq",
        "colab_type": "code",
        "outputId": "6ce88af8-5ac3-4407-c49f-2d95787eafdc",
        "colab": {
          "base_uri": "https://localhost:8080/",
          "height": 222
        }
      },
      "source": [
        "#======== VECTOR ASSEMBLER\n",
        "\n",
        "from pyspark.ml.feature import VectorAssembler\n",
        "\n",
        "\n",
        "\n",
        "\n",
        "inputcol = ['QTD_SOCIOS', \n",
        "           'CAPITAL_SOCIAL', 'IDADE', 'tipo_index', \n",
        "           'natureza_socied_limitada', 'natureza_empresario_indiv',\n",
        "           'situacao_ativa',\n",
        "           'situacao_baixada', 'UF_encoded', 'populacao',\n",
        "           'municipio_metropolitano','dist_capital','area_municipio',\n",
        "           'taxa_atividade_18anosmais','porcent_pop_saneamento',\n",
        "           'porcent_mulheres10a17_filhos','mortalidade_infantil','IDHM',\n",
        "           'IDHM_renda','taxa_analfabetismo','porcent_pobres']\n",
        "\n",
        "\n",
        "\n",
        "assembler = VectorAssembler(\n",
        "    inputCols = inputcol,\n",
        "    outputCol = \"features\",\n",
        "handleInvalid = \"keep\")\n",
        "\n",
        "dataModel = assembler.transform(df)\n",
        "\n",
        "dataModel = dataModel.select('features', 'label')\n",
        "\n",
        "dataModel.show(5, truncate=False)"
      ],
      "execution_count": 0,
      "outputs": [
        {
          "output_type": "stream",
          "text": [
            "+------------------------------------------------------------------------------------------------------------------------------------------------------------------------------------------------------------------------------------------------------------------------------------------------------------------------------------------+-----+\n",
            "|features                                                                                                                                                                                                                                                                                                                                  |label|\n",
            "+------------------------------------------------------------------------------------------------------------------------------------------------------------------------------------------------------------------------------------------------------------------------------------------------------------------------------------------+-----+\n",
            "|(32,[0,1,2,4,6,15,20,22,23,24,25,26,27,28,29,30,31],[3.0,-0.010444671931506848,0.9674022021009029,1.0,1.0,1.0,-0.7279768704066641,0.9528881923401529,-0.09921971900269752,-0.7720641767768895,-0.20754503451065506,1.7852404133290412,-0.4153756989385943,-1.0082075855589212,-0.9635090772661333,0.1160762727734105,0.49562776391684105])|0    |\n",
            "|(32,[0,1,2,6,15,20,22,23,24,25,26,27,28,29,30,31],[1.0,-0.012244128067422696,1.4651990026438604,1.0,1.0,-0.7279768704066641,0.9528881923401529,-0.09921971900269752,-0.7720641767768895,-0.20754503451065506,1.7852404133290412,-0.4153756989385943,-1.0082075855589212,-0.9635090772661333,0.1160762727734105,0.49562776391684105])      |0    |\n",
            "|(32,[0,1,2,4,6,15,20,22,23,24,25,26,27,28,29,30,31],[3.0,0.010548982987511384,1.3335253411171013,1.0,1.0,1.0,-0.7279768704066641,0.9528881923401529,-0.09921971900269752,-0.7720641767768895,-0.20754503451065506,1.7852404133290412,-0.4153756989385943,-1.0082075855589212,-0.9635090772661333,0.1160762727734105,0.49562776391684105]) |0    |\n",
            "|(32,[0,1,2,4,6,15,20,22,23,24,25,26,27,28,29,30,31],[3.0,-0.011524345613056357,0.5291600919813078,1.0,1.0,1.0,-0.700109450998781,0.4243909330769714,-0.21461830281712446,2.6256743614506908,0.4652859270114391,-0.8532941414505758,-1.205536395229418,0.6014065414165615,0.12478896445523038,-0.7878266326954719,-0.8542298979558235])    |0    |\n",
            "|(32,[0,1,2,6,15,20,22,23,24,25,26,27,28,29,30,31],[1.0,-0.009955219862537737,-0.49005435678307163,1.0,1.0,-0.700109450998781,0.4243909330769714,-0.21461830281712446,2.6256743614506908,0.4652859270114391,-0.8532941414505758,-1.205536395229418,0.6014065414165615,0.12478896445523038,-0.7878266326954719,-0.8542298979558235])        |0    |\n",
            "+------------------------------------------------------------------------------------------------------------------------------------------------------------------------------------------------------------------------------------------------------------------------------------------------------------------------------------------+-----+\n",
            "only showing top 5 rows\n",
            "\n"
          ],
          "name": "stdout"
        }
      ]
    },
    {
      "cell_type": "code",
      "metadata": {
        "id": "_wzgWSV2nC7F",
        "colab_type": "code",
        "colab": {}
      },
      "source": [
        "# Split the data into training and test sets (30% held out for testing)\n",
        "(trainingData, testData) = dataModel.randomSplit([0.7, 0.3])"
      ],
      "execution_count": 0,
      "outputs": []
    },
    {
      "cell_type": "code",
      "metadata": {
        "id": "3OUrqoCOnS0I",
        "colab_type": "code",
        "outputId": "d4cae686-2049-47f6-a27d-d6cd62630466",
        "colab": {
          "base_uri": "https://localhost:8080/",
          "height": 106
        }
      },
      "source": [
        "# funcao para contagem de valores categoricos\n",
        "def countGenTab(df, column):\n",
        "    # groupby, count and sort pyspark\n",
        "    tab = df.select(column).groupby(column).count().alias('count').sort('count', ascending=False)\n",
        "    # transform to pandas df\n",
        "    tab = tab.toPandas()\n",
        "    # calculate proportion\n",
        "    tab['prop'] = round(tab['count']/sum(tab['count'])*100, 2)\n",
        "    return tab\n",
        "\n",
        "  \n",
        "countGenTab(trainingData, 'label')"
      ],
      "execution_count": 0,
      "outputs": [
        {
          "output_type": "execute_result",
          "data": {
            "text/html": [
              "<div>\n",
              "<style scoped>\n",
              "    .dataframe tbody tr th:only-of-type {\n",
              "        vertical-align: middle;\n",
              "    }\n",
              "\n",
              "    .dataframe tbody tr th {\n",
              "        vertical-align: top;\n",
              "    }\n",
              "\n",
              "    .dataframe thead th {\n",
              "        text-align: right;\n",
              "    }\n",
              "</style>\n",
              "<table border=\"1\" class=\"dataframe\">\n",
              "  <thead>\n",
              "    <tr style=\"text-align: right;\">\n",
              "      <th></th>\n",
              "      <th>label</th>\n",
              "      <th>count</th>\n",
              "      <th>prop</th>\n",
              "    </tr>\n",
              "  </thead>\n",
              "  <tbody>\n",
              "    <tr>\n",
              "      <th>0</th>\n",
              "      <td>0</td>\n",
              "      <td>40190</td>\n",
              "      <td>88.69</td>\n",
              "    </tr>\n",
              "    <tr>\n",
              "      <th>1</th>\n",
              "      <td>1</td>\n",
              "      <td>5127</td>\n",
              "      <td>11.31</td>\n",
              "    </tr>\n",
              "  </tbody>\n",
              "</table>\n",
              "</div>"
            ],
            "text/plain": [
              "   label  count   prop\n",
              "0      0  40190  88.69\n",
              "1      1   5127  11.31"
            ]
          },
          "metadata": {
            "tags": []
          },
          "execution_count": 73
        }
      ]
    },
    {
      "cell_type": "code",
      "metadata": {
        "id": "h1uMW0VRe9OG",
        "colab_type": "code",
        "outputId": "4159ddd7-b2b5-497d-a292-19a45c870ed7",
        "colab": {
          "base_uri": "https://localhost:8080/",
          "height": 106
        }
      },
      "source": [
        "## BALANCEAMENTO\n",
        "\n",
        "dif = trainingData.where(SF.col('label')==0).count()-trainingData.where(SF.col('label')==1).count()\n",
        "\n",
        "# filtrar casos onde alvo == 1\n",
        "alvo = trainingData.filter(trainingData.label == 1)\n",
        "\n",
        "# adicionar 10 amostras de 1000 casos do alvo a df\n",
        "amostra = spark.createDataFrame(alvo.rdd.takeSample(True, dif, seed=0))\n",
        "trainingData = trainingData.union(amostra)\n",
        "\n",
        "countGenTab(trainingData, 'label')"
      ],
      "execution_count": 0,
      "outputs": [
        {
          "output_type": "execute_result",
          "data": {
            "text/html": [
              "<div>\n",
              "<style scoped>\n",
              "    .dataframe tbody tr th:only-of-type {\n",
              "        vertical-align: middle;\n",
              "    }\n",
              "\n",
              "    .dataframe tbody tr th {\n",
              "        vertical-align: top;\n",
              "    }\n",
              "\n",
              "    .dataframe thead th {\n",
              "        text-align: right;\n",
              "    }\n",
              "</style>\n",
              "<table border=\"1\" class=\"dataframe\">\n",
              "  <thead>\n",
              "    <tr style=\"text-align: right;\">\n",
              "      <th></th>\n",
              "      <th>label</th>\n",
              "      <th>count</th>\n",
              "      <th>prop</th>\n",
              "    </tr>\n",
              "  </thead>\n",
              "  <tbody>\n",
              "    <tr>\n",
              "      <th>0</th>\n",
              "      <td>0</td>\n",
              "      <td>40190</td>\n",
              "      <td>50.0</td>\n",
              "    </tr>\n",
              "    <tr>\n",
              "      <th>1</th>\n",
              "      <td>1</td>\n",
              "      <td>40190</td>\n",
              "      <td>50.0</td>\n",
              "    </tr>\n",
              "  </tbody>\n",
              "</table>\n",
              "</div>"
            ],
            "text/plain": [
              "   label  count  prop\n",
              "0      0  40190  50.0\n",
              "1      1  40190  50.0"
            ]
          },
          "metadata": {
            "tags": []
          },
          "execution_count": 74
        }
      ]
    },
    {
      "cell_type": "code",
      "metadata": {
        "id": "KzSICHxZmyT-",
        "colab_type": "code",
        "colab": {}
      },
      "source": [
        "# Train a GBT model.\n",
        "gbt = GBTClassifier(labelCol=\"label\", featuresCol=\"features\", maxIter=30)\n",
        "\n",
        "# Train model. \n",
        "model = gbt.fit(trainingData)\n",
        "\n",
        "# Make predictions.\n",
        "predictions = model.transform(testData)"
      ],
      "execution_count": 0,
      "outputs": []
    },
    {
      "cell_type": "code",
      "metadata": {
        "id": "n5e9yrmMmdh6",
        "colab_type": "code",
        "outputId": "2ee85c14-22cc-44ab-afe5-fbb410220158",
        "colab": {
          "base_uri": "https://localhost:8080/",
          "height": 202
        }
      },
      "source": [
        "# Select example rows to display.\n",
        "predictions.select(\"prediction\", \"label\", \"features\").show(5)"
      ],
      "execution_count": 0,
      "outputs": [
        {
          "output_type": "stream",
          "text": [
            "+----------+-----+--------------------+\n",
            "|prediction|label|            features|\n",
            "+----------+-----+--------------------+\n",
            "|       1.0|    0|(32,[0,1,2,3,4,6,...|\n",
            "|       0.0|    0|(32,[0,1,2,3,4,6,...|\n",
            "|       0.0|    0|(32,[0,1,2,3,4,6,...|\n",
            "|       0.0|    0|(32,[0,1,2,3,4,6,...|\n",
            "|       0.0|    0|(32,[0,1,2,3,4,6,...|\n",
            "+----------+-----+--------------------+\n",
            "only showing top 5 rows\n",
            "\n"
          ],
          "name": "stdout"
        }
      ]
    },
    {
      "cell_type": "code",
      "metadata": {
        "id": "MZtfaI_-Fcpb",
        "colab_type": "code",
        "outputId": "608ce01a-0e65-4d82-f228-ea63d2868b2e",
        "colab": {
          "base_uri": "https://localhost:8080/",
          "height": 34
        }
      },
      "source": [
        "# Select (prediction, true label) and compute test error\n",
        "evaluator = MulticlassClassificationEvaluator(\n",
        "    labelCol=\"label\", predictionCol=\"prediction\", metricName=\"accuracy\")\n",
        "accuracy = evaluator.evaluate(predictions)\n",
        "accuracy"
      ],
      "execution_count": 0,
      "outputs": [
        {
          "output_type": "execute_result",
          "data": {
            "text/plain": [
              "0.6110481294445017"
            ]
          },
          "metadata": {
            "tags": []
          },
          "execution_count": 77
        }
      ]
    },
    {
      "cell_type": "markdown",
      "metadata": {
        "id": "BxD7-PjKJqlq",
        "colab_type": "text"
      },
      "source": [
        "## Evaluate Model"
      ]
    },
    {
      "cell_type": "code",
      "metadata": {
        "id": "ZH6rbXLEJtw0",
        "colab_type": "code",
        "outputId": "08a0a60a-5569-4a51-aabc-6e62f7f4d4a0",
        "colab": {
          "base_uri": "https://localhost:8080/",
          "height": 106
        }
      },
      "source": [
        "crosst = predictions.crosstab('prediction', 'label')\n",
        "crosst = crosst.toPandas()\n",
        "crosst"
      ],
      "execution_count": 0,
      "outputs": [
        {
          "output_type": "execute_result",
          "data": {
            "text/html": [
              "<div>\n",
              "<style scoped>\n",
              "    .dataframe tbody tr th:only-of-type {\n",
              "        vertical-align: middle;\n",
              "    }\n",
              "\n",
              "    .dataframe tbody tr th {\n",
              "        vertical-align: top;\n",
              "    }\n",
              "\n",
              "    .dataframe thead th {\n",
              "        text-align: right;\n",
              "    }\n",
              "</style>\n",
              "<table border=\"1\" class=\"dataframe\">\n",
              "  <thead>\n",
              "    <tr style=\"text-align: right;\">\n",
              "      <th></th>\n",
              "      <th>prediction_label</th>\n",
              "      <th>0</th>\n",
              "      <th>1</th>\n",
              "    </tr>\n",
              "  </thead>\n",
              "  <tbody>\n",
              "    <tr>\n",
              "      <th>0</th>\n",
              "      <td>1.0</td>\n",
              "      <td>6555</td>\n",
              "      <td>1221</td>\n",
              "    </tr>\n",
              "    <tr>\n",
              "      <th>1</th>\n",
              "      <td>0.0</td>\n",
              "      <td>10637</td>\n",
              "      <td>993</td>\n",
              "    </tr>\n",
              "  </tbody>\n",
              "</table>\n",
              "</div>"
            ],
            "text/plain": [
              "  prediction_label      0     1\n",
              "0              1.0   6555  1221\n",
              "1              0.0  10637   993"
            ]
          },
          "metadata": {
            "tags": []
          },
          "execution_count": 78
        }
      ]
    },
    {
      "cell_type": "code",
      "metadata": {
        "id": "1-XL6vPuJycg",
        "colab_type": "code",
        "outputId": "af4e57c2-46e3-49a5-cf2a-b6c905936fdb",
        "colab": {
          "base_uri": "https://localhost:8080/",
          "height": 134
        }
      },
      "source": [
        "from pyspark.mllib.evaluation import MulticlassMetrics\n",
        "\n",
        "pred = predictions.select('prediction', 'label')\n",
        "metricsp = MulticlassMetrics(pred.rdd)\n",
        "# metricsp.recall(1)\n",
        "\n",
        "tp = pred[(pred.label == 1) & (pred.prediction == 1)].count()\n",
        "tn = pred[(pred.label == 0) & (pred.prediction == 0)].count()\n",
        "fp = pred[(pred.label == 0) & (pred.prediction == 1)].count()\n",
        "fn = pred[(pred.label == 1) & (pred.prediction == 0)].count()\n",
        "print(\"True Positives: %f\" % tp)\n",
        "print(\"True Negatives: %f\" % tn)\n",
        "print(\"False Positives: %f\" % fp)\n",
        "print(\"False Negatives: %f\" % fn)\n",
        "print(\"Total: %d\" % pred.count())\n",
        "\n",
        "r = float(tp)/(tp + fn)\n",
        "print(\"recall %f\" % r)\n",
        "\n",
        "p = float(tp) / (tp + fp)\n",
        "print(\"precision %f\" % p)"
      ],
      "execution_count": 0,
      "outputs": [
        {
          "output_type": "stream",
          "text": [
            "True Positives: 1221.000000\n",
            "True Negatives: 10637.000000\n",
            "False Positives: 6555.000000\n",
            "False Negatives: 993.000000\n",
            "Total: 19406\n",
            "recall 0.551491\n",
            "precision 0.157022\n"
          ],
          "name": "stdout"
        }
      ]
    },
    {
      "cell_type": "code",
      "metadata": {
        "id": "1VtRxQjCp7Zb",
        "colab_type": "code",
        "outputId": "d5d196a4-613e-4d0d-d084-7943cd620934",
        "colab": {
          "base_uri": "https://localhost:8080/",
          "height": 34
        }
      },
      "source": [
        "teste = predictions.select('label', 'rawPrediction',\n",
        "                          'prediction', 'probability').sort(SF.col(\"probability\").desc()).limit(6527)\n",
        "\n",
        "inad = teste.where(SF.col('label')==1).count()/6527*100\n",
        "\n",
        "inad"
      ],
      "execution_count": 0,
      "outputs": [
        {
          "output_type": "execute_result",
          "data": {
            "text/plain": [
              "7.660487206986365"
            ]
          },
          "metadata": {
            "tags": []
          },
          "execution_count": 80
        }
      ]
    },
    {
      "cell_type": "code",
      "metadata": {
        "id": "YDXYVYtZqHTD",
        "colab_type": "code",
        "colab": {}
      },
      "source": [
        ""
      ],
      "execution_count": 0,
      "outputs": []
    }
  ]
}