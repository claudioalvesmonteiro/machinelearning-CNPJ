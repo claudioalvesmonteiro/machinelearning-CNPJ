{
  "nbformat": 4,
  "nbformat_minor": 0,
  "metadata": {
    "kernelspec": {
      "name": "python3",
      "display_name": "Python 3"
    },
    "language_info": {
      "codemirror_mode": {
        "name": "ipython",
        "version": 3
      },
      "file_extension": ".py",
      "mimetype": "text/x-python",
      "name": "python",
      "nbconvert_exporter": "python",
      "pygments_lexer": "ipython3",
      "version": "3.7.3"
    },
    "colab": {
      "name": "MODELO_MultiLayerPerceptron.ipynb",
      "version": "0.3.2",
      "provenance": [],
      "collapsed_sections": [],
      "include_colab_link": true
    },
    "accelerator": "TPU"
  },
  "cells": [
    {
      "cell_type": "markdown",
      "metadata": {
        "id": "view-in-github",
        "colab_type": "text"
      },
      "source": [
        "<a href=\"https://colab.research.google.com/github/claudioalvesmonteiro/machinelearning-CNPJ/blob/master/modelos/MODELO_MultiLayerPerceptron.ipynb\" target=\"_parent\"><img src=\"https://colab.research.google.com/assets/colab-badge.svg\" alt=\"Open In Colab\"/></a>"
      ]
    },
    {
      "cell_type": "markdown",
      "metadata": {
        "id": "460lR_XZsx34",
        "colab_type": "text"
      },
      "source": [
        "   # Projeto Machine Learning para Análise de Crédito\n",
        "   \n",
        "   ## Modelo MultiLayer Perceptron\n",
        "   \n",
        "    Equipe:\n",
        "    Claudio Alves Monteiro\n",
        "    Marcos Antonio Almeida Souto Júnior\n",
        "    Virgínia Heimann\n",
        "    Kayo Renato da Silva Nascimento\n",
        "    Rosely Cabral\n",
        "   \n",
        "   \n"
      ]
    },
    {
      "cell_type": "code",
      "metadata": {
        "id": "Wmc3XFvPpgjR",
        "colab_type": "code",
        "colab": {}
      },
      "source": [
        "!apt-get install openjdk-8-jdk-headless -qq > /dev/null\n",
        "!wget -q http://mirror.nbtelecom.com.br/apache/spark/spark-2.4.3/spark-2.4.3-bin-hadoop2.7.tgz\n",
        "!tar xf spark-2.4.3-bin-hadoop2.7.tgz\n",
        "!pip install -q findspark"
      ],
      "execution_count": 0,
      "outputs": []
    },
    {
      "cell_type": "code",
      "metadata": {
        "id": "EoX23c-nrSWz",
        "colab_type": "code",
        "colab": {}
      },
      "source": [
        "import os\n",
        "os.environ[\"JAVA_HOME\"] = \"/usr/lib/jvm/java-8-openjdk-amd64\"\n",
        "os.environ[\"SPARK_HOME\"] = \"/content/spark-2.4.3-bin-hadoop2.7\""
      ],
      "execution_count": 0,
      "outputs": []
    },
    {
      "cell_type": "code",
      "metadata": {
        "id": "P7K-Aj6JrVei",
        "colab_type": "code",
        "colab": {}
      },
      "source": [
        "import findspark\n",
        "findspark.init()\n",
        "from pyspark.sql import SparkSession\n",
        "spark = SparkSession.builder.master(\"local[*]\").getOrCreate()"
      ],
      "execution_count": 0,
      "outputs": []
    },
    {
      "cell_type": "code",
      "metadata": {
        "id": "Yj-6BAHKrnBn",
        "colab_type": "code",
        "colab": {}
      },
      "source": [
        "# import modules\n",
        "import os\n",
        "import pandas as pd\n",
        "from pyspark.sql import functions as SF\n",
        "import pyspark.sql.types as ST"
      ],
      "execution_count": 0,
      "outputs": []
    },
    {
      "cell_type": "markdown",
      "metadata": {
        "id": "ec0J1CJm0gdv",
        "colab_type": "text"
      },
      "source": [
        "## Importar dados"
      ]
    },
    {
      "cell_type": "code",
      "metadata": {
        "id": "1jRId6GF2UII",
        "colab_type": "code",
        "outputId": "daf579b2-a6f2-4433-f177-2e97e637629b",
        "colab": {
          "base_uri": "https://localhost:8080/",
          "height": 55
        }
      },
      "source": [
        "from google.colab import drive\n",
        "drive.mount('/content/drive')"
      ],
      "execution_count": 0,
      "outputs": [
        {
          "output_type": "stream",
          "text": [
            "Drive already mounted at /content/drive; to attempt to forcibly remount, call drive.mount(\"/content/drive\", force_remount=True).\n"
          ],
          "name": "stdout"
        }
      ]
    },
    {
      "cell_type": "code",
      "metadata": {
        "id": "Ebe_k4H005yd",
        "colab_type": "code",
        "outputId": "1680d543-5598-4c6d-d601-58b6b63c61cc",
        "colab": {
          "base_uri": "https://localhost:8080/",
          "height": 234
        }
      },
      "source": [
        "# import data\n",
        "path = 'drive/My Drive/Colab Notebooks/ProjetoCESARSchool/codes/data/'\n",
        "\n",
        "df = spark.read.csv(path+'model_data5.csv',\n",
        "                    sep=',',\n",
        "                    encoding='utf-8',\n",
        "                    header=True,\n",
        "                    inferSchema=True)\n",
        "\n",
        "df.show(5)"
      ],
      "execution_count": 0,
      "outputs": [
        {
          "output_type": "stream",
          "text": [
            "+---+--------------+--------+-------+----------+--------------------+--------------------+----------+------------------------+-------------------------+-------------------------------+--------------+----------------+--------+------------------+-------------------+-----------------------+------------------+--------------------+-------------------------+----------------------+----------------------------+--------------------+-------------------+-------------------+-------------------+-------------------+\n",
            "|_c0|          CNPJ|DATA_REF|CS_ALVO|QTD_SOCIOS|      CAPITAL_SOCIAL|               IDADE|tipo_index|natureza_socied_limitada|natureza_empresario_indiv|natureza_empresa_indiv_limitada|situacao_ativa|situacao_baixada|UF_index|atividade_alimento|          populacao|municipio_metropolitano|      dist_capital|      area_municipio|taxa_atividade_18anosmais|porcent_pop_saneamento|porcent_mulheres10a17_filhos|mortalidade_infantil|               IDHM|         IDHM_renda| taxa_analfabetismo|     porcent_pobres|\n",
            "+---+--------------+--------+-------+----------+--------------------+--------------------+----------+------------------------+-------------------------+-------------------------------+--------------+----------------+--------+------------------+-------------------+-----------------------+------------------+--------------------+-------------------------+----------------------+----------------------------+--------------------+-------------------+-------------------+-------------------+-------------------+\n",
            "|  0|  156902000111| 2016-09|      0|         3|-0.01044467193150...|  0.9674022021009029|       0.0|                       1|                        0|                              0|             1|               0|     7.0|                 1|-0.7279768704066641|                      0|0.9528881923401529|-0.09921971900269752|      -0.7720641767768895|  -0.20754503451065506|          1.7852404133290412| -0.4153756989385943|-1.0082075855589212|-0.9635090772661333| 0.1160762727734105|0.49562776391684105|\n",
            "|  1|81295842000110| 2016-10|      0|         1|-0.01224412806742...|  1.4651990026438604|       0.0|                       0|                        0|                              0|             1|               0|     7.0|                 0|-0.7279768704066641|                      0|0.9528881923401529|-0.09921971900269752|      -0.7720641767768895|  -0.20754503451065506|          1.7852404133290412| -0.4153756989385943|-1.0082075855589212|-0.9635090772661333| 0.1160762727734105|0.49562776391684105|\n",
            "|  2|82156977000167| 2016-09|      0|         3|0.010548982987511384|  1.3335253411171013|       0.0|                       1|                        0|                              0|             1|               0|     7.0|                 0|-0.7279768704066641|                      0|0.9528881923401529|-0.09921971900269752|      -0.7720641767768895|  -0.20754503451065506|          1.7852404133290412| -0.4153756989385943|-1.0082075855589212|-0.9635090772661333| 0.1160762727734105|0.49562776391684105|\n",
            "|  3| 3372720000176| 2016-12|      0|         3|-0.01152434561305...|  0.5291600919813078|       0.0|                       1|                        0|                              0|             1|               0|     7.0|                 1| -0.700109450998781|                      0|0.4243909330769714|-0.21461830281712446|       2.6256743614506908|    0.4652859270114391|         -0.8532941414505758|  -1.205536395229418| 0.6014065414165615|0.12478896445523038|-0.7878266326954719|-0.8542298979558235|\n",
            "|  4|12830072000145| 2017-01|      0|         1|-0.00995521986253...|-0.49005435678307163|       0.0|                       0|                        0|                              0|             1|               0|     7.0|                 0| -0.700109450998781|                      0|0.4243909330769714|-0.21461830281712446|       2.6256743614506908|    0.4652859270114391|         -0.8532941414505758|  -1.205536395229418| 0.6014065414165615|0.12478896445523038|-0.7878266326954719|-0.8542298979558235|\n",
            "+---+--------------+--------+-------+----------+--------------------+--------------------+----------+------------------------+-------------------------+-------------------------------+--------------+----------------+--------+------------------+-------------------+-----------------------+------------------+--------------------+-------------------------+----------------------+----------------------------+--------------------+-------------------+-------------------+-------------------+-------------------+\n",
            "only showing top 5 rows\n",
            "\n"
          ],
          "name": "stdout"
        }
      ]
    },
    {
      "cell_type": "markdown",
      "metadata": {
        "id": "2u7lMMlxkrrL",
        "colab_type": "text"
      },
      "source": [
        "## Construção do Modelo"
      ]
    },
    {
      "cell_type": "code",
      "metadata": {
        "id": "_S2VTi7ikrBl",
        "colab_type": "code",
        "colab": {}
      },
      "source": [
        "# ENCODE \n",
        "from pyspark.ml import Pipeline\n",
        "from pyspark.ml.feature import OneHotEncoderEstimator\n",
        "\n",
        "df = df.drop('UF_encoded')\n",
        "\n",
        "encoder = OneHotEncoderEstimator(inputCols=['UF_index'],\n",
        "                                 outputCols=['UF_encoded'])\n",
        "\n",
        "model = encoder.fit(df)\n",
        "df = model.transform(df)"
      ],
      "execution_count": 0,
      "outputs": []
    },
    {
      "cell_type": "code",
      "metadata": {
        "id": "cuZyks3psZ-w",
        "colab_type": "code",
        "colab": {}
      },
      "source": [
        "# rename CS_ALVO as label\n",
        "df = df.withColumnRenamed('CS_ALVO', 'label')"
      ],
      "execution_count": 0,
      "outputs": []
    },
    {
      "cell_type": "code",
      "metadata": {
        "id": "0kMkJAq9dBks",
        "colab_type": "code",
        "outputId": "a0438530-fe96-41d8-9a32-2b0f35406f14",
        "colab": {
          "base_uri": "https://localhost:8080/",
          "height": 234
        }
      },
      "source": [
        "#======== VECTOR ASSEMBLER\n",
        "from pyspark.ml.feature import VectorAssembler\n",
        "\n",
        "inputcol = ['QTD_SOCIOS', \n",
        "           'CAPITAL_SOCIAL', 'IDADE', 'tipo_index', \n",
        "           'natureza_socied_limitada', 'natureza_empresario_indiv',\n",
        "           'situacao_ativa',\n",
        "           'situacao_baixada', 'UF_encoded', 'populacao',\n",
        "           'municipio_metropolitano','dist_capital','area_municipio',\n",
        "           'taxa_atividade_18anosmais','porcent_pop_saneamento',\n",
        "           'porcent_mulheres10a17_filhos','mortalidade_infantil','IDHM',\n",
        "           'IDHM_renda','taxa_analfabetismo','porcent_pobres']\n",
        "\n",
        "assembler = VectorAssembler(\n",
        "    inputCols = inputcol,\n",
        "    outputCol = \"features\",\n",
        "handleInvalid = \"skip\")\n",
        "\n",
        "dataModel = assembler.transform(df)\n",
        "\n",
        "dataModel = dataModel.select('features', 'label')\n",
        "\n",
        "dataModel.show(5, truncate=False)"
      ],
      "execution_count": 0,
      "outputs": [
        {
          "output_type": "stream",
          "text": [
            "+------------------------------------------------------------------------------------------------------------------------------------------------------------------------------------------------------------------------------------------------------------------------------------------------------------------------------------------+-----+\n",
            "|features                                                                                                                                                                                                                                                                                                                                  |label|\n",
            "+------------------------------------------------------------------------------------------------------------------------------------------------------------------------------------------------------------------------------------------------------------------------------------------------------------------------------------------+-----+\n",
            "|(32,[0,1,2,4,6,15,20,22,23,24,25,26,27,28,29,30,31],[3.0,-0.010444671931506848,0.9674022021009029,1.0,1.0,1.0,-0.7279768704066641,0.9528881923401529,-0.09921971900269752,-0.7720641767768895,-0.20754503451065506,1.7852404133290412,-0.4153756989385943,-1.0082075855589212,-0.9635090772661333,0.1160762727734105,0.49562776391684105])|0    |\n",
            "|(32,[0,1,2,6,15,20,22,23,24,25,26,27,28,29,30,31],[1.0,-0.012244128067422696,1.4651990026438604,1.0,1.0,-0.7279768704066641,0.9528881923401529,-0.09921971900269752,-0.7720641767768895,-0.20754503451065506,1.7852404133290412,-0.4153756989385943,-1.0082075855589212,-0.9635090772661333,0.1160762727734105,0.49562776391684105])      |0    |\n",
            "|(32,[0,1,2,4,6,15,20,22,23,24,25,26,27,28,29,30,31],[3.0,0.010548982987511384,1.3335253411171013,1.0,1.0,1.0,-0.7279768704066641,0.9528881923401529,-0.09921971900269752,-0.7720641767768895,-0.20754503451065506,1.7852404133290412,-0.4153756989385943,-1.0082075855589212,-0.9635090772661333,0.1160762727734105,0.49562776391684105]) |0    |\n",
            "|(32,[0,1,2,4,6,15,20,22,23,24,25,26,27,28,29,30,31],[3.0,-0.011524345613056357,0.5291600919813078,1.0,1.0,1.0,-0.700109450998781,0.4243909330769714,-0.21461830281712446,2.6256743614506908,0.4652859270114391,-0.8532941414505758,-1.205536395229418,0.6014065414165615,0.12478896445523038,-0.7878266326954719,-0.8542298979558235])    |0    |\n",
            "|(32,[0,1,2,6,15,20,22,23,24,25,26,27,28,29,30,31],[1.0,-0.009955219862537737,-0.49005435678307163,1.0,1.0,-0.700109450998781,0.4243909330769714,-0.21461830281712446,2.6256743614506908,0.4652859270114391,-0.8532941414505758,-1.205536395229418,0.6014065414165615,0.12478896445523038,-0.7878266326954719,-0.8542298979558235])        |0    |\n",
            "+------------------------------------------------------------------------------------------------------------------------------------------------------------------------------------------------------------------------------------------------------------------------------------------------------------------------------------------+-----+\n",
            "only showing top 5 rows\n",
            "\n"
          ],
          "name": "stdout"
        }
      ]
    },
    {
      "cell_type": "code",
      "metadata": {
        "id": "_wzgWSV2nC7F",
        "colab_type": "code",
        "colab": {}
      },
      "source": [
        "# Split the data into training and test sets (30% held out for testing)\n",
        "(trainingData, testData) = dataModel.randomSplit([0.7, 0.3])"
      ],
      "execution_count": 0,
      "outputs": []
    },
    {
      "cell_type": "code",
      "metadata": {
        "id": "qRoXmI89syZm",
        "colab_type": "code",
        "outputId": "65f78f0b-53c5-4843-dac8-a6f753a07291",
        "colab": {
          "base_uri": "https://localhost:8080/",
          "height": 112
        }
      },
      "source": [
        "# funcao para contagem de valores categoricos\n",
        "def countGenTab(df, column):\n",
        "    # groupby, count and sort pyspark\n",
        "    tab = df.select(column).groupby(column).count().alias('count').sort('count', ascending=False)\n",
        "    # transform to pandas df\n",
        "    tab = tab.toPandas()\n",
        "    # calculate proportion\n",
        "    tab['prop'] = round(tab['count']/sum(tab['count'])*100, 2)\n",
        "    return tab\n",
        "\n",
        "  \n",
        "countGenTab(trainingData, 'label')"
      ],
      "execution_count": 0,
      "outputs": [
        {
          "output_type": "execute_result",
          "data": {
            "text/html": [
              "<div>\n",
              "<style scoped>\n",
              "    .dataframe tbody tr th:only-of-type {\n",
              "        vertical-align: middle;\n",
              "    }\n",
              "\n",
              "    .dataframe tbody tr th {\n",
              "        vertical-align: top;\n",
              "    }\n",
              "\n",
              "    .dataframe thead th {\n",
              "        text-align: right;\n",
              "    }\n",
              "</style>\n",
              "<table border=\"1\" class=\"dataframe\">\n",
              "  <thead>\n",
              "    <tr style=\"text-align: right;\">\n",
              "      <th></th>\n",
              "      <th>label</th>\n",
              "      <th>count</th>\n",
              "      <th>prop</th>\n",
              "    </tr>\n",
              "  </thead>\n",
              "  <tbody>\n",
              "    <tr>\n",
              "      <th>0</th>\n",
              "      <td>0</td>\n",
              "      <td>40157</td>\n",
              "      <td>88.69</td>\n",
              "    </tr>\n",
              "    <tr>\n",
              "      <th>1</th>\n",
              "      <td>1</td>\n",
              "      <td>5122</td>\n",
              "      <td>11.31</td>\n",
              "    </tr>\n",
              "  </tbody>\n",
              "</table>\n",
              "</div>"
            ],
            "text/plain": [
              "   label  count   prop\n",
              "0      0  40157  88.69\n",
              "1      1   5122  11.31"
            ]
          },
          "metadata": {
            "tags": []
          },
          "execution_count": 11
        }
      ]
    },
    {
      "cell_type": "code",
      "metadata": {
        "id": "BvY0awKos1YA",
        "colab_type": "code",
        "outputId": "daf068e2-2a52-4ad0-9d12-97486fbf79c3",
        "colab": {
          "base_uri": "https://localhost:8080/",
          "height": 112
        }
      },
      "source": [
        "## BALANCEAMENTO\n",
        "\n",
        "dif = trainingData.where(SF.col('label')==0).count()-trainingData.where(SF.col('label')==1).count()\n",
        "\n",
        "# filtrar casos onde alvo == 1\n",
        "alvo = trainingData.filter(trainingData.label == 1)\n",
        "\n",
        "# adicionar 10 amostras de 1000 casos do alvo a df\n",
        "amostra = spark.createDataFrame(alvo.rdd.takeSample(True, dif, seed=0))\n",
        "trainingData = trainingData.union(amostra)\n",
        "\n",
        "countGenTab(trainingData, 'label')"
      ],
      "execution_count": 0,
      "outputs": [
        {
          "output_type": "execute_result",
          "data": {
            "text/html": [
              "<div>\n",
              "<style scoped>\n",
              "    .dataframe tbody tr th:only-of-type {\n",
              "        vertical-align: middle;\n",
              "    }\n",
              "\n",
              "    .dataframe tbody tr th {\n",
              "        vertical-align: top;\n",
              "    }\n",
              "\n",
              "    .dataframe thead th {\n",
              "        text-align: right;\n",
              "    }\n",
              "</style>\n",
              "<table border=\"1\" class=\"dataframe\">\n",
              "  <thead>\n",
              "    <tr style=\"text-align: right;\">\n",
              "      <th></th>\n",
              "      <th>label</th>\n",
              "      <th>count</th>\n",
              "      <th>prop</th>\n",
              "    </tr>\n",
              "  </thead>\n",
              "  <tbody>\n",
              "    <tr>\n",
              "      <th>0</th>\n",
              "      <td>0</td>\n",
              "      <td>40157</td>\n",
              "      <td>50.0</td>\n",
              "    </tr>\n",
              "    <tr>\n",
              "      <th>1</th>\n",
              "      <td>1</td>\n",
              "      <td>40157</td>\n",
              "      <td>50.0</td>\n",
              "    </tr>\n",
              "  </tbody>\n",
              "</table>\n",
              "</div>"
            ],
            "text/plain": [
              "   label  count  prop\n",
              "0      0  40157  50.0\n",
              "1      1  40157  50.0"
            ]
          },
          "metadata": {
            "tags": []
          },
          "execution_count": 12
        }
      ]
    },
    {
      "cell_type": "code",
      "metadata": {
        "id": "KzSICHxZmyT-",
        "colab_type": "code",
        "colab": {}
      },
      "source": [
        "from pyspark.ml.classification import MultilayerPerceptronClassifier\n",
        "from pyspark.ml.evaluation import MulticlassClassificationEvaluator\n",
        "\n",
        "\n",
        "# specify layers for the neural network:\n",
        "# input layer of size features, two intermediate of size 5 and 4\n",
        "# and output of size 3 (classes)\n",
        "\n",
        "inputlayer = trainingData.schema['features'].metadata[\"ml_attr\"][\"num_attrs\"]\n",
        "\n",
        "layers = [ inputlayer, inputlayer, inputlayer-5, 2]\n",
        "\n",
        "# create the trainer and set its parameters\n",
        "trainer = MultilayerPerceptronClassifier(maxIter=100, layers=layers, blockSize=128, seed=123)\n",
        "\n",
        "# train the model\n",
        "model = trainer.fit(trainingData)\n",
        "\n",
        "# compute accuracy on the test set\n",
        "predictions = model.transform(testData)"
      ],
      "execution_count": 0,
      "outputs": []
    },
    {
      "cell_type": "code",
      "metadata": {
        "id": "TfN9aNBA2AAj",
        "colab_type": "code",
        "outputId": "302daaf0-7a64-4d86-f5bc-3508befc33c0",
        "colab": {
          "base_uri": "https://localhost:8080/",
          "height": 35
        }
      },
      "source": [
        "testData.count()"
      ],
      "execution_count": 0,
      "outputs": [
        {
          "output_type": "execute_result",
          "data": {
            "text/plain": [
              "19444"
            ]
          },
          "metadata": {
            "tags": []
          },
          "execution_count": 19
        }
      ]
    },
    {
      "cell_type": "code",
      "metadata": {
        "id": "lE9ZdySiuYLP",
        "colab_type": "code",
        "outputId": "7cb1b62a-35be-49c4-b2cf-663a5b322046",
        "colab": {
          "base_uri": "https://localhost:8080/",
          "height": 35
        }
      },
      "source": [
        "print(inputlayer)"
      ],
      "execution_count": 0,
      "outputs": [
        {
          "output_type": "stream",
          "text": [
            "32\n"
          ],
          "name": "stdout"
        }
      ]
    },
    {
      "cell_type": "code",
      "metadata": {
        "id": "n5e9yrmMmdh6",
        "colab_type": "code",
        "outputId": "10d0ad65-e055-4ee5-c901-77d177595db8",
        "colab": {
          "base_uri": "https://localhost:8080/",
          "height": 214
        }
      },
      "source": [
        "# Select example rows to display.\n",
        "predictions.select(\"prediction\", \"label\", \"features\").show(5)"
      ],
      "execution_count": 0,
      "outputs": [
        {
          "output_type": "stream",
          "text": [
            "+----------+-----+--------------------+\n",
            "|prediction|label|            features|\n",
            "+----------+-----+--------------------+\n",
            "|       0.0|    0|(32,[0,1,2,3,4,6,...|\n",
            "|       1.0|    1|(32,[0,1,2,3,4,6,...|\n",
            "|       0.0|    0|(32,[0,1,2,3,4,6,...|\n",
            "|       0.0|    0|(32,[0,1,2,3,4,6,...|\n",
            "|       0.0|    0|(32,[0,1,2,3,4,6,...|\n",
            "+----------+-----+--------------------+\n",
            "only showing top 5 rows\n",
            "\n"
          ],
          "name": "stdout"
        }
      ]
    },
    {
      "cell_type": "markdown",
      "metadata": {
        "id": "Igrwno7xoB0M",
        "colab_type": "text"
      },
      "source": [
        "## Evaluate Model\n"
      ]
    },
    {
      "cell_type": "code",
      "metadata": {
        "id": "VKCkDPFZoEm5",
        "colab_type": "code",
        "outputId": "d0a64b8f-4845-404c-feb7-ef89eb8a2853",
        "colab": {
          "base_uri": "https://localhost:8080/",
          "height": 35
        }
      },
      "source": [
        "# Select (prediction, true label) and compute test error\n",
        "evaluator = MulticlassClassificationEvaluator(\n",
        "    labelCol=\"label\", predictionCol=\"prediction\", metricName=\"accuracy\")\n",
        "\n",
        "accuracy = evaluator.evaluate(predictions)\n",
        "accuracy"
      ],
      "execution_count": 0,
      "outputs": [
        {
          "output_type": "execute_result",
          "data": {
            "text/plain": [
              "0.563721456490434"
            ]
          },
          "metadata": {
            "tags": []
          },
          "execution_count": 16
        }
      ]
    },
    {
      "cell_type": "markdown",
      "metadata": {
        "id": "acg8Pghqf08F",
        "colab_type": "text"
      },
      "source": [
        "# Métricas"
      ]
    },
    {
      "cell_type": "code",
      "metadata": {
        "id": "gJmzmHDvIukC",
        "colab_type": "code",
        "outputId": "0c278c7c-686e-4c2e-de81-ab252b1bb4f5",
        "colab": {
          "base_uri": "https://localhost:8080/",
          "height": 143
        }
      },
      "source": [
        "from pyspark.mllib.evaluation import MulticlassMetrics\n",
        "\n",
        "pred = predictions.select('prediction', 'label')\n",
        "metricsp = MulticlassMetrics(pred.rdd)\n",
        "# metricsp.recall(1)\n",
        "\n",
        "tp = pred[(pred.label == 1) & (pred.prediction == 1)].count()\n",
        "tn = pred[(pred.label == 0) & (pred.prediction == 0)].count()\n",
        "fp = pred[(pred.label == 0) & (pred.prediction == 1)].count()\n",
        "fn = pred[(pred.label == 1) & (pred.prediction == 0)].count()\n",
        "print(\"True Positives: %f\" % tp)\n",
        "print(\"True Negatives: %f\" % tn)\n",
        "print(\"False Positives: %f\" % fp)\n",
        "print(\"False Negatives: %f\" % fn)\n",
        "print(\"Total: %d\" % pred.count())\n",
        "\n",
        "r = float(tp)/(tp + fn)\n",
        "print(\"recall %f\" % r)\n",
        "\n",
        "p = float(tp) / (tp + fp)\n",
        "print(\"precision %f\" % p)"
      ],
      "execution_count": 0,
      "outputs": [
        {
          "output_type": "stream",
          "text": [
            "True Positives: 1383.000000\n",
            "True Negatives: 9578.000000\n",
            "False Positives: 7647.000000\n",
            "False Negatives: 836.000000\n",
            "Total: 19444\n",
            "recall 0.623254\n",
            "precision 0.153156\n"
          ],
          "name": "stdout"
        }
      ]
    },
    {
      "cell_type": "code",
      "metadata": {
        "id": "EIZsvSbVvHeV",
        "colab_type": "code",
        "outputId": "3838039d-1284-4d8c-9ce7-5f718cb6dd60",
        "colab": {
          "base_uri": "https://localhost:8080/",
          "height": 35
        }
      },
      "source": [
        "teste = predictions.select('label', 'rawPrediction',\n",
        "                          'prediction', 'probability').sort(SF.col(\"probability\").desc()).limit(6527)\n",
        "\n",
        "inad = teste.where(SF.col('label')==1).count()/6527*100\n",
        "\n",
        "inad"
      ],
      "execution_count": 0,
      "outputs": [
        {
          "output_type": "execute_result",
          "data": {
            "text/plain": [
              "7.139574076911291"
            ]
          },
          "metadata": {
            "tags": []
          },
          "execution_count": 18
        }
      ]
    }
  ]
}