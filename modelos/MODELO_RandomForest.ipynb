{
  "nbformat": 4,
  "nbformat_minor": 0,
  "metadata": {
    "kernelspec": {
      "display_name": "Python 3",
      "language": "python",
      "name": "python3"
    },
    "language_info": {
      "codemirror_mode": {
        "name": "ipython",
        "version": 3
      },
      "file_extension": ".py",
      "mimetype": "text/x-python",
      "name": "python",
      "nbconvert_exporter": "python",
      "pygments_lexer": "ipython3",
      "version": "3.7.3"
    },
    "colab": {
      "name": "MODELO_RandomForest.ipynb",
      "version": "0.3.2",
      "provenance": [],
      "collapsed_sections": [],
      "include_colab_link": true
    }
  },
  "cells": [
    {
      "cell_type": "markdown",
      "metadata": {
        "id": "view-in-github",
        "colab_type": "text"
      },
      "source": [
        "<a href=\"https://colab.research.google.com/github/claudioalvesmonteiro/machinelearning-CNPJ/blob/master/modelos/MODELO_RandomForest.ipynb\" target=\"_parent\"><img src=\"https://colab.research.google.com/assets/colab-badge.svg\" alt=\"Open In Colab\"/></a>"
      ]
    },
    {
      "cell_type": "markdown",
      "metadata": {
        "id": "460lR_XZsx34",
        "colab_type": "text"
      },
      "source": [
        "   # Projeto Machine Learning para Análise de Crédito\n",
        "   \n",
        "   ## Modelo Random Forests\n",
        "   \n",
        "    Equipe:\n",
        "    Claudio Alves Monteiro\n",
        "    Marcos Antonio Almeida Souto Júnior\n",
        "    Virgínia Heimann\n",
        "    Kayo Renato da Silva Nascimento\n",
        "    Rosely Cabral\n",
        "   \n",
        "   \n"
      ]
    },
    {
      "cell_type": "code",
      "metadata": {
        "id": "Wmc3XFvPpgjR",
        "colab_type": "code",
        "colab": {}
      },
      "source": [
        "!apt-get install openjdk-8-jdk-headless -qq > /dev/null\n",
        "!wget -q http://mirror.nbtelecom.com.br/apache/spark/spark-2.4.3/spark-2.4.3-bin-hadoop2.7.tgz\n",
        "!tar xf spark-2.4.3-bin-hadoop2.7.tgz\n",
        "!pip install -q findspark"
      ],
      "execution_count": 0,
      "outputs": []
    },
    {
      "cell_type": "code",
      "metadata": {
        "id": "EoX23c-nrSWz",
        "colab_type": "code",
        "colab": {}
      },
      "source": [
        "import os\n",
        "os.environ[\"JAVA_HOME\"] = \"/usr/lib/jvm/java-8-openjdk-amd64\"\n",
        "os.environ[\"SPARK_HOME\"] = \"/content/spark-2.4.3-bin-hadoop2.7\""
      ],
      "execution_count": 0,
      "outputs": []
    },
    {
      "cell_type": "code",
      "metadata": {
        "id": "P7K-Aj6JrVei",
        "colab_type": "code",
        "colab": {}
      },
      "source": [
        "import findspark\n",
        "findspark.init()\n",
        "from pyspark.sql import SparkSession\n",
        "spark = SparkSession.builder.master(\"local[*]\").getOrCreate()"
      ],
      "execution_count": 0,
      "outputs": []
    },
    {
      "cell_type": "code",
      "metadata": {
        "id": "Yj-6BAHKrnBn",
        "colab_type": "code",
        "colab": {}
      },
      "source": [
        "# import modules\n",
        "import os\n",
        "import pandas as pd\n",
        "from pyspark.sql import functions as SF\n",
        "import pyspark.sql.types as ST"
      ],
      "execution_count": 0,
      "outputs": []
    },
    {
      "cell_type": "markdown",
      "metadata": {
        "id": "ec0J1CJm0gdv",
        "colab_type": "text"
      },
      "source": [
        "## Importar dados"
      ]
    },
    {
      "cell_type": "code",
      "metadata": {
        "id": "1jRId6GF2UII",
        "colab_type": "code",
        "outputId": "c3c336e6-c8f8-4292-fea7-fc267e86bfa2",
        "colab": {
          "base_uri": "https://localhost:8080/",
          "height": 35
        }
      },
      "source": [
        "from google.colab import drive\n",
        "drive.mount('/content/drive')"
      ],
      "execution_count": 0,
      "outputs": [
        {
          "output_type": "stream",
          "text": [
            "Drive already mounted at /content/drive; to attempt to forcibly remount, call drive.mount(\"/content/drive\", force_remount=True).\n"
          ],
          "name": "stdout"
        }
      ]
    },
    {
      "cell_type": "code",
      "metadata": {
        "id": "Ebe_k4H005yd",
        "colab_type": "code",
        "colab": {}
      },
      "source": [
        "# import data\n",
        "path = 'drive/My Drive/Colab Notebooks/ProjetoCESARSchool/'\n",
        "\n",
        "df = spark.read.csv(path+'data.csv',\n",
        "                    sep=',',\n",
        "                    encoding='utf-8',\n",
        "                    header=True,\n",
        "                    inferSchema=True)"
      ],
      "execution_count": 0,
      "outputs": []
    },
    {
      "cell_type": "markdown",
      "metadata": {
        "id": "2u7lMMlxkrrL",
        "colab_type": "text"
      },
      "source": [
        "## FEATURE"
      ]
    },
    {
      "cell_type": "code",
      "metadata": {
        "id": "T_X6v_QW7-wo",
        "colab_type": "code",
        "outputId": "84f1f44d-6dde-416e-a455-fe2e681c77b0",
        "colab": {
          "base_uri": "https://localhost:8080/",
          "height": 324
        }
      },
      "source": [
        "##LOG\n",
        "\n",
        "df = df.withColumn('log_capital_social', SF.log('CAPITAL_SOCIAL'))\n",
        "df = df.withColumn('log_capital_social', SF.when(df.log_capital_social.isNull(), 0).otherwise(df.log_capital_social))\n",
        "\n",
        "\n",
        "df = df.withColumn('log_idade', SF.log('IDADE'))\n",
        "df = df.withColumn('log_idade', SF.when(df.log_idade.isNull(), 0).otherwise(df.log_idade))\n",
        "\n",
        "\n",
        "df.show(10)"
      ],
      "execution_count": 0,
      "outputs": [
        {
          "output_type": "stream",
          "text": [
            "+---+-------+----------+-----------+--------------+----------+--------------+------------------+------------------+\n",
            "|_c0|CS_ALVO|QTD_SOCIOS|      IDADE|CAPITAL_SOCIAL|tipo_index|natureza_index|log_capital_social|         log_idade|\n",
            "+---+-------+----------+-----------+--------------+----------+--------------+------------------+------------------+\n",
            "|  0|      0|         1| 7.062444E8|       90000.0|       0.0|           2.0|11.407564949312402|20.375471911189948|\n",
            "|  1|      0|         2| 7.180812E8|           0.0|       0.0|           0.0|               0.0|20.392093212540093|\n",
            "|  2|      1|         2|  6.98814E8|       10000.0|       0.0|           0.0| 9.210340371976184|20.364895170368083|\n",
            "|  3|      0|         3| 7.124652E8|       30000.0|       0.0|           0.0|10.308952660644293|   20.384241626809|\n",
            "|  4|      0|         0| 7.014924E8|           0.0|       0.0|           1.0|               0.0|20.368720623520804|\n",
            "|  5|      1|         3|1.3510476E9|      100000.0|       0.0|           0.0|11.512925464970229|21.024146128464423|\n",
            "|  6|      0|         0| 6.742764E8|           0.0|       0.0|           1.0|               0.0|20.329150673833833|\n",
            "|  7|      0|         0| 6.652044E8|           0.0|       0.0|           1.0|               0.0|20.315604919813186|\n",
            "|  8|      0|         1|   6.5259E8|      100000.0|       0.0|           0.0|11.512925464970229|20.296459618683993|\n",
            "|  9|      0|         2| 6.701292E8|           0.0|       0.0|           0.0|               0.0|20.322981087579745|\n",
            "+---+-------+----------+-----------+--------------+----------+--------------+------------------+------------------+\n",
            "only showing top 10 rows\n",
            "\n"
          ],
          "name": "stdout"
        }
      ]
    },
    {
      "cell_type": "code",
      "metadata": {
        "id": "_S2VTi7ikrBl",
        "colab_type": "code",
        "outputId": "52f1478b-32aa-48da-8977-c1910cc70b5a",
        "colab": {
          "base_uri": "https://localhost:8080/",
          "height": 503
        }
      },
      "source": [
        "# importar pacotes\n",
        "from pyspark.ml import Pipeline\n",
        "from pyspark.ml.feature import StringIndexer, OneHotEncoderEstimator, VectorAssembler\n",
        "\n",
        "encoder = OneHotEncoderEstimator(inputCols=['natureza_index'],\n",
        "                                 outputCols=['natureza_encoded'])\n",
        "\n",
        "model = encoder.fit(df)\n",
        "encoded = model.transform(df)\n",
        "\n",
        "encoded.show(5)"
      ],
      "execution_count": 0,
      "outputs": [
        {
          "output_type": "stream",
          "text": [
            "+-------+----------+-----------+--------------+----------+------------------+------------------+----------------+\n",
            "|CS_ALVO|QTD_SOCIOS|      IDADE|CAPITAL_SOCIAL|tipo_index|log_capital_social|         log_idade|natureza_encoded|\n",
            "+-------+----------+-----------+--------------+----------+------------------+------------------+----------------+\n",
            "|      0|         1| 7.062444E8|       90000.0|       0.0|11.407564949312402|20.375471911189948|       (2,[],[])|\n",
            "|      0|         2| 7.180812E8|           0.0|       0.0|               0.0|20.392093212540093|   (2,[0],[1.0])|\n",
            "|      1|         2|  6.98814E8|       10000.0|       0.0| 9.210340371976184|20.364895170368083|   (2,[0],[1.0])|\n",
            "|      0|         3| 7.124652E8|       30000.0|       0.0|10.308952660644293|   20.384241626809|   (2,[0],[1.0])|\n",
            "|      0|         0| 7.014924E8|           0.0|       0.0|               0.0|20.368720623520804|   (2,[1],[1.0])|\n",
            "|      1|         3|1.3510476E9|      100000.0|       0.0|11.512925464970229|21.024146128464423|   (2,[0],[1.0])|\n",
            "|      0|         0| 6.742764E8|           0.0|       0.0|               0.0|20.329150673833833|   (2,[1],[1.0])|\n",
            "|      0|         0| 6.652044E8|           0.0|       0.0|               0.0|20.315604919813186|   (2,[1],[1.0])|\n",
            "|      0|         1|   6.5259E8|      100000.0|       0.0|11.512925464970229|20.296459618683993|   (2,[0],[1.0])|\n",
            "|      0|         2| 6.701292E8|           0.0|       0.0|               0.0|20.322981087579745|   (2,[0],[1.0])|\n",
            "|      0|         0|   6.5043E8|           0.0|       0.0|               0.0| 20.29314424059538|   (2,[1],[1.0])|\n",
            "|      0|         3| 6.533676E8|       10000.0|       0.0| 9.210340371976184| 20.29765046912492|   (2,[0],[1.0])|\n",
            "|      0|         1| 6.363468E8|      100000.0|       0.0|11.512925464970229|  20.2712542557105|       (2,[],[])|\n",
            "|      0|         1| 6.548364E8|           0.0|       0.0|               0.0| 20.29989599140919|   (2,[0],[1.0])|\n",
            "|      0|         1|  6.39198E8|      100000.0|       0.0|11.512925464970229|20.275724823500305|       (2,[],[])|\n",
            "|      0|         2| 9.846252E8|       10000.0|       0.0| 9.210340371976184| 20.70777161911076|   (2,[0],[1.0])|\n",
            "|      0|         0| 6.264108E8|       30000.0|       0.0|10.308952660644293|20.255516943871548|   (2,[1],[1.0])|\n",
            "|      0|         0|   1.2798E7|           0.0|       1.0|               0.0|16.364799466681543|   (2,[0],[1.0])|\n",
            "|      0|         2| 6.195852E8|       10000.0|       0.0| 9.210340371976184|20.244560779843393|   (2,[0],[1.0])|\n",
            "|      0|         2| 6.058476E8|      200000.0|       0.0|12.206072645530174| 20.22213902725738|   (2,[0],[1.0])|\n",
            "+-------+----------+-----------+--------------+----------+------------------+------------------+----------------+\n",
            "only showing top 20 rows\n",
            "\n"
          ],
          "name": "stdout"
        }
      ]
    },
    {
      "cell_type": "markdown",
      "metadata": {
        "id": "C4FjoJMXRLvC",
        "colab_type": "text"
      },
      "source": [
        "## Random Forest"
      ]
    },
    {
      "cell_type": "code",
      "metadata": {
        "id": "jafy_7pSRVL5",
        "colab_type": "code",
        "colab": {}
      },
      "source": [
        "# import \n",
        "from pyspark.ml import Pipeline\n",
        "from pyspark.ml.classification import RandomForestClassifier\n",
        "from pyspark.ml.feature import StringIndexer, VectorIndexer\n",
        "from pyspark.ml.evaluation import MulticlassClassificationEvaluator"
      ],
      "execution_count": 0,
      "outputs": []
    },
    {
      "cell_type": "code",
      "metadata": {
        "id": "rtsZF6R_kfWq",
        "colab_type": "code",
        "outputId": "79e15a86-4dac-4aae-f4bf-1d5babd1259b",
        "colab": {
          "base_uri": "https://localhost:8080/",
          "height": 503
        }
      },
      "source": [
        "#======== VECTOR ASSEMBLER\n",
        "\n",
        "from pyspark.ml.feature import VectorAssembler\n",
        "\n",
        "inputcol = ['tipo_index', 'natureza_encoded', 'QTD_SOCIOS', 'IDADE', 'CAPITAL_SOCIAL']\n",
        "\n",
        "assembler = VectorAssembler(\n",
        "    inputCols = inputcol,\n",
        "    outputCol = \"features\")\n",
        "\n",
        "output = assembler.transform(encoded)\n",
        "\n",
        "dataModel = output.select(['features', 'CS_ALVO'])\n",
        "\n",
        "dataModel = dataModel.withColumnRenamed('CS_ALVO', 'label')\n",
        "\n",
        "dataModel.show(5, truncate=False)"
      ],
      "execution_count": 0,
      "outputs": [
        {
          "output_type": "stream",
          "text": [
            "+--------------------------------------------------------------------------------+------+\n",
            "|features                                                                        |target|\n",
            "+--------------------------------------------------------------------------------+------+\n",
            "|[0.0,1.0,20.375471911189948,7.062444E8,0.0,11.407564949312402,0.0,0.0,90000.0]  |0     |\n",
            "|(9,[1,2,3,6],[2.0,20.392093212540093,7.180812E8,1.0])                           |0     |\n",
            "|[1.0,2.0,20.364895170368083,6.98814E8,0.0,9.210340371976184,1.0,0.0,10000.0]    |1     |\n",
            "|[0.0,3.0,20.384241626809,7.124652E8,0.0,10.308952660644293,1.0,0.0,30000.0]     |0     |\n",
            "|(9,[2,3,7],[20.368720623520804,7.014924E8,1.0])                                 |0     |\n",
            "|[1.0,3.0,21.024146128464423,1.3510476E9,0.0,11.512925464970229,1.0,0.0,100000.0]|1     |\n",
            "|(9,[2,3,7],[20.329150673833833,6.742764E8,1.0])                                 |0     |\n",
            "|(9,[2,3,7],[20.315604919813186,6.652044E8,1.0])                                 |0     |\n",
            "|[0.0,1.0,20.296459618683993,6.5259E8,0.0,11.512925464970229,1.0,0.0,100000.0]   |0     |\n",
            "|(9,[1,2,3,6],[2.0,20.322981087579745,6.701292E8,1.0])                           |0     |\n",
            "|(9,[2,3,7],[20.29314424059538,6.5043E8,1.0])                                    |0     |\n",
            "|[0.0,3.0,20.29765046912492,6.533676E8,0.0,9.210340371976184,1.0,0.0,10000.0]    |0     |\n",
            "|[0.0,1.0,20.2712542557105,6.363468E8,0.0,11.512925464970229,0.0,0.0,100000.0]   |0     |\n",
            "|(9,[1,2,3,6],[1.0,20.29989599140919,6.548364E8,1.0])                            |0     |\n",
            "|[0.0,1.0,20.275724823500305,6.39198E8,0.0,11.512925464970229,0.0,0.0,100000.0]  |0     |\n",
            "|[0.0,2.0,20.70777161911076,9.846252E8,0.0,9.210340371976184,1.0,0.0,10000.0]    |0     |\n",
            "|[0.0,0.0,20.255516943871548,6.264108E8,0.0,10.308952660644293,0.0,1.0,30000.0]  |0     |\n",
            "|(9,[2,3,4,6],[16.364799466681543,1.2798E7,1.0,1.0])                             |0     |\n",
            "|[0.0,2.0,20.244560779843393,6.195852E8,0.0,9.210340371976184,1.0,0.0,10000.0]   |0     |\n",
            "|[0.0,2.0,20.22213902725738,6.058476E8,0.0,12.206072645530174,1.0,0.0,200000.0]  |0     |\n",
            "+--------------------------------------------------------------------------------+------+\n",
            "only showing top 20 rows\n",
            "\n"
          ],
          "name": "stdout"
        }
      ]
    },
    {
      "cell_type": "code",
      "metadata": {
        "id": "_wzgWSV2nC7F",
        "colab_type": "code",
        "colab": {}
      },
      "source": [
        "# Split the data into training and test sets (30% held out for testing)\n",
        "(trainingData, testData) = dataModel.randomSplit([0.7, 0.3])"
      ],
      "execution_count": 0,
      "outputs": []
    },
    {
      "cell_type": "code",
      "metadata": {
        "id": "KzSICHxZmyT-",
        "colab_type": "code",
        "colab": {}
      },
      "source": [
        "# Train a RandomForest model.\n",
        "rf = RandomForestClassifier(labelCol=\"target\", featuresCol=\"features\", numTrees=5)\n",
        "\n",
        "# RF in a Pipeline\n",
        "pipeline = Pipeline(stages=[rf])\n",
        "\n",
        "# Train model. \n",
        "model = pipeline.fit(trainingData)\n",
        "\n",
        "# Make predictions.\n",
        "predictions = model.transform(testData)"
      ],
      "execution_count": 0,
      "outputs": []
    },
    {
      "cell_type": "code",
      "metadata": {
        "id": "n5e9yrmMmdh6",
        "colab_type": "code",
        "outputId": "2f921fcb-dc82-450e-d22a-96ac838a9e37",
        "colab": {
          "base_uri": "https://localhost:8080/",
          "height": 214
        }
      },
      "source": [
        "# Select example rows to display.\n",
        "predictions.select(\"prediction\", \"target\", \"features\").show(5)"
      ],
      "execution_count": 0,
      "outputs": [
        {
          "output_type": "stream",
          "text": [
            "+----------+------+--------------------+\n",
            "|prediction|target|            features|\n",
            "+----------+------+--------------------+\n",
            "|       1.0|     1|(9,[0,1,2,3],[1.0...|\n",
            "|       1.0|     1|(9,[0,1,2,3],[1.0...|\n",
            "|       1.0|     1|(9,[0,1,2,3],[1.0...|\n",
            "|       1.0|     1|(9,[0,1,2,3],[1.0...|\n",
            "|       1.0|     1|(9,[0,1,2,3],[1.0...|\n",
            "+----------+------+--------------------+\n",
            "only showing top 5 rows\n",
            "\n"
          ],
          "name": "stdout"
        }
      ]
    },
    {
      "cell_type": "markdown",
      "metadata": {
        "id": "Igrwno7xoB0M",
        "colab_type": "text"
      },
      "source": [
        "## Evaluate Model\n"
      ]
    },
    {
      "cell_type": "code",
      "metadata": {
        "id": "VKCkDPFZoEm5",
        "colab_type": "code",
        "outputId": "ecd9a11b-aaed-4ed9-b6b0-81954402eff8",
        "colab": {
          "base_uri": "https://localhost:8080/",
          "height": 35
        }
      },
      "source": [
        "# Select (prediction, true label) and compute test error\n",
        "evaluator = MulticlassClassificationEvaluator(\n",
        "    labelCol=\"target\", predictionCol=\"prediction\", metricName=\"accuracy\")\n",
        "\n",
        "accuracy = evaluator.evaluate(predictions)\n",
        "accuracy"
      ],
      "execution_count": 0,
      "outputs": [
        {
          "output_type": "execute_result",
          "data": {
            "text/plain": [
              "1.0"
            ]
          },
          "metadata": {
            "tags": []
          },
          "execution_count": 16
        }
      ]
    },
    {
      "cell_type": "code",
      "metadata": {
        "id": "9K1qHYlm8ZBU",
        "colab_type": "code",
        "colab": {}
      },
      "source": [
        ""
      ],
      "execution_count": 0,
      "outputs": []
    }
  ]
}