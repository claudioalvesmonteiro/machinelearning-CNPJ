{
  "nbformat": 4,
  "nbformat_minor": 0,
  "metadata": {
    "colab": {
      "name": "MODELO_XGBoost.ipynb",
      "version": "0.3.2",
      "provenance": [],
      "include_colab_link": true
    },
    "kernelspec": {
      "display_name": "Python 2",
      "language": "python",
      "name": "python2"
    },
    "language_info": {
      "codemirror_mode": {
        "name": "ipython",
        "version": 2
      },
      "file_extension": ".py",
      "mimetype": "text/x-python",
      "name": "python",
      "nbconvert_exporter": "python",
      "pygments_lexer": "ipython2",
      "version": "2.7.15+"
    }
  },
  "cells": [
    {
      "cell_type": "markdown",
      "metadata": {
        "id": "view-in-github",
        "colab_type": "text"
      },
      "source": [
        "<a href=\"https://colab.research.google.com/github/claudioalvesmonteiro/machinelearning-CNPJ/blob/master/modelos/MODELO_XGBoost.ipynb\" target=\"_parent\"><img src=\"https://colab.research.google.com/assets/colab-badge.svg\" alt=\"Open In Colab\"/></a>"
      ]
    },
    {
      "cell_type": "markdown",
      "metadata": {
        "id": "jEwI-wQGQuSn",
        "colab_type": "text"
      },
      "source": [
        "# Projeto Machine Learning para Análise de Crédito\n",
        "## Modelo de XGBoost\n",
        "### Equipe:\n",
        "####Claudio Alves Monteiro\n",
        "####Marcos Antonio Almeida Souto Júnior\n",
        "####Virgínia Heimann\n",
        "####Kayo Renato da Silva Nascimento\n"
      ]
    },
    {
      "cell_type": "code",
      "metadata": {
        "id": "_qetepM4Rd71",
        "colab_type": "code",
        "colab": {}
      },
      "source": [
        "!apt-get install openjdk-8-jdk-headless -qq > /dev/null\n",
        "!wget -q http://mirror.nbtelecom.com.br/apache/spark/spark-2.4.3/spark-2.4.3-bin-hadoop2.7.tgz\n",
        "!tar xf spark-2.4.3-bin-hadoop2.7.tgz\n",
        "!pip install -q findspark"
      ],
      "execution_count": 0,
      "outputs": []
    },
    {
      "cell_type": "code",
      "metadata": {
        "id": "wI_CWSuERjVX",
        "colab_type": "code",
        "colab": {}
      },
      "source": [
        "import os\n",
        "os.environ[\"JAVA_HOME\"] = \"/usr/lib/jvm/java-8-openjdk-amd64\"\n",
        "os.environ[\"SPARK_HOME\"] = \"/content/spark-2.4.3-bin-hadoop2.7\""
      ],
      "execution_count": 0,
      "outputs": []
    },
    {
      "cell_type": "code",
      "metadata": {
        "id": "WDnBQzq_RkTD",
        "colab_type": "code",
        "colab": {}
      },
      "source": [
        "import findspark\n",
        "findspark.init()\n",
        "from pyspark.sql import SparkSession\n",
        "spark = SparkSession.builder.master(\"local[*]\").getOrCreate()"
      ],
      "execution_count": 0,
      "outputs": []
    },
    {
      "cell_type": "code",
      "metadata": {
        "colab_type": "code",
        "id": "LbS82kHfsfcY",
        "colab": {}
      },
      "source": [
        "import pandas as pd\n",
        "import numpy as np\n",
        "from sklearn.utils import shuffle\n",
        "from sklearn.model_selection import train_test_split\n",
        "import time\n",
        "import pickle\n",
        "import os\n",
        "from sklearn import metrics\n",
        "from sklearn.base import clone\n",
        "from xgboost import XGBClassifier\n",
        "import xgboost as xgb"
      ],
      "execution_count": 0,
      "outputs": []
    },
    {
      "cell_type": "code",
      "metadata": {
        "id": "g0Ah6uHDRocF",
        "colab_type": "code",
        "outputId": "b4601556-e2aa-40c6-98b7-82b7349882fd",
        "colab": {
          "base_uri": "https://localhost:8080/",
          "height": 122
        }
      },
      "source": [
        "from google.colab import drive\n",
        "drive.mount('/content/drive')"
      ],
      "execution_count": 0,
      "outputs": [
        {
          "output_type": "stream",
          "text": [
            "Go to this URL in a browser: https://accounts.google.com/o/oauth2/auth?client_id=947318989803-6bn6qk8qdgf4n4g3pfee6491hc0brc4i.apps.googleusercontent.com&redirect_uri=urn%3Aietf%3Awg%3Aoauth%3A2.0%3Aoob&scope=email%20https%3A%2F%2Fwww.googleapis.com%2Fauth%2Fdocs.test%20https%3A%2F%2Fwww.googleapis.com%2Fauth%2Fdrive%20https%3A%2F%2Fwww.googleapis.com%2Fauth%2Fdrive.photos.readonly%20https%3A%2F%2Fwww.googleapis.com%2Fauth%2Fpeopleapi.readonly&response_type=code\n",
            "\n",
            "Enter your authorization code:\n",
            "··········\n",
            "Mounted at /content/drive\n"
          ],
          "name": "stdout"
        }
      ]
    },
    {
      "cell_type": "code",
      "metadata": {
        "id": "KLTfu8kzRsI9",
        "colab_type": "code",
        "colab": {}
      },
      "source": [
        "# import data\n",
        "path = 'drive/My Drive/Colab Notebooks/ProjetoCESARSchool/codes/data/'\n",
        "\n",
        "df = spark.read.csv(path+'model_data_ANTIGO.csv',\n",
        "                    sep=',',\n",
        "                    encoding='utf-8',\n",
        "                    header=True,\n",
        "                    inferSchema=True)"
      ],
      "execution_count": 0,
      "outputs": []
    },
    {
      "cell_type": "markdown",
      "metadata": {
        "id": "262zFW1XQuSu",
        "colab_type": "text"
      },
      "source": [
        "## Configuração do ambiente"
      ]
    },
    {
      "cell_type": "code",
      "metadata": {
        "id": "Np3qNORXQuSv",
        "colab_type": "code",
        "colab": {}
      },
      "source": [
        "# local onde serão salvo os modelos\n",
        "model_path = 'drive/My Drive/Colab Notebooks/ProjetoCESARSchool/codes/data/'\n",
        "database_path = 'drive/My Drive/Colab Notebooks/ProjetoCESARSchool/codes/data/'\n",
        "if not os.path.exists(model_path):\n",
        "    os.mkdir(model_path)\n",
        "\n",
        "if not os.path.exists(database_path):\n",
        "    os.mkdir(database_path)"
      ],
      "execution_count": 0,
      "outputs": []
    },
    {
      "cell_type": "markdown",
      "metadata": {
        "colab_type": "text",
        "id": "OYHMI7vzsfcb"
      },
      "source": [
        "### Base de dados"
      ]
    },
    {
      "cell_type": "code",
      "metadata": {
        "colab_type": "code",
        "id": "Mtxe9rDosfcb",
        "colab": {}
      },
      "source": [
        "# Bases de dados"
      ],
      "execution_count": 0,
      "outputs": []
    },
    {
      "cell_type": "code",
      "metadata": {
        "id": "n9-gsqGrQuS1",
        "colab_type": "code",
        "colab": {}
      },
      "source": [
        "full_database_name = \"model_data_ANTIGO.csv\"\n",
        "trn_database_name = database_path + \"train_75.csv\"\n",
        "tst_database_name = database_path + \"test_25.csv\""
      ],
      "execution_count": 0,
      "outputs": []
    },
    {
      "cell_type": "code",
      "metadata": {
        "colab_type": "code",
        "id": "LDpPhvO9sfcd",
        "outputId": "5ef6801b-0b1d-4c5d-a283-d88f48d9c447",
        "colab": {
          "base_uri": "https://localhost:8080/",
          "height": 394
        }
      },
      "source": [
        "#======== VECTOR ASSEMBLER\n",
        "\n",
        "from pyspark.ml.feature import VectorAssembler\n",
        "\n",
        "inputcol = ['QTD_SOCIOS',\n",
        "           'log_capital_social',\n",
        "           'log_idade',\n",
        "           'tipo_index',\n",
        "           'natureza_socied_limitada',\n",
        "           'natureza_empresario_indiv',\n",
        "           'natureza_empresa_indiv_limitada',\n",
        "           'situacao_ativa',\n",
        "           'situacao_baixada',\n",
        "           'atividade_alimento',\n",
        "           'UF_encoded'\n",
        "           ]\n",
        "\n",
        "assembler = VectorAssembler(\n",
        "    inputCols = inputcol,\n",
        "    outputCol = \"features\")\n",
        "\n",
        "dataModel = assembler.transform(df)\n",
        "\n",
        "dataModel = dataModel.withColumnRenamed('CS_ALVO', 'label')\n",
        "\n",
        "dataModel = dataModel.select('features', 'label')\n",
        "\n",
        "\n",
        "dataModel.show(5, truncate=False)\n",
        "\n",
        "\n",
        "#X_train = pd.read_csv(trn_database_name, sep=\"\\t\")\n",
        "#X_test = pd.read_csv(tst_database_name, sep=\"\\t\")\n",
        "\n",
        "# Split the data into training and test sets (30% held out for testing)\n",
        "(X_train, X_test) = dataModel.randomSplit([0.7, 0.3])"
      ],
      "execution_count": 0,
      "outputs": [
        {
          "output_type": "error",
          "ename": "IllegalArgumentException",
          "evalue": "ignored",
          "traceback": [
            "\u001b[0;31m\u001b[0m",
            "\u001b[0;31mIllegalArgumentException\u001b[0mTraceback (most recent call last)",
            "\u001b[0;32m<ipython-input-11-3107dea60124>\u001b[0m in \u001b[0;36m<module>\u001b[0;34m()\u001b[0m\n\u001b[1;32m     19\u001b[0m     outputCol = \"features\")\n\u001b[1;32m     20\u001b[0m \u001b[0;34m\u001b[0m\u001b[0m\n\u001b[0;32m---> 21\u001b[0;31m \u001b[0mdataModel\u001b[0m \u001b[0;34m=\u001b[0m \u001b[0massembler\u001b[0m\u001b[0;34m.\u001b[0m\u001b[0mtransform\u001b[0m\u001b[0;34m(\u001b[0m\u001b[0mdf\u001b[0m\u001b[0;34m)\u001b[0m\u001b[0;34m\u001b[0m\u001b[0;34m\u001b[0m\u001b[0m\n\u001b[0m\u001b[1;32m     22\u001b[0m \u001b[0;34m\u001b[0m\u001b[0m\n\u001b[1;32m     23\u001b[0m \u001b[0mdataModel\u001b[0m \u001b[0;34m=\u001b[0m \u001b[0mdataModel\u001b[0m\u001b[0;34m.\u001b[0m\u001b[0mwithColumnRenamed\u001b[0m\u001b[0;34m(\u001b[0m\u001b[0;34m'CS_ALVO'\u001b[0m\u001b[0;34m,\u001b[0m \u001b[0;34m'label'\u001b[0m\u001b[0;34m)\u001b[0m\u001b[0;34m\u001b[0m\u001b[0;34m\u001b[0m\u001b[0m\n",
            "\u001b[0;32m/content/spark-2.4.3-bin-hadoop2.7/python/pyspark/ml/base.py\u001b[0m in \u001b[0;36mtransform\u001b[0;34m(self, dataset, params)\u001b[0m\n\u001b[1;32m    171\u001b[0m                 \u001b[0;32mreturn\u001b[0m \u001b[0mself\u001b[0m\u001b[0;34m.\u001b[0m\u001b[0mcopy\u001b[0m\u001b[0;34m(\u001b[0m\u001b[0mparams\u001b[0m\u001b[0;34m)\u001b[0m\u001b[0;34m.\u001b[0m\u001b[0m_transform\u001b[0m\u001b[0;34m(\u001b[0m\u001b[0mdataset\u001b[0m\u001b[0;34m)\u001b[0m\u001b[0;34m\u001b[0m\u001b[0;34m\u001b[0m\u001b[0m\n\u001b[1;32m    172\u001b[0m             \u001b[0;32melse\u001b[0m\u001b[0;34m:\u001b[0m\u001b[0;34m\u001b[0m\u001b[0;34m\u001b[0m\u001b[0m\n\u001b[0;32m--> 173\u001b[0;31m                 \u001b[0;32mreturn\u001b[0m \u001b[0mself\u001b[0m\u001b[0;34m.\u001b[0m\u001b[0m_transform\u001b[0m\u001b[0;34m(\u001b[0m\u001b[0mdataset\u001b[0m\u001b[0;34m)\u001b[0m\u001b[0;34m\u001b[0m\u001b[0;34m\u001b[0m\u001b[0m\n\u001b[0m\u001b[1;32m    174\u001b[0m         \u001b[0;32melse\u001b[0m\u001b[0;34m:\u001b[0m\u001b[0;34m\u001b[0m\u001b[0;34m\u001b[0m\u001b[0m\n\u001b[1;32m    175\u001b[0m             \u001b[0;32mraise\u001b[0m \u001b[0mValueError\u001b[0m\u001b[0;34m(\u001b[0m\u001b[0;34m\"Params must be a param map but got %s.\"\u001b[0m \u001b[0;34m%\u001b[0m \u001b[0mtype\u001b[0m\u001b[0;34m(\u001b[0m\u001b[0mparams\u001b[0m\u001b[0;34m)\u001b[0m\u001b[0;34m)\u001b[0m\u001b[0;34m\u001b[0m\u001b[0;34m\u001b[0m\u001b[0m\n",
            "\u001b[0;32m/content/spark-2.4.3-bin-hadoop2.7/python/pyspark/ml/wrapper.py\u001b[0m in \u001b[0;36m_transform\u001b[0;34m(self, dataset)\u001b[0m\n\u001b[1;32m    310\u001b[0m     \u001b[0;32mdef\u001b[0m \u001b[0m_transform\u001b[0m\u001b[0;34m(\u001b[0m\u001b[0mself\u001b[0m\u001b[0;34m,\u001b[0m \u001b[0mdataset\u001b[0m\u001b[0;34m)\u001b[0m\u001b[0;34m:\u001b[0m\u001b[0;34m\u001b[0m\u001b[0;34m\u001b[0m\u001b[0m\n\u001b[1;32m    311\u001b[0m         \u001b[0mself\u001b[0m\u001b[0;34m.\u001b[0m\u001b[0m_transfer_params_to_java\u001b[0m\u001b[0;34m(\u001b[0m\u001b[0;34m)\u001b[0m\u001b[0;34m\u001b[0m\u001b[0;34m\u001b[0m\u001b[0m\n\u001b[0;32m--> 312\u001b[0;31m         \u001b[0;32mreturn\u001b[0m \u001b[0mDataFrame\u001b[0m\u001b[0;34m(\u001b[0m\u001b[0mself\u001b[0m\u001b[0;34m.\u001b[0m\u001b[0m_java_obj\u001b[0m\u001b[0;34m.\u001b[0m\u001b[0mtransform\u001b[0m\u001b[0;34m(\u001b[0m\u001b[0mdataset\u001b[0m\u001b[0;34m.\u001b[0m\u001b[0m_jdf\u001b[0m\u001b[0;34m)\u001b[0m\u001b[0;34m,\u001b[0m \u001b[0mdataset\u001b[0m\u001b[0;34m.\u001b[0m\u001b[0msql_ctx\u001b[0m\u001b[0;34m)\u001b[0m\u001b[0;34m\u001b[0m\u001b[0;34m\u001b[0m\u001b[0m\n\u001b[0m\u001b[1;32m    313\u001b[0m \u001b[0;34m\u001b[0m\u001b[0m\n\u001b[1;32m    314\u001b[0m \u001b[0;34m\u001b[0m\u001b[0m\n",
            "\u001b[0;32m/content/spark-2.4.3-bin-hadoop2.7/python/lib/py4j-0.10.7-src.zip/py4j/java_gateway.py\u001b[0m in \u001b[0;36m__call__\u001b[0;34m(self, *args)\u001b[0m\n\u001b[1;32m   1255\u001b[0m         \u001b[0manswer\u001b[0m \u001b[0;34m=\u001b[0m \u001b[0mself\u001b[0m\u001b[0;34m.\u001b[0m\u001b[0mgateway_client\u001b[0m\u001b[0;34m.\u001b[0m\u001b[0msend_command\u001b[0m\u001b[0;34m(\u001b[0m\u001b[0mcommand\u001b[0m\u001b[0;34m)\u001b[0m\u001b[0;34m\u001b[0m\u001b[0;34m\u001b[0m\u001b[0m\n\u001b[1;32m   1256\u001b[0m         return_value = get_return_value(\n\u001b[0;32m-> 1257\u001b[0;31m             answer, self.gateway_client, self.target_id, self.name)\n\u001b[0m\u001b[1;32m   1258\u001b[0m \u001b[0;34m\u001b[0m\u001b[0m\n\u001b[1;32m   1259\u001b[0m         \u001b[0;32mfor\u001b[0m \u001b[0mtemp_arg\u001b[0m \u001b[0;32min\u001b[0m \u001b[0mtemp_args\u001b[0m\u001b[0;34m:\u001b[0m\u001b[0;34m\u001b[0m\u001b[0;34m\u001b[0m\u001b[0m\n",
            "\u001b[0;32m/content/spark-2.4.3-bin-hadoop2.7/python/pyspark/sql/utils.py\u001b[0m in \u001b[0;36mdeco\u001b[0;34m(*a, **kw)\u001b[0m\n\u001b[1;32m     77\u001b[0m                 \u001b[0;32mraise\u001b[0m \u001b[0mQueryExecutionException\u001b[0m\u001b[0;34m(\u001b[0m\u001b[0ms\u001b[0m\u001b[0;34m.\u001b[0m\u001b[0msplit\u001b[0m\u001b[0;34m(\u001b[0m\u001b[0;34m': '\u001b[0m\u001b[0;34m,\u001b[0m \u001b[0;36m1\u001b[0m\u001b[0;34m)\u001b[0m\u001b[0;34m[\u001b[0m\u001b[0;36m1\u001b[0m\u001b[0;34m]\u001b[0m\u001b[0;34m,\u001b[0m \u001b[0mstackTrace\u001b[0m\u001b[0;34m)\u001b[0m\u001b[0;34m\u001b[0m\u001b[0;34m\u001b[0m\u001b[0m\n\u001b[1;32m     78\u001b[0m             \u001b[0;32mif\u001b[0m \u001b[0ms\u001b[0m\u001b[0;34m.\u001b[0m\u001b[0mstartswith\u001b[0m\u001b[0;34m(\u001b[0m\u001b[0;34m'java.lang.IllegalArgumentException: '\u001b[0m\u001b[0;34m)\u001b[0m\u001b[0;34m:\u001b[0m\u001b[0;34m\u001b[0m\u001b[0;34m\u001b[0m\u001b[0m\n\u001b[0;32m---> 79\u001b[0;31m                 \u001b[0;32mraise\u001b[0m \u001b[0mIllegalArgumentException\u001b[0m\u001b[0;34m(\u001b[0m\u001b[0ms\u001b[0m\u001b[0;34m.\u001b[0m\u001b[0msplit\u001b[0m\u001b[0;34m(\u001b[0m\u001b[0;34m': '\u001b[0m\u001b[0;34m,\u001b[0m \u001b[0;36m1\u001b[0m\u001b[0;34m)\u001b[0m\u001b[0;34m[\u001b[0m\u001b[0;36m1\u001b[0m\u001b[0;34m]\u001b[0m\u001b[0;34m,\u001b[0m \u001b[0mstackTrace\u001b[0m\u001b[0;34m)\u001b[0m\u001b[0;34m\u001b[0m\u001b[0;34m\u001b[0m\u001b[0m\n\u001b[0m\u001b[1;32m     80\u001b[0m             \u001b[0;32mraise\u001b[0m\u001b[0;34m\u001b[0m\u001b[0;34m\u001b[0m\u001b[0m\n\u001b[1;32m     81\u001b[0m     \u001b[0;32mreturn\u001b[0m \u001b[0mdeco\u001b[0m\u001b[0;34m\u001b[0m\u001b[0;34m\u001b[0m\u001b[0m\n",
            "\u001b[0;31mIllegalArgumentException\u001b[0m: u'Field \"log_capital_social\" does not exist.\\nAvailable fields: _c0, CS_ALVO, QTD_SOCIOS, IDADE, CAPITAL_SOCIAL, POPULACAO, tipo_index, natureza_index, situacao_index, UF_index'"
          ]
        }
      ]
    },
    {
      "cell_type": "markdown",
      "metadata": {
        "colab_type": "text",
        "id": "wtEJXR0Dsfcf"
      },
      "source": [
        "### Ler a base de dados e divide em treinamento e teste"
      ]
    },
    {
      "cell_type": "code",
      "metadata": {
        "colab_type": "code",
        "id": "lavVDkhtsfcg",
        "colab": {}
      },
      "source": [
        "df = pd.read_csv(full_database_name, sep= \"\\t\")\n",
        "df = shuffle(df)\n",
        "X_train, X_test = train_test_split(df, test_size=0.25)\n",
        "X_train.to_csv(trn_database_name, sep='\\t',header='True',index=False)\n",
        "X_test.to_csv(tst_database_name, sep='\\t',header='True',index=False)"
      ],
      "execution_count": 0,
      "outputs": []
    },
    {
      "cell_type": "code",
      "metadata": {
        "id": "WowIfjaeQuS_",
        "colab_type": "code",
        "outputId": "16928950-de28-4601-a985-df02d523f11e",
        "colab": {}
      },
      "source": [
        "X_train.head()"
      ],
      "execution_count": 0,
      "outputs": [
        {
          "output_type": "execute_result",
          "data": {
            "text/html": [
              "<div>\n",
              "<style scoped>\n",
              "    .dataframe tbody tr th:only-of-type {\n",
              "        vertical-align: middle;\n",
              "    }\n",
              "\n",
              "    .dataframe tbody tr th {\n",
              "        vertical-align: top;\n",
              "    }\n",
              "\n",
              "    .dataframe thead th {\n",
              "        text-align: right;\n",
              "    }\n",
              "</style>\n",
              "<table border=\"1\" class=\"dataframe\">\n",
              "  <thead>\n",
              "    <tr style=\"text-align: right;\">\n",
              "      <th></th>\n",
              "      <th>survived</th>\n",
              "      <th>pclass</th>\n",
              "      <th>name</th>\n",
              "      <th>sex</th>\n",
              "      <th>age</th>\n",
              "      <th>sibsp</th>\n",
              "      <th>parch</th>\n",
              "      <th>ticket</th>\n",
              "      <th>fare</th>\n",
              "      <th>cabin</th>\n",
              "      <th>embarked</th>\n",
              "    </tr>\n",
              "  </thead>\n",
              "  <tbody>\n",
              "    <tr>\n",
              "      <th>0</th>\n",
              "      <td>0</td>\n",
              "      <td>3</td>\n",
              "      <td>Turcin, Mr. Stjepan</td>\n",
              "      <td>male</td>\n",
              "      <td>36.0</td>\n",
              "      <td>0</td>\n",
              "      <td>0</td>\n",
              "      <td>349247</td>\n",
              "      <td>7.8958</td>\n",
              "      <td>NaN</td>\n",
              "      <td>S</td>\n",
              "    </tr>\n",
              "    <tr>\n",
              "      <th>1</th>\n",
              "      <td>1</td>\n",
              "      <td>1</td>\n",
              "      <td>Chibnall, Mrs. (Edith Martha Bowerman)</td>\n",
              "      <td>female</td>\n",
              "      <td>NaN</td>\n",
              "      <td>0</td>\n",
              "      <td>1</td>\n",
              "      <td>113505</td>\n",
              "      <td>55.0000</td>\n",
              "      <td>E33</td>\n",
              "      <td>S</td>\n",
              "    </tr>\n",
              "    <tr>\n",
              "      <th>2</th>\n",
              "      <td>1</td>\n",
              "      <td>3</td>\n",
              "      <td>Niskanen, Mr. Juha</td>\n",
              "      <td>male</td>\n",
              "      <td>39.0</td>\n",
              "      <td>0</td>\n",
              "      <td>0</td>\n",
              "      <td>STON/O 2. 3101289</td>\n",
              "      <td>7.9250</td>\n",
              "      <td>NaN</td>\n",
              "      <td>S</td>\n",
              "    </tr>\n",
              "    <tr>\n",
              "      <th>3</th>\n",
              "      <td>1</td>\n",
              "      <td>3</td>\n",
              "      <td>Asplund, Miss. Lillian Gertrud</td>\n",
              "      <td>female</td>\n",
              "      <td>5.0</td>\n",
              "      <td>4</td>\n",
              "      <td>2</td>\n",
              "      <td>347077</td>\n",
              "      <td>31.3875</td>\n",
              "      <td>NaN</td>\n",
              "      <td>S</td>\n",
              "    </tr>\n",
              "    <tr>\n",
              "      <th>4</th>\n",
              "      <td>0</td>\n",
              "      <td>3</td>\n",
              "      <td>Cacic, Miss. Marija</td>\n",
              "      <td>female</td>\n",
              "      <td>30.0</td>\n",
              "      <td>0</td>\n",
              "      <td>0</td>\n",
              "      <td>315084</td>\n",
              "      <td>8.6625</td>\n",
              "      <td>NaN</td>\n",
              "      <td>S</td>\n",
              "    </tr>\n",
              "  </tbody>\n",
              "</table>\n",
              "</div>"
            ],
            "text/plain": [
              "   survived  pclass                                    name     sex   age  \\\n",
              "0         0       3                     Turcin, Mr. Stjepan    male  36.0   \n",
              "1         1       1  Chibnall, Mrs. (Edith Martha Bowerman)  female   NaN   \n",
              "2         1       3                      Niskanen, Mr. Juha    male  39.0   \n",
              "3         1       3          Asplund, Miss. Lillian Gertrud  female   5.0   \n",
              "4         0       3                     Cacic, Miss. Marija  female  30.0   \n",
              "\n",
              "   sibsp  parch             ticket     fare cabin embarked  \n",
              "0      0      0             349247   7.8958   NaN        S  \n",
              "1      0      1             113505  55.0000   E33        S  \n",
              "2      0      0  STON/O 2. 3101289   7.9250   NaN        S  \n",
              "3      4      2             347077  31.3875   NaN        S  \n",
              "4      0      0             315084   8.6625   NaN        S  "
            ]
          },
          "metadata": {
            "tags": []
          },
          "execution_count": 32
        }
      ]
    },
    {
      "cell_type": "markdown",
      "metadata": {
        "id": "l7sF8DYDQuTE",
        "colab_type": "text"
      },
      "source": [
        "### Variáveis do problema"
      ]
    },
    {
      "cell_type": "code",
      "metadata": {
        "id": "gqzaCnGkQuTF",
        "colab_type": "code",
        "colab": {}
      },
      "source": [
        "# Variaveis da base\n",
        "irrelevant_columns = ['name', 'ticket', 'cabin']\n",
        "\n",
        "label_column = \"survived\""
      ],
      "execution_count": 0,
      "outputs": []
    },
    {
      "cell_type": "markdown",
      "metadata": {
        "id": "wSoKa3nDQuTI",
        "colab_type": "text"
      },
      "source": [
        "## Pré-processamento\n",
        "\n",
        "o arquivo **cesar_school_lib.py** contem algumas classes que podem ser usadas no pré-preprocessamento.\n",
        "\n",
        "* Remover colunas irrelevantes;\n",
        "\n",
        "   * RemoveIrrelevantColumns(irrelevant_columns): Remove colunas irrelevantes para o problema\n",
        "\n",
        "* Tratamento de outliers para variáveis categóricas;\n",
        "\n",
        "    * CategoricalOutilers: Todo valor que tenha representatividade menor que 1% da base é convertido para “OUTROS”. \n",
        "\n",
        "* Tratamento de missing:\n",
        "    \n",
        "   * Numérico\n",
        "      \n",
        "      * NumericalImputer: Converte o missing para a média da variável;\n",
        "      \n",
        "   * Categórico\n",
        "   \n",
        "       * CategoricalImputer: Adiciona um valor para representar o missing;\n",
        "       \n",
        "* Converter categórico para numérico:\n",
        "        \n",
        "    * CategoricalToNumerical(method) : https://contrib.scikit-learn.org/categorical-encoding/?source=post_page\n",
        "    * Method:\n",
        "        * \"BackwardDifferenceEncoder\"\n",
        "        * \"BaseNEncoder\"\n",
        "        * \"BinaryEncoder\"\n",
        "        * \"CatBoostEncoder\"\n",
        "        * \"HashingEncoder\"\n",
        "        * \"HelmertEncoder\"\n",
        "        * \"JamesSteinEncoder\"\n",
        "        * \"LeaveOneOutEncoder\"\n",
        "        * \"MEstimateEncoder\"\n",
        "        * \"OneHotEncoder\"\n",
        "        * \"OrdinalEncoder\"\n",
        "        * \"SumEncoder\"\n",
        "        * \"PolynomialEncoder\"\n",
        "        * \"TargetEncoder\"\n",
        "        * \"WOEEncoder\"\n",
        "   \n",
        "* Normalização:\n",
        "    \n",
        "    * MinMaxScaler: Normaliza as variáveis do problema para o intervalo entre 0 e 1.\n"
      ]
    },
    {
      "cell_type": "markdown",
      "metadata": {
        "id": "z4y_G-NCQuTK",
        "colab_type": "text"
      },
      "source": [
        "## Pipeline\n",
        "\n",
        "* A ideia do pipeline é criar um objeto que aplica um ou mais transformadores em sequência e no final um estimador.\n",
        "\n",
        "> **Reumindo: Você consegue em um único artefato empacotar tanto o pré-processamento quanto o modelo de machine learning.**\n",
        "\n",
        "\n",
        "* Tanto o skitlearn quanto o spark suportam esse conceito.\n",
        "\n",
        "* Facilita colocar o modelo em produção, principalmente com a utilização de docker.\n",
        "* Toda classe que pode ser utilizada no pipeline possui dois métodos:\n",
        "    * **fit**: Aprende o que fazer com os dados. Deve-se utilizar a base de treinamento\n",
        "    * **transform**: Aplica o que aprendeu em qualquer base com as mesmas variáveis.\n"
      ]
    },
    {
      "cell_type": "markdown",
      "metadata": {
        "id": "aHo3_peVQuTL",
        "colab_type": "text"
      },
      "source": [
        "### Pipeline de pré-processamento"
      ]
    },
    {
      "cell_type": "code",
      "metadata": {
        "id": "FbbonvxkQuTM",
        "colab_type": "code",
        "colab": {}
      },
      "source": [
        "import cesar_school_lib as cs\n",
        "from sklearn.pipeline import Pipeline\n",
        "\n",
        "pipeline = Pipeline([\n",
        "        ('irrelevants', cs.RemoveIrrelevantColumns(irrelevant_columns)),\n",
        "        ('categorical_outliers', cs.CategoricalOutilers()),\n",
        "        ('categorical_missing', cs.CategoricalImputer()),\n",
        "        ('numerical_missing', cs.NumericalImputer()),\n",
        "        ('categorical_to_numerical', cs.CategoricalToNumerical(\"OneHotEncoder\")),\n",
        "        ('cast_to_float', cs.FeaturesToFloat()),\n",
        "        ('normalization', cs.MinMaxScaler())\n",
        "])"
      ],
      "execution_count": 0,
      "outputs": []
    },
    {
      "cell_type": "markdown",
      "metadata": {
        "colab_type": "text",
        "id": "r0Cq278Jsfch"
      },
      "source": [
        "## Treinamento"
      ]
    },
    {
      "cell_type": "markdown",
      "metadata": {
        "id": "2jCyZI4RQuTQ",
        "colab_type": "text"
      },
      "source": [
        "### XGBoost"
      ]
    },
    {
      "cell_type": "markdown",
      "metadata": {
        "id": "yJiBiTJWQuTQ",
        "colab_type": "text"
      },
      "source": [
        "* Algoritmo baseado no gradiente boosting (https://github.com/dmlc/xgboost);\n",
        "    * Ensemble de árvores de decisão\n",
        "    * Egenharia dele é mais eficiente que o gradient boosing\n",
        "    * Usa uma estratégia diferente para regularização. \n",
        "* As abordagens derivadas do gradient boosting dominam comppetições como o kaagle\n",
        "    * Outas abordagens são: ligthGBM e catboost\n",
        "* Possui implementações em:\n",
        "    * python\n",
        "    * java\n",
        "    * scala\n",
        "    * spark\n",
        "* Suporte a treinamentos com GPU"
      ]
    },
    {
      "cell_type": "markdown",
      "metadata": {
        "id": "2lvWjfpjQuTR",
        "colab_type": "text"
      },
      "source": [
        "### Parâmetros do xgboost\n",
        "\n",
        "https://xgboost.readthedocs.io/en/latest/parameter.html\n",
        "\n",
        "* num_round\n",
        "> Número máximo de árvores a serem criadas\n",
        "* min_child_weight:\n",
        "> Soma mínima de pesos em cada nó de uma árvore.\n",
        "* max_depth\n",
        "> Profundidade máxima de uma árvore;\n",
        "* eta\n",
        "> Taxa de aprendizado\n",
        "* subsample\n",
        "> Taxa de reamostragem dos indivíduos em cada iteração\n",
        "*colsample_bytree\n",
        "> Taxa de reamostragem das variáveis em cada iteração\n",
        "* alpha\n",
        "> Regularização L1\n",
        "* lambda\n",
        "> Rgularização L2\n",
        "* scale_pos_weight\n",
        "> Controla o balanceamento entre as classes. \n",
        "> * sum(negative instances) / sum(positive instances)\n",
        "* objective\n",
        "> Especifica o tipo de problema que será resolvido pelo xgboost. \n",
        "> * Para problemas binários: binary:logistic\n",
        "* tree_method\n",
        "> Algoritmo de construção da árvore\n",
        "> * hist : Baseado em histograma e é a abordagem mais eficiente \n"
      ]
    },
    {
      "cell_type": "code",
      "metadata": {
        "colab_type": "code",
        "id": "HrYGhvDXsfci",
        "colab": {}
      },
      "source": [
        "# Separa as variáveis do label\n",
        "X = X_train.drop(label_column, axis=1)\n",
        "y = X_train[label_column]\n",
        "\n",
        "# Definição dos parâmetros\n",
        "num_positives = np.sum(y) * 1.0\n",
        "num_negatives = len(y) - num_positives\n",
        "scale_pos_weight = num_negatives / num_positives\n",
        " \n",
        "params = {}\n",
        "params['num_round']= 500\n",
        "params['max_depth'] = 7\n",
        "params['min_child_weight'] = 3.0\n",
        "params['subsample'] = 1.0\n",
        "params['colsample_bytree'] = 1.0\n",
        "params['reg_lambda'] = 1\n",
        "params['reg_alpha'] = 1\n",
        "params['eta'] = 0.01\n",
        "\n",
        "\n",
        "# Instancia o xgboost\n",
        "simple_xgb_model = XGBClassifier(n_estimators=params[\"num_round\"],\n",
        "                                 max_depth=int(params['max_depth']),\n",
        "                                 min_child_weight=params['min_child_weight'],\n",
        "                                 learning_rate=params['eta'],                                \n",
        "                                 colsample_bytree=params['colsample_bytree'],\n",
        "                                 reg_lambda=params['reg_lambda'],\n",
        "                                 scale_pos_weight=scale_pos_weight,\n",
        "                                 subsample=params['subsample'],\n",
        "                                 reg_alpha=params['reg_alpha'],\n",
        "                                 silent=False,\n",
        "                                 objective='binary:logistic',                                \n",
        "                                 eval_metric='auc',\n",
        "                                 kvargs={'tree_method': 'hist'})\n",
        "\n",
        "# Clona o pipeline\n",
        "simple_pipeline = clone(pipeline)\n",
        "                                   \n",
        "simple_pipeline.steps.append(['xgb', simple_xgb_model])\n",
        "\n",
        "simple_pipeline.fit(X, y)\n",
        "\n",
        "# Salva o modelo\n",
        "cs.write(simple_pipeline, model_path + \"exp1.pkl\")"
      ],
      "execution_count": 0,
      "outputs": []
    },
    {
      "cell_type": "markdown",
      "metadata": {
        "id": "jT0teXoGQuTV",
        "colab_type": "text"
      },
      "source": [
        "#### Escoragem"
      ]
    },
    {
      "cell_type": "code",
      "metadata": {
        "id": "69C0mSocQuTZ",
        "colab_type": "code",
        "colab": {}
      },
      "source": [
        "train_scores = cs.predict(simple_pipeline, X_train)\n",
        "test_scores = cs.predict(simple_pipeline, X_test)"
      ],
      "execution_count": 0,
      "outputs": []
    },
    {
      "cell_type": "code",
      "metadata": {
        "id": "cNZzCjGhQuTc",
        "colab_type": "code",
        "outputId": "17e73c4d-c3bf-4db8-dda1-2165d02784ea",
        "colab": {}
      },
      "source": [
        "test_scores.head(10)"
      ],
      "execution_count": 0,
      "outputs": [
        {
          "output_type": "execute_result",
          "data": {
            "text/html": [
              "<div>\n",
              "<style scoped>\n",
              "    .dataframe tbody tr th:only-of-type {\n",
              "        vertical-align: middle;\n",
              "    }\n",
              "\n",
              "    .dataframe tbody tr th {\n",
              "        vertical-align: top;\n",
              "    }\n",
              "\n",
              "    .dataframe thead th {\n",
              "        text-align: right;\n",
              "    }\n",
              "</style>\n",
              "<table border=\"1\" class=\"dataframe\">\n",
              "  <thead>\n",
              "    <tr style=\"text-align: right;\">\n",
              "      <th></th>\n",
              "      <th>survived</th>\n",
              "      <th>pclass</th>\n",
              "      <th>name</th>\n",
              "      <th>sex</th>\n",
              "      <th>age</th>\n",
              "      <th>sibsp</th>\n",
              "      <th>parch</th>\n",
              "      <th>ticket</th>\n",
              "      <th>fare</th>\n",
              "      <th>cabin</th>\n",
              "      <th>embarked</th>\n",
              "      <th>SCORES</th>\n",
              "    </tr>\n",
              "  </thead>\n",
              "  <tbody>\n",
              "    <tr>\n",
              "      <th>0</th>\n",
              "      <td>0</td>\n",
              "      <td>3</td>\n",
              "      <td>Ekstrom, Mr. Johan</td>\n",
              "      <td>male</td>\n",
              "      <td>45.0</td>\n",
              "      <td>0</td>\n",
              "      <td>0</td>\n",
              "      <td>347061</td>\n",
              "      <td>6.9750</td>\n",
              "      <td>NaN</td>\n",
              "      <td>S</td>\n",
              "      <td>0.044372</td>\n",
              "    </tr>\n",
              "    <tr>\n",
              "      <th>1</th>\n",
              "      <td>1</td>\n",
              "      <td>1</td>\n",
              "      <td>Lesurer, Mr. Gustave J</td>\n",
              "      <td>male</td>\n",
              "      <td>35.0</td>\n",
              "      <td>0</td>\n",
              "      <td>0</td>\n",
              "      <td>PC 17755</td>\n",
              "      <td>512.3292</td>\n",
              "      <td>B101</td>\n",
              "      <td>C</td>\n",
              "      <td>0.634013</td>\n",
              "    </tr>\n",
              "    <tr>\n",
              "      <th>2</th>\n",
              "      <td>0</td>\n",
              "      <td>3</td>\n",
              "      <td>Calic, Mr. Jovo</td>\n",
              "      <td>male</td>\n",
              "      <td>17.0</td>\n",
              "      <td>0</td>\n",
              "      <td>0</td>\n",
              "      <td>315093</td>\n",
              "      <td>8.6625</td>\n",
              "      <td>NaN</td>\n",
              "      <td>S</td>\n",
              "      <td>0.251971</td>\n",
              "    </tr>\n",
              "    <tr>\n",
              "      <th>3</th>\n",
              "      <td>0</td>\n",
              "      <td>3</td>\n",
              "      <td>Andersson, Mr. Anders Johan</td>\n",
              "      <td>male</td>\n",
              "      <td>39.0</td>\n",
              "      <td>1</td>\n",
              "      <td>5</td>\n",
              "      <td>347082</td>\n",
              "      <td>31.2750</td>\n",
              "      <td>NaN</td>\n",
              "      <td>S</td>\n",
              "      <td>0.149667</td>\n",
              "    </tr>\n",
              "    <tr>\n",
              "      <th>4</th>\n",
              "      <td>0</td>\n",
              "      <td>3</td>\n",
              "      <td>Vanden Steen, Mr. Leo Peter</td>\n",
              "      <td>male</td>\n",
              "      <td>28.0</td>\n",
              "      <td>0</td>\n",
              "      <td>0</td>\n",
              "      <td>345783</td>\n",
              "      <td>9.5000</td>\n",
              "      <td>NaN</td>\n",
              "      <td>S</td>\n",
              "      <td>0.064696</td>\n",
              "    </tr>\n",
              "    <tr>\n",
              "      <th>5</th>\n",
              "      <td>0</td>\n",
              "      <td>3</td>\n",
              "      <td>Bourke, Miss. Mary</td>\n",
              "      <td>female</td>\n",
              "      <td>NaN</td>\n",
              "      <td>0</td>\n",
              "      <td>2</td>\n",
              "      <td>364848</td>\n",
              "      <td>7.7500</td>\n",
              "      <td>NaN</td>\n",
              "      <td>Q</td>\n",
              "      <td>0.852295</td>\n",
              "    </tr>\n",
              "    <tr>\n",
              "      <th>6</th>\n",
              "      <td>1</td>\n",
              "      <td>1</td>\n",
              "      <td>Daniel, Mr. Robert Williams</td>\n",
              "      <td>male</td>\n",
              "      <td>27.0</td>\n",
              "      <td>0</td>\n",
              "      <td>0</td>\n",
              "      <td>113804</td>\n",
              "      <td>30.5000</td>\n",
              "      <td>NaN</td>\n",
              "      <td>S</td>\n",
              "      <td>0.500207</td>\n",
              "    </tr>\n",
              "    <tr>\n",
              "      <th>7</th>\n",
              "      <td>0</td>\n",
              "      <td>2</td>\n",
              "      <td>Laroche, Mr. Joseph Philippe Lemercier</td>\n",
              "      <td>male</td>\n",
              "      <td>25.0</td>\n",
              "      <td>1</td>\n",
              "      <td>2</td>\n",
              "      <td>SC/Paris 2123</td>\n",
              "      <td>41.5792</td>\n",
              "      <td>NaN</td>\n",
              "      <td>C</td>\n",
              "      <td>0.085586</td>\n",
              "    </tr>\n",
              "    <tr>\n",
              "      <th>8</th>\n",
              "      <td>1</td>\n",
              "      <td>2</td>\n",
              "      <td>Troutt, Miss. Edwina Celia \"Winnie\"</td>\n",
              "      <td>female</td>\n",
              "      <td>27.0</td>\n",
              "      <td>0</td>\n",
              "      <td>0</td>\n",
              "      <td>34218</td>\n",
              "      <td>10.5000</td>\n",
              "      <td>E101</td>\n",
              "      <td>S</td>\n",
              "      <td>0.965543</td>\n",
              "    </tr>\n",
              "    <tr>\n",
              "      <th>9</th>\n",
              "      <td>0</td>\n",
              "      <td>1</td>\n",
              "      <td>Gee, Mr. Arthur H</td>\n",
              "      <td>male</td>\n",
              "      <td>47.0</td>\n",
              "      <td>0</td>\n",
              "      <td>0</td>\n",
              "      <td>111320</td>\n",
              "      <td>38.5000</td>\n",
              "      <td>E63</td>\n",
              "      <td>S</td>\n",
              "      <td>0.121716</td>\n",
              "    </tr>\n",
              "  </tbody>\n",
              "</table>\n",
              "</div>"
            ],
            "text/plain": [
              "   survived  pclass                                    name     sex   age  \\\n",
              "0         0       3                      Ekstrom, Mr. Johan    male  45.0   \n",
              "1         1       1                  Lesurer, Mr. Gustave J    male  35.0   \n",
              "2         0       3                         Calic, Mr. Jovo    male  17.0   \n",
              "3         0       3             Andersson, Mr. Anders Johan    male  39.0   \n",
              "4         0       3             Vanden Steen, Mr. Leo Peter    male  28.0   \n",
              "5         0       3                      Bourke, Miss. Mary  female   NaN   \n",
              "6         1       1             Daniel, Mr. Robert Williams    male  27.0   \n",
              "7         0       2  Laroche, Mr. Joseph Philippe Lemercier    male  25.0   \n",
              "8         1       2     Troutt, Miss. Edwina Celia \"Winnie\"  female  27.0   \n",
              "9         0       1                       Gee, Mr. Arthur H    male  47.0   \n",
              "\n",
              "   sibsp  parch         ticket      fare cabin embarked    SCORES  \n",
              "0      0      0         347061    6.9750   NaN        S  0.044372  \n",
              "1      0      0       PC 17755  512.3292  B101        C  0.634013  \n",
              "2      0      0         315093    8.6625   NaN        S  0.251971  \n",
              "3      1      5         347082   31.2750   NaN        S  0.149667  \n",
              "4      0      0         345783    9.5000   NaN        S  0.064696  \n",
              "5      0      2         364848    7.7500   NaN        Q  0.852295  \n",
              "6      0      0         113804   30.5000   NaN        S  0.500207  \n",
              "7      1      2  SC/Paris 2123   41.5792   NaN        C  0.085586  \n",
              "8      0      0          34218   10.5000  E101        S  0.965543  \n",
              "9      0      0         111320   38.5000   E63        S  0.121716  "
            ]
          },
          "metadata": {
            "tags": []
          },
          "execution_count": 63
        }
      ]
    },
    {
      "cell_type": "markdown",
      "metadata": {
        "id": "_jn9j2e-QuTf",
        "colab_type": "text"
      },
      "source": [
        "#### Avaliação dos scores"
      ]
    },
    {
      "cell_type": "code",
      "metadata": {
        "id": "uQzrgCndQuTg",
        "colab_type": "code",
        "outputId": "334190c8-4fbf-4321-af60-0d4b360f4cdf",
        "colab": {}
      },
      "source": [
        "# Calcula o ks para a base de treinamento\n",
        "train_ks = cs.ks(X_train[label_column].as_matrix(), train_scores[\"SCORES\"].as_matrix())\n",
        "\n",
        "# Calcula o ks para a base de teste\n",
        "test_ks = cs.ks(X_test[label_column].as_matrix(), test_scores[\"SCORES\"].as_matrix())\n",
        "\n",
        "# calcula a área da curva roc das bases de treinamento e teste\n",
        "data = {}\n",
        "data[\"train\"] = {\"label\": X_train[label_column], \"scores\": train_scores[\"SCORES\"]}\n",
        "data[\"test\"] = {\"label\": X_test[label_column], \"scores\": test_scores[\"SCORES\"]}\n",
        "aucs = cs.roc_curve(data)\n",
        "\n",
        "train_auc = aucs['train']\n",
        "test_auc = aucs['test']"
      ],
      "execution_count": 0,
      "outputs": [
        {
          "output_type": "stream",
          "text": [
            "/home/wso/.local/lib/python2.7/site-packages/ipykernel_launcher.py:2: FutureWarning: Method .as_matrix will be removed in a future version. Use .values instead.\n",
            "  \n",
            "/home/wso/.local/lib/python2.7/site-packages/ipykernel_launcher.py:5: FutureWarning: Method .as_matrix will be removed in a future version. Use .values instead.\n",
            "  \"\"\"\n"
          ],
          "name": "stderr"
        },
        {
          "output_type": "display_data",
          "data": {
            "image/png": "[encoded data removed]",
            "text/plain": [
              "<Figure size 432x288 with 1 Axes>"
            ]
          },
          "metadata": {
            "tags": [],
            "needs_background": "light"
          }
        }
      ]
    },
    {
      "cell_type": "markdown",
      "metadata": {
        "id": "ptho32dJQuTk",
        "colab_type": "text"
      },
      "source": [
        "#### Visualização dos resultados"
      ]
    },
    {
      "cell_type": "code",
      "metadata": {
        "id": "td_ikziUQuTl",
        "colab_type": "code",
        "outputId": "f0a71806-2aeb-4e8d-e979-6e15cb3a1cec",
        "colab": {}
      },
      "source": [
        "data = [['train', train_auc, train_ks], ['test', test_auc, test_ks]] \n",
        "  \n",
        "# Create the pandas DataFrame \n",
        "df = pd.DataFrame(data, columns = ['Database', 'AUC', 'KS']) \n",
        "\n",
        "df.head()"
      ],
      "execution_count": 0,
      "outputs": [
        {
          "output_type": "execute_result",
          "data": {
            "text/html": [
              "<div>\n",
              "<style scoped>\n",
              "    .dataframe tbody tr th:only-of-type {\n",
              "        vertical-align: middle;\n",
              "    }\n",
              "\n",
              "    .dataframe tbody tr th {\n",
              "        vertical-align: top;\n",
              "    }\n",
              "\n",
              "    .dataframe thead th {\n",
              "        text-align: right;\n",
              "    }\n",
              "</style>\n",
              "<table border=\"1\" class=\"dataframe\">\n",
              "  <thead>\n",
              "    <tr style=\"text-align: right;\">\n",
              "      <th></th>\n",
              "      <th>Database</th>\n",
              "      <th>AUC</th>\n",
              "      <th>KS</th>\n",
              "    </tr>\n",
              "  </thead>\n",
              "  <tbody>\n",
              "    <tr>\n",
              "      <th>0</th>\n",
              "      <td>train</td>\n",
              "      <td>0.963221</td>\n",
              "      <td>0.799</td>\n",
              "    </tr>\n",
              "    <tr>\n",
              "      <th>1</th>\n",
              "      <td>test</td>\n",
              "      <td>0.831826</td>\n",
              "      <td>0.582</td>\n",
              "    </tr>\n",
              "  </tbody>\n",
              "</table>\n",
              "</div>"
            ],
            "text/plain": [
              "  Database       AUC     KS\n",
              "0    train  0.963221  0.799\n",
              "1     test  0.831826  0.582"
            ]
          },
          "metadata": {
            "tags": []
          },
          "execution_count": 65
        }
      ]
    },
    {
      "cell_type": "markdown",
      "metadata": {
        "colab_type": "text",
        "id": "tq8zAAMssfcl"
      },
      "source": [
        "## Treinamento com seleção dos parâmetros do xgboost"
      ]
    },
    {
      "cell_type": "code",
      "metadata": {
        "colab_type": "code",
        "id": "BLLbewlfsfcm",
        "colab": {}
      },
      "source": [
        "* Importante para evitar o ajuste manual (demorado) dos parâmetros\n",
        "\n",
        "* Consiste em testar automaticamente a os valores e a combinação dos parâmetros\n",
        "\n",
        "* É necessário definir a estratégia de seleção de parâmetros, a métrica de avaliação e a abordagem de avaliação de cada combinação de parâmetros. \n",
        "\n",
        "* Dentre as estratégias:\n",
        "\n",
        "    * **Grid-search**\n",
        "    * Random-search\n",
        "    * Métodos de otimização: bayesian otimization, algoritmos genéticos,PSO, etc.\n",
        "    \n",
        "* Dentre as métricas de avaliação\n",
        "    * Baseadas em erro: erro médio quadrado, erro absoluto, etc.\n",
        "    * **AUC**\n",
        "    * KS\n",
        "    * f1-metric\n",
        "\n",
        "* Abordagem de avaliação\n",
        "    * Treina com a base de treinamento e avalia na base de validação;\n",
        "    * **K-fold Cross-validation**: Divide a base em k fols. Utiliza k-1 folds para treinar e avalia com o fold restante. Se existem 3 folds, irão ser realizados 3 treinamentos para cada combinação de parâmetros. A avaliação final é a médias das 3 avaliações."
      ],
      "execution_count": 0,
      "outputs": []
    },
    {
      "cell_type": "markdown",
      "metadata": {
        "colab_type": "text",
        "id": "wt9GAbbusfcu"
      },
      "source": [
        "## Tratamento de overfitting"
      ]
    },
    {
      "cell_type": "code",
      "metadata": {
        "colab_type": "code",
        "id": "BlrWEFvNsfcu",
        "colab": {}
      },
      "source": [
        "* O que é overfitting?"
      ],
      "execution_count": 0,
      "outputs": []
    },
    {
      "cell_type": "markdown",
      "metadata": {
        "id": "55YTGAEsQuT2",
        "colab_type": "text"
      },
      "source": [
        "<p align=\"left\">\n",
        " <img src=\"./standard_curve.png\">\n",
        "</p>"
      ]
    },
    {
      "cell_type": "markdown",
      "metadata": {
        "id": "3p1JYeCqQuT4",
        "colab_type": "text"
      },
      "source": [
        "### Treinamento utilizando grid-search[auc], cross-validation (k=3) e sem overfitting"
      ]
    },
    {
      "cell_type": "code",
      "metadata": {
        "id": "2OhvajEbQuT5",
        "colab_type": "code",
        "colab": {}
      },
      "source": [
        "params = {}\n",
        "params['num_round']=  300\n",
        "params['max_depth']= [1, 2, 3]\n",
        "params['min_child_weight']= [1.0, 2.0, 3.0, 4.0, 5.0]\n",
        "params['eta'] = [0.001, 0.01, 0.1]\n",
        "params['colsample_bytree']=  [0.85, 0.95]\n",
        "params['subsample']=  [0.7, 0.85, 0.95]\n",
        "\n",
        "params['reg_lambda']= 0.0001\n",
        "params['reg_alpha']= 0.0001\n",
        "\n",
        "\n",
        "params['early_stopping_rounds'] = 10\n"
      ],
      "execution_count": 0,
      "outputs": []
    },
    {
      "cell_type": "markdown",
      "metadata": {
        "id": "1ATFTUZyQuT8",
        "colab_type": "text"
      },
      "source": [
        "### Grid-search "
      ]
    },
    {
      "cell_type": "code",
      "metadata": {
        "id": "8PyKT3THQuT9",
        "colab_type": "code",
        "colab": {}
      },
      "source": [
        "pipeline.fit(X)\n",
        "X_ = pipeline.transform(X)\n",
        "    \n",
        "dtrain = xgb.DMatrix(X_, label=y)\n",
        "    \n",
        "def xgb_evaluate(max_depth, min_child_weight, subsample, colsample_bytree, eta, reg_lambda,\n",
        "                 reg_alpha, num_round, early_stopping_rounds):\n",
        "    \n",
        "    max_depth = int(max_depth)\n",
        "    if (max_depth < 1):\n",
        "        max_depth = 1\n",
        "\n",
        "    out_params = {'max_depth': max_depth,\n",
        "               'min_child_weight': min_child_weight,\n",
        "               'eta': eta,\n",
        "               'subsample': subsample,               \n",
        "               'reg_alpha': reg_alpha,\n",
        "               'reg_lambda': reg_lambda,\n",
        "               'scale_pos_weight': scale_pos_weight,\n",
        "               'colsample_bytree': colsample_bytree,\n",
        "               'eval_metric': 'auc',\n",
        "               'tree_method': \"hist\",\n",
        "               'objective': 'binary:logistic',\n",
        "               'nthread': 4\n",
        "               }\n",
        "\n",
        "    cv_result = xgb.cv(out_params, dtrain, num_boost_round=int(num_round), nfold=3,\n",
        "                       early_stopping_rounds=early_stopping_rounds,\n",
        "                       maximize=True,\n",
        "                       verbose_eval=False)\n",
        "    \n",
        "    out_params['num_round'] = len(cv_result)\n",
        "    \n",
        "    return out_params, cv_result['test-auc-mean'].iloc[-1]"
      ],
      "execution_count": 0,
      "outputs": []
    },
    {
      "cell_type": "code",
      "metadata": {
        "id": "k2mTUaFXQuT_",
        "colab_type": "code",
        "colab": {}
      },
      "source": [
        "best_params = []\n",
        "best_auc = 0\n",
        "\n",
        "for md in params['max_depth']:\n",
        "    for mcw in params['min_child_weight']:\n",
        "        for s in params['subsample']:\n",
        "            for c in params['colsample_bytree']:\n",
        "                for eta in params['eta']:\n",
        "                \n",
        "                    out_params, out_auc = xgb_evaluate(md, mcw, s, c,eta, params['reg_lambda'], \n",
        "                                 params['reg_alpha'], params['num_round'], params['early_stopping_rounds'])\n",
        "\n",
        "                    if(out_auc > best_auc):\n",
        "                        best_auc = out_auc\n",
        "                        best_params = out_params\n"
      ],
      "execution_count": 0,
      "outputs": []
    },
    {
      "cell_type": "code",
      "metadata": {
        "id": "JtNmMf4GQuUC",
        "colab_type": "code",
        "colab": {}
      },
      "source": [
        "best_xgb_model = XGBClassifier(max_depth=int(best_params['max_depth']),\n",
        "                                          min_child_weight=best_params['min_child_weight'],\n",
        "                                          learning_rate=best_params['eta'],\n",
        "                                          colsample_bytree=best_params['colsample_bytree'],\n",
        "                                          reg_lambda=best_params['reg_lambda'],\n",
        "                                          scale_pos_weight=scale_pos_weight,\n",
        "                                          subsample=best_params['subsample'],\n",
        "                                          reg_alpha=best_params['reg_alpha'],\n",
        "                                          silent=False,\n",
        "                                          n_estimators=int(best_params['num_round']),\n",
        "                                          objective='binary:logistic',\n",
        "                                          tree_method='hist',\n",
        "                                          eval_metric='auc',\n",
        "                                          n_jobs=4,\n",
        "                                          kvargs={'tree_method': 'hist'})\n",
        "\n",
        "best_pipeline = clone(pipeline)\n",
        "\n",
        "best_pipeline.steps.append(['xgb', best_xgb_model])\n",
        "\n",
        "best_pipeline.fit(X, y)\n",
        "\n",
        "# Salva o modelo\n",
        "cs.write(simple_pipeline, model_path + \"exp2.pkl\")"
      ],
      "execution_count": 0,
      "outputs": []
    },
    {
      "cell_type": "markdown",
      "metadata": {
        "id": "Yt5cE4ukQuUE",
        "colab_type": "text"
      },
      "source": [
        "#### Escoragem"
      ]
    },
    {
      "cell_type": "code",
      "metadata": {
        "id": "x3aAzmQHQuUF",
        "colab_type": "code",
        "colab": {}
      },
      "source": [
        "best_train_scores = cs.predict(best_pipeline, X_train)\n",
        "best_test_scores = cs.predict(best_pipeline, X_test)"
      ],
      "execution_count": 0,
      "outputs": []
    },
    {
      "cell_type": "markdown",
      "metadata": {
        "id": "N2yBmWFkQuUH",
        "colab_type": "text"
      },
      "source": [
        "#### Avaliação dos scores de treinamento e teste"
      ]
    },
    {
      "cell_type": "code",
      "metadata": {
        "id": "gT6h8kYRQuUI",
        "colab_type": "code",
        "outputId": "d69bfa10-c282-451c-b71c-c6cdcd802dc7",
        "colab": {}
      },
      "source": [
        "# Calcula o ks para a base de treinamento\n",
        "best_train_ks = cs.ks(X_train[label_column].as_matrix(), best_train_scores[\"SCORES\"].as_matrix())\n",
        "\n",
        "# Calcula o ks para a base de teste\n",
        "best_test_ks = cs.ks(X_test[label_column].as_matrix(), best_test_scores[\"SCORES\"].as_matrix())\n",
        "\n",
        "# calcula a área da curva roc das bases de treinamento e teste\n",
        "data = {}\n",
        "data[\"train\"] = {\"label\": X_train[label_column], \"scores\": best_train_scores[\"SCORES\"]}\n",
        "data[\"test\"] = {\"label\": X_test[label_column], \"scores\": best_test_scores[\"SCORES\"]}\n",
        "best_aucs = cs.roc_curve(data)\n",
        "\n",
        "best_train_auc = best_aucs['train']\n",
        "best_test_auc = best_aucs['test']"
      ],
      "execution_count": 0,
      "outputs": [
        {
          "output_type": "stream",
          "text": [
            "/home/wso/.local/lib/python2.7/site-packages/ipykernel_launcher.py:2: FutureWarning: Method .as_matrix will be removed in a future version. Use .values instead.\n",
            "  \n",
            "/home/wso/.local/lib/python2.7/site-packages/ipykernel_launcher.py:5: FutureWarning: Method .as_matrix will be removed in a future version. Use .values instead.\n",
            "  \"\"\"\n"
          ],
          "name": "stderr"
        },
        {
          "output_type": "display_data",
          "data": {
            "image/png": "[encoded data removed]",
            "text/plain": [
              "<Figure size 432x288 with 1 Axes>"
            ]
          },
          "metadata": {
            "tags": [],
            "needs_background": "light"
          }
        }
      ]
    },
    {
      "cell_type": "markdown",
      "metadata": {
        "id": "cwE8TJcsQuUK",
        "colab_type": "text"
      },
      "source": [
        "#### Todos os resultados"
      ]
    },
    {
      "cell_type": "code",
      "metadata": {
        "id": "a1NKvwnqQuUL",
        "colab_type": "code",
        "outputId": "3deef1d6-b779-406e-ace6-9ff13c17cc1b",
        "colab": {}
      },
      "source": [
        "data = [['train [xgb simples]', train_auc, train_ks],\n",
        "        ['train [xgb com grid-search]', best_train_auc, best_train_ks],        \n",
        "        \n",
        "        ['test [xgb simples]', test_auc, test_ks],\n",
        "        ['test [xgb com grid-search]', best_test_auc, best_test_ks]]\n",
        "  \n",
        "# Create the pandas DataFrame \n",
        "df = pd.DataFrame(data, columns = ['Modelo', 'AUC', 'KS']) \n",
        "\n",
        "df.head()"
      ],
      "execution_count": 0,
      "outputs": [
        {
          "output_type": "execute_result",
          "data": {
            "text/html": [
              "<div>\n",
              "<style scoped>\n",
              "    .dataframe tbody tr th:only-of-type {\n",
              "        vertical-align: middle;\n",
              "    }\n",
              "\n",
              "    .dataframe tbody tr th {\n",
              "        vertical-align: top;\n",
              "    }\n",
              "\n",
              "    .dataframe thead th {\n",
              "        text-align: right;\n",
              "    }\n",
              "</style>\n",
              "<table border=\"1\" class=\"dataframe\">\n",
              "  <thead>\n",
              "    <tr style=\"text-align: right;\">\n",
              "      <th></th>\n",
              "      <th>Modelo</th>\n",
              "      <th>AUC</th>\n",
              "      <th>KS</th>\n",
              "    </tr>\n",
              "  </thead>\n",
              "  <tbody>\n",
              "    <tr>\n",
              "      <th>0</th>\n",
              "      <td>train [xgb simples]</td>\n",
              "      <td>0.963221</td>\n",
              "      <td>0.799</td>\n",
              "    </tr>\n",
              "    <tr>\n",
              "      <th>1</th>\n",
              "      <td>train [xgb com grid-search]</td>\n",
              "      <td>0.905926</td>\n",
              "      <td>0.699</td>\n",
              "    </tr>\n",
              "    <tr>\n",
              "      <th>2</th>\n",
              "      <td>test [xgb simples]</td>\n",
              "      <td>0.831826</td>\n",
              "      <td>0.582</td>\n",
              "    </tr>\n",
              "    <tr>\n",
              "      <th>3</th>\n",
              "      <td>test [xgb com grid-search]</td>\n",
              "      <td>0.855551</td>\n",
              "      <td>0.621</td>\n",
              "    </tr>\n",
              "  </tbody>\n",
              "</table>\n",
              "</div>"
            ],
            "text/plain": [
              "                        Modelo       AUC     KS\n",
              "0          train [xgb simples]  0.963221  0.799\n",
              "1  train [xgb com grid-search]  0.905926  0.699\n",
              "2           test [xgb simples]  0.831826  0.582\n",
              "3   test [xgb com grid-search]  0.855551  0.621"
            ]
          },
          "metadata": {
            "tags": []
          },
          "execution_count": 73
        }
      ]
    },
    {
      "cell_type": "code",
      "metadata": {
        "id": "Kd-nuiRMQuUO",
        "colab_type": "code",
        "colab": {}
      },
      "source": [
        ""
      ],
      "execution_count": 0,
      "outputs": []
    },
    {
      "cell_type": "code",
      "metadata": {
        "id": "HOFnW1AEQuUR",
        "colab_type": "code",
        "colab": {}
      },
      "source": [
        ""
      ],
      "execution_count": 0,
      "outputs": []
    }
  ]
}