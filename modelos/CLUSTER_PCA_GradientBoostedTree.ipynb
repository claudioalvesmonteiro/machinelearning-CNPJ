{
  "nbformat": 4,
  "nbformat_minor": 0,
  "metadata": {
    "kernelspec": {
      "name": "python3",
      "display_name": "Python 3"
    },
    "language_info": {
      "codemirror_mode": {
        "name": "ipython",
        "version": 3
      },
      "file_extension": ".py",
      "mimetype": "text/x-python",
      "name": "python",
      "nbconvert_exporter": "python",
      "pygments_lexer": "ipython3",
      "version": "3.7.3"
    },
    "colab": {
      "name": "CLUSTER_PCA_GradientBoostedTree.ipynb",
      "version": "0.3.2",
      "provenance": [],
      "collapsed_sections": [],
      "include_colab_link": true
    },
    "accelerator": "TPU"
  },
  "cells": [
    {
      "cell_type": "markdown",
      "metadata": {
        "id": "view-in-github",
        "colab_type": "text"
      },
      "source": [
        "<a href=\"https://colab.research.google.com/github/claudioalvesmonteiro/machinelearning-CNPJ/blob/master/modelos/CLUSTER_PCA_GradientBoostedTree.ipynb\" target=\"_parent\"><img src=\"https://colab.research.google.com/assets/colab-badge.svg\" alt=\"Open In Colab\"/></a>"
      ]
    },
    {
      "cell_type": "markdown",
      "metadata": {
        "id": "460lR_XZsx34",
        "colab_type": "text"
      },
      "source": [
        "   # Projeto Machine Learning para Análise de Crédito\n",
        "   \n",
        "   ## Modelo PCA Gradient Boosted Tree\n",
        "   \n",
        "    Equipe:\n",
        "    Claudio Alves Monteiro\n",
        "    Marcos Antonio Almeida Souto Júnior\n",
        "    Virgínia Heimann\n",
        "    Kayo Renato da Silva Nascimento\n",
        "    Rosely Cabral\n",
        "   \n",
        "\n",
        "   \n"
      ]
    },
    {
      "cell_type": "code",
      "metadata": {
        "id": "Wmc3XFvPpgjR",
        "colab_type": "code",
        "colab": {}
      },
      "source": [
        "!apt-get install openjdk-8-jdk-headless -qq > /dev/null\n",
        "!wget -q http://mirror.nbtelecom.com.br/apache/spark/spark-2.4.3/spark-2.4.3-bin-hadoop2.7.tgz\n",
        "!tar xf spark-2.4.3-bin-hadoop2.7.tgz\n",
        "!pip install -q findspark"
      ],
      "execution_count": 0,
      "outputs": []
    },
    {
      "cell_type": "code",
      "metadata": {
        "id": "EoX23c-nrSWz",
        "colab_type": "code",
        "colab": {}
      },
      "source": [
        "import os\n",
        "os.environ[\"JAVA_HOME\"] = \"/usr/lib/jvm/java-8-openjdk-amd64\"\n",
        "os.environ[\"SPARK_HOME\"] = \"/content/spark-2.4.3-bin-hadoop2.7\""
      ],
      "execution_count": 0,
      "outputs": []
    },
    {
      "cell_type": "code",
      "metadata": {
        "id": "P7K-Aj6JrVei",
        "colab_type": "code",
        "colab": {}
      },
      "source": [
        "import findspark\n",
        "findspark.init()\n",
        "from pyspark.sql import SparkSession\n",
        "spark = SparkSession.builder.master(\"local[*]\").getOrCreate()"
      ],
      "execution_count": 0,
      "outputs": []
    },
    {
      "cell_type": "code",
      "metadata": {
        "id": "Yj-6BAHKrnBn",
        "colab_type": "code",
        "colab": {}
      },
      "source": [
        "# import modules\n",
        "import os\n",
        "import pandas as pd\n",
        "from pyspark.sql import functions as SF\n",
        "import pyspark.sql.types as ST"
      ],
      "execution_count": 0,
      "outputs": []
    },
    {
      "cell_type": "markdown",
      "metadata": {
        "id": "ec0J1CJm0gdv",
        "colab_type": "text"
      },
      "source": [
        "## Importar dados"
      ]
    },
    {
      "cell_type": "code",
      "metadata": {
        "id": "1jRId6GF2UII",
        "colab_type": "code",
        "outputId": "659c9d88-3b9f-41ef-ac35-8229d9948d61",
        "colab": {
          "base_uri": "https://localhost:8080/",
          "height": 55
        }
      },
      "source": [
        "from google.colab import drive\n",
        "drive.mount('/content/drive')"
      ],
      "execution_count": 0,
      "outputs": [
        {
          "output_type": "stream",
          "text": [
            "Drive already mounted at /content/drive; to attempt to forcibly remount, call drive.mount(\"/content/drive\", force_remount=True).\n"
          ],
          "name": "stdout"
        }
      ]
    },
    {
      "cell_type": "code",
      "metadata": {
        "id": "Ebe_k4H005yd",
        "colab_type": "code",
        "outputId": "3e9d2c82-dec0-47c9-bd18-e9fd5cdf1b18",
        "colab": {
          "base_uri": "https://localhost:8080/",
          "height": 234
        }
      },
      "source": [
        "# import data\n",
        "path = 'drive/My Drive/Colab Notebooks/ProjetoCESARSchool/codes/data/'\n",
        "\n",
        "model_data = 'model_data4'\n",
        "\n",
        "df = spark.read.csv(path + model_data + '.csv',\n",
        "                    sep=',',\n",
        "                    encoding='utf-8',\n",
        "                    header=True,\n",
        "                    inferSchema=True)\n",
        "\n",
        "df.show(5)"
      ],
      "execution_count": 0,
      "outputs": [
        {
          "output_type": "stream",
          "text": [
            "+---+----+--------+-------+----------+------------+--------------+-------------------------+----------------------+----------------------------+--------------------+-----+----------+------------------+--------------+-----------------------+---------+-------------------+------------------+------------------+----------+------------------------+-------------------------+-------------------------------+--------------+----------------+--------+--------------+------------------+\n",
            "|_c0|UF12|DATA_REF|CS_ALVO|QTD_SOCIOS|dist_capital|area_municipio|taxa_atividade_18anosmais|porcent_pop_saneamento|porcent_mulheres10a17_filhos|mortalidade_infantil| IDHM|IDHM_renda|taxa_analfabetismo|porcent_pobres|municipio_metropolitano|populacao|  municipio_nome_uf|log_capital_social|         log_idade|tipo_index|natureza_socied_limitada|natureza_empresario_indiv|natureza_empresa_indiv_limitada|situacao_ativa|situacao_baixada|UF_index|    UF_encoded|atividade_alimento|\n",
            "+---+----+--------+-------+----------+------------+--------------+-------------------------+----------------------+----------------------------+--------------------+-----+----------+------------------+--------------+-----------------------+---------+-------------------+------------------+------------------+----------+------------------------+-------------------------+-------------------------------+--------------+----------------+--------+--------------+------------------+\n",
            "|  0|  SC| 2016-09|      0|         3|      203.83|       948.738|                    65.72|                 93.69|                        3.79|                12.5|0.721|     0.716|               1.9|         10.47|                      0|    39399|   CURITIBANOS - SC|11.225243392518447| 20.35954901421863|       0.0|                       1|                        0|                              0|             1|               0|     9.0|(11,[9],[1.0])|                 1|\n",
            "|  1|  SC| 2016-10|      0|         1|      203.83|       948.738|                    65.72|                 93.69|                        3.79|                12.5|0.721|     0.716|               1.9|         10.47|                      0|    39399|   CURITIBANOS - SC|               0.0|20.579679952615596|       0.0|                       0|                        0|                              0|             1|               0|     9.0|(11,[9],[1.0])|                 0|\n",
            "|  2|  SC| 2016-09|      0|         3|      203.83|       948.738|                    65.72|                 93.69|                        3.79|                12.5|0.721|     0.716|               1.9|         10.47|                      0|    39399|   CURITIBANOS - SC|13.764217263576723|20.526000536539012|       0.0|                       1|                        0|                              0|             1|               0|     9.0|(11,[9],[1.0])|                 0|\n",
            "|  3|  SC| 2016-12|      0|         3|      133.77|       529.447|                    79.85|                 98.57|                        1.62|               10.21|0.803|     0.793|               0.8|          0.71|                      0|   167300|JARAGUA DO SUL - SC|10.308952660644293|20.115206584734203|       0.0|                       1|                        0|                              0|             1|               0|     9.0|(11,[9],[1.0])|                 1|\n",
            "|  4|  SC| 2017-01|      0|         1|      133.77|       529.447|                    79.85|                 98.57|                        1.62|               10.21|0.803|     0.793|               0.8|          0.71|                      0|   167300|JARAGUA DO SUL - SC|11.465833857436378|  19.0832037549685|       0.0|                       0|                        0|                              0|             1|               0|     9.0|(11,[9],[1.0])|                 0|\n",
            "+---+----+--------+-------+----------+------------+--------------+-------------------------+----------------------+----------------------------+--------------------+-----+----------+------------------+--------------+-----------------------+---------+-------------------+------------------+------------------+----------+------------------------+-------------------------+-------------------------------+--------------+----------------+--------+--------------+------------------+\n",
            "only showing top 5 rows\n",
            "\n"
          ],
          "name": "stdout"
        }
      ]
    },
    {
      "cell_type": "code",
      "metadata": {
        "id": "BVp5BW_pYFfe",
        "colab_type": "code",
        "colab": {}
      },
      "source": [
        "# ENCODE \n",
        "from pyspark.ml import Pipeline\n",
        "from pyspark.ml.feature import OneHotEncoderEstimator\n",
        "\n",
        "df = df.drop('UF_encoded')\n",
        "\n",
        "encoder = OneHotEncoderEstimator(inputCols=['UF_index'],\n",
        "                                 outputCols=['UF_encoded'])\n",
        "\n",
        "model = encoder.fit(df)\n",
        "df = model.transform(df)"
      ],
      "execution_count": 0,
      "outputs": []
    },
    {
      "cell_type": "code",
      "metadata": {
        "id": "K4N9n7MKZ_y1",
        "colab_type": "code",
        "colab": {}
      },
      "source": [
        "# TRANSFORM TYPE\n",
        "from pyspark.sql.types import DoubleType, IntegerType\n",
        "df = df.withColumn(\"taxa_analfabet\",df[\"taxa_analfabetismo\"].cast(DoubleType()))\n",
        "df = df.withColumn(\"pop\",df[\"populacao\"].cast(IntegerType()))"
      ],
      "execution_count": 0,
      "outputs": []
    },
    {
      "cell_type": "markdown",
      "metadata": {
        "id": "Nyhzog4NYGHg",
        "colab_type": "text"
      },
      "source": [
        "# Principal Componenet Analysis PCA"
      ]
    },
    {
      "cell_type": "code",
      "metadata": {
        "id": "69vEod47YM9-",
        "colab_type": "code",
        "colab": {}
      },
      "source": [
        "#=========================== VECTORIZE DATA\n",
        "\n",
        "from pyspark.ml.feature import VectorAssembler\n",
        "\n",
        "# selecionar features\n",
        "pcasel =  ['dist_capital',\n",
        "             'area_municipio',\n",
        "             'taxa_atividade_18anosmais',\n",
        "             'porcent_pop_saneamento',\n",
        "             'porcent_mulheres10a17_filhos',\n",
        "             'mortalidade_infantil',\n",
        "             'IDHM',\n",
        "             'IDHM_renda',\n",
        "             'taxa_analfabet',\n",
        "             'porcent_pobres',\n",
        "             'municipio_metropolitano',\n",
        "             'pop']\n",
        "\n",
        "# vetorizar \n",
        "assembler = VectorAssembler(\n",
        "    inputCols = pcasel,\n",
        "    outputCol = \"features_pca\",\n",
        " handleInvalid='skip')\n",
        "\n",
        "df = assembler.transform(df)"
      ],
      "execution_count": 0,
      "outputs": []
    },
    {
      "cell_type": "code",
      "metadata": {
        "id": "YdwbZObkYquX",
        "colab_type": "code",
        "outputId": "9d6a64ef-5220-45a6-e95b-9e315e0ae145",
        "colab": {
          "base_uri": "https://localhost:8080/",
          "height": 324
        }
      },
      "source": [
        "# criar modelo\n",
        "from pyspark.ml.feature import PCA\n",
        "\n",
        "pca = PCA(k=3, inputCol=\"features_pca\", outputCol=\"pca_output\")\n",
        "model = pca.fit(df)\n",
        "\n",
        "data = model.transform(df)\n",
        "data.show(10, truncate=False)"
      ],
      "execution_count": 0,
      "outputs": [
        {
          "output_type": "stream",
          "text": [
            "+---+----+--------+-------+----------+------------+--------------+-------------------------+----------------------+----------------------------+--------------------+-----+----------+------------------+--------------+-----------------------+---------+-------------------+------------------+------------------+----------+------------------------+-------------------------+-------------------------------+--------------+----------------+--------+------------------+--------------+--------------+------+-------------------------------------------------------------------------+----------------------------------------------------------+\n",
            "|_c0|UF12|DATA_REF|CS_ALVO|QTD_SOCIOS|dist_capital|area_municipio|taxa_atividade_18anosmais|porcent_pop_saneamento|porcent_mulheres10a17_filhos|mortalidade_infantil|IDHM |IDHM_renda|taxa_analfabetismo|porcent_pobres|municipio_metropolitano|populacao|municipio_nome_uf  |log_capital_social|log_idade         |tipo_index|natureza_socied_limitada|natureza_empresario_indiv|natureza_empresa_indiv_limitada|situacao_ativa|situacao_baixada|UF_index|atividade_alimento|UF_encoded    |taxa_analfabet|pop   |features_pca                                                             |pca_output                                                |\n",
            "+---+----+--------+-------+----------+------------+--------------+-------------------------+----------------------+----------------------------+--------------------+-----+----------+------------------+--------------+-----------------------+---------+-------------------+------------------+------------------+----------+------------------------+-------------------------+-------------------------------+--------------+----------------+--------+------------------+--------------+--------------+------+-------------------------------------------------------------------------+----------------------------------------------------------+\n",
            "|0  |SC  |2016-09 |0      |3         |203.83      |948.738       |65.72                    |93.69                 |3.79                        |12.5                |0.721|0.716     |1.9               |10.47         |0                      |39399    |CURITIBANOS - SC   |11.225243392518447|20.35954901421863 |0.0       |1                       |0                        |0                              |1             |0               |9.0     |1                 |(11,[9],[1.0])|1.9           |39399 |[203.83,948.738,65.72,93.69,3.79,12.5,0.721,0.716,1.9,10.47,0.0,39399.0] |[39399.025256302535,-948.8150284031744,197.46215657055492]|\n",
            "|1  |SC  |2016-10 |0      |1         |203.83      |948.738       |65.72                    |93.69                 |3.79                        |12.5                |0.721|0.716     |1.9               |10.47         |0                      |39399    |CURITIBANOS - SC   |0.0               |20.579679952615596|0.0       |0                       |0                        |0                              |1             |0               |9.0     |0                 |(11,[9],[1.0])|1.9           |39399 |[203.83,948.738,65.72,93.69,3.79,12.5,0.721,0.716,1.9,10.47,0.0,39399.0] |[39399.025256302535,-948.8150284031744,197.46215657055492]|\n",
            "|2  |SC  |2016-09 |0      |3         |203.83      |948.738       |65.72                    |93.69                 |3.79                        |12.5                |0.721|0.716     |1.9               |10.47         |0                      |39399    |CURITIBANOS - SC   |13.764217263576723|20.526000536539012|0.0       |1                       |0                        |0                              |1             |0               |9.0     |0                 |(11,[9],[1.0])|1.9           |39399 |[203.83,948.738,65.72,93.69,3.79,12.5,0.721,0.716,1.9,10.47,0.0,39399.0] |[39399.025256302535,-948.8150284031744,197.46215657055492]|\n",
            "|3  |SC  |2016-12 |0      |3         |133.77      |529.447       |79.85                    |98.57                 |1.62                        |10.21               |0.803|0.793     |0.8               |0.71          |0                      |167300   |JARAGUA DO SUL - SC|10.308952660644293|20.115206584734203|0.0       |1                       |0                        |0                              |1             |0               |9.0     |1                 |(11,[9],[1.0])|0.8           |167300|[133.77,529.447,79.85,98.57,1.62,10.21,0.803,0.793,0.8,0.71,0.0,167300.0]|[167300.01382428364,-525.4004549031288,131.21865960928778]|\n",
            "|4  |SC  |2017-01 |0      |1         |133.77      |529.447       |79.85                    |98.57                 |1.62                        |10.21               |0.803|0.793     |0.8               |0.71          |0                      |167300   |JARAGUA DO SUL - SC|11.465833857436378|19.0832037549685  |0.0       |0                       |0                        |0                              |1             |0               |9.0     |0                 |(11,[9],[1.0])|0.8           |167300|[133.77,529.447,79.85,98.57,1.62,10.21,0.803,0.793,0.8,0.71,0.0,167300.0]|[167300.01382428364,-525.4004549031288,131.21865960928778]|\n",
            "|5  |SC  |2017-01 |1      |1         |133.77      |529.447       |79.85                    |98.57                 |1.62                        |10.21               |0.803|0.793     |0.8               |0.71          |0                      |167300   |JARAGUA DO SUL - SC|11.447853468226514|19.233465239928876|0.0       |0                       |0                        |0                              |1             |0               |9.0     |0                 |(11,[9],[1.0])|0.8           |167300|[133.77,529.447,79.85,98.57,1.62,10.21,0.803,0.793,0.8,0.71,0.0,167300.0]|[167300.01382428364,-525.4004549031288,131.21865960928778]|\n",
            "|6  |SC  |2016-10 |0      |2         |133.77      |529.447       |79.85                    |98.57                 |1.62                        |10.21               |0.803|0.793     |0.8               |0.71          |0                      |167300   |JARAGUA DO SUL - SC|9.903487552536127 |16.315502845170315|0.0       |1                       |0                        |0                              |1             |0               |9.0     |0                 |(11,[9],[1.0])|0.8           |167300|[133.77,529.447,79.85,98.57,1.62,10.21,0.803,0.793,0.8,0.71,0.0,167300.0]|[167300.01382428364,-525.4004549031288,131.21865960928778]|\n",
            "|7  |SC  |2017-03 |0      |2         |133.77      |529.447       |79.85                    |98.57                 |1.62                        |10.21               |0.803|0.793     |0.8               |0.71          |0                      |167300   |JARAGUA DO SUL - SC|9.615805480084347 |18.64881661288561 |0.0       |1                       |0                        |0                              |1             |0               |9.0     |1                 |(11,[9],[1.0])|0.8           |167300|[133.77,529.447,79.85,98.57,1.62,10.21,0.803,0.793,0.8,0.71,0.0,167300.0]|[167300.01382428364,-525.4004549031288,131.21865960928778]|\n",
            "|8  |SC  |2017-01 |1      |2         |133.77      |529.447       |79.85                    |98.57                 |1.62                        |10.21               |0.803|0.793     |0.8               |0.71          |0                      |167300   |JARAGUA DO SUL - SC|0.0               |20.628916475408346|0.0       |1                       |0                        |0                              |1             |0               |9.0     |0                 |(11,[9],[1.0])|0.8           |167300|[133.77,529.447,79.85,98.57,1.62,10.21,0.803,0.793,0.8,0.71,0.0,167300.0]|[167300.01382428364,-525.4004549031288,131.21865960928778]|\n",
            "|9  |SC  |2016-07 |0      |2         |133.77      |529.447       |79.85                    |98.57                 |1.62                        |10.21               |0.803|0.793     |0.8               |0.71          |0                      |167300   |JARAGUA DO SUL - SC|9.903487552536127 |18.299190846364656|0.0       |1                       |0                        |0                              |1             |0               |9.0     |1                 |(11,[9],[1.0])|0.8           |167300|[133.77,529.447,79.85,98.57,1.62,10.21,0.803,0.793,0.8,0.71,0.0,167300.0]|[167300.01382428364,-525.4004549031288,131.21865960928778]|\n",
            "+---+----+--------+-------+----------+------------+--------------+-------------------------+----------------------+----------------------------+--------------------+-----+----------+------------------+--------------+-----------------------+---------+-------------------+------------------+------------------+----------+------------------------+-------------------------+-------------------------------+--------------+----------------+--------+------------------+--------------+--------------+------+-------------------------------------------------------------------------+----------------------------------------------------------+\n",
            "only showing top 10 rows\n",
            "\n"
          ],
          "name": "stdout"
        }
      ]
    },
    {
      "cell_type": "markdown",
      "metadata": {
        "id": "w5yqyIYWc9XW",
        "colab_type": "text"
      },
      "source": [
        "# Clustering with K-MEANS"
      ]
    },
    {
      "cell_type": "code",
      "metadata": {
        "id": "q9TmpBuWdMsh",
        "colab_type": "code",
        "colab": {}
      },
      "source": [
        "#======== VECTOR ASSEMBLER\n",
        "\n",
        "inputcol = ['QTD_SOCIOS',\n",
        "           'log_capital_social',\n",
        "           'log_idade',\n",
        "           'tipo_index',\n",
        "           'natureza_socied_limitada',\n",
        "           'natureza_empresario_indiv',\n",
        "           'natureza_empresa_indiv_limitada',\n",
        "           'situacao_ativa',\n",
        "           'situacao_baixada',\n",
        "           'atividade_alimento',\n",
        "           'UF_encoded',\n",
        "           'pca_output'\n",
        "           ]\n",
        "\n",
        "assembler = VectorAssembler(\n",
        "    inputCols = inputcol,\n",
        "    outputCol = \"features\",\n",
        " handleInvalid='skip')\n",
        "\n",
        "data = assembler.transform(data)"
      ],
      "execution_count": 0,
      "outputs": []
    },
    {
      "cell_type": "code",
      "metadata": {
        "id": "4aqLEDRdfK4x",
        "colab_type": "code",
        "colab": {}
      },
      "source": [
        "# funcao para contagem de valores categoricos\n",
        "def countGenTab(df, column):\n",
        "    # groupby, count and sort pyspark\n",
        "    tab = df.select(column).groupby(column).count().alias('count').sort('count', ascending=False)\n",
        "    # transform to pandas df\n",
        "    tab = tab.toPandas()\n",
        "    # calculate proportion\n",
        "    tab['prop'] = round(tab['count']/sum(tab['count'])*100, 2)\n",
        "    return tab"
      ],
      "execution_count": 0,
      "outputs": []
    },
    {
      "cell_type": "code",
      "metadata": {
        "id": "uhYfXe0xdD6C",
        "colab_type": "code",
        "outputId": "59875b1f-8d75-4427-b25f-8ef0065a0a27",
        "colab": {
          "base_uri": "https://localhost:8080/",
          "height": 234
        }
      },
      "source": [
        "from pyspark.ml.clustering import KMeans\n",
        "\n",
        "# Trains a k-means model.\n",
        "kmeans = KMeans().setK(5).setSeed(1)\n",
        "model = kmeans.fit(data)\n",
        "\n",
        "# Make predictions\n",
        "clusterized = model.transform(data)\n",
        "\n",
        "clusterized.show(5)"
      ],
      "execution_count": 0,
      "outputs": [
        {
          "output_type": "stream",
          "text": [
            "+---+----+--------+-------+----------+------------+--------------+-------------------------+----------------------+----------------------------+--------------------+-----+----------+------------------+--------------+-----------------------+---------+-------------------+------------------+------------------+----------+------------------------+-------------------------+-------------------------------+--------------+----------------+--------+------------------+--------------+--------------+------+--------------------+--------------------+--------------------+----------+\n",
            "|_c0|UF12|DATA_REF|CS_ALVO|QTD_SOCIOS|dist_capital|area_municipio|taxa_atividade_18anosmais|porcent_pop_saneamento|porcent_mulheres10a17_filhos|mortalidade_infantil| IDHM|IDHM_renda|taxa_analfabetismo|porcent_pobres|municipio_metropolitano|populacao|  municipio_nome_uf|log_capital_social|         log_idade|tipo_index|natureza_socied_limitada|natureza_empresario_indiv|natureza_empresa_indiv_limitada|situacao_ativa|situacao_baixada|UF_index|atividade_alimento|    UF_encoded|taxa_analfabet|   pop|        features_pca|          pca_output|            features|prediction|\n",
            "+---+----+--------+-------+----------+------------+--------------+-------------------------+----------------------+----------------------------+--------------------+-----+----------+------------------+--------------+-----------------------+---------+-------------------+------------------+------------------+----------+------------------------+-------------------------+-------------------------------+--------------+----------------+--------+------------------+--------------+--------------+------+--------------------+--------------------+--------------------+----------+\n",
            "|  0|  SC| 2016-09|      0|         3|      203.83|       948.738|                    65.72|                 93.69|                        3.79|                12.5|0.721|     0.716|               1.9|         10.47|                      0|    39399|   CURITIBANOS - SC|11.225243392518447| 20.35954901421863|       0.0|                       1|                        0|                              0|             1|               0|     9.0|                 1|(11,[9],[1.0])|           1.9| 39399|[203.83,948.738,6...|[39399.0252563025...|(24,[0,1,2,4,7,9,...|         0|\n",
            "|  1|  SC| 2016-10|      0|         1|      203.83|       948.738|                    65.72|                 93.69|                        3.79|                12.5|0.721|     0.716|               1.9|         10.47|                      0|    39399|   CURITIBANOS - SC|               0.0|20.579679952615596|       0.0|                       0|                        0|                              0|             1|               0|     9.0|                 0|(11,[9],[1.0])|           1.9| 39399|[203.83,948.738,6...|[39399.0252563025...|(24,[0,2,7,19,21,...|         0|\n",
            "|  2|  SC| 2016-09|      0|         3|      203.83|       948.738|                    65.72|                 93.69|                        3.79|                12.5|0.721|     0.716|               1.9|         10.47|                      0|    39399|   CURITIBANOS - SC|13.764217263576723|20.526000536539012|       0.0|                       1|                        0|                              0|             1|               0|     9.0|                 0|(11,[9],[1.0])|           1.9| 39399|[203.83,948.738,6...|[39399.0252563025...|(24,[0,1,2,4,7,19...|         0|\n",
            "|  3|  SC| 2016-12|      0|         3|      133.77|       529.447|                    79.85|                 98.57|                        1.62|               10.21|0.803|     0.793|               0.8|          0.71|                      0|   167300|JARAGUA DO SUL - SC|10.308952660644293|20.115206584734203|       0.0|                       1|                        0|                              0|             1|               0|     9.0|                 1|(11,[9],[1.0])|           0.8|167300|[133.77,529.447,7...|[167300.013824283...|(24,[0,1,2,4,7,9,...|         0|\n",
            "|  4|  SC| 2017-01|      0|         1|      133.77|       529.447|                    79.85|                 98.57|                        1.62|               10.21|0.803|     0.793|               0.8|          0.71|                      0|   167300|JARAGUA DO SUL - SC|11.465833857436378|  19.0832037549685|       0.0|                       0|                        0|                              0|             1|               0|     9.0|                 0|(11,[9],[1.0])|           0.8|167300|[133.77,529.447,7...|[167300.013824283...|(24,[0,1,2,7,19,2...|         0|\n",
            "+---+----+--------+-------+----------+------------+--------------+-------------------------+----------------------+----------------------------+--------------------+-----+----------+------------------+--------------+-----------------------+---------+-------------------+------------------+------------------+----------+------------------------+-------------------------+-------------------------------+--------------+----------------+--------+------------------+--------------+--------------+------+--------------------+--------------------+--------------------+----------+\n",
            "only showing top 5 rows\n",
            "\n"
          ],
          "name": "stdout"
        }
      ]
    },
    {
      "cell_type": "code",
      "metadata": {
        "id": "uLgW4r5LfQrR",
        "colab_type": "code",
        "outputId": "56929a68-6fca-47ad-a032-40ab2099fd08",
        "colab": {
          "base_uri": "https://localhost:8080/",
          "height": 206
        }
      },
      "source": [
        "countGenTab(clusterized, 'prediction')"
      ],
      "execution_count": 0,
      "outputs": [
        {
          "output_type": "execute_result",
          "data": {
            "text/html": [
              "<div>\n",
              "<style scoped>\n",
              "    .dataframe tbody tr th:only-of-type {\n",
              "        vertical-align: middle;\n",
              "    }\n",
              "\n",
              "    .dataframe tbody tr th {\n",
              "        vertical-align: top;\n",
              "    }\n",
              "\n",
              "    .dataframe thead th {\n",
              "        text-align: right;\n",
              "    }\n",
              "</style>\n",
              "<table border=\"1\" class=\"dataframe\">\n",
              "  <thead>\n",
              "    <tr style=\"text-align: right;\">\n",
              "      <th></th>\n",
              "      <th>prediction</th>\n",
              "      <th>count</th>\n",
              "      <th>prop</th>\n",
              "    </tr>\n",
              "  </thead>\n",
              "  <tbody>\n",
              "    <tr>\n",
              "      <th>0</th>\n",
              "      <td>0</td>\n",
              "      <td>44305</td>\n",
              "      <td>44.87</td>\n",
              "    </tr>\n",
              "    <tr>\n",
              "      <th>1</th>\n",
              "      <td>1</td>\n",
              "      <td>22735</td>\n",
              "      <td>23.02</td>\n",
              "    </tr>\n",
              "    <tr>\n",
              "      <th>2</th>\n",
              "      <td>4</td>\n",
              "      <td>14306</td>\n",
              "      <td>14.49</td>\n",
              "    </tr>\n",
              "    <tr>\n",
              "      <th>3</th>\n",
              "      <td>3</td>\n",
              "      <td>9244</td>\n",
              "      <td>9.36</td>\n",
              "    </tr>\n",
              "    <tr>\n",
              "      <th>4</th>\n",
              "      <td>2</td>\n",
              "      <td>8152</td>\n",
              "      <td>8.26</td>\n",
              "    </tr>\n",
              "  </tbody>\n",
              "</table>\n",
              "</div>"
            ],
            "text/plain": [
              "   prediction  count   prop\n",
              "0           0  44305  44.87\n",
              "1           1  22735  23.02\n",
              "2           4  14306  14.49\n",
              "3           3   9244   9.36\n",
              "4           2   8152   8.26"
            ]
          },
          "metadata": {
            "tags": []
          },
          "execution_count": 14
        }
      ]
    },
    {
      "cell_type": "markdown",
      "metadata": {
        "id": "C4FjoJMXRLvC",
        "colab_type": "text"
      },
      "source": [
        "# Gradient-boosted tree classifier"
      ]
    },
    {
      "cell_type": "code",
      "metadata": {
        "id": "Fpg4z-UKybnK",
        "colab_type": "code",
        "colab": {}
      },
      "source": [
        "# import \n",
        "from pyspark.ml import Pipeline\n",
        "from pyspark.ml.classification import GBTClassifier\n",
        "from pyspark.ml.feature import StringIndexer, VectorIndexer\n",
        "from pyspark.ml.evaluation import MulticlassClassificationEvaluator\n",
        "from pyspark.mllib.evaluation import MulticlassMetrics"
      ],
      "execution_count": 0,
      "outputs": []
    },
    {
      "cell_type": "code",
      "metadata": {
        "id": "UtObDNHax9Ps",
        "colab_type": "code",
        "colab": {}
      },
      "source": [
        "clusters = [0, 1, 2, 3, 4]\n",
        "\n",
        "list_accuracy =[]\n",
        "list_inad = []\n",
        "\n",
        "tp=0\n",
        "tn=0\n",
        "fp=0\n",
        "fn=0\n",
        "\n",
        "for i in clusters:\n",
        "  dt = clusterized.filter(clusterized.prediction == i)\n",
        "  \n",
        "  #======== VECTOR ASSEMBLER\n",
        "\n",
        "  inputcol = ['QTD_SOCIOS', \n",
        "             'log_capital_social', 'log_idade', 'tipo_index', \n",
        "             'natureza_socied_limitada', 'natureza_empresario_indiv',\n",
        "             'situacao_ativa',\n",
        "             'situacao_baixada', 'UF_encoded', 'pop',\n",
        "             'municipio_metropolitano','dist_capital','area_municipio',\n",
        "             'taxa_atividade_18anosmais','porcent_pop_saneamento',\n",
        "             'porcent_mulheres10a17_filhos','mortalidade_infantil','IDHM',\n",
        "             'IDHM_renda','taxa_analfabet','porcent_pobres']\n",
        "\n",
        "  assembler = VectorAssembler(\n",
        "      inputCols = inputcol,\n",
        "      outputCol = \"features\",\n",
        "      handleInvalid='skip')\n",
        "\n",
        "  dt = dt.drop('features', 'prediction')\n",
        "\n",
        "  dataModel = assembler.transform(dt)\n",
        "\n",
        "  dataModel = dataModel.withColumnRenamed('CS_ALVO', 'label')\n",
        "\n",
        "  dataModel = dataModel.select('features', 'label')\n",
        "  \n",
        "  # Split the data into training and test sets (30% held out for testing)\n",
        "  (trainingData, testData) = dataModel.randomSplit([0.7, 0.3])\n",
        "  \n",
        "  \n",
        "  #=========== GBT MODEL\n",
        "  \n",
        "  gbt = GBTClassifier(labelCol=\"label\", featuresCol=\"features\", maxIter=10)\n",
        "\n",
        "  # Train model. \n",
        "  model = gbt.fit(trainingData)\n",
        "\n",
        "  # Make predictions.\n",
        "  predictions = model.transform(testData)\n",
        "  \n",
        "  #============ EVALUATE\n",
        "\n",
        "  # Select (prediction, true label) and compute test error\n",
        "  evaluator = MulticlassClassificationEvaluator(\n",
        "      labelCol=\"label\", predictionCol=\"prediction\", metricName=\"accuracy\")\n",
        "  accuracy = evaluator.evaluate(predictions)\n",
        "  \n",
        "  list_accuracy.append(accuracy)\n",
        "  \n",
        "  teste = predictions.select('label', 'rawPrediction',\n",
        "                          'prediction', 'probability').sort(SF.col(\"probability\").desc()).limit(6527)\n",
        "\n",
        "  inad = teste.where(SF.col('label')==1).count()/(dataModel.count()*0.1)*100\n",
        "\n",
        "  list_inad.append(inad)\n",
        "  \n",
        "  #============ EVAL 2\n",
        "  \n",
        "  pred = predictions.select('prediction', 'label')\n",
        "  \n",
        "  tp = tp + pred[(pred.label == 1) & (pred.prediction == 1)].count()\n",
        "  tn = tn + pred[(pred.label == 0) & (pred.prediction == 0)].count()\n",
        "  fp = fp + pred[(pred.label == 0) & (pred.prediction == 1)].count()\n",
        "  fn = fn + pred[(pred.label == 1) & (pred.prediction == 0)].count()\n",
        "  \n",
        "  "
      ],
      "execution_count": 0,
      "outputs": []
    },
    {
      "cell_type": "code",
      "metadata": {
        "id": "e4zRBcZS4kCi",
        "colab_type": "code",
        "outputId": "e3a5c424-28b2-4da2-f7ce-ecf6ec71d3c3",
        "colab": {
          "base_uri": "https://localhost:8080/",
          "height": 35
        }
      },
      "source": [
        "# ACCURACY\n",
        "sum(list_accuracy) / float(len(list_accuracy))"
      ],
      "execution_count": 0,
      "outputs": [
        {
          "output_type": "execute_result",
          "data": {
            "text/plain": [
              "0.6429053867214456"
            ]
          },
          "metadata": {
            "tags": []
          },
          "execution_count": 17
        }
      ]
    },
    {
      "cell_type": "code",
      "metadata": {
        "id": "B7EY5BrQ4wFF",
        "colab_type": "code",
        "outputId": "2e54e14c-ebf7-428f-e204-129ff79b83cc",
        "colab": {
          "base_uri": "https://localhost:8080/",
          "height": 35
        }
      },
      "source": [
        "# INAD\n",
        "sum(list_inad) / float(len(list_inad))"
      ],
      "execution_count": 0,
      "outputs": [
        {
          "output_type": "execute_result",
          "data": {
            "text/plain": [
              "141.6639170010946"
            ]
          },
          "metadata": {
            "tags": []
          },
          "execution_count": 18
        }
      ]
    },
    {
      "cell_type": "code",
      "metadata": {
        "id": "pcAmd60P40Oq",
        "colab_type": "code",
        "outputId": "e3b1fdae-7b80-4348-d6da-663c38da7e24",
        "colab": {
          "base_uri": "https://localhost:8080/",
          "height": 125
        }
      },
      "source": [
        "print(\"True Positives: %f\" % tp)\n",
        "print(\"True Negatives: %f\" % tn)\n",
        "print(\"False Positives: %f\" % fp)\n",
        "print(\"False Negatives: %f\" % fn)\n",
        "\n",
        "r = float(tp)/(tp + fn)\n",
        "print(\"recall %f\" % r)\n",
        "\n",
        "p = float(tp) / (tp + fp)\n",
        "print(\"precision %f\" % p)"
      ],
      "execution_count": 0,
      "outputs": [
        {
          "output_type": "stream",
          "text": [
            "True Positives: 10678.000000\n",
            "True Negatives: 8126.000000\n",
            "False Positives: 6127.000000\n",
            "False Negatives: 4717.000000\n",
            "recall 0.693602\n",
            "precision 0.635406\n"
          ],
          "name": "stdout"
        }
      ]
    },
    {
      "cell_type": "code",
      "metadata": {
        "colab_type": "code",
        "id": "o2WJGq5W7C1e",
        "outputId": "946c9eb0-7d53-4321-c115-1a05289ddb2b",
        "colab": {
          "base_uri": "https://localhost:8080/",
          "height": 91
        }
      },
      "source": [
        "print(clusters)\n",
        "print(list_accuracy)\n",
        "print(list_inad)"
      ],
      "execution_count": 0,
      "outputs": [
        {
          "output_type": "stream",
          "text": [
            "[0, 1, 2, 3, 4]\n",
            "[0.6290952810339645, 0.6189359519273047, 0.6558521560574949, 0.6743432889528608, 0.6363002556356031]\n",
            "[53.06398826317571, 138.94875742247638, 173.45436702649656, 175.78970142795325, 167.06277086537116]\n"
          ],
          "name": "stdout"
        }
      ]
    }
  ]
}