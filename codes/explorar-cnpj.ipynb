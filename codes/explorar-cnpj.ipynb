{
 "cells": [
  {
   "cell_type": "markdown",
   "metadata": {},
   "source": [
    "## Importar pacotes e configurar SPARK"
   ]
  },
  {
   "cell_type": "code",
   "execution_count": 1,
   "metadata": {},
   "outputs": [
    {
     "name": "stdout",
     "output_type": "stream",
     "text": [
      "Welcome to\n",
      "      ____              __\n",
      "     / __/__  ___ _____/ /__\n",
      "    _\\ \\/ _ \\/ _ `/ __/  '_/\n",
      "   /__ / .__/\\_,_/_/ /_/\\_\\   version 2.4.3\n",
      "      /_/\n",
      "\n",
      "Using Python version 3.6.8 (default, Jan 14 2019 11:02:34)\n",
      "SparkSession available as 'spark'.\n"
     ]
    }
   ],
   "source": [
    "import os\n",
    "\n",
    "# paths to spark and python3\n",
    "os.environ['PYSPARK_SUBMIT_ARGS'] = '--executor-memory 1G pyspark-shell'\n",
    "os.environ[\"SPARK_HOME\"] = \"/home/pacha/spark\"\n",
    "os.environ[\"PYSPARK_PYTHON\"]=\"/usr/bin/python3\"\n",
    "\n",
    "# execute PYSPARK\n",
    "exec(open('/home/pacha/spark/python/pyspark/shell.py').read())\n",
    "\n",
    "# importar pacotes\n",
    "from pyspark.sql import functions as SF\n",
    "import pyspark.sql.types as ST\n",
    "from pyspark.sql.functions import udf"
   ]
  },
  {
   "cell_type": "markdown",
   "metadata": {},
   "source": [
    "## Importar e tratar dados"
   ]
  },
  {
   "cell_type": "code",
   "execution_count": 2,
   "metadata": {},
   "outputs": [],
   "source": [
    "df = spark.read.csv('BASE_JUR001.csv',\n",
    "                    sep='\\t',\n",
    "                    encoding='utf-8',\n",
    "                    header=True,\n",
    "                    inferSchema=False)"
   ]
  },
  {
   "cell_type": "code",
   "execution_count": 15,
   "metadata": {},
   "outputs": [],
   "source": [
    "# Tratar inicio do CNPJ sem 0\n",
    "@SF.udf('string')\n",
    "def fillCNPJ(value):\n",
    "    aux = '00000000000000' + value\n",
    "    return aux[len(value):]\n",
    "\n",
    "cursor = cursor.withColumn('CNPJ', fillCNPJ('CNPJ'))"
   ]
  },
  {
   "cell_type": "code",
   "execution_count": 4,
   "metadata": {},
   "outputs": [],
   "source": [
    "# criar base CURSOR e base sem duplicados\n",
    "cursor = df.dropDuplicates(['CNPJ'])"
   ]
  },
  {
   "cell_type": "code",
   "execution_count": 17,
   "metadata": {},
   "outputs": [
    {
     "name": "stdout",
     "output_type": "stream",
     "text": [
      "+--------------------+\n",
      "|            REF_DATE|\n",
      "+--------------------+\n",
      "|2018-08-28T10:01:...|\n",
      "|2018-10-26T14:12:...|\n",
      "|2018-08-24T06:02:...|\n",
      "|2018-08-28T13:05:...|\n",
      "|2018-08-28T13:53:...|\n",
      "|2018-08-28T14:50:...|\n",
      "|2018-10-31T17:56:...|\n",
      "|2018-08-28T15:31:...|\n",
      "|2018-08-28T15:41:...|\n",
      "|2018-09-07T06:33:...|\n",
      "+--------------------+\n",
      "only showing top 10 rows\n",
      "\n"
     ]
    }
   ],
   "source": [
    "cursor.select('REF_DATE').show(10)"
   ]
  },
  {
   "cell_type": "code",
   "execution_count": 19,
   "metadata": {},
   "outputs": [
    {
     "name": "stdout",
     "output_type": "stream",
     "text": [
      "+-------------------+\n",
      "|               data|\n",
      "+-------------------+\n",
      "|2018-08-28 07:01:57|\n",
      "|2018-10-26 11:12:35|\n",
      "|2018-08-24 03:02:06|\n",
      "|2018-08-28 10:05:03|\n",
      "|2018-08-28 10:53:36|\n",
      "+-------------------+\n",
      "only showing top 5 rows\n",
      "\n"
     ]
    }
   ],
   "source": [
    "# tratar timestamp\n",
    "cursor = cursor.withColumn('data',SF.to_timestamp(df['REF_DATE']))"
   ]
  },
  {
   "cell_type": "markdown",
   "metadata": {},
   "source": [
    "### 1 e 2. Número de emails/Telefones"
   ]
  },
  {
   "cell_type": "code",
   "execution_count": 5,
   "metadata": {},
   "outputs": [
    {
     "name": "stdout",
     "output_type": "stream",
     "text": [
      "+-------+--------------------+--------------------+--------------+--------------+\n",
      "|summary|                CNPJ|               EMAIL|    TELEFONE_1|    TELEFONE_2|\n",
      "+-------+--------------------+--------------------+--------------+--------------+\n",
      "|  count|              214685|              131687|        174193|         48828|\n",
      "|   mean|2.137532510591555...|                 0.0|          null|          null|\n",
      "| stddev|1.900184742990202...|                 0.0|          null|          null|\n",
      "|    min|      00000703000110|'jane@pizza1.com.br'|      () 3621-|  () 1299-6380|\n",
      "|    max|      98714462000175|  zzgomes@bol.com.br|(99) 9999-9999|(99) 9999-9999|\n",
      "+-------+--------------------+--------------------+--------------+--------------+\n",
      "\n"
     ]
    }
   ],
   "source": [
    "df.select('CNPJ','EMAIL', 'TELEFONE_1', 'TELEFONE_2').describe().show()"
   ]
  },
  {
   "cell_type": "code",
   "execution_count": 6,
   "metadata": {},
   "outputs": [
    {
     "name": "stdout",
     "output_type": "stream",
     "text": [
      "+--------------+-----------+---------------+---------------+\n",
      "|          CNPJ|email_count|telefone1_count|telefone2_count|\n",
      "+--------------+-----------+---------------+---------------+\n",
      "|00182140000128|          1|              0|              1|\n",
      "|00231887000129|          1|              0|              0|\n",
      "|00256837000104|          1|              0|              0|\n",
      "|00501368000133|          0|              0|              0|\n",
      "|00560191000146|          1|              1|              1|\n",
      "|00642972000180|          0|              0|              0|\n",
      "|00663069000103|          0|              0|              0|\n",
      "|00691020000156|          0|              0|              0|\n",
      "|00701583000188|          1|              0|              1|\n",
      "|00844020000149|          1|              0|              1|\n",
      "+--------------+-----------+---------------+---------------+\n",
      "only showing top 10 rows\n",
      "\n"
     ]
    }
   ],
   "source": [
    "# agrupar telefone1, telefone 2 e email por CNPJ\n",
    "dfg = (\n",
    "    cursor.groupBy('CNPJ').agg({\n",
    "    'EMAIL' : 'count',\n",
    "    'TELEFONE_1': 'count',\n",
    "    'TELEFONE_2': 'count'}).toDF('CNPJ', 'email_count', 'telefone1_count', 'telefone2_count')\n",
    "\n",
    ")\n",
    "dfg.show(10)"
   ]
  },
  {
   "cell_type": "code",
   "execution_count": 7,
   "metadata": {},
   "outputs": [
    {
     "name": "stdout",
     "output_type": "stream",
     "text": [
      "+--------------+-----------+---------------+---------------+------------+\n",
      "|          CNPJ|email_count|telefone1_count|telefone2_count|telefone_num|\n",
      "+--------------+-----------+---------------+---------------+------------+\n",
      "|00182140000128|          1|              0|              1|           1|\n",
      "|00231887000129|          1|              0|              0|           0|\n",
      "|00256837000104|          1|              0|              0|           0|\n",
      "|00501368000133|          0|              0|              0|           0|\n",
      "|00560191000146|          1|              1|              1|           2|\n",
      "|00642972000180|          0|              0|              0|           0|\n",
      "|00663069000103|          0|              0|              0|           0|\n",
      "|00691020000156|          0|              0|              0|           0|\n",
      "|00701583000188|          1|              0|              1|           1|\n",
      "|00844020000149|          1|              0|              1|           1|\n",
      "+--------------+-----------+---------------+---------------+------------+\n",
      "only showing top 10 rows\n",
      "\n"
     ]
    }
   ],
   "source": [
    "# somar colunas telefone\n",
    "dfg = dfg.withColumn('telefone_num', SF.col('telefone1_count') + SF.col('telefone2_count'))\n",
    "dfg.show(10)"
   ]
  },
  {
   "cell_type": "markdown",
   "metadata": {},
   "source": [
    "### 3. Número de Filiais"
   ]
  },
  {
   "cell_type": "code",
   "execution_count": 8,
   "metadata": {},
   "outputs": [],
   "source": [
    "# funcao para selecionar 8 primeiros digitos\n",
    "@SF.udf(ST.StringType())\n",
    "def selectNumString(stringui, num):\n",
    "    selecao = stringui[:num]\n",
    "    return selecao\n",
    "\n",
    "# criar coluna com 8 primeiros digitos\n",
    "cursor = cursor.withColumn('grupo_empresarial', selectNumString(df.CNPJ, SF.lit(8) ))"
   ]
  },
  {
   "cell_type": "code",
   "execution_count": 9,
   "metadata": {},
   "outputs": [
    {
     "name": "stdout",
     "output_type": "stream",
     "text": [
      "+-----------------+-----------------+\n",
      "|grupo_empresarial|numero_de_filiais|\n",
      "+-----------------+-----------------+\n",
      "|         10906560|                1|\n",
      "|         10827622|                1|\n",
      "|         05306058|                1|\n",
      "|         30645523|                1|\n",
      "|         24481801|                1|\n",
      "|         15913798|                1|\n",
      "|         28882940|                1|\n",
      "|         24820304|                1|\n",
      "|         19581877|                1|\n",
      "|         81519308|                1|\n",
      "+-----------------+-----------------+\n",
      "only showing top 10 rows\n",
      "\n"
     ]
    }
   ],
   "source": [
    "# agrupar numero de CNPJ por grupo empresarial\n",
    "grupodf = (\n",
    "    cursor.groupby('grupo_empresarial').agg({'*': 'count'})\n",
    "        .toDF('grupo_empresarial', 'numero_de_filiais')\n",
    ")\n",
    "grupodf.show(10)"
   ]
  },
  {
   "cell_type": "markdown",
   "metadata": {},
   "source": [
    "### 4. Concentração Empresas por CEP"
   ]
  },
  {
   "cell_type": "code",
   "execution_count": 10,
   "metadata": {},
   "outputs": [],
   "source": [
    "# criar grupo CEP\n",
    "cursor = cursor.withColumn('cep_grupo1', selectNumString(df.CEP, SF.lit(1) ))\n",
    "cursor = cursor.withColumn('cep_grupo5', selectNumString(df.CEP, SF.lit(5) ))"
   ]
  },
  {
   "cell_type": "code",
   "execution_count": 11,
   "metadata": {},
   "outputs": [
    {
     "name": "stdout",
     "output_type": "stream",
     "text": [
      "+--------+----------+----------+\n",
      "|     CEP|cep_grupo1|cep_grupo5|\n",
      "+--------+----------+----------+\n",
      "|60175375|         6|     60175|\n",
      "|44001535|         4|     44001|\n",
      "|14409267|         1|     14409|\n",
      "|13212390|         1|     13212|\n",
      "|02036010|         0|     02036|\n",
      "+--------+----------+----------+\n",
      "only showing top 5 rows\n",
      "\n"
     ]
    }
   ],
   "source": [
    "cursor.select('CEP','cep_grupo1', 'cep_grupo5').show(5)"
   ]
  },
  {
   "cell_type": "code",
   "execution_count": 12,
   "metadata": {},
   "outputs": [
    {
     "name": "stdout",
     "output_type": "stream",
     "text": [
      "+----------+-----------------------+\n",
      "|cep_grupo5|numero_de_empresas_cep5|\n",
      "+----------+-----------------------+\n",
      "|     88140|                      6|\n",
      "|     88311|                     10|\n",
      "|     13610|                     21|\n",
      "|     05422|                     73|\n",
      "|     80820|                      5|\n",
      "|     26112|                      9|\n",
      "|     18130|                     21|\n",
      "|     91910|                     29|\n",
      "|     60822|                     21|\n",
      "|     02053|                      7|\n",
      "+----------+-----------------------+\n",
      "only showing top 10 rows\n",
      "\n"
     ]
    }
   ],
   "source": [
    "# agrupar numero de CNPJ por CEPgrupo\n",
    "CEPdf = (\n",
    "    cursor.groupby('cep_grupo5').agg({'*': 'count'})\n",
    "       .toDF('cep_grupo5', 'numero_de_empresas_cep5')\n",
    ")\n",
    "CEPdf.show(10)"
   ]
  },
  {
   "cell_type": "markdown",
   "metadata": {},
   "source": [
    "## Combinar bases"
   ]
  },
  {
   "cell_type": "code",
   "execution_count": 13,
   "metadata": {},
   "outputs": [],
   "source": [
    "# mergir com base cursor\n",
    "cursor = cursor.join(grupodf, ['grupo_empresarial'], 'left')\n",
    "cursor = cursor.join(CEPdf, ['cep_grupo5'], 'left')\n",
    "cursor = cursor.join(dfg, ['CNPJ'])"
   ]
  },
  {
   "cell_type": "code",
   "execution_count": 14,
   "metadata": {},
   "outputs": [
    {
     "name": "stdout",
     "output_type": "stream",
     "text": [
      "+--------------+-----------------+-----------+------------+-----------------+-----------------------+\n",
      "|          CNPJ|grupo_empresarial|email_count|telefone_num|numero_de_filiais|numero_de_empresas_cep5|\n",
      "+--------------+-----------------+-----------+------------+-----------------+-----------------------+\n",
      "|00182140000128|         00182140|          1|           1|                1|                     34|\n",
      "|00231887000129|         00231887|          1|           0|                1|                     21|\n",
      "|00256837000104|         00256837|          1|           0|                1|                     17|\n",
      "|00501368000133|         00501368|          0|           0|                1|                     64|\n",
      "|00560191000146|         00560191|          1|           2|                1|                     11|\n",
      "|00642972000180|         00642972|          0|           0|                1|                     42|\n",
      "|00663069000103|         00663069|          0|           0|                1|                     50|\n",
      "|00691020000156|         00691020|          0|           0|                1|                     13|\n",
      "|00701583000188|         00701583|          1|           1|                1|                      7|\n",
      "|00844020000149|         00844020|          1|           1|                1|                     18|\n",
      "+--------------+-----------------+-----------+------------+-----------------+-----------------------+\n",
      "only showing top 10 rows\n",
      "\n"
     ]
    }
   ],
   "source": [
    "cursor.select('CNPJ', 'grupo_empresarial','email_count','telefone_num','numero_de_filiais', 'numero_de_empresas_cep5').show(10)"
   ]
  },
  {
   "cell_type": "code",
   "execution_count": null,
   "metadata": {},
   "outputs": [],
   "source": []
  }
 ],
 "metadata": {
  "kernelspec": {
   "display_name": "Python 3",
   "language": "python",
   "name": "python3"
  },
  "language_info": {
   "codemirror_mode": {
    "name": "ipython",
    "version": 3
   },
   "file_extension": ".py",
   "mimetype": "text/x-python",
   "name": "python",
   "nbconvert_exporter": "python",
   "pygments_lexer": "ipython3",
   "version": "3.6.8"
  }
 },
 "nbformat": 4,
 "nbformat_minor": 2
}
