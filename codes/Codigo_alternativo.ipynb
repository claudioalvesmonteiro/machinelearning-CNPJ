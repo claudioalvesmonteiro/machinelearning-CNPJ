{
 "cells": [
  {
   "cell_type": "code",
   "execution_count": 1,
   "metadata": {},
   "outputs": [
    {
     "data": {
      "text/plain": [
       "'\\nMachine Learning para Analise de Dados\\nCESAR Scholl\\nProjeto de analise de credito\\nRecife, 2019\\n\\n\\nEquipe:\\n    Claudio Alves Monteiro\\n    Marcos Antonio Almeida Souto Júnior\\n    Virgínia Heimann\\n    Kayo Renato\\n    Rosely\\n'"
      ]
     },
     "execution_count": 1,
     "metadata": {},
     "output_type": "execute_result"
    }
   ],
   "source": [
    "'''\n",
    "Machine Learning para Analise de Dados\n",
    "CESAR Scholl\n",
    "Projeto de analise de credito\n",
    "Recife, 2019\n",
    "\n",
    "\n",
    "Equipe:\n",
    "    Claudio Alves Monteiro\n",
    "    Marcos Antonio Almeida Souto Júnior\n",
    "    Virgínia Heimann\n",
    "    Kayo Renato\n",
    "    Rosely\n",
    "'''"
   ]
  },
  {
   "cell_type": "code",
   "execution_count": 2,
   "metadata": {},
   "outputs": [],
   "source": [
    "# no Spark SQL importa SparkSession enquanto no RDD importa o SparkContext\n",
    "from pyspark.sql import SparkSession, Row\n",
    "spark = SparkSession.builder.appName(\"SparkSQL\").getOrCreate()\n"
   ]
  },
  {
   "cell_type": "code",
   "execution_count": 3,
   "metadata": {},
   "outputs": [],
   "source": [
    "# import modules\n",
    "import os\n",
    "import pandas as pd\n",
    "from pyspark.sql import functions as SF\n",
    "import pyspark.sql.types as ST\n",
    "\n",
    "# paths to spark and python3\n",
    "os.environ['PYSPARK_SUBMIT_ARGS'] = '--executor-memory 1G pyspark-shell'\n",
    "os.environ[\"SPARK_HOME\"] = \"/home/pacha/spark\"\n",
    "os.environ[\"PYSPARK_PYTHON\"]=\"/usr/bin/python3\""
   ]
  },
  {
   "cell_type": "code",
   "execution_count": 4,
   "metadata": {},
   "outputs": [],
   "source": [
    "# import data\n",
    "\n",
    "df = spark.read.csv('data/BASE_JUR001.csv',\n",
    "                    sep='\\t',\n",
    "                    encoding='utf-8',\n",
    "                    header=True,\n",
    "                    inferSchema=False)\n",
    "\n",
    "\n",
    "df_cursor = spark.read.csv('data/Base_Des-TRN',\n",
    "                    sep='\\t',\n",
    "                    encoding='utf-8',\n",
    "                    header=True,\n",
    "                    inferSchema=False)\n"
   ]
  },
  {
   "cell_type": "code",
   "execution_count": 5,
   "metadata": {},
   "outputs": [
    {
     "name": "stdout",
     "output_type": "stream",
     "text": [
      "+--------------------+------+\n",
      "|   NATUREZA_JURIDICA| count|\n",
      "+--------------------+------+\n",
      "|SOCIEDADE ANONIMA...|   381|\n",
      "|SOCIEDADE EMPRESA...|    14|\n",
      "|         COOPERATIVA|   289|\n",
      "|EMPRESA INDIVIDUA...|     9|\n",
      "|EMPRESARIO (INDIV...| 48218|\n",
      "|SERVICO SOCIAL AU...|    10|\n",
      "|EMPRESA INDIVIDUA...| 14925|\n",
      "|SOCIEDADE EMPRESA...|150601|\n",
      "|SOCIEDADE SIMPLES...|    29|\n",
      "|ORGANIZACAO RELIG...|     2|\n",
      "|SOCIEDADE SIMPLES...|   155|\n",
      "|  ASSOCIACAO PRIVADA|    28|\n",
      "|   ENTIDADE SINDICAL|     7|\n",
      "|SOCIEDADE ANONIMA...|     9|\n",
      "|    FUNDACAO PRIVADA|     8|\n",
      "+--------------------+------+\n",
      "\n",
      "+--------------------+-----+\n",
      "| ATIVIDADE_PRINCIPAL|count|\n",
      "+--------------------+-----+\n",
      "|COMERCIO A VAREJO...|    2|\n",
      "|CORRESPONDENTES D...|    6|\n",
      "|CRIACAO DE PEIXES...|    1|\n",
      "|COMERCIO SOB CONS...|    1|\n",
      "|FABRICACAO DE SUC...|    2|\n",
      "|COMERCIO VAREJIST...|    6|\n",
      "|COMERCIO ATACADIS...|    3|\n",
      "|OPERADORES TURIST...|    4|\n",
      "|COMERCIO ATACADIS...|    2|\n",
      "|ALUGUEL DE MAQUIN...|    2|\n",
      "|INSTALACAO DE POR...|    1|\n",
      "|RECUPERACAO DE MA...|    1|\n",
      "|EXPLORACAO DE JOG...|    1|\n",
      "|LOCACAO DE EMBARC...|    1|\n",
      "|CABELEIREIROS, MA...|   33|\n",
      "|COMERCIO VAREJIST...|    5|\n",
      "|  PROMOCAO DE VENDAS|   44|\n",
      "|OUTRAS SOCIEDADES...|    7|\n",
      "|ATIVIDADES ASSOCI...|    2|\n",
      "|ATIVIDADES DE CON...|   43|\n",
      "|    MARKETING DIRETO|   19|\n",
      "| SERVICOS DOMESTICOS|    4|\n",
      "|    ENSINO DE MUSICA|    3|\n",
      "|IMPRESSAO DE MATE...|    4|\n",
      "|ATIVIDADES DE EXI...|    2|\n",
      "|LOJAS DE DEPARTAM...|   19|\n",
      "|RESTAURANTES E SI...|59709|\n",
      "|ATIVIDADES DE EST...|    9|\n",
      "|SERVICOS DE DUBLAGEM|    1|\n",
      "|COMERCIO VAREJIST...|    4|\n",
      "|OUTRAS OBRAS DE I...|    1|\n",
      "|SERVICOS DE MONTA...|    1|\n",
      "|SERVICOS DE ENGEN...|   11|\n",
      "|TREINAMENTO EM DE...|   20|\n",
      "|ESTAMPARIA E TEXT...|    1|\n",
      "|COMERCIO VAREJIST...|    1|\n",
      "|COMERCIO VAREJIST...|31200|\n",
      "|TRATAMENTO DE DAD...|    5|\n",
      "|FABRICACAO DE FRU...|    1|\n",
      "|COMERCIO VAREJIST...|    3|\n",
      "|ARTES CENICAS, ES...|    8|\n",
      "|FABRICACAO DE LAT...|   21|\n",
      "|COMERCIO VAREJIST...| 3309|\n",
      "|COMERCIO VAREJIST...|    8|\n",
      "|DEPOSITOS DE MERC...|   11|\n",
      "|           CHAVEIROS|    2|\n",
      "|COMERCIO VAREJIST...|    9|\n",
      "|COMERCIO ATACADIS...|   18|\n",
      "|COMERCIO ATACADIS...|    7|\n",
      "|            PEIXARIA|  205|\n",
      "|ATIVIDADES DE APO...|    6|\n",
      "|FABRICACAO DE MAS...|  154|\n",
      "|COMERCIO VAREJIST...|    2|\n",
      "|COMERCIO VAREJIST...|    2|\n",
      "|COMERCIO VAREJIST...|  417|\n",
      "|              MOTEIS|    4|\n",
      "|COMERCIO VAREJIST...|   77|\n",
      "|MANUTENCAO E REPA...|    2|\n",
      "|COMERCIO VAREJIST...|    5|\n",
      "|PENSOES (ALOJAMENTO)|   99|\n",
      "|    EDICAO DE LIVROS|    2|\n",
      "|FABRICACAO DE CON...|    8|\n",
      "|FABRICACAO DE COS...|    1|\n",
      "|PESCA DE PEIXES E...|    1|\n",
      "|FABRICACAO DE BIS...|   13|\n",
      "|EXPLORACAO DE APO...|    2|\n",
      "|ATIVIDADES VETERI...|    2|\n",
      "|COMERCIO VAREJIST...|    2|\n",
      "|COMERCIO ATACADIS...|    2|\n",
      "|CRIACAO DE PEIXES...|    1|\n",
      "|COMERCIO VAREJIST...|    1|\n",
      "|ATIVIDADES DE ORG...|    1|\n",
      "|FABRICACAO DE OLE...|   10|\n",
      "|COMERCIO ATACADIS...|    2|\n",
      "|SERVICOS DE AGRON...|    1|\n",
      "|DESIGN DE INTERIORES|    3|\n",
      "|COMERCIO VAREJIST...|    6|\n",
      "|OUTRAS ATIVIDADES...|    3|\n",
      "|COMERCIO A VAREJO...|    1|\n",
      "|FORNECIMENTO DE A...| 5347|\n",
      "|COMERCIO VAREJIST...|  771|\n",
      "|COMERCIO ATACADIS...|    4|\n",
      "|TRANSPORTE RODOVI...|    3|\n",
      "|COMERCIO VAREJIST...|    3|\n",
      "|LIMPEZA EM PREDIO...|    5|\n",
      "|COMERCIO VAREJIST...|  533|\n",
      "|COMERCIO VAREJIST...|    2|\n",
      "|    PRODUCAO MUSICAL|    6|\n",
      "|COMERCIO VAREJIST...|    1|\n",
      "|EDUCACAO SUPERIOR...|    1|\n",
      "|SERVICOS AMBULANT...|  887|\n",
      "|PREPARACAO DE DOC...|  136|\n",
      "|SERVICOS DE ORGAN...|  140|\n",
      "|FABRICACAO DE MOV...|    2|\n",
      "|FORNECIMENTO E GE...|    1|\n",
      "|ALUGUEL DE OUTRAS...|    6|\n",
      "|ATIVIDADES DE ORG...|    7|\n",
      "|COMERCIO VAREJIST...| 1074|\n",
      "|SERVICOS DE ALIME...|  557|\n",
      "|CORRETAGEM NO ALU...|    3|\n",
      "+--------------------+-----+\n",
      "only showing top 100 rows\n",
      "\n",
      "+----------------------+-----+\n",
      "|ATIVIDADES_SECUNDARIAS|count|\n",
      "+----------------------+-----+\n",
      "|  PADARIA E CONFEIT...|    6|\n",
      "|  CORRESPONDENTES D...|  162|\n",
      "|  COMERCIO VAREJIST...|    1|\n",
      "|  FORNECIMENTO DE A...|    9|\n",
      "|  COMERCIO VAREJIST...|   15|\n",
      "|  COMERCIO ATACADIS...|    2|\n",
      "|  COMERCIO VAREJIST...|   45|\n",
      "|  COMERCIO VAREJIST...|    4|\n",
      "|  COMERCIO VAREJIST...|    1|\n",
      "|  COMERCIO VAREJIST...|    2|\n",
      "|  COMERCIO VAREJIST...|    2|\n",
      "|  FRIGORIFICO - ABA...|    8|\n",
      "|  SERVICOS AMBULANT...|    2|\n",
      "|  FABRICACAO DE SUC...|    1|\n",
      "|  BARES E OUTROS ES...|   11|\n",
      "|  FORNECIMENTO DE A...|    1|\n",
      "|  BARES E OUTROS ES...|    2|\n",
      "|  COMERCIO VAREJIST...|   13|\n",
      "|  RESTAURANTES E SI...|    5|\n",
      "|  COMERCIO VAREJIST...|    1|\n",
      "|  COMERCIO VAREJIST...|    2|\n",
      "|  COMERCIO VAREJIST...|    3|\n",
      "|  PADARIA E CONFEIT...|    2|\n",
      "|  FORNECIMENTO DE A...|    3|\n",
      "|  COMERCIO VAREJIST...|    2|\n",
      "|  COMERCIO VAREJIST...|    2|\n",
      "|  COMERCIO VAREJIST...|    2|\n",
      "|  COMERCIO ATACADIS...|    2|\n",
      "|  COMERCIO ATACADIS...|    2|\n",
      "|  PADARIA E CONFEIT...|    1|\n",
      "|  COMERCIO VAREJIST...|    2|\n",
      "|  COMERCIO VAREJIST...|    3|\n",
      "|  FABRICACAO DE PRO...|    2|\n",
      "|  SERVICOS DE ALIME...|    1|\n",
      "|  COMERCIO VAREJIST...|    4|\n",
      "|  COMERCIO VAREJIST...|    1|\n",
      "|  FABRICACAO DE MAS...|    2|\n",
      "|  COMERCIO VAREJIST...|    2|\n",
      "|  RESTAURANTES E SI...|    4|\n",
      "|  COMERCIO VAREJIST...|    3|\n",
      "|  COMERCIO VAREJIST...|    1|\n",
      "|  COMERCIO VAREJIST...|    2|\n",
      "|  COMERCIO VAREJIST...|    4|\n",
      "|  PEIXARIA,COMERCIO...|    2|\n",
      "|  SERVICOS DE ALIME...|    1|\n",
      "|  PADARIA E CONFEIT...|    4|\n",
      "|  TRANSPORTE RODOVI...|    1|\n",
      "|  COMERCIO VAREJIST...|    4|\n",
      "|  PADARIA E CONFEIT...|    1|\n",
      "|  COMERCIO VAREJIST...|    3|\n",
      "|  SERVICOS DE ORGAN...|    2|\n",
      "|  PADARIA E CONFEIT...|    2|\n",
      "|  COMERCIO VAREJIST...|    2|\n",
      "|  COMERCIO VAREJIST...|    3|\n",
      "|  RESTAURANTES E SI...|    1|\n",
      "|  RESTAURANTES E SI...|    3|\n",
      "|  PADARIA E CONFEIT...|    2|\n",
      "|  COMERCIO ATACADIS...|    3|\n",
      "|  COMERCIO VAREJIST...|    4|\n",
      "|  COMERCIO VAREJIST...|    1|\n",
      "|  COMERCIO VAREJIST...|    1|\n",
      "|  COMERCIO VAREJIST...|    2|\n",
      "|  PADARIA E CONFEIT...|    1|\n",
      "|  COMERCIO VAREJIST...|    1|\n",
      "|  COMERCIO VAREJIST...|    1|\n",
      "|  COMERCIO VAREJIST...|    1|\n",
      "|  COMERCIO VAREJIST...|    1|\n",
      "|  COMERCIO VAREJIST...|    4|\n",
      "|  COMERCIO VAREJIST...|    2|\n",
      "|  COMERCIO ATACADIS...|    2|\n",
      "|  FORNECIMENTO DE A...|    1|\n",
      "|  CASAS DE FESTAS E...|    3|\n",
      "|  FABRICACAO DE ALI...|    1|\n",
      "|  COMERCIO VAREJIST...|    1|\n",
      "|  EXPLORACAO DE JOG...|    3|\n",
      "|  COMERCIO VAREJIST...|    1|\n",
      "|  OPERADORES TURIST...|    1|\n",
      "|  PADARIA E CONFEIT...|    1|\n",
      "|  COMERCIO VAREJIST...|    1|\n",
      "|  PADARIA E CONFEIT...|    1|\n",
      "|  COMERCIO VAREJIST...|    2|\n",
      "|  COMERCIO ATACADIS...|    1|\n",
      "|  COMERCIO VAREJIST...|    1|\n",
      "|  PADARIA E CONFEIT...|    1|\n",
      "|  COMERCIO VAREJIST...|    2|\n",
      "|  SERVICOS DE ALIME...|    1|\n",
      "|  PENSOES (ALOJAMEN...|    1|\n",
      "|  COMERCIO VAREJIST...|    1|\n",
      "|  COMERCIO VAREJIST...|    2|\n",
      "|  COMERCIO VAREJIST...|    1|\n",
      "|  COMERCIO VAREJIST...|    2|\n",
      "|  FABRICACAO DE ALI...|    1|\n",
      "|  COMERCIO VAREJIST...|    1|\n",
      "|  COMERCIO VAREJIST...|    1|\n",
      "|  COMERCIO VAREJIST...|    1|\n",
      "|  COMERCIO VAREJIST...|    1|\n",
      "|  COMERCIO VAREJIST...|    2|\n",
      "|  COMERCIO VAREJIST...|    1|\n",
      "|  FORNECIMENTO DE A...|    1|\n",
      "|  COMERCIO VAREJIST...|    1|\n",
      "+----------------------+-----+\n",
      "only showing top 100 rows\n",
      "\n",
      "+------+------+\n",
      "|  TIPO| count|\n",
      "+------+------+\n",
      "|MATRIZ|211342|\n",
      "|FILIAL|  3343|\n",
      "+------+------+\n",
      "\n",
      "+--------------------+------+\n",
      "|               CARGO| count|\n",
      "+--------------------+------+\n",
      "|          PRESIDENTE|   149|\n",
      "|TITULAR PESSOA FI...| 12766|\n",
      "|SOCIO PESSOA FISI...|     5|\n",
      "|             DIRETOR|   513|\n",
      "|                null| 49605|\n",
      "|SOCIO INCAPAZ OU ...|     3|\n",
      "|               SOCIO|143722|\n",
      "|TITULAR PESSOA FI...|     3|\n",
      "|             INVALID|  3606|\n",
      "|   SOCIO COM CAPITAL|     8|\n",
      "|CONSELHEIRO DE AD...|    26|\n",
      "|       ADMINISTRADOR|  2386|\n",
      "| COTAS EM TESOURARIA|    66|\n",
      "|SOCIO OU ACIONIST...|  1773|\n",
      "|SOCIO PESSOA JURI...|    51|\n",
      "|TITULAR PESSOA FI...|     2|\n",
      "|           UNDEFINED|     1|\n",
      "+--------------------+------+\n",
      "\n"
     ]
    }
   ],
   "source": [
    "#=========================#\n",
    "# descriptive statistics\n",
    "#========================#\n",
    "\n",
    "df.groupby('NATUREZA_JURIDICA').count().show(100)\n",
    "\n",
    "df.groupby('ATIVIDADE_PRINCIPAL').count().show(100)\n",
    "\n",
    "df.groupby('ATIVIDADES_SECUNDARIAS').count().show(100)\n",
    "\n",
    "df.groupby('TIPO').count().show(100)\n",
    "\n",
    "df.groupby('CARGO').count().show(100)"
   ]
  },
  {
   "cell_type": "code",
   "execution_count": 6,
   "metadata": {},
   "outputs": [],
   "source": [
    "#------ tratar inicio do CNPJ sem o 0\n",
    "\n",
    "@SF.udf('string')\n",
    "def fill_cnpj(value):\n",
    "    aux = '00000000000000'+value\n",
    "    return aux[len(value):]"
   ]
  },
  {
   "cell_type": "code",
   "execution_count": 7,
   "metadata": {},
   "outputs": [
    {
     "name": "stdout",
     "output_type": "stream",
     "text": [
      "+--------------+--------+-------+\n",
      "|          CNPJ|DATA_REF|CS_ALVO|\n",
      "+--------------+--------+-------+\n",
      "|11507110000160| 2016-10|      0|\n",
      "|15062189000114| 2016-07|      0|\n",
      "|05841171000167| 2016-08|      0|\n",
      "|08792807000116| 2016-08|      0|\n",
      "|24060073000137| 2017-01|      1|\n",
      "+--------------+--------+-------+\n",
      "only showing top 5 rows\n",
      "\n"
     ]
    }
   ],
   "source": [
    "df_cursor = df_cursor.withColumn('CNPJ',fill_cnpj('CNPJ'))\n",
    "df_cursor.show(5)"
   ]
  },
  {
   "cell_type": "code",
   "execution_count": 8,
   "metadata": {},
   "outputs": [],
   "source": [
    "#------ Convertendo REF_DATE do df_cursor para timestamp\n",
    "\n",
    "df_cursor = df_cursor.withColumn('REF_DATE',SF.from_unixtime(\n",
    "            SF.unix_timestamp('DATA_REF','yyyy-MM')).cast('timestamp'))"
   ]
  },
  {
   "cell_type": "code",
   "execution_count": 9,
   "metadata": {},
   "outputs": [
    {
     "name": "stdout",
     "output_type": "stream",
     "text": [
      "+--------------+--------+-------+-------------------+\n",
      "|          CNPJ|DATA_REF|CS_ALVO|           REF_DATE|\n",
      "+--------------+--------+-------+-------------------+\n",
      "|11507110000160| 2016-10|      0|2016-10-01 00:00:00|\n",
      "|15062189000114| 2016-07|      0|2016-07-01 00:00:00|\n",
      "|05841171000167| 2016-08|      0|2016-08-01 00:00:00|\n",
      "|08792807000116| 2016-08|      0|2016-08-01 00:00:00|\n",
      "|24060073000137| 2017-01|      1|2017-01-01 00:00:00|\n",
      "+--------------+--------+-------+-------------------+\n",
      "only showing top 5 rows\n",
      "\n"
     ]
    }
   ],
   "source": [
    "df_cursor.show(5)"
   ]
  },
  {
   "cell_type": "code",
   "execution_count": 10,
   "metadata": {},
   "outputs": [],
   "source": [
    "#------ Convertendo REF_DATE do df para timestamp\n",
    "\n",
    "df = df.withColumn('REF_DATE',SF.col('REF_DATE').cast('timestamp'))"
   ]
  },
  {
   "cell_type": "code",
   "execution_count": 11,
   "metadata": {},
   "outputs": [],
   "source": [
    "df = df.withColumnRenamed('CNPJ','CNPJ_DF').withColumnRenamed('REF_DATE','REF_DATE_DF')"
   ]
  },
  {
   "cell_type": "code",
   "execution_count": 12,
   "metadata": {},
   "outputs": [],
   "source": [
    "#------ Criando o df_base. Aqui foi ignorada a condição de REF_DATE apenas para testes, por que caso contrário não \n",
    "#------ retornaria nenhum valor. QUestionar os professores o que fazer !!!!!\n",
    "\n",
    "'''\n",
    "df_base = df_cursor.join(df,\n",
    "                 (df_cursor['CNPJ']==df['CNPJ_DF']) & \n",
    "                 (df_cursor['REF_DATE'] >= df['REF_DATE_DF']),\n",
    "                 'left')\n",
    "'''\n",
    "\n",
    "df_base = df_cursor.join(df,\n",
    "                 (df_cursor['CNPJ']==df['CNPJ_DF']),\n",
    "                 'left')\n"
   ]
  },
  {
   "cell_type": "code",
   "execution_count": 13,
   "metadata": {
    "scrolled": false
   },
   "outputs": [
    {
     "name": "stdout",
     "output_type": "stream",
     "text": [
      "+--------------+--------+-------+-------------------+--------------+--------------------+--------------------+--------------------+--------------------+----------------------+------------------+------+--------------------+------+-----------+--------------------+--------+----------------+---+----------+----------+--------------------+-------------------+--------------+---------------+--------+-------------------+-----------------+----------------------+----+--------------------+-----+--------------+---------------+-------------------+--------------------+------+----------+-------------+------------+--------------------+----+-----+\n",
      "|          CNPJ|DATA_REF|CS_ALVO|           REF_DATE|       CNPJ_DF|        NOME_EMPRESA|            FANTASIA|   NATUREZA_JURIDICA| ATIVIDADE_PRINCIPAL|ATIVIDADES_SECUNDARIAS|    CNPJ_FORMATADO|  TIPO|          LOGRADOURO|NUMERO|COMPLEMENTO|              BAIRRO|     CEP|       MUNICIPIO| UF|TELEFONE_1|TELEFONE_2|               EMAIL|           ABERTURA|CAPITAL_SOCIAL|MOTIVO_SITUACAO|SITUACAO|      DATA_SITUACAO|SITUACAO_ESPECIAL|DATA_SITUACAO_ESPECIAL| EFR|          NOME_SOCIO|CARGO|NOME_REP_LEGAL|CARGO_REP_LEGAL|        REF_DATE_DF|           LOAD_DATE|STATUS|QUERY_NAME|QUERY_VERSION|QUERY_STATUS|          QUERY_DATE|YEAR|MONTH|\n",
      "+--------------+--------+-------+-------------------+--------------+--------------------+--------------------+--------------------+--------------------+----------------------+------------------+------+--------------------+------+-----------+--------------------+--------+----------------+---+----------+----------+--------------------+-------------------+--------------+---------------+--------+-------------------+-----------------+----------------------+----+--------------------+-----+--------------+---------------+-------------------+--------------------+------+----------+-------------+------------+--------------------+----+-----+\n",
      "|00231887000129| 2017-05|      0|2017-05-01 00:00:00|00231887000129|LANCHONETE TRADIC...|                null|SOCIEDADE EMPRESA...|RESTAURANTES E SI...|         NAO INFORMADA|00.231.887/0001-29|MATRIZ|     R SALES BARBOSA|   225|     TERREO|              CENTRO|44001535|FEIRA DE SANTANA| BA|      null|      null|asficolfiscal@hot...|1994-10-06 00:00:00|      60000.00|           null|   ATIVA|2005-06-11 00:00:00|             null|                  null|null|JOSENILDA ALMEIDA...|SOCIO|          null|           null|2018-10-26 11:12:35|2018-12-13T12:38:...|    OK|    JUR001|        1.0.0|     SUCCESS|2018-12-13T03:07:...|2018|   12|\n",
      "|00231887000129| 2017-05|      0|2017-05-01 00:00:00|00231887000129|LANCHONETE TRADIC...|                null|SOCIEDADE EMPRESA...|RESTAURANTES E SI...|         NAO INFORMADA|00.231.887/0001-29|MATRIZ|     R SALES BARBOSA|   225|     TERREO|              CENTRO|44001535|FEIRA DE SANTANA| BA|      null|      null|asficolfiscal@hot...|1994-10-06 00:00:00|      60000.00|           null|   ATIVA|2005-06-11 00:00:00|             null|                  null|null|JOAQUIM GESSIMO C...|SOCIO|          null|           null|2018-10-26 11:12:35|2018-12-13T12:38:...|    OK|    JUR001|        1.0.0|     SUCCESS|2018-12-13T03:07:...|2018|   12|\n",
      "|00256837000104| 2017-01|      0|2017-01-01 00:00:00|00256837000104|IRMAOS GUALBERTO ...|SABRINA SUPERMERCADO|SOCIEDADE EMPRESA...|COMERCIO VAREJIST...|  COMERCIO VAREJIST...|00.256.837/0001-04|MATRIZ|R JOSE MARIA JACI...|  6180|       null|VILA SANTA TEREZINHA|14409267|          FRANCA| SP|      null|      null|sabrinasupermerca...|1994-10-19 00:00:00|      35000.00|           null|   ATIVA|2000-12-23 00:00:00|             null|                  null|null|GABRIEL GUALBERTO...|SOCIO|          null|           null|2018-08-24 03:02:06|2018-12-10T12:38:...|    OK|    JUR001|        1.0.0|     SUCCESS|2018-12-09T19:46:...|2018|   12|\n",
      "|00256837000104| 2017-01|      0|2017-01-01 00:00:00|00256837000104|IRMAOS GUALBERTO ...|SABRINA SUPERMERCADO|SOCIEDADE EMPRESA...|COMERCIO VAREJIST...|  COMERCIO VAREJIST...|00.256.837/0001-04|MATRIZ|R JOSE MARIA JACI...|  6180|       null|VILA SANTA TEREZINHA|14409267|          FRANCA| SP|      null|      null|sabrinasupermerca...|1994-10-19 00:00:00|      35000.00|           null|   ATIVA|2000-12-23 00:00:00|             null|                  null|null|SABRINA DA SILVA ...|SOCIO|          null|           null|2018-08-24 03:02:06|2018-12-10T12:38:...|    OK|    JUR001|        1.0.0|     SUCCESS|2018-12-09T19:46:...|2018|   12|\n",
      "|00256837000104| 2017-01|      0|2017-01-01 00:00:00|00256837000104|IRMAOS GUALBERTO ...|SABRINA SUPERMERCADO|SOCIEDADE EMPRESA...|COMERCIO VAREJIST...|  COMERCIO VAREJIST...|00.256.837/0001-04|MATRIZ|R JOSE MARIA JACI...|  6180|       null|VILA SANTA TEREZINHA|14409267|          FRANCA| SP|      null|      null|sabrinasupermerca...|1994-10-19 00:00:00|      35000.00|           null|   ATIVA|2000-12-23 00:00:00|             null|                  null|null|DENISE DA SILVA G...|SOCIO|          null|           null|2018-08-24 03:02:06|2018-12-10T12:38:...|    OK|    JUR001|        1.0.0|     SUCCESS|2018-12-09T19:46:...|2018|   12|\n",
      "+--------------+--------+-------+-------------------+--------------+--------------------+--------------------+--------------------+--------------------+----------------------+------------------+------+--------------------+------+-----------+--------------------+--------+----------------+---+----------+----------+--------------------+-------------------+--------------+---------------+--------+-------------------+-----------------+----------------------+----+--------------------+-----+--------------+---------------+-------------------+--------------------+------+----------+-------------+------------+--------------------+----+-----+\n",
      "only showing top 5 rows\n",
      "\n"
     ]
    }
   ],
   "source": [
    "df_base.show(5)"
   ]
  },
  {
   "cell_type": "markdown",
   "metadata": {},
   "source": [
    "<h1>1) Quantidade de EMAILS</h1>"
   ]
  },
  {
   "cell_type": "code",
   "execution_count": 14,
   "metadata": {},
   "outputs": [
    {
     "name": "stdout",
     "output_type": "stream",
     "text": [
      "+--------------+-------------------+---------+\n",
      "|          CNPJ|           REF_DATE|QTD_EMAIL|\n",
      "+--------------+-------------------+---------+\n",
      "|02079245000181|2016-10-01 00:00:00|        1|\n",
      "|17558182000113|2016-10-01 00:00:00|        1|\n",
      "|19375312000108|2016-12-01 00:00:00|        1|\n",
      "|06267716000136|2017-01-01 00:00:00|        1|\n",
      "|04483246000112|2016-12-01 00:00:00|        1|\n",
      "|20106766000162|2016-09-01 00:00:00|        1|\n",
      "|16675505000196|2017-04-01 00:00:00|        1|\n",
      "|21602873000144|2016-11-01 00:00:00|        1|\n",
      "|04542657000131|2017-01-01 00:00:00|        1|\n",
      "|16974905000100|2017-05-01 00:00:00|        1|\n",
      "+--------------+-------------------+---------+\n",
      "only showing top 10 rows\n",
      "\n"
     ]
    }
   ],
   "source": [
    "df_aux = df_base.select('CNPJ','EMAIL','REF_DATE').dropDuplicates().\\\n",
    "            groupBy('CNPJ','REF_DATE').agg(SF.count('EMAIL').alias('QTD_EMAIL')).sort(SF.desc('QTD_EMAIL'))\n",
    "df_aux.show(10)"
   ]
  },
  {
   "cell_type": "code",
   "execution_count": 15,
   "metadata": {},
   "outputs": [
    {
     "name": "stdout",
     "output_type": "stream",
     "text": [
      "+--------------+-------------------+--------+-------+---------+\n",
      "|          CNPJ|           REF_DATE|DATA_REF|CS_ALVO|QTD_EMAIL|\n",
      "+--------------+-------------------+--------+-------+---------+\n",
      "|00004330000155|2016-10-01 00:00:00| 2016-10|      0|        0|\n",
      "|00078090000133|2017-03-01 00:00:00| 2017-03|      0|        0|\n",
      "|00109982000154|2016-09-01 00:00:00| 2016-09|      1|        1|\n",
      "|00281129000115|2017-06-01 00:00:00| 2017-06|      0|        0|\n",
      "|00294916000100|2017-02-01 00:00:00| 2017-02|      0|        0|\n",
      "|00370197000150|2016-11-01 00:00:00| 2016-11|      1|        0|\n",
      "|00711050000187|2016-11-01 00:00:00| 2016-11|      0|        1|\n",
      "|00951519000155|2017-01-01 00:00:00| 2017-01|      0|        0|\n",
      "|00984383000180|2016-09-01 00:00:00| 2016-09|      0|        0|\n",
      "|01013673000149|2017-02-01 00:00:00| 2017-02|      0|        0|\n",
      "|01024580000110|2016-09-01 00:00:00| 2016-09|      0|        0|\n",
      "|01163316000167|2017-01-01 00:00:00| 2017-01|      0|        1|\n",
      "|01252815000120|2016-07-01 00:00:00| 2016-07|      0|        0|\n",
      "|01358637000117|2017-05-01 00:00:00| 2017-05|      0|        0|\n",
      "|01469354000142|2017-01-01 00:00:00| 2017-01|      0|        1|\n",
      "|01689785000114|2017-02-01 00:00:00| 2017-02|      0|        0|\n",
      "|01805386000171|2017-03-01 00:00:00| 2017-03|      0|        0|\n",
      "|01836357001653|2017-04-01 00:00:00| 2017-04|      0|        1|\n",
      "|01864042000133|2017-01-01 00:00:00| 2017-01|      0|        1|\n",
      "|02026313000144|2016-10-01 00:00:00| 2016-10|      0|        0|\n",
      "+--------------+-------------------+--------+-------+---------+\n",
      "only showing top 20 rows\n",
      "\n"
     ]
    }
   ],
   "source": [
    "df_final = df_cursor.join(df_aux,['CNPJ','REF_DATE'],'left')\n",
    "df_final.show()"
   ]
  },
  {
   "cell_type": "markdown",
   "metadata": {},
   "source": [
    "<h1>2) Quantidade de Telefones</h1>"
   ]
  },
  {
   "cell_type": "code",
   "execution_count": 16,
   "metadata": {},
   "outputs": [],
   "source": [
    "df_aux = df_base.select(['CNPJ','REF_DATE','TELEFONE_1','TELEFONE_2']).dropDuplicates()"
   ]
  },
  {
   "cell_type": "code",
   "execution_count": 17,
   "metadata": {},
   "outputs": [
    {
     "name": "stdout",
     "output_type": "stream",
     "text": [
      "+--------------+-------------------+-------------+\n",
      "|          CNPJ|           REF_DATE|QTD_TELEFONES|\n",
      "+--------------+-------------------+-------------+\n",
      "|00231887000129|2017-05-01 00:00:00|            0|\n",
      "|00256837000104|2017-01-01 00:00:00|            0|\n",
      "|00501368000133|2016-09-01 00:00:00|            0|\n",
      "|00560191000146|2017-01-01 00:00:00|            2|\n",
      "|00642972000180|2017-06-01 00:00:00|            0|\n",
      "|00663069000103|2016-07-01 00:00:00|            0|\n",
      "|00691020000156|2017-05-01 00:00:00|            0|\n",
      "|00701583000188|2016-12-01 00:00:00|            1|\n",
      "|00931390000113|2016-07-01 00:00:00|            0|\n",
      "|01276895000154|2017-03-01 00:00:00|            0|\n",
      "|01351627000150|2016-10-01 00:00:00|            0|\n",
      "|01685806000123|2017-04-01 00:00:00|            2|\n",
      "|01716865000111|2016-11-01 00:00:00|            1|\n",
      "|01840520000175|2016-12-01 00:00:00|            0|\n",
      "|01928075000108|2016-08-01 00:00:00|            2|\n",
      "|01940503000100|2016-10-01 00:00:00|            1|\n",
      "|02231876000174|2017-04-01 00:00:00|            1|\n",
      "|02500283000166|2017-02-01 00:00:00|            2|\n",
      "|02739842000195|2017-03-01 00:00:00|            0|\n",
      "|02815876000111|2017-05-01 00:00:00|            0|\n",
      "+--------------+-------------------+-------------+\n",
      "only showing top 20 rows\n",
      "\n"
     ]
    }
   ],
   "source": [
    "df_aux = df_aux.withColumn('QTD_TLF1',SF.when(SF.col('TELEFONE_1').isNotNull(),1).otherwise(0)).\\\n",
    "                withColumn('QTD_TLF2',SF.when(SF.col('TELEFONE_2').isNotNull(),1).otherwise(0)).\\\n",
    "                withColumn('QTD_TELEFONES',SF.col('QTD_TLF1')+SF.col('QTD_TLF2')).\\\n",
    "                groupBy('CNPJ','REF_DATE').agg(SF.sum('QTD_TELEFONES').alias('QTD_TELEFONES'))\n",
    "df_aux.show()"
   ]
  },
  {
   "cell_type": "code",
   "execution_count": 18,
   "metadata": {},
   "outputs": [
    {
     "name": "stdout",
     "output_type": "stream",
     "text": [
      "+--------------+-------------------+--------+-------+---------+-------------+\n",
      "|          CNPJ|           REF_DATE|DATA_REF|CS_ALVO|QTD_EMAIL|QTD_TELEFONES|\n",
      "+--------------+-------------------+--------+-------+---------+-------------+\n",
      "|00004330000155|2016-10-01 00:00:00| 2016-10|      0|        0|            0|\n",
      "|00078090000133|2017-03-01 00:00:00| 2017-03|      0|        0|            1|\n",
      "|00109982000154|2016-09-01 00:00:00| 2016-09|      1|        1|            2|\n",
      "|00281129000115|2017-06-01 00:00:00| 2017-06|      0|        0|            0|\n",
      "|00294916000100|2017-02-01 00:00:00| 2017-02|      0|        0|            0|\n",
      "|00370197000150|2016-11-01 00:00:00| 2016-11|      1|        0|            0|\n",
      "|00711050000187|2016-11-01 00:00:00| 2016-11|      0|        1|            2|\n",
      "|00951519000155|2017-01-01 00:00:00| 2017-01|      0|        0|            0|\n",
      "|00984383000180|2016-09-01 00:00:00| 2016-09|      0|        0|            1|\n",
      "|01013673000149|2017-02-01 00:00:00| 2017-02|      0|        0|            0|\n",
      "|01024580000110|2016-09-01 00:00:00| 2016-09|      0|        0|            0|\n",
      "|01163316000167|2017-01-01 00:00:00| 2017-01|      0|        1|            2|\n",
      "|01252815000120|2016-07-01 00:00:00| 2016-07|      0|        0|            0|\n",
      "|01358637000117|2017-05-01 00:00:00| 2017-05|      0|        0|            0|\n",
      "|01469354000142|2017-01-01 00:00:00| 2017-01|      0|        1|            1|\n",
      "|01689785000114|2017-02-01 00:00:00| 2017-02|      0|        0|            0|\n",
      "|01805386000171|2017-03-01 00:00:00| 2017-03|      0|        0|            0|\n",
      "|01836357001653|2017-04-01 00:00:00| 2017-04|      0|        1|            2|\n",
      "|01864042000133|2017-01-01 00:00:00| 2017-01|      0|        1|            1|\n",
      "|02026313000144|2016-10-01 00:00:00| 2016-10|      0|        0|            0|\n",
      "+--------------+-------------------+--------+-------+---------+-------------+\n",
      "only showing top 20 rows\n",
      "\n"
     ]
    }
   ],
   "source": [
    "df_final = df_final.join(df_aux, ['CNPJ','REF_DATE'], 'left')\n",
    "df_final.show()"
   ]
  },
  {
   "cell_type": "markdown",
   "metadata": {},
   "source": [
    "<h1>3) Classificação por CEP : Região, Subregião, Setor, Subsetor, Divisão de Subsetor e Logradouro</h1>"
   ]
  },
  {
   "cell_type": "code",
   "execution_count": 19,
   "metadata": {},
   "outputs": [],
   "source": [
    "df_aux = df_base.select(['CNPJ', 'REF_DATE','CEP']).dropDuplicates()"
   ]
  },
  {
   "cell_type": "code",
   "execution_count": 20,
   "metadata": {},
   "outputs": [],
   "source": [
    "df_aux = df_aux.withColumn('REGIAO',SF.col('CEP').substr(1, 1)).\\\n",
    "         withColumn('SUBREGIAO',SF.col('CEP').substr(2, 1)).\\\n",
    "         withColumn('SETOR',SF.col('CEP').substr(3, 1)).\\\n",
    "         withColumn('SUBSETOR',SF.col('CEP').substr(4, 1)).\\\n",
    "         withColumn('DIV_SUBSETOR',SF.col('CEP').substr(5, 1)).\\\n",
    "         withColumn('LOGRADOURO',SF.col('CEP').substr(6, 3)).\\\n",
    "         drop('CEP')"
   ]
  },
  {
   "cell_type": "code",
   "execution_count": 21,
   "metadata": {},
   "outputs": [
    {
     "name": "stdout",
     "output_type": "stream",
     "text": [
      "+--------------+-------------------+------+---------+-----+--------+------------+----------+\n",
      "|          CNPJ|           REF_DATE|REGIAO|SUBREGIAO|SETOR|SUBSETOR|DIV_SUBSETOR|LOGRADOURO|\n",
      "+--------------+-------------------+------+---------+-----+--------+------------+----------+\n",
      "|24168501000140|2017-03-01 00:00:00|     1|        4|    8|       0|           0|       370|\n",
      "|07488555000173|2016-12-01 00:00:00|     3|        8|    4|       1|           1|       120|\n",
      "|13378985000135|2016-11-01 00:00:00|     0|        3|    1|       7|           8|       000|\n",
      "|03058631000150|2016-11-01 00:00:00|     8|        5|    9|       8|           0|       000|\n",
      "|20447042000182|2017-01-01 00:00:00|     8|        8|    0|       4|           0|       445|\n",
      "|15110694000197|2017-02-01 00:00:00|     9|        4|    9|       3|           0|       075|\n",
      "|13002350000139|2017-02-01 00:00:00|     8|        0|    0|       3|           5|       000|\n",
      "|27554813000180|2016-09-01 00:00:00|     0|        5|    4|       3|           4|       020|\n",
      "|11927674000152|2017-04-01 00:00:00|     4|        5|    8|       2|           4|       015|\n",
      "|10602618000185|2017-05-01 00:00:00|     4|        1|    8|       2|           0|       908|\n",
      "|23889879000170|2016-08-01 00:00:00|     3|        2|    1|       5|           0|       193|\n",
      "|21151493000130|2016-09-01 00:00:00|     3|        0|    3|       9|           0|       210|\n",
      "|04674284000152|2017-05-01 00:00:00|     4|        1|    8|       1|           0|       001|\n",
      "|19900649000197|2016-08-01 00:00:00|     8|        5|    6|       0|           5|       430|\n",
      "|07486885000120|2017-01-01 00:00:00|     2|        2|    7|       5|           3|       033|\n",
      "|04665354000106|2017-05-01 00:00:00|     0|        1|    3|       1|           9|       010|\n",
      "|14730420000138|2016-10-01 00:00:00|     0|        9|    7|       5|           1|       250|\n",
      "|09062469000120|2017-03-01 00:00:00|     1|        5|    0|       1|           5|       020|\n",
      "|02673239000158|2016-10-01 00:00:00|     5|        8|    1|       0|           4|       513|\n",
      "|03767271000165|2017-01-01 00:00:00|     1|        3|    0|       1|           3|       080|\n",
      "+--------------+-------------------+------+---------+-----+--------+------------+----------+\n",
      "only showing top 20 rows\n",
      "\n"
     ]
    }
   ],
   "source": [
    "df_aux.show()"
   ]
  },
  {
   "cell_type": "code",
   "execution_count": 22,
   "metadata": {},
   "outputs": [
    {
     "name": "stdout",
     "output_type": "stream",
     "text": [
      "+--------------+-------------------+--------+-------+---------+-------------+------+---------+-----+--------+------------+----------+\n",
      "|          CNPJ|           REF_DATE|DATA_REF|CS_ALVO|QTD_EMAIL|QTD_TELEFONES|REGIAO|SUBREGIAO|SETOR|SUBSETOR|DIV_SUBSETOR|LOGRADOURO|\n",
      "+--------------+-------------------+--------+-------+---------+-------------+------+---------+-----+--------+------------+----------+\n",
      "|00004330000155|2016-10-01 00:00:00| 2016-10|      0|        0|            0|     1|        3|    0|       9|           2|       500|\n",
      "|00078090000133|2017-03-01 00:00:00| 2017-03|      0|        0|            1|     9|        1|    2|       6|           0|       000|\n",
      "|00109982000154|2016-09-01 00:00:00| 2016-09|      1|        1|            2|     1|        1|    4|       4|           6|       130|\n",
      "|00281129000115|2017-06-01 00:00:00| 2017-06|      0|        0|            0|     0|        3|    2|       2|           1|       200|\n",
      "|00294916000100|2017-02-01 00:00:00| 2017-02|      0|        0|            0|     0|        3|    3|       6|           1|       000|\n",
      "|00370197000150|2016-11-01 00:00:00| 2016-11|      1|        0|            0|     7|        0|    3|       5|           1|       535|\n",
      "|00711050000187|2016-11-01 00:00:00| 2016-11|      0|        1|            2|     3|        1|    7|       4|           2|       173|\n",
      "|00951519000155|2017-01-01 00:00:00| 2017-01|      0|        0|            0|     1|        3|    5|       7|           5|       170|\n",
      "|00984383000180|2016-09-01 00:00:00| 2016-09|      0|        0|            1|     8|        5|    6|       6|           0|       000|\n",
      "|01013673000149|2017-02-01 00:00:00| 2017-02|      0|        0|            0|     2|        2|    4|       4|           0|       032|\n",
      "|01024580000110|2016-09-01 00:00:00| 2016-09|      0|        0|            0|     0|        8|    5|       8|           7|       000|\n",
      "|01163316000167|2017-01-01 00:00:00| 2017-01|      0|        1|            2|     0|        5|    1|       8|           7|       010|\n",
      "|01252815000120|2016-07-01 00:00:00| 2016-07|      0|        0|            0|     3|        2|    6|       5|           3|       370|\n",
      "|01358637000117|2017-05-01 00:00:00| 2017-05|      0|        0|            0|     1|        3|    0|       6|           1|       083|\n",
      "|01469354000142|2017-01-01 00:00:00| 2017-01|      0|        1|            1|     1|        4|    3|       4|           0|       000|\n",
      "|01689785000114|2017-02-01 00:00:00| 2017-02|      0|        0|            0|     7|        5|    9|       5|           5|       000|\n",
      "|01805386000171|2017-03-01 00:00:00| 2017-03|      0|        0|            0|     3|        5|    7|       0|           0|       049|\n",
      "|01836357001653|2017-04-01 00:00:00| 2017-04|      0|        1|            2|     1|        1|    4|       1|           0|       222|\n",
      "|01864042000133|2017-01-01 00:00:00| 2017-01|      0|        1|            1|     3|        0|    8|       6|           5|       000|\n",
      "|02026313000144|2016-10-01 00:00:00| 2016-10|      0|        0|            0|     3|        7|    9|       7|           5|       000|\n",
      "+--------------+-------------------+--------+-------+---------+-------------+------+---------+-----+--------+------------+----------+\n",
      "only showing top 20 rows\n",
      "\n"
     ]
    }
   ],
   "source": [
    "df_final = df_final.join(df_aux, ['CNPJ','REF_DATE'], 'left')\n",
    "df_final.show()"
   ]
  },
  {
   "cell_type": "markdown",
   "metadata": {},
   "source": [
    "<h1>4) Quantidade de Sócios</h1>"
   ]
  },
  {
   "cell_type": "code",
   "execution_count": 23,
   "metadata": {},
   "outputs": [
    {
     "name": "stdout",
     "output_type": "stream",
     "text": [
      "+--------------+-------------------+----------+\n",
      "|          CNPJ|           REF_DATE|QTD_SOCIOS|\n",
      "+--------------+-------------------+----------+\n",
      "|31130537000280|2016-10-01 00:00:00|        35|\n",
      "|10297699000238|2017-04-01 00:00:00|        34|\n",
      "|09456178000116|2016-09-01 00:00:00|        20|\n",
      "|61087367000189|2017-03-01 00:00:00|        19|\n",
      "|04907334000102|2016-09-01 00:00:00|        19|\n",
      "|09643807000117|2017-04-01 00:00:00|        18|\n",
      "|10392044000168|2017-01-01 00:00:00|        17|\n",
      "|75492694000392|2016-11-01 00:00:00|        16|\n",
      "|48093892000149|2016-11-01 00:00:00|        16|\n",
      "|09541072000110|2017-04-01 00:00:00|        15|\n",
      "+--------------+-------------------+----------+\n",
      "only showing top 10 rows\n",
      "\n"
     ]
    }
   ],
   "source": [
    "df_aux = df_base.select('CNPJ','NOME_SOCIO','REF_DATE').dropDuplicates().\\\n",
    "            groupBy('CNPJ','REF_DATE').agg(SF.count('NOME_SOCIO').alias('QTD_SOCIOS')).sort(SF.desc('QTD_SOCIOS'))\n",
    "df_aux.show(10)"
   ]
  },
  {
   "cell_type": "code",
   "execution_count": 24,
   "metadata": {},
   "outputs": [
    {
     "name": "stdout",
     "output_type": "stream",
     "text": [
      "+--------------+-------------------+--------+-------+---------+-------------+------+---------+-----+--------+------------+----------+----------+\n",
      "|          CNPJ|           REF_DATE|DATA_REF|CS_ALVO|QTD_EMAIL|QTD_TELEFONES|REGIAO|SUBREGIAO|SETOR|SUBSETOR|DIV_SUBSETOR|LOGRADOURO|QTD_SOCIOS|\n",
      "+--------------+-------------------+--------+-------+---------+-------------+------+---------+-----+--------+------------+----------+----------+\n",
      "|00004330000155|2016-10-01 00:00:00| 2016-10|      0|        0|            0|     1|        3|    0|       9|           2|       500|         1|\n",
      "|00078090000133|2017-03-01 00:00:00| 2017-03|      0|        0|            1|     9|        1|    2|       6|           0|       000|         2|\n",
      "|00109982000154|2016-09-01 00:00:00| 2016-09|      1|        1|            2|     1|        1|    4|       4|           6|       130|         2|\n",
      "|00281129000115|2017-06-01 00:00:00| 2017-06|      0|        0|            0|     0|        3|    2|       2|           1|       200|         3|\n",
      "|00294916000100|2017-02-01 00:00:00| 2017-02|      0|        0|            0|     0|        3|    3|       6|           1|       000|         0|\n",
      "|00370197000150|2016-11-01 00:00:00| 2016-11|      1|        0|            0|     7|        0|    3|       5|           1|       535|         3|\n",
      "|00711050000187|2016-11-01 00:00:00| 2016-11|      0|        1|            2|     3|        1|    7|       4|           2|       173|         0|\n",
      "|00951519000155|2017-01-01 00:00:00| 2017-01|      0|        0|            0|     1|        3|    5|       7|           5|       170|         0|\n",
      "|00984383000180|2016-09-01 00:00:00| 2016-09|      0|        0|            1|     8|        5|    6|       6|           0|       000|         1|\n",
      "|01013673000149|2017-02-01 00:00:00| 2017-02|      0|        0|            0|     2|        2|    4|       4|           0|       032|         2|\n",
      "|01024580000110|2016-09-01 00:00:00| 2016-09|      0|        0|            0|     0|        8|    5|       8|           7|       000|         0|\n",
      "|01163316000167|2017-01-01 00:00:00| 2017-01|      0|        1|            2|     0|        5|    1|       8|           7|       010|         3|\n",
      "|01252815000120|2016-07-01 00:00:00| 2016-07|      0|        0|            0|     3|        2|    6|       5|           3|       370|         1|\n",
      "|01358637000117|2017-05-01 00:00:00| 2017-05|      0|        0|            0|     1|        3|    0|       6|           1|       083|         1|\n",
      "|01469354000142|2017-01-01 00:00:00| 2017-01|      0|        1|            1|     1|        4|    3|       4|           0|       000|         1|\n",
      "|01689785000114|2017-02-01 00:00:00| 2017-02|      0|        0|            0|     7|        5|    9|       5|           5|       000|         2|\n",
      "|01805386000171|2017-03-01 00:00:00| 2017-03|      0|        0|            0|     3|        5|    7|       0|           0|       049|         0|\n",
      "|01836357001653|2017-04-01 00:00:00| 2017-04|      0|        1|            2|     1|        1|    4|       1|           0|       222|         0|\n",
      "|01864042000133|2017-01-01 00:00:00| 2017-01|      0|        1|            1|     3|        0|    8|       6|           5|       000|         2|\n",
      "|02026313000144|2016-10-01 00:00:00| 2016-10|      0|        0|            0|     3|        7|    9|       7|           5|       000|         2|\n",
      "+--------------+-------------------+--------+-------+---------+-------------+------+---------+-----+--------+------------+----------+----------+\n",
      "only showing top 20 rows\n",
      "\n"
     ]
    }
   ],
   "source": [
    "df_final = df_final.join(df_aux, ['CNPJ','REF_DATE'], 'left')\n",
    "df_final.show()"
   ]
  },
  {
   "cell_type": "markdown",
   "metadata": {},
   "source": [
    "<h1> 5) Quantidade de Filiais do Grupo</h1>"
   ]
  },
  {
   "cell_type": "code",
   "execution_count": 25,
   "metadata": {},
   "outputs": [
    {
     "name": "stdout",
     "output_type": "stream",
     "text": [
      "+--------------+-------------------+-----------+\n",
      "|          CNPJ|           REF_DATE|QTD_FILIAIS|\n",
      "+--------------+-------------------+-----------+\n",
      "|03777341044880|2016-07-01 00:00:00|       0448|\n",
      "|09967852014934|2016-10-01 00:00:00|       0149|\n",
      "|09967852013105|2017-02-01 00:00:00|       0131|\n",
      "|30147995009135|2017-03-01 00:00:00|       0091|\n",
      "|47866934008825|2017-04-01 00:00:00|       0088|\n",
      "|93209765004880|2016-12-01 00:00:00|       0048|\n",
      "|02223966004615|2017-01-01 00:00:00|       0046|\n",
      "|09160226003905|2016-09-01 00:00:00|       0039|\n",
      "|03667884003065|2016-08-01 00:00:00|       0030|\n",
      "|62413877002962|2017-01-01 00:00:00|       0029|\n",
      "+--------------+-------------------+-----------+\n",
      "only showing top 10 rows\n",
      "\n"
     ]
    }
   ],
   "source": [
    "df_aux = df_base.select('CNPJ','REF_DATE').dropDuplicates()\n",
    "df_aux = df_aux.withColumn('GRUPO_EMP',SF.col('CNPJ').substr(1, 8)).\\\n",
    "         withColumn('FILIAL',SF.col('CNPJ').substr(9, 4)).\\\n",
    "         groupBy('CNPJ','REF_DATE','GRUPO_EMP').agg(SF.max('FILIAL').alias('QTD_FILIAIS')).drop('GRUPO_EMP').sort(SF.desc('QTD_FILIAIS'))\n",
    "\n",
    "\n",
    "\n",
    "df_aux.show(10)"
   ]
  },
  {
   "cell_type": "code",
   "execution_count": 26,
   "metadata": {},
   "outputs": [
    {
     "name": "stdout",
     "output_type": "stream",
     "text": [
      "+--------------+-------------------+--------+-------+---------+-------------+------+---------+-----+--------+------------+----------+----------+-----------+\n",
      "|          CNPJ|           REF_DATE|DATA_REF|CS_ALVO|QTD_EMAIL|QTD_TELEFONES|REGIAO|SUBREGIAO|SETOR|SUBSETOR|DIV_SUBSETOR|LOGRADOURO|QTD_SOCIOS|QTD_FILIAIS|\n",
      "+--------------+-------------------+--------+-------+---------+-------------+------+---------+-----+--------+------------+----------+----------+-----------+\n",
      "|00004330000155|2016-10-01 00:00:00| 2016-10|      0|        0|            0|     1|        3|    0|       9|           2|       500|         1|       0001|\n",
      "|00078090000133|2017-03-01 00:00:00| 2017-03|      0|        0|            1|     9|        1|    2|       6|           0|       000|         2|       0001|\n",
      "|00109982000154|2016-09-01 00:00:00| 2016-09|      1|        1|            2|     1|        1|    4|       4|           6|       130|         2|       0001|\n",
      "|00281129000115|2017-06-01 00:00:00| 2017-06|      0|        0|            0|     0|        3|    2|       2|           1|       200|         3|       0001|\n",
      "|00294916000100|2017-02-01 00:00:00| 2017-02|      0|        0|            0|     0|        3|    3|       6|           1|       000|         0|       0001|\n",
      "|00370197000150|2016-11-01 00:00:00| 2016-11|      1|        0|            0|     7|        0|    3|       5|           1|       535|         3|       0001|\n",
      "|00711050000187|2016-11-01 00:00:00| 2016-11|      0|        1|            2|     3|        1|    7|       4|           2|       173|         0|       0001|\n",
      "|00951519000155|2017-01-01 00:00:00| 2017-01|      0|        0|            0|     1|        3|    5|       7|           5|       170|         0|       0001|\n",
      "|00984383000180|2016-09-01 00:00:00| 2016-09|      0|        0|            1|     8|        5|    6|       6|           0|       000|         1|       0001|\n",
      "|01013673000149|2017-02-01 00:00:00| 2017-02|      0|        0|            0|     2|        2|    4|       4|           0|       032|         2|       0001|\n",
      "|01024580000110|2016-09-01 00:00:00| 2016-09|      0|        0|            0|     0|        8|    5|       8|           7|       000|         0|       0001|\n",
      "|01163316000167|2017-01-01 00:00:00| 2017-01|      0|        1|            2|     0|        5|    1|       8|           7|       010|         3|       0001|\n",
      "|01252815000120|2016-07-01 00:00:00| 2016-07|      0|        0|            0|     3|        2|    6|       5|           3|       370|         1|       0001|\n",
      "|01358637000117|2017-05-01 00:00:00| 2017-05|      0|        0|            0|     1|        3|    0|       6|           1|       083|         1|       0001|\n",
      "|01469354000142|2017-01-01 00:00:00| 2017-01|      0|        1|            1|     1|        4|    3|       4|           0|       000|         1|       0001|\n",
      "|01689785000114|2017-02-01 00:00:00| 2017-02|      0|        0|            0|     7|        5|    9|       5|           5|       000|         2|       0001|\n",
      "|01805386000171|2017-03-01 00:00:00| 2017-03|      0|        0|            0|     3|        5|    7|       0|           0|       049|         0|       0001|\n",
      "|01836357001653|2017-04-01 00:00:00| 2017-04|      0|        1|            2|     1|        1|    4|       1|           0|       222|         0|       0016|\n",
      "|01864042000133|2017-01-01 00:00:00| 2017-01|      0|        1|            1|     3|        0|    8|       6|           5|       000|         2|       0001|\n",
      "|02026313000144|2016-10-01 00:00:00| 2016-10|      0|        0|            0|     3|        7|    9|       7|           5|       000|         2|       0001|\n",
      "+--------------+-------------------+--------+-------+---------+-------------+------+---------+-----+--------+------------+----------+----------+-----------+\n",
      "only showing top 20 rows\n",
      "\n"
     ]
    }
   ],
   "source": [
    "df_final = df_final.join(df_aux, ['CNPJ','REF_DATE'], 'left')\n",
    "df_final.show()"
   ]
  },
  {
   "cell_type": "code",
   "execution_count": null,
   "metadata": {},
   "outputs": [],
   "source": []
  }
 ],
 "metadata": {
  "kernelspec": {
   "display_name": "Python 3",
   "language": "python",
   "name": "python3"
  },
  "language_info": {
   "codemirror_mode": {
    "name": "ipython",
    "version": 3
   },
   "file_extension": ".py",
   "mimetype": "text/x-python",
   "name": "python",
   "nbconvert_exporter": "python",
   "pygments_lexer": "ipython3",
   "version": "3.7.3"
  }
 },
 "nbformat": 4,
 "nbformat_minor": 2
}
