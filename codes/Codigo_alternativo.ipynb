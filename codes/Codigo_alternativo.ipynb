{
 "cells": [
  {
   "cell_type": "code",
   "execution_count": 1,
   "metadata": {},
   "outputs": [
    {
     "data": {
      "text/plain": [
       "'\\nMachine Learning para Analise de Dados\\nCESAR Scholl\\nProjeto de analise de credito\\nRecife, 2019\\n\\n\\nEquipe:\\n    Claudio Alves Monteiro\\n    Marcos Antonio Almeida Souto Júnior\\n    Virgínia Heimann\\n    Kayo Renato da Silva Nascimento\\n    Rosely Cabral\\n'"
      ]
     },
     "execution_count": 1,
     "metadata": {},
     "output_type": "execute_result"
    }
   ],
   "source": [
    "'''\n",
    "Machine Learning para Analise de Dados\n",
    "CESAR Scholl\n",
    "Projeto de analise de credito\n",
    "Recife, 2019\n",
    "\n",
    "\n",
    "Equipe:\n",
    "    Claudio Alves Monteiro\n",
    "    Marcos Antonio Almeida Souto Júnior\n",
    "    Virgínia Heimann\n",
    "    Kayo Renato da Silva Nascimento\n",
    "    Rosely Cabral\n",
    "'''"
   ]
  },
  {
   "cell_type": "code",
   "execution_count": 2,
   "metadata": {},
   "outputs": [],
   "source": [
    "# Spark Session\n",
    "from pyspark.sql import SparkSession, Row\n",
    "spark = SparkSession.builder.appName(\"SparkSQL\").getOrCreate()\n"
   ]
  },
  {
   "cell_type": "code",
   "execution_count": 3,
   "metadata": {},
   "outputs": [],
   "source": [
    "# import modules\n",
    "import os\n",
    "import pandas as pd\n",
    "from pyspark.sql import functions as SF\n",
    "import pyspark.sql.types as ST\n",
    "\n",
    "# paths to spark and python3\n",
    "os.environ['PYSPARK_SUBMIT_ARGS'] = '--executor-memory 1G pyspark-shell'\n",
    "os.environ[\"SPARK_HOME\"] = \"/home/pacha/spark\"\n",
    "os.environ[\"PYSPARK_PYTHON\"]=\"/usr/bin/python3\""
   ]
  },
  {
   "cell_type": "code",
   "execution_count": 4,
   "metadata": {},
   "outputs": [],
   "source": [
    "# import data\n",
    "\n",
    "df = spark.read.csv('data/jur.csv',\n",
    "                    sep='\\t',\n",
    "                    encoding='utf-8',\n",
    "                    header=True,\n",
    "                    inferSchema=False)\n",
    "\n",
    "\n",
    "df_cursor = spark.read.csv('data/Base_Des-TRN',\n",
    "                    sep='\\t',\n",
    "                    encoding='utf-8',\n",
    "                    header=True,\n",
    "                    inferSchema=False)\n"
   ]
  },
  {
   "cell_type": "code",
   "execution_count": 5,
   "metadata": {},
   "outputs": [
    {
     "name": "stdout",
     "output_type": "stream",
     "text": [
      "root\n",
      " |-- CNPJ: string (nullable = true)\n",
      " |-- NOME_EMPRESA: string (nullable = true)\n",
      " |-- FANTASIA: string (nullable = true)\n",
      " |-- NATUREZA_JURIDICA: string (nullable = true)\n",
      " |-- ATIVIDADE_PRINCIPAL: string (nullable = true)\n",
      " |-- ATIVIDADES_SECUNDARIAS: string (nullable = true)\n",
      " |-- CNPJ_FORMATADO: string (nullable = true)\n",
      " |-- TIPO: string (nullable = true)\n",
      " |-- LOGRADOURO: string (nullable = true)\n",
      " |-- NUMERO: string (nullable = true)\n",
      " |-- COMPLEMENTO: string (nullable = true)\n",
      " |-- BAIRRO: string (nullable = true)\n",
      " |-- CEP: string (nullable = true)\n",
      " |-- MUNICIPIO: string (nullable = true)\n",
      " |-- UF: string (nullable = true)\n",
      " |-- TELEFONE_1: string (nullable = true)\n",
      " |-- TELEFONE_2: string (nullable = true)\n",
      " |-- EMAIL: string (nullable = true)\n",
      " |-- ABERTURA: string (nullable = true)\n",
      " |-- CAPITAL_SOCIAL: string (nullable = true)\n",
      " |-- MOTIVO_SITUACAO: string (nullable = true)\n",
      " |-- SITUACAO: string (nullable = true)\n",
      " |-- DATA_SITUACAO: string (nullable = true)\n",
      " |-- SITUACAO_ESPECIAL: string (nullable = true)\n",
      " |-- DATA_SITUACAO_ESPECIAL: string (nullable = true)\n",
      " |-- EFR: string (nullable = true)\n",
      " |-- NOME_SOCIO: string (nullable = true)\n",
      " |-- CARGO: string (nullable = true)\n",
      " |-- NOME_REP_LEGAL: string (nullable = true)\n",
      " |-- CARGO_REP_LEGAL: string (nullable = true)\n",
      " |-- REF_DATE: string (nullable = true)\n",
      " |-- LOAD_DATE: string (nullable = true)\n",
      " |-- STATUS: string (nullable = true)\n",
      " |-- QUERY_NAME: string (nullable = true)\n",
      " |-- QUERY_VERSION: string (nullable = true)\n",
      " |-- QUERY_STATUS: string (nullable = true)\n",
      " |-- QUERY_DATE: string (nullable = true)\n",
      " |-- YEAR: string (nullable = true)\n",
      " |-- MONTH: string (nullable = true)\n",
      "\n"
     ]
    }
   ],
   "source": [
    "df.printSchema()"
   ]
  },
  {
   "cell_type": "code",
   "execution_count": 6,
   "metadata": {},
   "outputs": [
    {
     "name": "stdout",
     "output_type": "stream",
     "text": [
      "+--------------+-----------------------------------------------+---------------------+-----------------------------+----------------------------------------------------------------------------------------------------------------------------+---------------------------------------------------------------------------------------------------------------------------------------------------------------------------------------------------------------------------------+------------------+------+------------------------+------+------------------------+------------------+--------+--------------+---+--------------+--------------+------------------------------------+------------------------+--------------+---------------+--------+------------------------+-----------------+----------------------+----+--------------------------------+-------------------------------------------------+------------------+---------------+----------+------------------------+------+----------+-------------+------------+------------------------+----+-----+\n",
      "|CNPJ          |NOME_EMPRESA                                   |FANTASIA             |NATUREZA_JURIDICA            |ATIVIDADE_PRINCIPAL                                                                                                         |ATIVIDADES_SECUNDARIAS                                                                                                                                                                                                           |CNPJ_FORMATADO    |TIPO  |LOGRADOURO              |NUMERO|COMPLEMENTO             |BAIRRO            |CEP     |MUNICIPIO     |UF |TELEFONE_1    |TELEFONE_2    |EMAIL                               |ABERTURA                |CAPITAL_SOCIAL|MOTIVO_SITUACAO|SITUACAO|DATA_SITUACAO           |SITUACAO_ESPECIAL|DATA_SITUACAO_ESPECIAL|EFR |NOME_SOCIO                      |CARGO                                            |NOME_REP_LEGAL    |CARGO_REP_LEGAL|REF_DATE  |LOAD_DATE               |STATUS|QUERY_NAME|QUERY_VERSION|QUERY_STATUS|QUERY_DATE              |YEAR|MONTH|\n",
      "+--------------+-----------------------------------------------+---------------------+-----------------------------+----------------------------------------------------------------------------------------------------------------------------+---------------------------------------------------------------------------------------------------------------------------------------------------------------------------------------------------------------------------------+------------------+------+------------------------+------+------------------------+------------------+--------+--------------+---+--------------+--------------+------------------------------------+------------------------+--------------+---------------+--------+------------------------+-----------------+----------------------+----+--------------------------------+-------------------------------------------------+------------------+---------------+----------+------------------------+------+----------+-------------+------------+------------------------+----+-----+\n",
      "|36487312000119|CANTINA BUONGIORNO CIAO LTDA                   |BUONGIORNO RISTORANTE|SOCIEDADE EMPRESARIA LIMITADA|RESTAURANTES E SIMILARES                                                                                                    |NAO INFORMADA                                                                                                                                                                                                                    |36.487.312/0001-19|MATRIZ|R GAVIAO PEIXOTO        |152   |LOJA 104                |ICARAI            |24230101|NITEROI       |RJ |null          |null          |null                                |1991-05-08T00:00:00.000Z|0.0           |null           |ATIVA   |2005-03-05T00:00:00.000Z|null             |null                  |null|BIANCA MARCELLE ROMANELE        |SOCIO                                            |null              |null           |2015-08-22|2018-10-29T14:16:58.300Z|OK    |JUR001    |1.0.0        |SUCCESS     |2018-10-16T06:36:28.000Z|2018|10   |\n",
      "|20096015000102|SUPER REDE MERCEARIA DE REALENGO LTDA          |SUPER REDE           |SOCIEDADE EMPRESARIA LIMITADA|COMERCIO VAREJISTA DE MERCADORIAS EM GERAL, COM PREDOMINANCIA DE PRODUTOS ALIMENTICIOS - MINIMERCADOS, MERCEARIAS E ARMAZENS|COMERCIO VAREJISTA DE CARNES - ACOUGUES,COMERCIO VAREJISTA DE LATICINIOS E FRIOS,COMERCIO VAREJISTA DE HORTIFRUTIGRANJEIROS,PADARIA E CONFEITARIA COM PREDOMINANCIA DE REVENDA,COMERCIO VAREJISTA DE BEBIDAS                     |20.096.015/0001-02|MATRIZ|R SILVA NETO            |1104  |null                    |REALENGO          |21770000|RIO DE JANEIRO|RJ |(21) 2671-4350|(21) 2671-4350|uberlan@fricks.adv.br               |2014-04-09T00:00:00.000Z|100000.0      |null           |ATIVA   |2014-04-09T00:00:00.000Z|null             |null                  |null|BRUNO SONEGHETTI CAUPER PINTO   |SOCIO                                            |null              |null           |2015-09-10|2018-10-29T14:16:58.300Z|OK    |JUR001    |1.0.0        |SUCCESS     |2018-10-27T16:56:21.000Z|2018|10   |\n",
      "|1953169000129 |BUONO CAFE LANCHONETE E RESTAURANTE LTDA       |null                 |SOCIEDADE EMPRESARIA LIMITADA|LANCHONETES, CASAS DE CHA, DE SUCOS E SIMILARES                                                                             |COMERCIO VAREJISTA DE DOCES, BALAS, BOMBONS E SEMELHANTES,RESTAURANTES E SIMILARES                                                                                                                                               |01.953.169/0001-29|MATRIZ|PC DA REPUBLICA         |167   |171 173                 |REPUBLICA         |1045001 |SAO PAULO     |SP |(11) 3259-1133|null          |okaybrazil@outlook.com              |1997-07-07T00:00:00.000Z|20000.0       |null           |ATIVA   |2001-08-25T00:00:00.000Z|null             |null                  |null|EDICARLOS OLIVEIRA DA CRUZ      |SOCIO                                            |null              |null           |2015-08-18|2018-10-29T14:16:58.300Z|OK    |JUR001    |1.0.0        |SUCCESS     |2018-10-25T01:32:11.000Z|2018|10   |\n",
      "|28860602000138|LUCIANA RODRIGUES ROCHA 00875379664            |MONTANA BURGUER      |EMPRESARIO (INDIVIDUAL)      |SERVICOS AMBULANTES DE ALIMENTACAO                                                                                          |NAO INFORMADA                                                                                                                                                                                                                    |28.860.602/0001-38|MATRIZ|R FLOR DAS ALMAS        |513   |null                    |JARDIM ALVORADA   |30810130|BELO HORIZONTE|MG |(31) 9535-7611|null          |luciana.rocha7@outlook.com          |2017-10-16T00:00:00.000Z|1000.0        |null           |ATIVA   |2017-10-16T00:00:00.000Z|null             |null                  |null|null                            |null                                             |null              |null           |2015-07-17|2018-10-29T14:16:58.300Z|OK    |JUR001    |1.0.0        |SUCCESS     |2018-10-27T02:18:35.000Z|2018|10   |\n",
      "|1589195000110 |SUPERMERCADO SEANE DAS PALMEIRAS LTDA          |null                 |SOCIEDADE EMPRESARIA LIMITADA|COMERCIO VAREJISTA DE MERCADORIAS EM GERAL, COM PREDOMINANCIA DE PRODUTOS ALIMENTICIOS - SUPERMERCADOS                      |NAO INFORMADA                                                                                                                                                                                                                    |01.589.195/0001-10|MATRIZ|EST DO KOYAMA           |10    |null                    |BAIRRO PALMEIRAS  |8633210 |SUZANO        |SP |(11) 3926-5483|null          |fiscal@gckconsultoriacontabil.com.br|1996-12-16T00:00:00.000Z|50000.0       |null           |ATIVA   |2005-11-03T00:00:00.000Z|null             |null                  |null|JOSE DANTAS MIRANDA             |SOCIO                                            |null              |null           |2015-09-18|2018-10-29T14:16:58.300Z|OK    |JUR001    |1.0.0        |SUCCESS     |2018-10-17T08:20:54.000Z|2018|10   |\n",
      "|87951000000155|VALDIR LAZZARI CIA LTDA                        |null                 |SOCIEDADE EMPRESARIA LIMITADA|COMERCIO VAREJISTA DE MERCADORIAS EM GERAL, COM PREDOMINANCIA DE PRODUTOS ALIMENTICIOS - SUPERMERCADOS                      |TABACARIA,COMERCIO VAREJISTA DE ARTIGOS DE ARMARINHO,COMERCIO VAREJISTA DE ARTIGOS DO VESTUARIO E ACESSORIOS,COMERCIO VAREJISTA DE ARTIGOS DE CAMA, MESA E BANHO                                                                 |87.951.000/0001-55|MATRIZ|R SAO JOAQUIM           |201   |null                    |GLORIA            |90870070|PORTO ALEGRE  |RS |null          |null          |null                                |1974-12-10T00:00:00.000Z|165000.0      |null           |ATIVA   |2004-08-28T00:00:00.000Z|null             |null                  |null|EDUARDO MACCARI LAZZARI         |SOCIO                                            |null              |null           |2015-09-09|2018-10-29T14:16:58.300Z|OK    |JUR001    |1.0.0        |SUCCESS     |2018-10-24T11:09:20.000Z|2018|10   |\n",
      "|1061088000114 |ORGANIZACAO BRANDAO OLIVEIRA LTDA              |null                 |SOCIEDADE EMPRESARIA LIMITADA|COMERCIO VAREJISTA DE MERCADORIAS EM GERAL, COM PREDOMINANCIA DE PRODUTOS ALIMENTICIOS - SUPERMERCADOS                      |PADARIA E CONFEITARIA COM PREDOMINANCIA DE REVENDA,COMERCIO VAREJISTA DE CARNES - ACOUGUES,COMERCIO VAREJISTA DE HORTIFRUTIGRANJEIROS,LANCHONETES, CASAS DE CHA, DE SUCOS E SIMILARES,CORRESPONDENTES DE INSTITUICOES FINANCEIRAS|01.061.088/0001-14|MATRIZ|R PROF. BORGES DA COSTA |370   |null                    |ASTECA            |33120060|SANTA LUZIA   |MG |null          |null          |null                                |1996-02-26T00:00:00.000Z|10050.0       |null           |ATIVA   |2005-09-03T00:00:00.000Z|null             |null                  |null|FABIO GUILHERME BRANDAO OLIVEIRA|SOCIO                                            |null              |null           |2015-10-06|2018-10-29T14:16:58.300Z|OK    |JUR001    |2.0.0        |SUCCESS     |2018-10-24T14:19:00.000Z|2018|10   |\n",
      "|23860083000194|KI PAO JOIA LTDA                               |null                 |SOCIEDADE EMPRESARIA LIMITADA|PADARIA E CONFEITARIA COM PREDOMINANCIA DE REVENDA                                                                          |COMERCIO VAREJISTA DE MERCADORIAS EM GERAL, COM PREDOMINANCIA DE PRODUTOS ALIMENTICIOS - MINIMERCADOS, MERCEARIAS E ARMAZENS,LANCHONETES, CASAS DE CHA, DE SUCOS E SIMILARES,COMERCIO VAREJISTA DE JORNAIS E REVISTAS            |23.860.083/0001-94|MATRIZ|R MARQUES DO LAVRADIO   |560   |LOJA;                   |ALTO DOS PINHEIROS|30530110|BELO HORIZONTE|MG |(31) 3384-8212|(31) 3384-8212|gaminf@ig.com.br                    |1987-12-09T00:00:00.000Z|71600.0       |null           |ATIVA   |2005-11-03T00:00:00.000Z|null             |null                  |null|MARIA CLARA LOTTE LOPES         |SOCIO OU ACIONISTA MENOR (ASSISTIDO/REPRESENTADO)|PAULO SERGIO LOPES|PAI            |2015-08-23|2018-10-29T14:16:58.300Z|OK    |JUR001    |1.0.0        |SUCCESS     |2018-10-24T17:09:23.000Z|2018|10   |\n",
      "|16908760000131|R. DE FATIMA BARROSO DE SOUSA MESQUITA         |FATIMA LANCHES       |EMPRESARIO (INDIVIDUAL)      |RESTAURANTES E SIMILARES                                                                                                    |COMERCIO VAREJISTA DE PRODUTOS ALIMENTICIOS EM GERAL OU ESPECIALIZADO EM PRODUTOS ALIMENTICIOS NAO ESPECIFICADOS ANTERIORMENTE,FORNECIMENTO DE ALIMENTOS PREPARADOS PREPONDERANTEMENTE PARA CONSUMO DOMICILIAR                   |16.908.760/0001-31|MATRIZ|R PADRE PEDRO DE ALENCAR|302   |LOJA 202 203 204 205 209|MESSEJANA         |60840280|FORTALEZA     |CE |(85) 3275-8401|null          |fiscal@casadacontabilidade.com      |2012-09-25T00:00:00.000Z|10000.0       |null           |ATIVA   |2012-09-25T00:00:00.000Z|null             |null                  |null|null                            |null                                             |null              |null           |2015-08-10|2018-10-29T14:16:58.300Z|OK    |JUR001    |1.0.0        |SUCCESS     |2018-10-28T16:19:04.000Z|2018|10   |\n",
      "|24491353000108|RCC ARACAJU RIO MAR COMERCIAL DE ALIMENTOS LTDA|GANACHE CAFE         |SOCIEDADE EMPRESARIA LIMITADA|LANCHONETES, CASAS DE CHA, DE SUCOS E SIMILARES                                                                             |NAO INFORMADA                                                                                                                                                                                                                    |24.491.353/0001-08|MATRIZ|AV DELMIRO GOUVEIA      |400   |null                    |COROA DO MEIO     |49035500|ARACAJU       |SE |(71) 9957-1925|(71) 3322-7149|paulolimabastos@hotmail.com         |2016-03-30T00:00:00.000Z|200000.0      |null           |ATIVA   |2016-03-30T00:00:00.000Z|null             |null                  |null|ROSIMEIRE DA SILVA BATISTA      |SOCIO                                            |null              |null           |2015-10-21|2018-10-29T14:16:58.300Z|OK    |JUR001    |1.0.0        |SUCCESS     |2018-10-28T08:20:00.000Z|2018|10   |\n",
      "+--------------+-----------------------------------------------+---------------------+-----------------------------+----------------------------------------------------------------------------------------------------------------------------+---------------------------------------------------------------------------------------------------------------------------------------------------------------------------------------------------------------------------------+------------------+------+------------------------+------+------------------------+------------------+--------+--------------+---+--------------+--------------+------------------------------------+------------------------+--------------+---------------+--------+------------------------+-----------------+----------------------+----+--------------------------------+-------------------------------------------------+------------------+---------------+----------+------------------------+------+----------+-------------+------------+------------------------+----+-----+\n",
      "only showing top 10 rows\n",
      "\n"
     ]
    }
   ],
   "source": [
    "df.show(10, False)"
   ]
  },
  {
   "cell_type": "code",
   "execution_count": 7,
   "metadata": {},
   "outputs": [
    {
     "name": "stdout",
     "output_type": "stream",
     "text": [
      "+--------------+--------+-------+\n",
      "|          CNPJ|DATA_REF|CS_ALVO|\n",
      "+--------------+--------+-------+\n",
      "|11507110000160| 2016-10|      0|\n",
      "|15062189000114| 2016-07|      0|\n",
      "| 5841171000167| 2016-08|      0|\n",
      "| 8792807000116| 2016-08|      0|\n",
      "|24060073000137| 2017-01|      1|\n",
      "+--------------+--------+-------+\n",
      "only showing top 5 rows\n",
      "\n"
     ]
    }
   ],
   "source": [
    "df_cursor.show(5)"
   ]
  },
  {
   "cell_type": "code",
   "execution_count": 6,
   "metadata": {},
   "outputs": [],
   "source": [
    "#------ tratar inicio do CNPJ sem o 0\n",
    "\n",
    "@SF.udf('string')\n",
    "def fill_cnpj(value):\n",
    "    aux = '00000000000000'+value\n",
    "    return aux[len(value):]\n",
    "\n",
    "#------ tratar inicio do CEP sem o 0\n",
    "\n",
    "@SF.udf('string')\n",
    "def fill_cep(value):\n",
    "    aux = '00000000'+value\n",
    "    return aux[len(value):]\n",
    "\n"
   ]
  },
  {
   "cell_type": "code",
   "execution_count": 7,
   "metadata": {},
   "outputs": [
    {
     "name": "stdout",
     "output_type": "stream",
     "text": [
      "+--------------+--------+-------+\n",
      "|          CNPJ|DATA_REF|CS_ALVO|\n",
      "+--------------+--------+-------+\n",
      "|11507110000160| 2016-10|      0|\n",
      "|15062189000114| 2016-07|      0|\n",
      "|05841171000167| 2016-08|      0|\n",
      "|08792807000116| 2016-08|      0|\n",
      "|24060073000137| 2017-01|      1|\n",
      "+--------------+--------+-------+\n",
      "only showing top 5 rows\n",
      "\n"
     ]
    }
   ],
   "source": [
    "df_cursor = df_cursor.withColumn('CNPJ',fill_cnpj('CNPJ'))\n",
    "df_cursor.show(5)"
   ]
  },
  {
   "cell_type": "code",
   "execution_count": 8,
   "metadata": {},
   "outputs": [
    {
     "name": "stdout",
     "output_type": "stream",
     "text": [
      "+--------------+--------------------+--------------------+--------------------+--------------------+----------------------+------------------+------+----------------+------+-----------+----------------+--------+--------------+---+--------------+--------------+--------------------+--------------------+--------------+---------------+--------+--------------------+-----------------+----------------------+----+--------------------+-----+--------------+---------------+----------+--------------------+------+----------+-------------+------------+--------------------+----+-----+\n",
      "|          CNPJ|        NOME_EMPRESA|            FANTASIA|   NATUREZA_JURIDICA| ATIVIDADE_PRINCIPAL|ATIVIDADES_SECUNDARIAS|    CNPJ_FORMATADO|  TIPO|      LOGRADOURO|NUMERO|COMPLEMENTO|          BAIRRO|     CEP|     MUNICIPIO| UF|    TELEFONE_1|    TELEFONE_2|               EMAIL|            ABERTURA|CAPITAL_SOCIAL|MOTIVO_SITUACAO|SITUACAO|       DATA_SITUACAO|SITUACAO_ESPECIAL|DATA_SITUACAO_ESPECIAL| EFR|          NOME_SOCIO|CARGO|NOME_REP_LEGAL|CARGO_REP_LEGAL|  REF_DATE|           LOAD_DATE|STATUS|QUERY_NAME|QUERY_VERSION|QUERY_STATUS|          QUERY_DATE|YEAR|MONTH|\n",
      "+--------------+--------------------+--------------------+--------------------+--------------------+----------------------+------------------+------+----------------+------+-----------+----------------+--------+--------------+---+--------------+--------------+--------------------+--------------------+--------------+---------------+--------+--------------------+-----------------+----------------------+----+--------------------+-----+--------------+---------------+----------+--------------------+------+----------+-------------+------------+--------------------+----+-----+\n",
      "|36487312000119|CANTINA BUONGIORN...|BUONGIORNO RISTOR...|SOCIEDADE EMPRESA...|RESTAURANTES E SI...|         NAO INFORMADA|36.487.312/0001-19|MATRIZ|R GAVIAO PEIXOTO|   152|   LOJA 104|          ICARAI|24230101|       NITEROI| RJ|          null|          null|                null|1991-05-08T00:00:...|           0.0|           null|   ATIVA|2005-03-05T00:00:...|             null|                  null|null|BIANCA MARCELLE R...|SOCIO|          null|           null|2015-08-22|2018-10-29T14:16:...|    OK|    JUR001|        1.0.0|     SUCCESS|2018-10-16T06:36:...|2018|   10|\n",
      "|20096015000102|SUPER REDE MERCEA...|          SUPER REDE|SOCIEDADE EMPRESA...|COMERCIO VAREJIST...|  COMERCIO VAREJIST...|20.096.015/0001-02|MATRIZ|    R SILVA NETO|  1104|       null|        REALENGO|21770000|RIO DE JANEIRO| RJ|(21) 2671-4350|(21) 2671-4350|uberlan@fricks.ad...|2014-04-09T00:00:...|      100000.0|           null|   ATIVA|2014-04-09T00:00:...|             null|                  null|null|BRUNO SONEGHETTI ...|SOCIO|          null|           null|2015-09-10|2018-10-29T14:16:...|    OK|    JUR001|        1.0.0|     SUCCESS|2018-10-27T16:56:...|2018|   10|\n",
      "| 1953169000129|BUONO CAFE LANCHO...|                null|SOCIEDADE EMPRESA...|LANCHONETES, CASA...|  COMERCIO VAREJIST...|01.953.169/0001-29|MATRIZ| PC DA REPUBLICA|   167|    171 173|       REPUBLICA|01045001|     SAO PAULO| SP|(11) 3259-1133|          null|okaybrazil@outloo...|1997-07-07T00:00:...|       20000.0|           null|   ATIVA|2001-08-25T00:00:...|             null|                  null|null|EDICARLOS OLIVEIR...|SOCIO|          null|           null|2015-08-18|2018-10-29T14:16:...|    OK|    JUR001|        1.0.0|     SUCCESS|2018-10-25T01:32:...|2018|   10|\n",
      "|28860602000138|LUCIANA RODRIGUES...|     MONTANA BURGUER|EMPRESARIO (INDIV...|SERVICOS AMBULANT...|         NAO INFORMADA|28.860.602/0001-38|MATRIZ|R FLOR DAS ALMAS|   513|       null| JARDIM ALVORADA|30810130|BELO HORIZONTE| MG|(31) 9535-7611|          null|luciana.rocha7@ou...|2017-10-16T00:00:...|        1000.0|           null|   ATIVA|2017-10-16T00:00:...|             null|                  null|null|                null| null|          null|           null|2015-07-17|2018-10-29T14:16:...|    OK|    JUR001|        1.0.0|     SUCCESS|2018-10-27T02:18:...|2018|   10|\n",
      "| 1589195000110|SUPERMERCADO SEAN...|                null|SOCIEDADE EMPRESA...|COMERCIO VAREJIST...|         NAO INFORMADA|01.589.195/0001-10|MATRIZ|   EST DO KOYAMA|    10|       null|BAIRRO PALMEIRAS|08633210|        SUZANO| SP|(11) 3926-5483|          null|fiscal@gckconsult...|1996-12-16T00:00:...|       50000.0|           null|   ATIVA|2005-11-03T00:00:...|             null|                  null|null| JOSE DANTAS MIRANDA|SOCIO|          null|           null|2015-09-18|2018-10-29T14:16:...|    OK|    JUR001|        1.0.0|     SUCCESS|2018-10-17T08:20:...|2018|   10|\n",
      "+--------------+--------------------+--------------------+--------------------+--------------------+----------------------+------------------+------+----------------+------+-----------+----------------+--------+--------------+---+--------------+--------------+--------------------+--------------------+--------------+---------------+--------+--------------------+-----------------+----------------------+----+--------------------+-----+--------------+---------------+----------+--------------------+------+----------+-------------+------------+--------------------+----+-----+\n",
      "only showing top 5 rows\n",
      "\n"
     ]
    }
   ],
   "source": [
    "df = df.withColumn('CEP',fill_cep('CEP'))\n",
    "df.show(5)"
   ]
  },
  {
   "cell_type": "code",
   "execution_count": 9,
   "metadata": {},
   "outputs": [
    {
     "name": "stdout",
     "output_type": "stream",
     "text": [
      "+--------------+--------------------+--------------------+--------------------+--------------------+----------------------+------------------+------+----------------+------+-----------+----------------+--------+--------------+---+--------------+--------------+--------------------+--------------------+--------------+---------------+--------+--------------------+-----------------+----------------------+----+--------------------+-----+--------------+---------------+----------+--------------------+------+----------+-------------+------------+--------------------+----+-----+\n",
      "|          CNPJ|        NOME_EMPRESA|            FANTASIA|   NATUREZA_JURIDICA| ATIVIDADE_PRINCIPAL|ATIVIDADES_SECUNDARIAS|    CNPJ_FORMATADO|  TIPO|      LOGRADOURO|NUMERO|COMPLEMENTO|          BAIRRO|     CEP|     MUNICIPIO| UF|    TELEFONE_1|    TELEFONE_2|               EMAIL|            ABERTURA|CAPITAL_SOCIAL|MOTIVO_SITUACAO|SITUACAO|       DATA_SITUACAO|SITUACAO_ESPECIAL|DATA_SITUACAO_ESPECIAL| EFR|          NOME_SOCIO|CARGO|NOME_REP_LEGAL|CARGO_REP_LEGAL|  REF_DATE|           LOAD_DATE|STATUS|QUERY_NAME|QUERY_VERSION|QUERY_STATUS|          QUERY_DATE|YEAR|MONTH|\n",
      "+--------------+--------------------+--------------------+--------------------+--------------------+----------------------+------------------+------+----------------+------+-----------+----------------+--------+--------------+---+--------------+--------------+--------------------+--------------------+--------------+---------------+--------+--------------------+-----------------+----------------------+----+--------------------+-----+--------------+---------------+----------+--------------------+------+----------+-------------+------------+--------------------+----+-----+\n",
      "|36487312000119|CANTINA BUONGIORN...|BUONGIORNO RISTOR...|SOCIEDADE EMPRESA...|RESTAURANTES E SI...|         NAO INFORMADA|36.487.312/0001-19|MATRIZ|R GAVIAO PEIXOTO|   152|   LOJA 104|          ICARAI|24230101|       NITEROI| RJ|          null|          null|                null|1991-05-08T00:00:...|           0.0|           null|   ATIVA|2005-03-05T00:00:...|             null|                  null|null|BIANCA MARCELLE R...|SOCIO|          null|           null|2015-08-22|2018-10-29T14:16:...|    OK|    JUR001|        1.0.0|     SUCCESS|2018-10-16T06:36:...|2018|   10|\n",
      "|20096015000102|SUPER REDE MERCEA...|          SUPER REDE|SOCIEDADE EMPRESA...|COMERCIO VAREJIST...|  COMERCIO VAREJIST...|20.096.015/0001-02|MATRIZ|    R SILVA NETO|  1104|       null|        REALENGO|21770000|RIO DE JANEIRO| RJ|(21) 2671-4350|(21) 2671-4350|uberlan@fricks.ad...|2014-04-09T00:00:...|      100000.0|           null|   ATIVA|2014-04-09T00:00:...|             null|                  null|null|BRUNO SONEGHETTI ...|SOCIO|          null|           null|2015-09-10|2018-10-29T14:16:...|    OK|    JUR001|        1.0.0|     SUCCESS|2018-10-27T16:56:...|2018|   10|\n",
      "|01953169000129|BUONO CAFE LANCHO...|                null|SOCIEDADE EMPRESA...|LANCHONETES, CASA...|  COMERCIO VAREJIST...|01.953.169/0001-29|MATRIZ| PC DA REPUBLICA|   167|    171 173|       REPUBLICA|01045001|     SAO PAULO| SP|(11) 3259-1133|          null|okaybrazil@outloo...|1997-07-07T00:00:...|       20000.0|           null|   ATIVA|2001-08-25T00:00:...|             null|                  null|null|EDICARLOS OLIVEIR...|SOCIO|          null|           null|2015-08-18|2018-10-29T14:16:...|    OK|    JUR001|        1.0.0|     SUCCESS|2018-10-25T01:32:...|2018|   10|\n",
      "|28860602000138|LUCIANA RODRIGUES...|     MONTANA BURGUER|EMPRESARIO (INDIV...|SERVICOS AMBULANT...|         NAO INFORMADA|28.860.602/0001-38|MATRIZ|R FLOR DAS ALMAS|   513|       null| JARDIM ALVORADA|30810130|BELO HORIZONTE| MG|(31) 9535-7611|          null|luciana.rocha7@ou...|2017-10-16T00:00:...|        1000.0|           null|   ATIVA|2017-10-16T00:00:...|             null|                  null|null|                null| null|          null|           null|2015-07-17|2018-10-29T14:16:...|    OK|    JUR001|        1.0.0|     SUCCESS|2018-10-27T02:18:...|2018|   10|\n",
      "|01589195000110|SUPERMERCADO SEAN...|                null|SOCIEDADE EMPRESA...|COMERCIO VAREJIST...|         NAO INFORMADA|01.589.195/0001-10|MATRIZ|   EST DO KOYAMA|    10|       null|BAIRRO PALMEIRAS|08633210|        SUZANO| SP|(11) 3926-5483|          null|fiscal@gckconsult...|1996-12-16T00:00:...|       50000.0|           null|   ATIVA|2005-11-03T00:00:...|             null|                  null|null| JOSE DANTAS MIRANDA|SOCIO|          null|           null|2015-09-18|2018-10-29T14:16:...|    OK|    JUR001|        1.0.0|     SUCCESS|2018-10-17T08:20:...|2018|   10|\n",
      "+--------------+--------------------+--------------------+--------------------+--------------------+----------------------+------------------+------+----------------+------+-----------+----------------+--------+--------------+---+--------------+--------------+--------------------+--------------------+--------------+---------------+--------+--------------------+-----------------+----------------------+----+--------------------+-----+--------------+---------------+----------+--------------------+------+----------+-------------+------------+--------------------+----+-----+\n",
      "only showing top 5 rows\n",
      "\n"
     ]
    }
   ],
   "source": [
    "df = df.withColumn('CNPJ',fill_cnpj('CNPJ'))\n",
    "df.show(5)"
   ]
  },
  {
   "cell_type": "code",
   "execution_count": 10,
   "metadata": {},
   "outputs": [],
   "source": [
    "#------ Convertendo REF_DATE do df_cursor para timestamp\n",
    "\n",
    "df_cursor = df_cursor.withColumn('REF_DATE',SF.from_unixtime(\n",
    "            SF.unix_timestamp('DATA_REF','yyyy-MM')).cast('timestamp'))\n",
    "\n",
    "#df_cursor.show(5)"
   ]
  },
  {
   "cell_type": "code",
   "execution_count": 11,
   "metadata": {},
   "outputs": [],
   "source": [
    "#------ Convertendo REF_DATE do df para timestamp\n",
    "\n",
    "df = df.withColumn('REF_DATE',SF.col('REF_DATE').cast('timestamp'))"
   ]
  },
  {
   "cell_type": "code",
   "execution_count": 12,
   "metadata": {},
   "outputs": [],
   "source": [
    "df = df.withColumnRenamed('CNPJ','CNPJ_DF').withColumnRenamed('REF_DATE','REF_DATE_DF')"
   ]
  },
  {
   "cell_type": "code",
   "execution_count": 13,
   "metadata": {},
   "outputs": [],
   "source": [
    "#------ Criando o df_base. O df_base é construído a partir do cursor. Todas as entradas do cursor são preservadas \n",
    "# e é feito um join com as entradas do df que correspondem à condição dupla: mesmo \"CNPJ\" e \"Data de Referência\" do df\n",
    "# anterior à \"Dara de Referência\" do cursor  \n",
    "\n",
    "df_base = df_cursor.join(df,\n",
    "                 (df_cursor['CNPJ']==df['CNPJ_DF']) & \n",
    "                 (df_cursor['REF_DATE'] >= df['REF_DATE_DF']),\n",
    "                 'left')"
   ]
  },
  {
   "cell_type": "markdown",
   "metadata": {},
   "source": [
    "<h1>?) Classificação por CEP : Região, Subregião, Setor, Subsetor, Divisão de Subsetor e Logradouro <colour:red>(Falta decidir se o CEP deve entrar e com quantos números)</colour></h1>"
   ]
  },
  {
   "cell_type": "code",
   "execution_count": 16,
   "metadata": {},
   "outputs": [],
   "source": [
    "#df_aux = df_base.select(['CNPJ', 'REF_DATE','CEP']).dropDuplicates()"
   ]
  },
  {
   "cell_type": "code",
   "execution_count": 17,
   "metadata": {},
   "outputs": [
    {
     "data": {
      "text/plain": [
       "\"\\ndf_aux = df_aux.withColumn('REGIAO',SF.col('CEP').substr(1, 1)).         withColumn('SUBREGIAO',SF.col('CEP').substr(1, 2)).         withColumn('SETOR',SF.col('CEP').substr(1, 3)).         withColumn('SUBSETOR',SF.col('CEP').substr(1, 4)).         withColumn('DIV_SUBSETOR',SF.col('CEP').substr(1, 5)).         withColumn('LOGRADOURO',SF.col('CEP').substr(1, 9)).         drop('CEP')\\n\""
      ]
     },
     "execution_count": 17,
     "metadata": {},
     "output_type": "execute_result"
    }
   ],
   "source": [
    "'''\n",
    "df_aux = df_aux.withColumn('REGIAO',SF.col('CEP').substr(1, 1)).\\\n",
    "         withColumn('SUBREGIAO',SF.col('CEP').substr(1, 2)).\\\n",
    "         withColumn('SETOR',SF.col('CEP').substr(1, 3)).\\\n",
    "         withColumn('SUBSETOR',SF.col('CEP').substr(1, 4)).\\\n",
    "         withColumn('DIV_SUBSETOR',SF.col('CEP').substr(1, 5)).\\\n",
    "         withColumn('LOGRADOURO',SF.col('CEP').substr(1, 9)).\\\n",
    "         drop('CEP')\n",
    "'''"
   ]
  },
  {
   "cell_type": "code",
   "execution_count": 18,
   "metadata": {},
   "outputs": [],
   "source": [
    "#df_aux.show()"
   ]
  },
  {
   "cell_type": "code",
   "execution_count": 19,
   "metadata": {},
   "outputs": [],
   "source": [
    "#df_final = df_cursor.join(df_aux,['CNPJ','REF_DATE'],'left')\n",
    "#df_final.show()\n",
    "\n",
    "#df_final = df_final.join(df_aux, ['CNPJ','REF_DATE'], 'left')\n",
    "#df_final.show()"
   ]
  },
  {
   "cell_type": "code",
   "execution_count": 20,
   "metadata": {},
   "outputs": [],
   "source": [
    "#df_final.groupBy('REGIAO').count().toPandas()"
   ]
  },
  {
   "cell_type": "markdown",
   "metadata": {},
   "source": [
    "<h1>1) Quantidade de Sócios</h1>"
   ]
  },
  {
   "cell_type": "code",
   "execution_count": 14,
   "metadata": {},
   "outputs": [],
   "source": [
    "df_aux = df_base.select('CNPJ','REF_DATE','NOME_SOCIO').dropDuplicates().\\\n",
    "            groupBy('CNPJ','REF_DATE').agg(SF.count('NOME_SOCIO').alias('QTD_SOCIOS')).sort(SF.desc('QTD_SOCIOS'))\n",
    "#df_aux.show(10)"
   ]
  },
  {
   "cell_type": "code",
   "execution_count": 15,
   "metadata": {},
   "outputs": [],
   "source": [
    "df_final = df_cursor.join(df_aux, ['CNPJ','REF_DATE'], 'left')\n",
    "#df_final.toPandas()"
   ]
  },
  {
   "cell_type": "markdown",
   "metadata": {},
   "source": [
    "<h1> 2) Quantidade de Filiais do Grupo</h1>"
   ]
  },
  {
   "cell_type": "code",
   "execution_count": 23,
   "metadata": {},
   "outputs": [
    {
     "data": {
      "text/plain": [
       "\"df_aux = df_base.select('CNPJ','REF_DATE').dropDuplicates()\\ndf_aux = df_aux.withColumn('GRUPO_EMP',SF.col('CNPJ').substr(1, 8)).         withColumn('FILIAL',SF.col('CNPJ').substr(9, 4)).         groupBy('CNPJ','REF_DATE','GRUPO_EMP').agg(SF.max('FILIAL').alias('QTD_FILIAIS')).drop('GRUPO_EMP').sort(SF.desc('QTD_FILIAIS'))\\n\\n\\n\\ndf_aux.show(10)\\n\""
      ]
     },
     "execution_count": 23,
     "metadata": {},
     "output_type": "execute_result"
    }
   ],
   "source": [
    "'''df_aux = df_base.select('CNPJ','REF_DATE').dropDuplicates()\n",
    "df_aux = df_aux.withColumn('GRUPO_EMP',SF.col('CNPJ').substr(1, 8)).\\\n",
    "         withColumn('FILIAL',SF.col('CNPJ').substr(9, 4)).\\\n",
    "         groupBy('CNPJ','REF_DATE','GRUPO_EMP').agg(SF.max('FILIAL').alias('QTD_FILIAIS')).drop('GRUPO_EMP').sort(SF.desc('QTD_FILIAIS'))\n",
    "\n",
    "\n",
    "\n",
    "df_aux.show(10)\n",
    "'''"
   ]
  },
  {
   "cell_type": "code",
   "execution_count": 24,
   "metadata": {},
   "outputs": [],
   "source": [
    "#df_final = df_final.join(df_aux, ['CNPJ','REF_DATE'], 'left')\n",
    "#df_final.limit(10).toPandas()"
   ]
  },
  {
   "cell_type": "code",
   "execution_count": 25,
   "metadata": {},
   "outputs": [],
   "source": [
    "#df_final.orderBy(\"QTD_FILIAIS\", ascending=False).show(10)"
   ]
  },
  {
   "cell_type": "markdown",
   "metadata": {},
   "source": [
    "<h1> 3) Natureza Jurídica </h1>"
   ]
  },
  {
   "cell_type": "code",
   "execution_count": 16,
   "metadata": {},
   "outputs": [],
   "source": [
    "df_aux = df_base.select('CNPJ','REF_DATE','NATUREZA_JURIDICA').dropDuplicates()\n",
    "#df_aux.limit(20).toPandas()"
   ]
  },
  {
   "cell_type": "code",
   "execution_count": 17,
   "metadata": {},
   "outputs": [],
   "source": [
    "df_final = df_final.join(df_aux,['CNPJ','REF_DATE'], 'left' )\n",
    "#df_final.limit(10).toPandas()"
   ]
  },
  {
   "cell_type": "markdown",
   "metadata": {},
   "source": [
    "<h1>4) Idade da Empresa </h1>"
   ]
  },
  {
   "cell_type": "code",
   "execution_count": 18,
   "metadata": {},
   "outputs": [],
   "source": [
    "#Aqui estamos incluindo a idade em segundos (como no final vamos precisar normalizar, não faz diferença)\n",
    "df_aux = df_base.select('CNPJ','REF_DATE','ABERTURA').dropDuplicates()\n",
    "df_aux = df_aux.withColumn('ABERTURA',SF.col('ABERTURA').cast('timestamp'))\n",
    "df_aux = df_aux.withColumn('IDADE',SF.col('REF_DATE').cast(\"long\")-SF.col('ABERTURA').cast(\"long\")).drop('ABERTURA')\n",
    "\n",
    "#df_aux.show(5)"
   ]
  },
  {
   "cell_type": "code",
   "execution_count": 19,
   "metadata": {},
   "outputs": [],
   "source": [
    "df_final = df_final.join(df_aux,['CNPJ','REF_DATE'], 'left' )\n",
    "#df_final.limit(10).toPandas()"
   ]
  },
  {
   "cell_type": "markdown",
   "metadata": {},
   "source": [
    "<h1>5) Capital Social </h1>"
   ]
  },
  {
   "cell_type": "code",
   "execution_count": 30,
   "metadata": {},
   "outputs": [
    {
     "name": "stdout",
     "output_type": "stream",
     "text": [
      "+-------+-------------------+\n",
      "|summary|     CAPITAL_SOCIAL|\n",
      "+-------+-------------------+\n",
      "|  count|             214685|\n",
      "|   mean| 1675295.2094820316|\n",
      "| stddev|7.994737990014492E7|\n",
      "|    min|                0.0|\n",
      "|    25%|             5000.0|\n",
      "|    50%|            20000.0|\n",
      "|    75%|            60000.0|\n",
      "|    max|          9999944.0|\n",
      "+-------+-------------------+\n",
      "\n"
     ]
    }
   ],
   "source": [
    "#df.select('CAPITAL_SOCIAL').summary().show()"
   ]
  },
  {
   "cell_type": "code",
   "execution_count": 31,
   "metadata": {},
   "outputs": [
    {
     "name": "stdout",
     "output_type": "stream",
     "text": [
      "+--------------+-----------------------------+\n",
      "|CAPITAL_SOCIAL|NATUREZA_JURIDICA            |\n",
      "+--------------+-----------------------------+\n",
      "|0.0           |SOCIEDADE EMPRESARIA LIMITADA|\n",
      "|0.0           |SOCIEDADE EMPRESARIA LIMITADA|\n",
      "|0.0           |SOCIEDADE EMPRESARIA LIMITADA|\n",
      "|0.0           |SOCIEDADE EMPRESARIA LIMITADA|\n",
      "|0.0           |SOCIEDADE EMPRESARIA LIMITADA|\n",
      "|0.0           |SOCIEDADE EMPRESARIA LIMITADA|\n",
      "|0.0           |SOCIEDADE EMPRESARIA LIMITADA|\n",
      "|0.0           |SOCIEDADE EMPRESARIA LIMITADA|\n",
      "|0.0           |SOCIEDADE EMPRESARIA LIMITADA|\n",
      "|0.0           |SOCIEDADE EMPRESARIA LIMITADA|\n",
      "|0.0           |SOCIEDADE EMPRESARIA LIMITADA|\n",
      "|0.0           |SOCIEDADE EMPRESARIA LIMITADA|\n",
      "|0.0           |SOCIEDADE EMPRESARIA LIMITADA|\n",
      "|0.0           |SOCIEDADE EMPRESARIA LIMITADA|\n",
      "|0.0           |SOCIEDADE EMPRESARIA LIMITADA|\n",
      "|0.0           |SOCIEDADE EMPRESARIA LIMITADA|\n",
      "|0.0           |EMPRESARIO (INDIVIDUAL)      |\n",
      "|0.0           |EMPRESARIO (INDIVIDUAL)      |\n",
      "|0.0           |EMPRESARIO (INDIVIDUAL)      |\n",
      "|0.0           |SOCIEDADE EMPRESARIA LIMITADA|\n",
      "+--------------+-----------------------------+\n",
      "only showing top 20 rows\n",
      "\n"
     ]
    }
   ],
   "source": [
    "#df.select('CAPITAL_SOCIAL','NATUREZA_JURIDICA').filter(SF.col('CAPITAL_SOCIAL')==0).show(20,False)"
   ]
  },
  {
   "cell_type": "code",
   "execution_count": 20,
   "metadata": {},
   "outputs": [],
   "source": [
    "df_aux = df_base.select('CNPJ','REF_DATE','CAPITAL_SOCIAL').dropDuplicates()\n",
    "#df_aux.show(50)"
   ]
  },
  {
   "cell_type": "code",
   "execution_count": 21,
   "metadata": {},
   "outputs": [],
   "source": [
    "df_final = df_final.join(df_aux,['CNPJ','REF_DATE'], 'left' )\n",
    "#df_final.limit(10).toPandas()"
   ]
  },
  {
   "cell_type": "markdown",
   "metadata": {},
   "source": [
    "<h1>6) Tipo (Matriz ou Filial) </h1>"
   ]
  },
  {
   "cell_type": "code",
   "execution_count": 22,
   "metadata": {},
   "outputs": [],
   "source": [
    "df_aux = df_base.select('CNPJ','REF_DATE','TIPO').dropDuplicates()\n",
    "df_final = df_final.join(df_aux,['CNPJ','REF_DATE'], 'left' )\n",
    "#df_final.limit(10).toPandas()"
   ]
  },
  {
   "cell_type": "code",
   "execution_count": 35,
   "metadata": {},
   "outputs": [
    {
     "name": "stdout",
     "output_type": "stream",
     "text": [
      "+--------------+-------------------+--------+-------+----------+------------------------------------------------------------------------+----------+--------------+------+\n",
      "|CNPJ          |REF_DATE           |DATA_REF|CS_ALVO|QTD_SOCIOS|NATUREZA_JURIDICA                                                       |IDADE     |CAPITAL_SOCIAL|TIPO  |\n",
      "+--------------+-------------------+--------+-------+----------+------------------------------------------------------------------------+----------+--------------+------+\n",
      "|00004330000155|2016-10-01 00:00:00|2016-10 |0      |1         |EMPRESA INDIVIDUAL DE RESPONSABILIDADE LIMITADA (DE NATUREZA EMPRESARIA)|706244400 |90000.0       |MATRIZ|\n",
      "|00078090000133|2017-03-01 00:00:00|2017-03 |0      |2         |SOCIEDADE EMPRESARIA LIMITADA                                           |718081200 |0.0           |MATRIZ|\n",
      "|00109982000154|2016-09-01 00:00:00|2016-09 |1      |2         |SOCIEDADE EMPRESARIA LIMITADA                                           |698814000 |10000.0       |MATRIZ|\n",
      "|00281129000115|2017-06-01 00:00:00|2017-06 |0      |3         |SOCIEDADE EMPRESARIA LIMITADA                                           |712465200 |30000.0       |MATRIZ|\n",
      "|00294916000100|2017-02-01 00:00:00|2017-02 |0      |0         |EMPRESARIO (INDIVIDUAL)                                                 |701492400 |0.0           |MATRIZ|\n",
      "|00370197000150|2016-11-01 00:00:00|2016-11 |1      |3         |SOCIEDADE EMPRESARIA LIMITADA                                           |1351047600|100000.0      |MATRIZ|\n",
      "|00711050000187|2016-11-01 00:00:00|2016-11 |0      |0         |EMPRESARIO (INDIVIDUAL)                                                 |674276400 |0.0           |MATRIZ|\n",
      "|00951519000155|2017-01-01 00:00:00|2017-01 |0      |0         |EMPRESARIO (INDIVIDUAL)                                                 |665204400 |0.0           |MATRIZ|\n",
      "|00984383000180|2016-09-01 00:00:00|2016-09 |0      |1         |SOCIEDADE EMPRESARIA LIMITADA                                           |652590000 |100000.0      |MATRIZ|\n",
      "|01013673000149|2017-02-01 00:00:00|2017-02 |0      |2         |SOCIEDADE EMPRESARIA LIMITADA                                           |670129200 |0.0           |MATRIZ|\n",
      "|01024580000110|2016-09-01 00:00:00|2016-09 |0      |0         |EMPRESARIO (INDIVIDUAL)                                                 |650430000 |0.0           |MATRIZ|\n",
      "|01163316000167|2017-01-01 00:00:00|2017-01 |0      |3         |SOCIEDADE EMPRESARIA LIMITADA                                           |653367600 |10000.0       |MATRIZ|\n",
      "|01252815000120|2016-07-01 00:00:00|2016-07 |0      |1         |EMPRESA INDIVIDUAL DE RESPONSABILIDADE LIMITADA (DE NATUREZA EMPRESARIA)|636346800 |100000.0      |MATRIZ|\n",
      "|01358637000117|2017-05-01 00:00:00|2017-05 |0      |1         |SOCIEDADE EMPRESARIA LIMITADA                                           |654836400 |0.0           |MATRIZ|\n",
      "|01469354000142|2017-01-01 00:00:00|2017-01 |0      |1         |EMPRESA INDIVIDUAL DE RESPONSABILIDADE LIMITADA (DE NATUREZA EMPRESARIA)|639198000 |100000.0      |MATRIZ|\n",
      "|01689785000114|2017-02-01 00:00:00|2017-02 |0      |2         |SOCIEDADE EMPRESARIA LIMITADA                                           |984625200 |10000.0       |MATRIZ|\n",
      "|01805386000171|2017-03-01 00:00:00|2017-03 |0      |0         |EMPRESARIO (INDIVIDUAL)                                                 |626410800 |30000.0       |MATRIZ|\n",
      "|01836357001653|2017-04-01 00:00:00|2017-04 |0      |0         |SOCIEDADE EMPRESARIA LIMITADA                                           |12798000  |0.0           |FILIAL|\n",
      "|01864042000133|2017-01-01 00:00:00|2017-01 |0      |2         |SOCIEDADE EMPRESARIA LIMITADA                                           |619585200 |10000.0       |MATRIZ|\n",
      "|02026313000144|2016-10-01 00:00:00|2016-10 |0      |2         |SOCIEDADE EMPRESARIA LIMITADA                                           |605847600 |200000.0      |MATRIZ|\n",
      "|02046623000120|2017-01-01 00:00:00|2017-01 |0      |2         |SOCIEDADE EMPRESARIA LIMITADA                                           |612500400 |20000.0       |MATRIZ|\n",
      "|02065957000141|2017-04-01 00:00:00|2017-04 |0      |0         |EMPRESARIO (INDIVIDUAL)                                                 |619585200 |0.0           |MATRIZ|\n",
      "|02141242000120|2017-03-01 00:00:00|2017-03 |0      |2         |SOCIEDADE EMPRESARIA LIMITADA                                           |613191600 |0.0           |MATRIZ|\n",
      "|02267397000108|2016-10-01 00:00:00|2016-10 |0      |2         |SOCIEDADE EMPRESARIA LIMITADA                                           |607575600 |15000.0       |MATRIZ|\n",
      "|02296586000109|2017-04-01 00:00:00|2017-04 |0      |2         |SOCIEDADE EMPRESARIA LIMITADA                                           |611290800 |10000.0       |MATRIZ|\n",
      "|02645213000104|2017-02-01 00:00:00|2017-02 |1      |0         |EMPRESARIO (INDIVIDUAL)                                                 |584852400 |0.0           |MATRIZ|\n",
      "|02709787000190|2017-03-01 00:00:00|2017-03 |0      |2         |SOCIEDADE EMPRESARIA LIMITADA                                           |584334000 |0.0           |MATRIZ|\n",
      "|02921734000139|2016-08-01 00:00:00|2016-08 |0      |0         |EMPRESARIO (INDIVIDUAL)                                                 |554353200 |0.0           |MATRIZ|\n",
      "|02955720000136|2017-05-01 00:00:00|2017-05 |0      |2         |SOCIEDADE EMPRESARIA LIMITADA                                           |580014000 |80000.0       |MATRIZ|\n",
      "|03323708000171|2017-02-01 00:00:00|2017-02 |0      |1         |SOCIEDADE EMPRESARIA LIMITADA                                           |553575600 |15000.0       |MATRIZ|\n",
      "|03345133000198|2016-08-01 00:00:00|2016-08 |0      |0         |EMPRESARIO (INDIVIDUAL)                                                 |566017200 |50000.0       |MATRIZ|\n",
      "|03349324000128|2017-04-01 00:00:00|2017-04 |0      |3         |SOCIEDADE EMPRESARIA LIMITADA                                           |556772400 |350000.0      |MATRIZ|\n",
      "|03369520000164|2016-07-01 00:00:00|2016-07 |1      |2         |SOCIEDADE EMPRESARIA LIMITADA                                           |531630000 |100000.0      |MATRIZ|\n",
      "|03406066000174|2016-09-01 00:00:00|2016-09 |0      |0         |EMPRESARIO (INDIVIDUAL)                                                 |534740400 |0.0           |MATRIZ|\n",
      "|03406077000154|2016-07-01 00:00:00|2016-07 |0      |2         |SOCIEDADE EMPRESARIA LIMITADA                                           |529556400 |50000.0       |MATRIZ|\n",
      "|03426804000145|2016-11-01 00:00:00|2016-11 |0      |2         |SOCIEDADE EMPRESARIA LIMITADA                                           |539492400 |30000.0       |MATRIZ|\n",
      "|03489753000109|2016-08-01 00:00:00|2016-08 |0      |0         |EMPRESARIO (INDIVIDUAL)                                                 |528346800 |90000.0       |MATRIZ|\n",
      "|03535785000195|2016-11-01 00:00:00|2016-11 |0      |0         |EMPRESARIO (INDIVIDUAL)                                                 |533962800 |0.0           |MATRIZ|\n",
      "|03838465000295|2017-05-01 00:00:00|2017-05 |0      |0         |EMPRESARIO (INDIVIDUAL)                                                 |485578800 |0.0           |FILIAL|\n",
      "|03960877000112|2016-08-01 00:00:00|2016-08 |0      |0         |EMPRESARIO (INDIVIDUAL)                                                 |505882800 |56000.0       |MATRIZ|\n",
      "|03972067000186|2016-09-01 00:00:00|2016-09 |0      |2         |SOCIEDADE EMPRESARIA LIMITADA                                           |508042800 |30000.0       |MATRIZ|\n",
      "|04074081000125|2017-06-01 00:00:00|2017-06 |0      |0         |EMPRESARIO (INDIVIDUAL)                                                 |527482800 |0.0           |MATRIZ|\n",
      "|04232075000159|2017-01-01 00:00:00|2017-01 |0      |0         |EMPRESARIO (INDIVIDUAL)                                                 |503982000 |0.0           |MATRIZ|\n",
      "|04261023000100|2016-08-01 00:00:00|2016-08 |0      |0         |EMPRESARIO (INDIVIDUAL)                                                 |490158000 |0.0           |MATRIZ|\n",
      "|04296392000139|2017-04-01 00:00:00|2017-04 |0      |2         |SOCIEDADE EMPRESARIA LIMITADA                                           |508906800 |210000.0      |MATRIZ|\n",
      "|04297091000120|2016-09-01 00:00:00|2016-09 |0      |0         |EMPRESARIO (INDIVIDUAL)                                                 |507524400 |0.0           |MATRIZ|\n",
      "|04320005000152|2016-10-01 00:00:00|2016-10 |0      |0         |EMPRESARIO (INDIVIDUAL)                                                 |491540400 |0.0           |MATRIZ|\n",
      "|04342629000170|2017-02-01 00:00:00|2017-02 |0      |2         |SOCIEDADE EMPRESARIA LIMITADA                                           |505537200 |0.0           |MATRIZ|\n",
      "|04356210000178|2017-01-01 00:00:00|2017-01 |0      |2         |SOCIEDADE EMPRESARIA LIMITADA                                           |498106800 |0.0           |MATRIZ|\n",
      "|04413482000162|2017-06-01 00:00:00|2017-06 |0      |1         |SOCIEDADE EMPRESARIA LIMITADA                                           |508129200 |30000.0       |MATRIZ|\n",
      "|04732037000165|2017-06-01 00:00:00|2017-06 |1      |2         |SOCIEDADE EMPRESARIA LIMITADA                                           |493614000 |0.0           |MATRIZ|\n",
      "|04740820000170|2016-08-01 00:00:00|2016-08 |0      |1         |SOCIEDADE EMPRESARIA LIMITADA                                           |466657200 |0.0           |MATRIZ|\n",
      "|04766312000161|2017-06-01 00:00:00|2017-06 |0      |2         |SOCIEDADE EMPRESARIA LIMITADA                                           |491367600 |50000.0       |MATRIZ|\n",
      "|04767192000117|2017-04-01 00:00:00|2017-04 |0      |2         |SOCIEDADE EMPRESARIA LIMITADA                                           |485838000 |20000.0       |MATRIZ|\n",
      "|04905515000191|2016-11-01 00:00:00|2016-11 |1      |0         |EMPRESARIO (INDIVIDUAL)                                                 |465015600 |0.0           |MATRIZ|\n",
      "|05094247000138|2017-05-01 00:00:00|2017-05 |0      |0         |EMPRESARIO (INDIVIDUAL)                                                 |470804400 |0.0           |MATRIZ|\n",
      "|05140542000183|2017-01-01 00:00:00|2017-01 |0      |2         |SOCIEDADE EMPRESARIA LIMITADA                                           |457671600 |0.0           |MATRIZ|\n",
      "|05198620000109|2017-03-01 00:00:00|2017-03 |0      |0         |EMPRESARIO (INDIVIDUAL)                                                 |461473200 |0.0           |MATRIZ|\n",
      "|05290534000113|2016-11-01 00:00:00|2016-11 |1      |0         |EMPRESARIO (INDIVIDUAL)                                                 |445748400 |10000.0       |MATRIZ|\n",
      "|05295646000167|2017-02-01 00:00:00|2017-02 |0      |2         |SOCIEDADE EMPRESARIA LIMITADA                                           |453438000 |0.0           |MATRIZ|\n",
      "|05358729000158|2017-05-01 00:00:00|2017-05 |0      |2         |SOCIEDADE EMPRESARIA LIMITADA                                           |459486000 |0.0           |MATRIZ|\n",
      "|05487314000184|2016-09-01 00:00:00|2016-09 |0      |0         |EMPRESARIO (INDIVIDUAL)                                                 |431838000 |0.0           |MATRIZ|\n",
      "|05518032000105|2017-04-01 00:00:00|2017-04 |0      |1         |EMPRESA INDIVIDUAL DE RESPONSABILIDADE LIMITADA (DE NATUREZA EMPRESARIA)|446094000 |100000.0      |MATRIZ|\n",
      "|05686717000152|2017-03-01 00:00:00|2017-03 |0      |5         |SOCIEDADE EMPRESARIA LIMITADA                                           |433566000 |15000.0       |MATRIZ|\n",
      "|05699583000104|2016-08-01 00:00:00|2016-08 |0      |3         |SOCIEDADE EMPRESARIA LIMITADA                                           |414298800 |10000.0       |MATRIZ|\n",
      "|05704842000148|2016-08-01 00:00:00|2016-08 |1      |0         |EMPRESARIO (INDIVIDUAL)                                                 |414817200 |0.0           |MATRIZ|\n",
      "|05754292000171|2016-10-01 00:00:00|2016-10 |0      |0         |EMPRESARIO (INDIVIDUAL)                                                 |418014000 |0.0           |MATRIZ|\n",
      "|05759021000109|2017-05-01 00:00:00|2017-05 |0      |2         |SOCIEDADE EMPRESARIA LIMITADA                                           |436071600 |9000.0        |MATRIZ|\n",
      "|05775282000112|2016-09-01 00:00:00|2016-09 |0      |2         |SOCIEDADE EMPRESARIA LIMITADA                                           |414385200 |0.0           |MATRIZ|\n",
      "|05899599000160|2017-05-01 00:00:00|2017-05 |1      |1         |SOCIEDADE EMPRESARIA LIMITADA                                           |429678000 |10000.0       |MATRIZ|\n",
      "|06049922000170|2017-03-01 00:00:00|2017-03 |0      |2         |SOCIEDADE EMPRESARIA LIMITADA                                           |415594800 |0.0           |MATRIZ|\n",
      "|06142597000195|2017-04-01 00:00:00|2017-04 |0      |0         |EMPRESARIO (INDIVIDUAL)                                                 |414126000 |0.0           |MATRIZ|\n",
      "|06220526000163|2017-02-01 00:00:00|2017-02 |0      |3         |SOCIEDADE EMPRESARIA LIMITADA                                           |403844400 |0.0           |MATRIZ|\n",
      "|06279960000119|2016-10-01 00:00:00|2016-10 |0      |2         |SOCIEDADE EMPRESARIA LIMITADA                                           |395031600 |0.0           |MATRIZ|\n",
      "|06282330000101|2016-10-01 00:00:00|2016-10 |0      |2         |SOCIEDADE EMPRESARIA LIMITADA                                           |391057200 |40000.0       |MATRIZ|\n",
      "|06975493000242|2016-09-01 00:00:00|2016-09 |0      |1         |EMPRESA INDIVIDUAL DE RESPONSABILIDADE LIMITADA (DE NATUREZA EMPRESARIA)|103690800 |200000.0      |FILIAL|\n",
      "|07177514000166|2017-02-01 00:00:00|2017-02 |0      |0         |EMPRESARIO (INDIVIDUAL)                                                 |380602800 |0.0           |MATRIZ|\n",
      "|07248383000160|2017-04-01 00:00:00|2017-04 |0      |4         |SOCIEDADE EMPRESARIA LIMITADA                                           |382417200 |10000.0       |MATRIZ|\n",
      "|07274297000122|2016-08-01 00:00:00|2016-08 |0      |1         |EMPRESA INDIVIDUAL DE RESPONSABILIDADE LIMITADA (DE NATUREZA EMPRESARIA)|358657200 |93700.0       |MATRIZ|\n",
      "|07330769000117|2017-01-01 00:00:00|2017-01 |0      |0         |EMPRESARIO (INDIVIDUAL)                                                 |369802800 |100000.0      |MATRIZ|\n",
      "|07489810000100|2016-09-01 00:00:00|2016-09 |1      |0         |EMPRESARIO (INDIVIDUAL)                                                 |351399600 |0.0           |MATRIZ|\n",
      "|07497152000190|2017-01-01 00:00:00|2017-01 |0      |2         |SOCIEDADE EMPRESARIA LIMITADA                                           |361940400 |10000.0       |MATRIZ|\n",
      "|07558813000140|2017-02-01 00:00:00|2017-02 |0      |2         |SOCIEDADE EMPRESARIA LIMITADA                                           |360558000 |5000.0        |MATRIZ|\n",
      "|07560969000166|2017-06-01 00:00:00|2017-06 |0      |3         |SOCIEDADE EMPRESARIA LIMITADA                                           |376369200 |0.0           |MATRIZ|\n",
      "|07575470000122|2016-07-01 00:00:00|2016-07 |0      |2         |EMPRESA INDIVIDUAL DE RESPONSABILIDADE LIMITADA (DE NATUREZA EMPRESARIA)|346906800 |443520.0      |MATRIZ|\n",
      "|07685311000180|2017-06-01 00:00:00|2017-06 |0      |1         |EMPRESA INDIVIDUAL DE RESPONSABILIDADE LIMITADA (DE NATUREZA SIMPLES)   |365223600 |10000.0       |MATRIZ|\n",
      "|07834841000143|2017-01-01 00:00:00|2017-01 |0      |2         |SOCIEDADE EMPRESARIA LIMITADA                                           |343796400 |100000.0      |MATRIZ|\n",
      "|07879386000100|2017-02-01 00:00:00|2017-02 |0      |2         |SOCIEDADE EMPRESARIA LIMITADA                                           |347252400 |10000.0       |MATRIZ|\n",
      "|08064872000125|2017-01-01 00:00:00|2017-01 |0      |2         |SOCIEDADE EMPRESARIA LIMITADA                                           |333774000 |10000.0       |MATRIZ|\n",
      "|08621488000186|2016-07-01 00:00:00|2016-07 |0      |2         |SOCIEDADE EMPRESARIA LIMITADA                                           |297226800 |20000.0       |MATRIZ|\n",
      "|08625914000150|2016-07-01 00:00:00|2016-07 |0      |0         |SOCIEDADE EMPRESARIA LIMITADA                                           |298177200 |0.0           |MATRIZ|\n",
      "|08786240000175|2016-08-01 00:00:00|2016-08 |0      |0         |EMPRESARIO (INDIVIDUAL)                                                 |296190000 |20000.0       |MATRIZ|\n",
      "|08845874000151|2017-03-01 00:00:00|2017-03 |0      |2         |SOCIEDADE EMPRESARIA LIMITADA                                           |308631600 |20000.0       |MATRIZ|\n",
      "|08923585000123|2016-09-01 00:00:00|2016-09 |0      |2         |SOCIEDADE EMPRESARIA LIMITADA                                           |289105200 |10000.0       |MATRIZ|\n",
      "|08946944000168|2016-11-01 00:00:00|2016-11 |0      |2         |SOCIEDADE EMPRESARIA LIMITADA                                           |293684400 |10000.0       |MATRIZ|\n",
      "|08974033000144|2016-08-01 00:00:00|2016-08 |0      |2         |SOCIEDADE EMPRESARIA LIMITADA                                           |284785200 |30000.0       |MATRIZ|\n",
      "|08981904000157|2016-09-01 00:00:00|2016-09 |0      |0         |SOCIEDADE EMPRESARIA LIMITADA                                           |1009940400|20000.0       |MATRIZ|\n",
      "|09077349000104|2017-03-01 00:00:00|2017-03 |0      |0         |EMPRESARIO (INDIVIDUAL)                                                 |303447600 |15000.0       |MATRIZ|\n",
      "|09134912000120|2016-10-01 00:00:00|2016-10 |0      |2         |SOCIEDADE EMPRESARIA LIMITADA                                           |286340400 |100000.0      |MATRIZ|\n",
      "|09259350000141|2016-12-01 00:00:00|2016-12 |0      |0         |EMPRESARIO (INDIVIDUAL)                                                 |287550000 |10000.0       |MATRIZ|\n",
      "+--------------+-------------------+--------+-------+----------+------------------------------------------------------------------------+----------+--------------+------+\n",
      "only showing top 100 rows\n",
      "\n"
     ]
    }
   ],
   "source": [
    "df_final.show(100,False)"
   ]
  },
  {
   "cell_type": "markdown",
   "metadata": {},
   "source": [
    "<h1>7) Situação </h1>"
   ]
  },
  {
   "cell_type": "code",
   "execution_count": 47,
   "metadata": {},
   "outputs": [
    {
     "name": "stdout",
     "output_type": "stream",
     "text": [
      "+--------------+-------------------+--------+-------------------+\n",
      "|          CNPJ|           REF_DATE|SITUACAO|       MAX_REF_DATE|\n",
      "+--------------+-------------------+--------+-------------------+\n",
      "|04309109000166|2016-10-01 00:00:00|   ATIVA|2016-10-01 00:00:00|\n",
      "|07115699000184|2016-09-01 00:00:00|   ATIVA|2016-09-01 00:00:00|\n",
      "|82688128000154|2017-02-01 00:00:00|   ATIVA|2017-02-01 00:00:00|\n",
      "|16571550000109|2017-01-01 00:00:00| BAIXADA|2017-01-01 00:00:00|\n",
      "|15558469000118|2017-04-01 00:00:00|   ATIVA|2017-04-01 00:00:00|\n",
      "|04781776000147|2017-03-01 00:00:00|   ATIVA|2017-03-01 00:00:00|\n",
      "|07909991000179|2017-03-01 00:00:00|   ATIVA|2017-03-01 00:00:00|\n",
      "|08365582000111|2016-09-01 00:00:00|   ATIVA|2016-09-01 00:00:00|\n",
      "|22851094000145|2016-09-01 00:00:00|   ATIVA|2016-09-01 00:00:00|\n",
      "|20599750000139|2017-03-01 00:00:00|   ATIVA|2017-03-01 00:00:00|\n",
      "+--------------+-------------------+--------+-------------------+\n",
      "only showing top 10 rows\n",
      "\n"
     ]
    }
   ],
   "source": [
    "#df_aux = df_base.select('CNPJ','REF_DATE','SITUACAO').dropDuplicates()\n",
    "#df_final = df_final.join(df_aux,['CNPJ','REF_DATE'], 'left' )\n",
    "\n",
    "df_aux = df_base.select('CNPJ','REF_DATE','SITUACAO').dropDuplicates().\\\n",
    "            groupBy('CNPJ','REF_DATE','SITUACAO').agg(SF.max('REF_DATE').alias('MAX_REF_DATE'))\n",
    "\n",
    "df_aux.show(10)"
   ]
  },
  {
   "cell_type": "code",
   "execution_count": 28,
   "metadata": {},
   "outputs": [
    {
     "name": "stdout",
     "output_type": "stream",
     "text": [
      "+--------------+-----+\n",
      "|          CNPJ|count|\n",
      "+--------------+-----+\n",
      "|07558813000140|    1|\n",
      "|15217663000130|    1|\n",
      "|11113907000183|    1|\n",
      "|10710709000134|    1|\n",
      "|10449557000168|    1|\n",
      "|00305749000147|    1|\n",
      "|33613845000101|    1|\n",
      "|07446344000178|    1|\n",
      "|02323877000149|    1|\n",
      "|22469189000107|    1|\n",
      "+--------------+-----+\n",
      "only showing top 10 rows\n",
      "\n"
     ]
    }
   ],
   "source": [
    "df_aux.groupBy('CNPJ').count().orderBy(\"count\", ascending=0).show(10)"
   ]
  },
  {
   "cell_type": "code",
   "execution_count": 48,
   "metadata": {},
   "outputs": [
    {
     "name": "stdout",
     "output_type": "stream",
     "text": [
      "+--------------+--------+-------------------+\n",
      "|          CNPJ|SITUACAO|           REF_DATE|\n",
      "+--------------+--------+-------------------+\n",
      "|09137552000110|   ATIVA|2017-02-01 00:00:00|\n",
      "|15538995000116|   ATIVA|2016-11-01 00:00:00|\n",
      "|97385470000152|   ATIVA|2016-11-01 00:00:00|\n",
      "|14419906000150|   ATIVA|2017-03-01 00:00:00|\n",
      "|66521220000179|   ATIVA|2016-12-01 00:00:00|\n",
      "|48157564000169|   ATIVA|2016-09-01 00:00:00|\n",
      "|01928075000108|   ATIVA|2016-08-01 00:00:00|\n",
      "|67558866000193|   ATIVA|2017-01-01 00:00:00|\n",
      "|23960650000184| BAIXADA|2017-02-01 00:00:00|\n",
      "|00382316000195|   ATIVA|2016-10-01 00:00:00|\n",
      "|15370185000101|   ATIVA|2017-05-01 00:00:00|\n",
      "|11506682000125|   ATIVA|2017-01-01 00:00:00|\n",
      "|21035139000140|   ATIVA|2017-03-01 00:00:00|\n",
      "|22917821000120|   ATIVA|2016-09-01 00:00:00|\n",
      "|13710410000178|   ATIVA|2017-03-01 00:00:00|\n",
      "|00630419000127|   ATIVA|2017-05-01 00:00:00|\n",
      "|20591378000114|   ATIVA|2016-11-01 00:00:00|\n",
      "|04697015000101|   ATIVA|2016-10-01 00:00:00|\n",
      "|00276285000198|   ATIVA|2017-01-01 00:00:00|\n",
      "|07500187000131|   ATIVA|2017-02-01 00:00:00|\n",
      "+--------------+--------+-------------------+\n",
      "only showing top 20 rows\n",
      "\n"
     ]
    }
   ],
   "source": [
    "df_aux = df_aux.drop(\"REF_DATE\").dropDuplicates().withColumnRenamed(\"MAX_REF_DATE\",\"REF_DATE\")\n",
    "df_aux.show(20)"
   ]
  },
  {
   "cell_type": "code",
   "execution_count": 49,
   "metadata": {},
   "outputs": [],
   "source": [
    "df_final = df_final.join(df_aux,['CNPJ','REF_DATE'], 'left' )"
   ]
  },
  {
   "cell_type": "markdown",
   "metadata": {},
   "source": [
    "<h1>8) Atividade Principal </h1>"
   ]
  },
  {
   "cell_type": "code",
   "execution_count": 31,
   "metadata": {},
   "outputs": [],
   "source": [
    "df_aux = df_base.select('CNPJ','REF_DATE','ATIVIDADE_PRINCIPAL').dropDuplicates()\n",
    "df_final = df_final.join(df_aux,['CNPJ','REF_DATE'], 'left' )\n",
    "#df_final.limit(20).toPandas()"
   ]
  },
  {
   "cell_type": "code",
   "execution_count": 50,
   "metadata": {},
   "outputs": [],
   "source": [
    "df_teste = df_final"
   ]
  },
  {
   "cell_type": "code",
   "execution_count": 44,
   "metadata": {},
   "outputs": [
    {
     "name": "stdout",
     "output_type": "stream",
     "text": [
      "+--------------+-------------------+--------+-------+----------+--------------------+---------+--------------+------+--------+--------------------+\n",
      "|          CNPJ|           REF_DATE|DATA_REF|CS_ALVO|QTD_SOCIOS|   NATUREZA_JURIDICA|    IDADE|CAPITAL_SOCIAL|  TIPO|SITUACAO| ATIVIDADE_PRINCIPAL|\n",
      "+--------------+-------------------+--------+-------+----------+--------------------+---------+--------------+------+--------+--------------------+\n",
      "|00004330000155|2016-10-01 00:00:00| 2016-10|      0|         1|EMPRESA INDIVIDUA...|706244400|       90000.0|MATRIZ|   ATIVA|RESTAURANTES E SI...|\n",
      "|00078090000133|2017-03-01 00:00:00| 2017-03|      0|         2|SOCIEDADE EMPRESA...|718081200|           0.0|MATRIZ|   ATIVA|BARES E OUTROS ES...|\n",
      "|00109982000154|2016-09-01 00:00:00| 2016-09|      1|         2|SOCIEDADE EMPRESA...|698814000|       10000.0|MATRIZ|   ATIVA|COMERCIO VAREJIST...|\n",
      "|00281129000115|2017-06-01 00:00:00| 2017-06|      0|         3|SOCIEDADE EMPRESA...|712465200|       30000.0|MATRIZ|   ATIVA|PADARIA E CONFEIT...|\n",
      "|00294916000100|2017-02-01 00:00:00| 2017-02|      0|         0|EMPRESARIO (INDIV...|701492400|           0.0|MATRIZ|   ATIVA|LANCHONETES, CASA...|\n",
      "+--------------+-------------------+--------+-------+----------+--------------------+---------+--------------+------+--------+--------------------+\n",
      "only showing top 5 rows\n",
      "\n"
     ]
    }
   ],
   "source": [
    "df_teste.show(5)"
   ]
  },
  {
   "cell_type": "code",
   "execution_count": 36,
   "metadata": {},
   "outputs": [
    {
     "name": "stdout",
     "output_type": "stream",
     "text": [
      "+--------------------+-----+\n",
      "|   NATUREZA_JURIDICA|count|\n",
      "+--------------------+-----+\n",
      "|SOCIEDADE EMPRESA...|37550|\n",
      "|EMPRESARIO (INDIV...|20956|\n",
      "|EMPRESA INDIVIDUA...| 6585|\n",
      "|SOCIEDADE ANONIMA...|   63|\n",
      "|         COOPERATIVA|   47|\n",
      "|SOCIEDADE SIMPLES...|   35|\n",
      "|  ASSOCIACAO PRIVADA|   10|\n",
      "|SERVICO SOCIAL AU...|    7|\n",
      "|SOCIEDADE SIMPLES...|    6|\n",
      "|   ENTIDADE SINDICAL|    5|\n",
      "|SOCIEDADE EMPRESA...|    4|\n",
      "|                null|    3|\n",
      "|EMPRESA INDIVIDUA...|    3|\n",
      "|    FUNDACAO PRIVADA|    2|\n",
      "|ORGANIZACAO RELIG...|    1|\n",
      "|SOCIEDADE ANONIMA...|    1|\n",
      "+--------------------+-----+\n",
      "\n"
     ]
    }
   ],
   "source": [
    "df_teste.groupBy(\"NATUREZA_JURIDICA\").count().orderBy(\"count\",ascending=0).show()"
   ]
  },
  {
   "cell_type": "code",
   "execution_count": 51,
   "metadata": {},
   "outputs": [
    {
     "name": "stdout",
     "output_type": "stream",
     "text": [
      "+--------+-----+\n",
      "|SITUACAO|count|\n",
      "+--------+-----+\n",
      "|   ATIVA|60293|\n",
      "| BAIXADA| 4425|\n",
      "|  INAPTA|  475|\n",
      "|SUSPENSA|   86|\n",
      "|    null|    3|\n",
      "+--------+-----+\n",
      "\n"
     ]
    }
   ],
   "source": [
    "df_teste.groupBy(\"SITUACAO\").count().orderBy(\"count\",ascending=0).show()"
   ]
  },
  {
   "cell_type": "markdown",
   "metadata": {},
   "source": [
    "<h1>9) Unidade Federativa </h1>"
   ]
  },
  {
   "cell_type": "code",
   "execution_count": 39,
   "metadata": {},
   "outputs": [],
   "source": [
    "#df.groupby('UF').count().orderBy('count').show(30)"
   ]
  },
  {
   "cell_type": "code",
   "execution_count": 40,
   "metadata": {},
   "outputs": [],
   "source": [
    "#df_teste = df_final"
   ]
  },
  {
   "cell_type": "code",
   "execution_count": 41,
   "metadata": {},
   "outputs": [],
   "source": [
    "#df_teste.show(10)"
   ]
  },
  {
   "cell_type": "code",
   "execution_count": 52,
   "metadata": {},
   "outputs": [
    {
     "name": "stdout",
     "output_type": "stream",
     "text": [
      "+--------------+-------------------+--------+-------+----------+--------------------+----------+--------------+------+--------------------+--------+---+\n",
      "|          CNPJ|           REF_DATE|DATA_REF|CS_ALVO|QTD_SOCIOS|   NATUREZA_JURIDICA|     IDADE|CAPITAL_SOCIAL|  TIPO| ATIVIDADE_PRINCIPAL|SITUACAO| UF|\n",
      "+--------------+-------------------+--------+-------+----------+--------------------+----------+--------------+------+--------------------+--------+---+\n",
      "|00004330000155|2016-10-01 00:00:00| 2016-10|      0|         1|EMPRESA INDIVIDUA...| 706244400|       90000.0|MATRIZ|RESTAURANTES E SI...|   ATIVA| SP|\n",
      "|00078090000133|2017-03-01 00:00:00| 2017-03|      0|         2|SOCIEDADE EMPRESA...| 718081200|           0.0|MATRIZ|BARES E OUTROS ES...|   ATIVA| RS|\n",
      "|00109982000154|2016-09-01 00:00:00| 2016-09|      1|         2|SOCIEDADE EMPRESA...| 698814000|       10000.0|MATRIZ|COMERCIO VAREJIST...|   ATIVA| SP|\n",
      "|00281129000115|2017-06-01 00:00:00| 2017-06|      0|         3|SOCIEDADE EMPRESA...| 712465200|       30000.0|MATRIZ|PADARIA E CONFEIT...|   ATIVA| SP|\n",
      "|00294916000100|2017-02-01 00:00:00| 2017-02|      0|         0|EMPRESARIO (INDIV...| 701492400|           0.0|MATRIZ|LANCHONETES, CASA...|   ATIVA| SP|\n",
      "|00370197000150|2016-11-01 00:00:00| 2016-11|      1|         3|SOCIEDADE EMPRESA...|1351047600|      100000.0|MATRIZ|COMERCIO VAREJIST...|   ATIVA| DF|\n",
      "|00711050000187|2016-11-01 00:00:00| 2016-11|      0|         0|EMPRESARIO (INDIV...| 674276400|           0.0|MATRIZ|COMERCIO VAREJIST...|   ATIVA| MG|\n",
      "|00951519000155|2017-01-01 00:00:00| 2017-01|      0|         0|EMPRESARIO (INDIV...| 665204400|           0.0|MATRIZ|PADARIA E CONFEIT...|   ATIVA| SP|\n",
      "|00984383000180|2016-09-01 00:00:00| 2016-09|      0|         1|SOCIEDADE EMPRESA...| 652590000|      100000.0|MATRIZ|COMERCIO VAREJIST...|   ATIVA| PR|\n",
      "|01013673000149|2017-02-01 00:00:00| 2017-02|      0|         2|SOCIEDADE EMPRESA...| 670129200|           0.0|MATRIZ|LANCHONETES, CASA...|   ATIVA| RJ|\n",
      "+--------------+-------------------+--------+-------+----------+--------------------+----------+--------------+------+--------------------+--------+---+\n",
      "only showing top 10 rows\n",
      "\n"
     ]
    }
   ],
   "source": [
    "df_aux = df_base.select('CNPJ','REF_DATE','UF').dropDuplicates()\n",
    "df_final = df_final.join(df_aux,['CNPJ','REF_DATE'], 'left' )\n",
    "df_final.show(10)"
   ]
  },
  {
   "cell_type": "code",
   "execution_count": 54,
   "metadata": {},
   "outputs": [
    {
     "name": "stdout",
     "output_type": "stream",
     "text": [
      "+----+-----+\n",
      "|  UF|count|\n",
      "+----+-----+\n",
      "|  SP|24533|\n",
      "|  RJ| 6492|\n",
      "|  MG| 6109|\n",
      "|  PR| 4519|\n",
      "|  RS| 4286|\n",
      "|null| 3716|\n",
      "|  BA| 2646|\n",
      "|  SC| 2476|\n",
      "|  PE| 1667|\n",
      "|  GO| 1294|\n",
      "|  DF| 1278|\n",
      "|  ES| 1247|\n",
      "|  CE| 1107|\n",
      "|  MS|  502|\n",
      "|  MT|  492|\n",
      "|  PA|  434|\n",
      "|  PB|  414|\n",
      "|  AM|  375|\n",
      "|  MA|  328|\n",
      "|  RN|  262|\n",
      "+----+-----+\n",
      "only showing top 20 rows\n",
      "\n"
     ]
    }
   ],
   "source": [
    "df_teste = df_final\n",
    "df_teste.groupBy(\"UF\").count().orderBy(\"count\",ascending=0).show()"
   ]
  },
  {
   "cell_type": "code",
   "execution_count": 43,
   "metadata": {},
   "outputs": [
    {
     "data": {
      "text/plain": [
       "'\\nPróximos passos:\\n1 - Analisar cada variável, tratar os nulos, os outliers e decidir se a variável continua no modelo;\\n2 - Transformar as variáveis categóricas e numéricas (Petronio indicou usar catBoostEncoder)\\n3 - Treinar o modelo (vamos usar Spark ou pandas?)\\n4 - Testar o modelo\\n'"
      ]
     },
     "execution_count": 43,
     "metadata": {},
     "output_type": "execute_result"
    }
   ],
   "source": [
    "'''\n",
    "Próximos passos:\n",
    "1 - Analisar cada variável, tratar os nulos, os outliers e decidir se a variável continua no modelo;\n",
    "2 - Transformar as variáveis categóricas e numéricas (Petronio indicou usar catBoostEncoder)\n",
    "3 - Treinar o modelo (vamos usar Spark ou pandas?)\n",
    "4 - Testar o modelo\n",
    "'''"
   ]
  }
 ],
 "metadata": {
  "kernelspec": {
   "display_name": "Python 3",
   "language": "python",
   "name": "python3"
  },
  "language_info": {
   "codemirror_mode": {
    "name": "ipython",
    "version": 3
   },
   "file_extension": ".py",
   "mimetype": "text/x-python",
   "name": "python",
   "nbconvert_exporter": "python",
   "pygments_lexer": "ipython3",
   "version": "3.7.3"
  }
 },
 "nbformat": 4,
 "nbformat_minor": 2
}
