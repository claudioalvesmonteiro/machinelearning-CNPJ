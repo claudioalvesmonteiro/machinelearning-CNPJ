{
  "nbformat": 4,
  "nbformat_minor": 0,
  "metadata": {
    "kernelspec": {
      "display_name": "Python 3",
      "language": "python",
      "name": "python3"
    },
    "language_info": {
      "codemirror_mode": {
        "name": "ipython",
        "version": 3
      },
      "file_extension": ".py",
      "mimetype": "text/x-python",
      "name": "python",
      "nbconvert_exporter": "python",
      "pygments_lexer": "ipython3",
      "version": "3.7.3"
    },
    "colab": {
      "name": "Extracao_e_Pre_Processamento.ipynb",
      "version": "0.3.2",
      "provenance": [],
      "collapsed_sections": [],
      "include_colab_link": true
    }
  },
  "cells": [
    {
      "cell_type": "markdown",
      "metadata": {
        "id": "view-in-github",
        "colab_type": "text"
      },
      "source": [
        "<a href=\"https://colab.research.google.com/github/claudioalvesmonteiro/machinelearning-CNPJ/blob/master/pre-processamento/Extracao_e_Pre_Processamento.ipynb\" target=\"_parent\"><img src=\"https://colab.research.google.com/assets/colab-badge.svg\" alt=\"Open In Colab\"/></a>"
      ]
    },
    {
      "cell_type": "markdown",
      "metadata": {
        "id": "460lR_XZsx34",
        "colab_type": "text"
      },
      "source": [
        "   # Projeto de Análise de Cŕedito CESAR School\n",
        "   \n",
        "   ## Extração de Dados e Pré-processamento\n",
        "   \n",
        "   Claudio Alves Monteiro\n",
        "   \n",
        "   Marcos Antonio Almeida Souto Júnior\n",
        "   \n",
        "   Virgínia Heimann\n",
        "   \n",
        "   Kayo Renato da Silva Nascimento\n",
        "   \n",
        "   Rosely Cabral"
      ]
    },
    {
      "cell_type": "markdown",
      "metadata": {
        "id": "_eplgbsy9EmT",
        "colab_type": "text"
      },
      "source": [
        "## Configurar SPARK"
      ]
    },
    {
      "cell_type": "code",
      "metadata": {
        "id": "gTWh3v3BrRAy",
        "colab_type": "code",
        "colab": {}
      },
      "source": [
        "!apt-get install openjdk-8-jdk-headless -qq > /dev/null\n",
        "!wget -q http://mirror.nbtelecom.com.br/apache/spark/spark-2.4.3/spark-2.4.3-bin-hadoop2.7.tgz\n",
        "!tar xf spark-2.4.3-bin-hadoop2.7.tgz\n",
        "!pip install -q findspark"
      ],
      "execution_count": 0,
      "outputs": []
    },
    {
      "cell_type": "code",
      "metadata": {
        "id": "EoX23c-nrSWz",
        "colab_type": "code",
        "colab": {}
      },
      "source": [
        "import os\n",
        "os.environ[\"JAVA_HOME\"] = \"/usr/lib/jvm/java-8-openjdk-amd64\"\n",
        "os.environ[\"SPARK_HOME\"] = \"/content/spark-2.4.3-bin-hadoop2.7\""
      ],
      "execution_count": 0,
      "outputs": []
    },
    {
      "cell_type": "code",
      "metadata": {
        "id": "P7K-Aj6JrVei",
        "colab_type": "code",
        "colab": {}
      },
      "source": [
        "import findspark\n",
        "findspark.init()\n",
        "from pyspark.sql import SparkSession\n",
        "spark = SparkSession.builder.master(\"local[*]\").getOrCreate()"
      ],
      "execution_count": 0,
      "outputs": []
    },
    {
      "cell_type": "code",
      "metadata": {
        "id": "Yj-6BAHKrnBn",
        "colab_type": "code",
        "colab": {}
      },
      "source": [
        "# import modules\n",
        "import os\n",
        "import pandas as pd\n",
        "from pyspark.sql import functions as SF\n",
        "import pyspark.sql.types as ST"
      ],
      "execution_count": 0,
      "outputs": []
    },
    {
      "cell_type": "code",
      "metadata": {
        "id": "bRnCfZv3r2uf",
        "colab_type": "code",
        "outputId": "aaa6df3e-380a-4f6f-bfb1-7df2ff788936",
        "colab": {
          "base_uri": "https://localhost:8080/",
          "height": 34
        }
      },
      "source": [
        "from google.colab import drive\n",
        "drive.mount('/content/drive')"
      ],
      "execution_count": 0,
      "outputs": [
        {
          "output_type": "stream",
          "text": [
            "Drive already mounted at /content/drive; to attempt to forcibly remount, call drive.mount(\"/content/drive\", force_remount=True).\n"
          ],
          "name": "stdout"
        }
      ]
    },
    {
      "cell_type": "code",
      "metadata": {
        "id": "F0y33HiWrMLv",
        "colab_type": "code",
        "colab": {}
      },
      "source": [
        "# import data\n",
        "path = 'drive/My Drive/Colab Notebooks/ProjetoCESARSchool/codes/data/'\n",
        "\n",
        "df = spark.read.csv(path+'jur.csv',\n",
        "                    sep='\\t',\n",
        "                    encoding='utf-8',\n",
        "                    header=True,\n",
        "                    inferSchema=False)\n",
        "\n",
        "\n",
        "df_cursor = spark.read.csv(path+'Base_Des-TRN',\n",
        "                    sep='\\t',\n",
        "                    encoding='utf-8',\n",
        "                    header=True,\n",
        "                    inferSchema=False)\n"
      ],
      "execution_count": 0,
      "outputs": []
    },
    {
      "cell_type": "code",
      "metadata": {
        "id": "AGt8cWgGvaxT",
        "colab_type": "code",
        "outputId": "919ad8d5-7069-4263-bd4c-810e13b921e2",
        "colab": {
          "base_uri": "https://localhost:8080/",
          "height": 106
        }
      },
      "source": [
        "# funcao para contagem de valores categoricos\n",
        "def countGenTab(df, column):\n",
        "    # groupby, count and sort pyspark\n",
        "    tab = df.select(column).groupby(column).count().alias('count').sort('count', ascending=False)\n",
        "    # transform to pandas df\n",
        "    tab = tab.toPandas()\n",
        "    # calculate proportion\n",
        "    tab['prop'] = round(tab['count']/sum(tab['count'])*100, 2)\n",
        "    return tab\n",
        "  \n",
        "  \n",
        "countGenTab(df_cursor, 'CS_ALVO')"
      ],
      "execution_count": 0,
      "outputs": [
        {
          "output_type": "execute_result",
          "data": {
            "text/html": [
              "<div>\n",
              "<style scoped>\n",
              "    .dataframe tbody tr th:only-of-type {\n",
              "        vertical-align: middle;\n",
              "    }\n",
              "\n",
              "    .dataframe tbody tr th {\n",
              "        vertical-align: top;\n",
              "    }\n",
              "\n",
              "    .dataframe thead th {\n",
              "        text-align: right;\n",
              "    }\n",
              "</style>\n",
              "<table border=\"1\" class=\"dataframe\">\n",
              "  <thead>\n",
              "    <tr style=\"text-align: right;\">\n",
              "      <th></th>\n",
              "      <th>CS_ALVO</th>\n",
              "      <th>count</th>\n",
              "      <th>prop</th>\n",
              "    </tr>\n",
              "  </thead>\n",
              "  <tbody>\n",
              "    <tr>\n",
              "      <th>0</th>\n",
              "      <td>0</td>\n",
              "      <td>57856</td>\n",
              "      <td>88.64</td>\n",
              "    </tr>\n",
              "    <tr>\n",
              "      <th>1</th>\n",
              "      <td>1</td>\n",
              "      <td>7418</td>\n",
              "      <td>11.36</td>\n",
              "    </tr>\n",
              "  </tbody>\n",
              "</table>\n",
              "</div>"
            ],
            "text/plain": [
              "  CS_ALVO  count   prop\n",
              "0       0  57856  88.64\n",
              "1       1   7418  11.36"
            ]
          },
          "metadata": {
            "tags": []
          },
          "execution_count": 45
        }
      ]
    },
    {
      "cell_type": "code",
      "metadata": {
        "id": "ivL4PzcYv87V",
        "colab_type": "code",
        "outputId": "606573e9-0d7e-4563-dca9-f360e9257e90",
        "colab": {
          "base_uri": "https://localhost:8080/",
          "height": 34
        }
      },
      "source": [
        "clientes = df_cursor.count()\n",
        "clientes"
      ],
      "execution_count": 0,
      "outputs": [
        {
          "output_type": "execute_result",
          "data": {
            "text/plain": [
              "65274"
            ]
          },
          "metadata": {
            "tags": []
          },
          "execution_count": 46
        }
      ]
    },
    {
      "cell_type": "code",
      "metadata": {
        "id": "CTC4MBgwwVDc",
        "colab_type": "code",
        "outputId": "031a7648-6b34-41e0-a9cd-62db5c393f8b",
        "colab": {
          "base_uri": "https://localhost:8080/",
          "height": 34
        }
      },
      "source": [
        "taxa_inad = df_cursor.where(SF.col('CS_ALVO')==1).count()/clientes*100\n",
        "taxa_inad"
      ],
      "execution_count": 0,
      "outputs": [
        {
          "output_type": "execute_result",
          "data": {
            "text/plain": [
              "11.364402365413488"
            ]
          },
          "metadata": {
            "tags": []
          },
          "execution_count": 50
        }
      ]
    },
    {
      "cell_type": "markdown",
      "metadata": {
        "id": "bjejCNxxOWGy",
        "colab_type": "text"
      },
      "source": [
        "## Tratamento de Dados"
      ]
    },
    {
      "cell_type": "code",
      "metadata": {
        "id": "Zdf8CGFYrML6",
        "colab_type": "code",
        "colab": {}
      },
      "source": [
        "#------ tratar inicio do CNPJ sem o 0\n",
        "\n",
        "@SF.udf('string')\n",
        "def fill_cnpj(value):\n",
        "    aux = '00000000000000'+value\n",
        "    return aux[len(value):]\n",
        "\n",
        "#------ tratar inicio do CEP sem o 0\n",
        "\n",
        "@SF.udf('string')\n",
        "def fill_cep(value):\n",
        "    aux = '00000000'+value\n",
        "    return aux[len(value):]"
      ],
      "execution_count": 0,
      "outputs": []
    },
    {
      "cell_type": "code",
      "metadata": {
        "id": "_ot87c0CrML9",
        "colab_type": "code",
        "colab": {}
      },
      "source": [
        "df_cursor = df_cursor.withColumn('CNPJ',fill_cnpj('CNPJ'))\n",
        "df = df.withColumn('CNPJ',fill_cnpj('CNPJ'))\n",
        "df = df.withColumn('CEP',fill_cep('CEP'))\n"
      ],
      "execution_count": 0,
      "outputs": []
    },
    {
      "cell_type": "code",
      "metadata": {
        "id": "Z6NtFZxDrMMG",
        "colab_type": "code",
        "colab": {}
      },
      "source": [
        "#------ Convertendo REF_DATE do df_cursor para timestamp\n",
        "\n",
        "df_cursor = df_cursor.withColumn('REF_DATE',SF.from_unixtime(\n",
        "            SF.unix_timestamp('DATA_REF','yyyy-MM')).cast('timestamp'))\n",
        "\n",
        "#------ Convertendo REF_DATE do df para timestamp\n",
        "\n",
        "df = df.withColumn('REF_DATE',SF.col('REF_DATE').cast('timestamp'))"
      ],
      "execution_count": 0,
      "outputs": []
    },
    {
      "cell_type": "code",
      "metadata": {
        "id": "yljGk4bqrMML",
        "colab_type": "code",
        "colab": {}
      },
      "source": [
        "# renomear colunas\n",
        "\n",
        "df = df.withColumnRenamed('CNPJ','CNPJ_DF').withColumnRenamed('REF_DATE','REF_DATE_DF')"
      ],
      "execution_count": 0,
      "outputs": []
    },
    {
      "cell_type": "code",
      "metadata": {
        "id": "-osMhNMErMMO",
        "colab_type": "code",
        "colab": {}
      },
      "source": [
        "#------ Criando o df_base. O df_base é construido a partir do cursor. Todas as entradas do cursor sao preservadas \n",
        "# e e feito um join com as entradas do df que correspondem à condição dupla: mesmo \"CNPJ\" e \"Data de Referencia\" do df\n",
        "# anterior a \"Data de Referencia\" do cursor  \n",
        "\n",
        "df_base = df_cursor.join(df,\n",
        "                 (df_cursor['CNPJ']==df['CNPJ_DF']) & \n",
        "                 (df_cursor['REF_DATE'] >= df['REF_DATE_DF']),\n",
        "                 'left')"
      ],
      "execution_count": 0,
      "outputs": []
    },
    {
      "cell_type": "markdown",
      "metadata": {
        "id": "yZ5tu1GzrMMf",
        "colab_type": "text"
      },
      "source": [
        "## 1. Quantidade de Sócios"
      ]
    },
    {
      "cell_type": "code",
      "metadata": {
        "id": "d3ZdQ9wKrMMg",
        "colab_type": "code",
        "colab": {}
      },
      "source": [
        "df_aux = df_base.select('CNPJ','REF_DATE','NOME_SOCIO').dropDuplicates().\\\n",
        "            groupBy('CNPJ','REF_DATE').agg(SF.count('NOME_SOCIO').alias('QTD_SOCIOS')).sort(SF.desc('QTD_SOCIOS'))"
      ],
      "execution_count": 0,
      "outputs": []
    },
    {
      "cell_type": "code",
      "metadata": {
        "id": "yMg2fyHvrMMm",
        "colab_type": "code",
        "colab": {}
      },
      "source": [
        "df_final = df_cursor.join(df_aux, ['CNPJ','REF_DATE'], 'left')"
      ],
      "execution_count": 0,
      "outputs": []
    },
    {
      "cell_type": "markdown",
      "metadata": {
        "id": "G_OVmGHJrMMy",
        "colab_type": "text"
      },
      "source": [
        "## 2. Natureza Jurídica"
      ]
    },
    {
      "cell_type": "code",
      "metadata": {
        "id": "rrd9TWAgrMMz",
        "colab_type": "code",
        "colab": {}
      },
      "source": [
        "df_aux = df_base.select('CNPJ','REF_DATE','NATUREZA_JURIDICA').dropDuplicates()"
      ],
      "execution_count": 0,
      "outputs": []
    },
    {
      "cell_type": "code",
      "metadata": {
        "id": "F3l2P_IDrMM1",
        "colab_type": "code",
        "colab": {}
      },
      "source": [
        "df_final = df_final.join(df_aux,['CNPJ','REF_DATE'], 'left' )"
      ],
      "execution_count": 0,
      "outputs": []
    },
    {
      "cell_type": "markdown",
      "metadata": {
        "id": "pAqJyhJMrMM3",
        "colab_type": "text"
      },
      "source": [
        "## 3. Idade da Empresa"
      ]
    },
    {
      "cell_type": "code",
      "metadata": {
        "id": "Ijz6RDsyrMM3",
        "colab_type": "code",
        "colab": {}
      },
      "source": [
        "# aqui estamos incluindo a idade em segundos (como no final vamos precisar normalizar, não faz diferença)\n",
        "df_aux = df_base.select('CNPJ','REF_DATE','ABERTURA').dropDuplicates()\n",
        "df_aux = df_aux.withColumn('ABERTURA',SF.col('ABERTURA').cast('timestamp'))\n",
        "df_aux = df_aux.withColumn('IDADE',SF.col('REF_DATE').cast(\"long\")-SF.col('ABERTURA').cast(\"long\")).drop('ABERTURA')"
      ],
      "execution_count": 0,
      "outputs": []
    },
    {
      "cell_type": "code",
      "metadata": {
        "id": "EmB_7k77rMM8",
        "colab_type": "code",
        "colab": {}
      },
      "source": [
        "df_final = df_final.join(df_aux,['CNPJ','REF_DATE'], 'left' )"
      ],
      "execution_count": 0,
      "outputs": []
    },
    {
      "cell_type": "markdown",
      "metadata": {
        "id": "VWyPaHqvrMM_",
        "colab_type": "text"
      },
      "source": [
        "## 4. Capital Social"
      ]
    },
    {
      "cell_type": "code",
      "metadata": {
        "id": "U3q5tUqFrMNF",
        "colab_type": "code",
        "colab": {}
      },
      "source": [
        "df_aux = df_base.select('CNPJ','REF_DATE','CAPITAL_SOCIAL').dropDuplicates()"
      ],
      "execution_count": 0,
      "outputs": []
    },
    {
      "cell_type": "code",
      "metadata": {
        "id": "au1kLKmorMNJ",
        "colab_type": "code",
        "colab": {}
      },
      "source": [
        "df_final = df_final.join(df_aux,['CNPJ','REF_DATE'], 'left' )"
      ],
      "execution_count": 0,
      "outputs": []
    },
    {
      "cell_type": "markdown",
      "metadata": {
        "id": "sP_x-TJarMNL",
        "colab_type": "text"
      },
      "source": [
        "## 5. Tipo (Matriz ou Filial)"
      ]
    },
    {
      "cell_type": "code",
      "metadata": {
        "id": "NTC_wSJbrMNN",
        "colab_type": "code",
        "colab": {}
      },
      "source": [
        "df_aux = df_base.select('CNPJ','REF_DATE','TIPO').dropDuplicates()\n",
        "df_final = df_final.join(df_aux,['CNPJ','REF_DATE'], 'left' )"
      ],
      "execution_count": 0,
      "outputs": []
    },
    {
      "cell_type": "markdown",
      "metadata": {
        "id": "vvfSqXlOrMNR",
        "colab_type": "text"
      },
      "source": [
        "## 6. Situação "
      ]
    },
    {
      "cell_type": "code",
      "metadata": {
        "id": "WJ_68GR9rMNS",
        "colab_type": "code",
        "colab": {}
      },
      "source": [
        "df_aux = df_base.select('CNPJ','REF_DATE','SITUACAO').dropDuplicates().\\\n",
        "            groupBy('CNPJ','SITUACAO').agg(SF.max('REF_DATE').alias('REF_DATE'))\n",
        "\n"
      ],
      "execution_count": 0,
      "outputs": []
    },
    {
      "cell_type": "code",
      "metadata": {
        "id": "L0hF8_FwrMNZ",
        "colab_type": "code",
        "colab": {}
      },
      "source": [
        "df_final = df_final.join(df_aux,['CNPJ','REF_DATE'], 'left' )"
      ],
      "execution_count": 0,
      "outputs": []
    },
    {
      "cell_type": "markdown",
      "metadata": {
        "id": "qU1w5LX_rMNb",
        "colab_type": "text"
      },
      "source": [
        "## 7. Atividade Principal"
      ]
    },
    {
      "cell_type": "code",
      "metadata": {
        "id": "QlQY7w1KrMNb",
        "colab_type": "code",
        "colab": {}
      },
      "source": [
        "df_aux = df_base.select('CNPJ','REF_DATE','ATIVIDADE_PRINCIPAL').dropDuplicates()\n",
        "df_final = df_final.join(df_aux,['CNPJ','REF_DATE'], 'left' )"
      ],
      "execution_count": 0,
      "outputs": []
    },
    {
      "cell_type": "markdown",
      "metadata": {
        "id": "egnDCdG8rMNn",
        "colab_type": "text"
      },
      "source": [
        "## 8 e 9. Unidade Federativa e Município"
      ]
    },
    {
      "cell_type": "code",
      "metadata": {
        "id": "JOgYJVQbfrQ1",
        "colab_type": "code",
        "colab": {}
      },
      "source": [
        "df_final = df_final.drop('UF','MUNICIPIO')"
      ],
      "execution_count": 0,
      "outputs": []
    },
    {
      "cell_type": "code",
      "metadata": {
        "id": "6-brfR3vE1Js",
        "colab_type": "code",
        "colab": {}
      },
      "source": [
        "# import data\n",
        "\n",
        "df_ddd = spark.read.csv(path+'externos/DDD-Cidade-Estado.csv',\n",
        "                    sep=';',\n",
        "                    encoding='latin1',\n",
        "                    header=True,\n",
        "                    inferSchema=False)"
      ],
      "execution_count": 0,
      "outputs": []
    },
    {
      "cell_type": "code",
      "metadata": {
        "id": "3jIvblkqUd92",
        "colab_type": "code",
        "colab": {}
      },
      "source": [
        "#------ remove_acentos\n",
        "from unicodedata import normalize\n",
        "  \n",
        "def remover_acentos(txt):\n",
        "    if txt is None: \n",
        "      return \"\"\n",
        "    else:\n",
        "      return normalize('NFKD', txt).encode('ASCII', 'ignore').decode('ASCII')\n",
        "\n",
        "if __name__ == '__main__':\n",
        "    from doctest import testmod\n",
        "    testmod()\n",
        "    \n",
        "#------ tratar nomes de cidades\n",
        "\n",
        "@SF.udf('string')\n",
        "def trata_municipio(value, UF):\n",
        "    if value == 'AMPARO DA SERRA':\n",
        "      return 'AMPARO DO SERRA'\n",
        "    if value == 'ASSU':\n",
        "      return 'ACU'\n",
        "    if value == 'BALNEARIO DE PICARRAS':\n",
        "      return 'BALNEARIO PICARRAS'\n",
        "    if value == 'BELEM DE SAO FRANCISCO':\n",
        "      return 'BELEM DO SAO FRANCISCO'\n",
        "    if (value == 'BOM JESUS')&(UF=='GO'):\n",
        "      return 'BOM JESUS DE GOIAS'\n",
        "    if value == 'BRASOPOLIS':\n",
        "      return 'BRAZOPOLIS'\n",
        "    if (value == 'CAMPO GRANDE')&(UF=='RN'):\n",
        "      return 'AUGUSTO SEVERO'\n",
        "    if value == 'DIAS D:AVILA':\n",
        "      return \"DIAS D'AVILA\"\n",
        "    if value == 'DONA EUZEBIA':\n",
        "      return \"DONA EUSEBIA\"\n",
        "    if value == 'ELDORADO DOS CARAJAS':\n",
        "      return \"ELDORADO DO CARAJAS\"\n",
        "    if value == 'FLORINEA':\n",
        "      return \"FLORINIA\"\n",
        "    if value == 'MOGI-GUACU':\n",
        "      return \"MOGI GUACU\"\n",
        "    if value == 'OLHO D:AGUA DAS CUNHAS':\n",
        "      return \"OLHO D'AGUA DAS CUNHAS\"\n",
        "    if value == 'OLHO D:AGUA DAS FLORES':\n",
        "      return \"OLHO D'AGUA DAS FLORES\"\n",
        "    if value == 'SAO TOME DAS LETRAS':\n",
        "      return \"SAO THOME DAS LETRAS\"\n",
        "    if value == 'SANTA ISABEL DO PARA':\n",
        "      return \"SANTA IZABEL DO PARA\"\n",
        "    if value == 'SAO LUIZ DO PARAITINGA':\n",
        "      return \"SAO LUIS DO PARAITINGA\"\n",
        "    if value == 'SANTANA DO LIVRAMENTO':\n",
        "      return \"SANT'ANA DO LIVRAMENTO\"\n",
        "    if value == \"PINGO D'AGUA\":\n",
        "      return \"PINGO-D'AGUA\"\n",
        "    if value == \"POXOREO\":\n",
        "      return \"POXOREU\"\n",
        "    if value == \"SANTA BARBARA D:OESTE\":\n",
        "      return \"SANTA BARBARA D'OESTE\"\n",
        "    return value \n",
        "  \n",
        "@SF.udf('string')\n",
        "def codigo_area(TELEFONE):\n",
        "  if TELEFONE is None: \n",
        "    return \"\"\n",
        "  else:\n",
        "    return (TELEFONE[1]+TELEFONE[2])"
      ],
      "execution_count": 0,
      "outputs": []
    },
    {
      "cell_type": "code",
      "metadata": {
        "id": "vTRkDzaJFBJf",
        "colab_type": "code",
        "colab": {}
      },
      "source": [
        "df_aux = df_base.select('CNPJ','REF_DATE','UF','MUNICIPIO','TELEFONE_1').dropDuplicates()"
      ],
      "execution_count": 0,
      "outputs": []
    },
    {
      "cell_type": "code",
      "metadata": {
        "id": "YYVwB5YLHtj-",
        "colab_type": "code",
        "colab": {}
      },
      "source": [
        "df_aux = df_aux.withColumn('UF_TEL', codigo_area(SF.col('TELEFONE_1')))"
      ],
      "execution_count": 0,
      "outputs": []
    },
    {
      "cell_type": "code",
      "metadata": {
        "id": "XEFEwmbKIiQn",
        "colab_type": "code",
        "colab": {}
      },
      "source": [
        "df_aux = df_aux.join(df_ddd, df_ddd['CODIGO']==df_aux['UF_TEL'], 'left')"
      ],
      "execution_count": 0,
      "outputs": []
    },
    {
      "cell_type": "code",
      "metadata": {
        "id": "RVfx8RIIVfHO",
        "colab_type": "code",
        "colab": {}
      },
      "source": [
        "df_aux = df_aux.toPandas()\n",
        "df_aux['CIDADE'] = df_aux['CIDADE'].apply(lambda x: remover_acentos(x).upper())\n",
        "df_aux = spark.createDataFrame(df_aux)\n"
      ],
      "execution_count": 0,
      "outputs": []
    },
    {
      "cell_type": "code",
      "metadata": {
        "id": "sltdtgREd6I-",
        "colab_type": "code",
        "outputId": "c0f31d8f-bdf3-4080-9021-3ae74dd20f15",
        "colab": {
          "base_uri": "https://localhost:8080/",
          "height": 286
        }
      },
      "source": [
        "df_aux.show(10, False)"
      ],
      "execution_count": 0,
      "outputs": [
        {
          "output_type": "stream",
          "text": [
            "+--------------+-------------------+---+------------------+--------------+------+------+---------+------+\n",
            "|CNPJ          |REF_DATE           |UF |MUNICIPIO         |TELEFONE_1    |UF_TEL|CODIGO|CIDADE   |ESTADO|\n",
            "+--------------+-------------------+---+------------------+--------------+------+------+---------+------+\n",
            "|00231887000129|2017-05-01 00:00:00|BA |FEIRA DE SANTANA  |null          |      |null  |         |null  |\n",
            "|00256837000104|2017-01-01 00:00:00|SP |FRANCA            |null          |      |null  |         |null  |\n",
            "|00501368000133|2016-09-01 00:00:00|SP |JUNDIAI           |null          |      |null  |         |null  |\n",
            "|00560191000146|2017-01-01 00:00:00|SP |SAO PAULO         |(11) 2288-1105|11    |11    |SAO PAULO|SP    |\n",
            "|00642972000180|2017-06-01 00:00:00|RJ |RIO DE JANEIRO    |null          |      |null  |         |null  |\n",
            "|00663069000103|2016-07-01 00:00:00|SP |SAO CAETANO DO SUL|null          |      |null  |         |null  |\n",
            "|00691020000156|2017-05-01 00:00:00|PE |RECIFE            |null          |      |null  |         |null  |\n",
            "|00701583000188|2016-12-01 00:00:00|ES |VITORIA           |(27) 3223-8607|27    |27    |VITORIA  |ES    |\n",
            "|00931390000113|2016-07-01 00:00:00|MG |BELO HORIZONTE    |null          |      |null  |         |null  |\n",
            "|01276895000154|2017-03-01 00:00:00|SP |SAO PAULO         |null          |      |null  |         |null  |\n",
            "+--------------+-------------------+---+------------------+--------------+------+------+---------+------+\n",
            "only showing top 10 rows\n",
            "\n"
          ],
          "name": "stdout"
        }
      ]
    },
    {
      "cell_type": "code",
      "metadata": {
        "id": "9qpnnZ6-OKz-",
        "colab_type": "code",
        "colab": {}
      },
      "source": [
        "df_aux = df_aux.withColumn('UF', SF.when(SF.col(\"UF\").isNull(), SF.col('ESTADO')).otherwise(SF.col('UF')))\n",
        "df_aux = df_aux.withColumn('MUNICIPIO', SF.when(SF.col(\"MUNICIPIO\").isNull(), SF.col('CIDADE')).otherwise(SF.col('MUNICIPIO')))"
      ],
      "execution_count": 0,
      "outputs": []
    },
    {
      "cell_type": "code",
      "metadata": {
        "id": "AQE3Hhx4rMNv",
        "colab_type": "code",
        "colab": {}
      },
      "source": [
        "df_final = df_final.join(df_aux,['CNPJ','REF_DATE'], 'left' ).drop('CIDADE','ESTADO','TELEFONE_1','UF_TEL','CODIGO')"
      ],
      "execution_count": 0,
      "outputs": []
    },
    {
      "cell_type": "code",
      "metadata": {
        "id": "bEgVQrrd6j9g",
        "colab_type": "code",
        "colab": {}
      },
      "source": [
        "df_final = df_final.withColumn('MUNICIPIO', trata_municipio(SF.col('MUNICIPIO'), SF.col('UF')))"
      ],
      "execution_count": 0,
      "outputs": []
    },
    {
      "cell_type": "markdown",
      "metadata": {
        "id": "C1Rgt-h-LW9q",
        "colab_type": "text"
      },
      "source": [
        "## 10. População do Município"
      ]
    },
    {
      "cell_type": "code",
      "metadata": {
        "id": "fJoPi8KcH3LZ",
        "colab_type": "code",
        "outputId": "0ac65f70-8ae4-4d0b-c9be-a29cf3a96f8c",
        "colab": {
          "base_uri": "https://localhost:8080/",
          "height": 222
        }
      },
      "source": [
        "# import data\n",
        "\n",
        "df_municipio = spark.read.csv(path+'externos/municipio_minilake.csv',\n",
        "                    encoding='UTF-8',\n",
        "                    header=True,\n",
        "                    inferSchema=True)\n",
        "\n",
        "df_municipio.show(5)"
      ],
      "execution_count": 0,
      "outputs": [
        {
          "output_type": "stream",
          "text": [
            "+----------+---+---------+------------+--------------+-------------------------+----------------------+----------------------------+--------------------+-----+----------+------------------+--------------+-----------------------+--------------------+---------+\n",
            "|code_muni2| UF|code_muni|dist_capital|area_municipio|taxa_atividade_18anosmais|porcent_pop_saneamento|porcent_mulheres10a17_filhos|mortalidade_infantil| IDHM|IDHM_renda|taxa_analfabetismo|porcent_pobres|municipio_metropolitano|      municipio_nome|populacao|\n",
            "+----------+---+---------+------------+--------------+-------------------------+----------------------+----------------------------+--------------------+-----+----------+------------------+--------------+-----------------------+--------------------+---------+\n",
            "|   1100015| RO|   110001|      409.34|      7067.025|                    60.43|                  80.2|                         2.6|                23.8|0.641|     0.657|              1.22|         26.04|                      0|Alta Floresta D'O...|    25506|\n",
            "|   1100023| RO|   110002|       159.2|      4426.571|                    71.08|                 85.35|                        3.38|                19.2|0.702|     0.716|              1.55|         11.54|                      0|           Ariquemes|   105896|\n",
            "|   1100031| RO|   110003|      640.97|      1314.353|                     61.5|                 91.63|                        2.73|                24.8| 0.65|      0.65|              0.62|          21.2|                      0|              Cabixi|     6289|\n",
            "|   1100049| RO|   110004|      401.01|      3792.948|                    68.65|                 93.44|                        2.68|                14.3|0.718|     0.727|              1.01|         13.08|                      0|              Cacoal|    87877|\n",
            "|   1100056| RO|   110005|      596.81|        2783.3|                     69.0|                 86.87|                        0.69|                18.1|0.692|     0.688|              1.14|          13.7|                      0|          Cerejeiras|    17959|\n",
            "+----------+---+---------+------------+--------------+-------------------------+----------------------+----------------------------+--------------------+-----+----------+------------------+--------------+-----------------------+--------------------+---------+\n",
            "only showing top 5 rows\n",
            "\n"
          ],
          "name": "stdout"
        }
      ]
    },
    {
      "cell_type": "code",
      "metadata": {
        "id": "B7b42GZmrHoS",
        "colab_type": "code",
        "outputId": "93766d79-d118-4010-c133-d5f6e82a87ca",
        "colab": {
          "base_uri": "https://localhost:8080/",
          "height": 202
        }
      },
      "source": [
        "df_aux = df_municipio\n",
        "\n",
        "df_final.show(5)"
      ],
      "execution_count": 0,
      "outputs": [
        {
          "output_type": "stream",
          "text": [
            "+--------------+-------------------+--------+-------+----------+--------------------+---------+--------------+------+--------+--------------------+---+--------------+\n",
            "|          CNPJ|           REF_DATE|DATA_REF|CS_ALVO|QTD_SOCIOS|   NATUREZA_JURIDICA|    IDADE|CAPITAL_SOCIAL|  TIPO|SITUACAO| ATIVIDADE_PRINCIPAL| UF|     MUNICIPIO|\n",
            "+--------------+-------------------+--------+-------+----------+--------------------+---------+--------------+------+--------+--------------------+---+--------------+\n",
            "|00135548000149|2017-03-01 00:00:00| 2017-03|      0|         2|SOCIEDADE EMPRESA...|712281600|           0.0|MATRIZ|   ATIVA|LANCHONETES, CASA...| PR|      CURITIBA|\n",
            "|00144781000198|2016-12-01 00:00:00| 2016-12|      0|         2|SOCIEDADE EMPRESA...|705369600|         500.0|MATRIZ|   ATIVA|RESTAURANTES E SI...| SP|         BAURU|\n",
            "|00234446000180|2016-11-01 00:00:00| 2016-11|      0|         2|SOCIEDADE EMPRESA...|696643200|        3000.0|MATRIZ|   ATIVA|LANCHONETES, CASA...| SP|     SAO PAULO|\n",
            "|00245334000125|2017-06-01 00:00:00| 2017-06|      0|         2|SOCIEDADE EMPRESA...|713836800|           0.0|MATRIZ|   ATIVA|PADARIA E CONFEIT...| MG|BELO HORIZONTE|\n",
            "|00300200000160|2017-05-01 00:00:00| 2017-05|      0|         2|SOCIEDADE EMPRESA...|708652800|       10000.0|MATRIZ|   ATIVA|COMERCIO VAREJIST...| SP|     SAO PAULO|\n",
            "+--------------+-------------------+--------+-------+----------+--------------------+---------+--------------+------+--------+--------------------+---+--------------+\n",
            "only showing top 5 rows\n",
            "\n"
          ],
          "name": "stdout"
        }
      ]
    },
    {
      "cell_type": "code",
      "metadata": {
        "id": "Z3Pje4reuctk",
        "colab_type": "code",
        "outputId": "c033f35e-02ac-47e6-8c03-d02cee2372a1",
        "colab": {
          "base_uri": "https://localhost:8080/",
          "height": 306
        }
      },
      "source": [
        "df_aux = df_aux.toPandas()\n",
        "df_aux['municipio_nome'] = df_aux['municipio_nome'].apply(lambda x: remover_acentos(x).upper())\n",
        "df_aux = spark.createDataFrame(df_aux)\n",
        "df_aux.show(10, False)"
      ],
      "execution_count": 0,
      "outputs": [
        {
          "output_type": "stream",
          "text": [
            "+----------+---+---------+------------+--------------+-------------------------+----------------------+----------------------------+--------------------+-----+----------+------------------+--------------+-----------------------+---------------------+---------+\n",
            "|code_muni2|UF |code_muni|dist_capital|area_municipio|taxa_atividade_18anosmais|porcent_pop_saneamento|porcent_mulheres10a17_filhos|mortalidade_infantil|IDHM |IDHM_renda|taxa_analfabetismo|porcent_pobres|municipio_metropolitano|municipio_nome       |populacao|\n",
            "+----------+---+---------+------------+--------------+-------------------------+----------------------+----------------------------+--------------------+-----+----------+------------------+--------------+-----------------------+---------------------+---------+\n",
            "|1100015   |RO |110001   |409.34      |7067.025      |60.43                    |80.2                  |2.6                         |23.8                |0.641|0.657     |1.22              |26.04         |0                      |ALTA FLORESTA D'OESTE|25506    |\n",
            "|1100023   |RO |110002   |159.2       |4426.571      |71.08                    |85.35                 |3.38                        |19.2                |0.702|0.716     |1.55              |11.54         |0                      |ARIQUEMES            |105896   |\n",
            "|1100031   |RO |110003   |640.97      |1314.353      |61.5                     |91.63                 |2.73                        |24.8                |0.65 |0.65      |0.62              |21.2          |0                      |CABIXI               |6289     |\n",
            "|1100049   |RO |110004   |401.01      |3792.948      |68.65                    |93.44                 |2.68                        |14.3                |0.718|0.727     |1.01              |13.08         |0                      |CACOAL               |87877    |\n",
            "|1100056   |RO |110005   |596.81      |2783.3        |69.0                     |86.87                 |0.69                        |18.1                |0.692|0.688     |1.14              |13.7          |0                      |CEREJEIRAS           |17959    |\n",
            "|1100064   |RO |110006   |607.58      |1451.061      |63.55                    |93.89                 |4.06                        |16.1                |0.685|0.676     |0.51              |15.76         |0                      |COLORADO DO OESTE    |18639    |\n",
            "|1100072   |RO |110007   |571.49      |3060.321      |66.17                    |86.43                 |2.27                        |21.9                |0.613|0.63      |1.25              |24.02         |0                      |CORUMBIARA           |8749     |\n",
            "|1100080   |RO |110008   |411.05      |4987.177      |68.82                    |54.32                 |6.54                        |25.8                |0.611|0.616     |1.48              |30.48         |0                      |COSTA MARQUES        |17031    |\n",
            "|1100098   |RO |110009   |441.03      |4518.034      |70.92                    |84.71                 |3.8                         |15.4                |0.672|0.691     |2.17              |13.86         |0                      |ESPIGAO D'OESTE      |32712    |\n",
            "|1100106   |RO |110010   |274.27      |24855.724     |62.55                    |49.32                 |3.71                        |14.8                |0.657|0.663     |2.2               |23.47         |0                      |GUAJARA-MIRIM        |47048    |\n",
            "+----------+---+---------+------------+--------------+-------------------------+----------------------+----------------------------+--------------------+-----+----------+------------------+--------------+-----------------------+---------------------+---------+\n",
            "only showing top 10 rows\n",
            "\n"
          ],
          "name": "stdout"
        }
      ]
    },
    {
      "cell_type": "code",
      "metadata": {
        "id": "mNG5M0DSsJ04",
        "colab_type": "code",
        "outputId": "8c879e0b-276b-4559-af12-b075f76edc78",
        "colab": {
          "base_uri": "https://localhost:8080/",
          "height": 474
        }
      },
      "source": [
        "df_final = df_final.withColumn('MUNICIPIO_UF', SF.concat(SF.col('MUNICIPIO'), SF.lit(\" - \"), SF.col('UF')))\n",
        "df_aux = df_aux.withColumn('municipio_nome_uf', SF.concat(SF.col('municipio_nome'), SF.lit(\" - \"), SF.col('UF'))).drop('UF')\n",
        "\n",
        "df_aux.show(20, False)"
      ],
      "execution_count": 0,
      "outputs": [
        {
          "output_type": "stream",
          "text": [
            "+----------+---------+------------+--------------+-------------------------+----------------------+----------------------------+--------------------+-----+----------+------------------+--------------+-----------------------+------------------------+----------+-----------------------------+\n",
            "|code_muni2|code_muni|dist_capital|area_municipio|taxa_atividade_18anosmais|porcent_pop_saneamento|porcent_mulheres10a17_filhos|mortalidade_infantil|IDHM |IDHM_renda|taxa_analfabetismo|porcent_pobres|municipio_metropolitano|municipio_nome          |populacao |municipio_nome_uf            |\n",
            "+----------+---------+------------+--------------+-------------------------+----------------------+----------------------------+--------------------+-----+----------+------------------+--------------+-----------------------+------------------------+----------+-----------------------------+\n",
            "|1100015   |110001   |409.34      |7067.025      |60.43                    |80.2                  |2.6                         |23.8                |0.641|0.657     |1.22              |26.04         |0                      |ALTA FLORESTA D'OESTE   |25506     |ALTA FLORESTA D'OESTE - RO   |\n",
            "|1100023   |110002   |159.2       |4426.571      |71.08                    |85.35                 |3.38                        |19.2                |0.702|0.716     |1.55              |11.54         |0                      |ARIQUEMES               |105896    |ARIQUEMES - RO               |\n",
            "|1100031   |110003   |640.97      |1314.353      |61.5                     |91.63                 |2.73                        |24.8                |0.65 |0.65      |0.62              |21.2          |0                      |CABIXI                  |6289      |CABIXI - RO                  |\n",
            "|1100049   |110004   |401.01      |3792.948      |68.65                    |93.44                 |2.68                        |14.3                |0.718|0.727     |1.01              |13.08         |0                      |CACOAL                  |87877     |CACOAL - RO                  |\n",
            "|1100056   |110005   |596.81      |2783.3        |69.0                     |86.87                 |0.69                        |18.1                |0.692|0.688     |1.14              |13.7          |0                      |CEREJEIRAS              |17959     |CEREJEIRAS - RO              |\n",
            "|1100064   |110006   |607.58      |1451.061      |63.55                    |93.89                 |4.06                        |16.1                |0.685|0.676     |0.51              |15.76         |0                      |COLORADO DO OESTE       |18639     |COLORADO DO OESTE - RO       |\n",
            "|1100072   |110007   |571.49      |3060.321      |66.17                    |86.43                 |2.27                        |21.9                |0.613|0.63      |1.25              |24.02         |0                      |CORUMBIARA              |8749      |CORUMBIARA - RO              |\n",
            "|1100080   |110008   |411.05      |4987.177      |68.82                    |54.32                 |6.54                        |25.8                |0.611|0.616     |1.48              |30.48         |0                      |COSTA MARQUES           |17031     |COSTA MARQUES - RO           |\n",
            "|1100098   |110009   |441.03      |4518.034      |70.92                    |84.71                 |3.8                         |15.4                |0.672|0.691     |2.17              |13.86         |0                      |ESPIGAO D'OESTE         |32712     |ESPIGAO D'OESTE - RO         |\n",
            "|1100106   |110010   |274.27      |24855.724     |62.55                    |49.32                 |3.71                        |14.8                |0.657|0.663     |2.2               |23.47         |0                      |GUAJARA-MIRIM           |47048     |GUAJARA-MIRIM - RO           |\n",
            "|1100114   |110011   |244.19      |2944.128      |66.43                    |82.81                 |3.21                        |14.6                |0.689|0.687     |1.66              |13.78         |0                      |JARU                    |55806     |JARU - RO                    |\n",
            "|1100122   |110012   |318.87      |6896.648      |71.41                    |89.31                 |2.2                         |16.2                |0.714|0.728     |1.35              |8.56          |0                      |JI-PARANA               |131560    |JI-PARANA - RO               |\n",
            "|1100130   |110013   |224.34      |8509.27       |69.2                     |69.34                 |4.47                        |25.0                |0.596|0.629     |1.68              |28.55         |0                      |MACHADINHO D'OESTE      |37899     |MACHADINHO D'OESTE - RO      |\n",
            "|1100148   |110014   |371.71      |1703.008      |68.21                    |74.6                  |2.34                        |23.8                |0.643|0.664     |0.78              |23.16         |0                      |NOVA BRASILANDIA D'OESTE|21670     |NOVA BRASILANDIA D'OESTE - RO|\n",
            "|1100155   |110015   |283.09      |1969.85       |69.27                    |91.58                 |2.54                        |16.3                |0.682|0.687     |1.31              |11.73         |0                      |OURO PRETO DO OESTE     |39840     |OURO PRETO DO OESTE - RO     |\n",
            "|1100189   |110018   |439.05      |6240.932      |74.76                    |91.07                 |3.19                        |17.6                |0.71 |0.726     |0.96              |9.33          |0                      |PIMENTA BUENO           |37786     |PIMENTA BUENO - RO           |\n",
            "|1100205   |110020   |0.0         |34090.926     |70.84                    |72.14                 |3.75                        |15.52               |0.736|0.764     |1.85              |7.95          |0                      |PORTO VELHO             |511.219(1)|PORTO VELHO - RO             |\n",
            "|1100254   |110025   |346.65      |1758.465      |68.69                    |85.3                  |3.52                        |19.2                |0.664|0.671     |1.68              |19.39         |0                      |PRESIDENTE MEDICI       |22337     |PRESIDENTE MEDICI - RO       |\n",
            "|1100262   |110026   |152.11      |1717.64       |58.85                    |83.94                 |2.61                        |16.2                |0.643|0.637     |0.35              |28.5          |0                      |RIO CRESPO              |3790      |RIO CRESPO - RO              |\n",
            "|1100288   |110028   |404.03      |1457.888      |68.22                    |93.72                 |3.3                         |16.9                |0.7  |0.709     |1.39              |10.77         |0                      |ROLIM DE MOURA          |56664     |ROLIM DE MOURA - RO          |\n",
            "+----------+---------+------------+--------------+-------------------------+----------------------+----------------------------+--------------------+-----+----------+------------------+--------------+-----------------------+------------------------+----------+-----------------------------+\n",
            "only showing top 20 rows\n",
            "\n"
          ],
          "name": "stdout"
        }
      ]
    },
    {
      "cell_type": "code",
      "metadata": {
        "id": "VKb6LKQOFV80",
        "colab_type": "code",
        "outputId": "09fbe936-5482-4995-df5c-010bab2a42db",
        "colab": {
          "base_uri": "https://localhost:8080/",
          "height": 138
        }
      },
      "source": [
        "df_aux.where(df_aux.municipio_nome_uf == \"ARAGARCAS - GO\").show()"
      ],
      "execution_count": 0,
      "outputs": [
        {
          "output_type": "stream",
          "text": [
            "+----------+---------+------------+--------------+-------------------------+----------------------+----------------------------+--------------------+-----+----------+------------------+--------------+-----------------------+--------------+---------+-----------------+\n",
            "|code_muni2|code_muni|dist_capital|area_municipio|taxa_atividade_18anosmais|porcent_pop_saneamento|porcent_mulheres10a17_filhos|mortalidade_infantil| IDHM|IDHM_renda|taxa_analfabetismo|porcent_pobres|municipio_metropolitano|municipio_nome|populacao|municipio_nome_uf|\n",
            "+----------+---------+------------+--------------+-------------------------+----------------------+----------------------------+--------------------+-----+----------+------------------+--------------+-----------------------+--------------+---------+-----------------+\n",
            "|   5201702|   520170|      331.45|        662.89|                    64.86|                 91.95|                        4.58|                13.4|0.732|     0.694|              1.51|           7.5|                      0|     ARAGARCAS|    19736|   ARAGARCAS - GO|\n",
            "+----------+---------+------------+--------------+-------------------------+----------------------+----------------------------+--------------------+-----+----------+------------------+--------------+-----------------------+--------------+---------+-----------------+\n",
            "\n"
          ],
          "name": "stdout"
        }
      ]
    },
    {
      "cell_type": "code",
      "metadata": {
        "id": "JdC7_LZLAgdE",
        "colab_type": "code",
        "outputId": "ea07efa0-63aa-430b-e261-0f6129c94c4b",
        "colab": {
          "base_uri": "https://localhost:8080/",
          "height": 222
        }
      },
      "source": [
        "df_finalx = df_final.join(df_aux,\n",
        "                 df_final['MUNICIPIO_UF']==df_aux['municipio_nome_uf'], \n",
        "                 'left')\n",
        "\n",
        "df_finalx.show(5)"
      ],
      "execution_count": 0,
      "outputs": [
        {
          "output_type": "stream",
          "text": [
            "+--------------+-------------------+--------+-------+----------+--------------------+---------+--------------+------+--------+--------------------+---+-----------+----------------+----------+---------+------------+--------------+-------------------------+----------------------+----------------------------+--------------------+-----+----------+------------------+--------------+-----------------------+--------------+---------+-----------------+\n",
            "|          CNPJ|           REF_DATE|DATA_REF|CS_ALVO|QTD_SOCIOS|   NATUREZA_JURIDICA|    IDADE|CAPITAL_SOCIAL|  TIPO|SITUACAO| ATIVIDADE_PRINCIPAL| UF|  MUNICIPIO|    MUNICIPIO_UF|code_muni2|code_muni|dist_capital|area_municipio|taxa_atividade_18anosmais|porcent_pop_saneamento|porcent_mulheres10a17_filhos|mortalidade_infantil| IDHM|IDHM_renda|taxa_analfabetismo|porcent_pobres|municipio_metropolitano|municipio_nome|populacao|municipio_nome_uf|\n",
            "+--------------+-------------------+--------+-------+----------+--------------------+---------+--------------+------+--------+--------------------+---+-----------+----------------+----------+---------+------------+--------------+-------------------------+----------------------+----------------------------+--------------------+-----+----------+------------------+--------------+-----------------------+--------------+---------+-----------------+\n",
            "|02868587000180|2017-03-01 00:00:00| 2017-03|      0|         2|SOCIEDADE EMPRESA...|577411200|       10000.0|MATRIZ|   ATIVA|COMERCIO VAREJIST...| SP|   ALAMBARI|   ALAMBARI - SP|   3500758|   350075|      128.74|         159.6|                    64.65|                 99.12|                        0.98|                17.5|0.712|     0.682|              1.31|          7.61|                      0|      ALAMBARI|     5658|    ALAMBARI - SP|\n",
            "|02491531000150|2016-12-01 00:00:00| 2016-12|      0|         0|EMPRESARIO (INDIV...|587174400|           0.0|MATRIZ|   ATIVA|COMERCIO VAREJIST...| GO|  ARAGARCAS|  ARAGARCAS - GO|   5201702|   520170|      331.45|        662.89|                    64.86|                 91.95|                        4.58|                13.4|0.732|     0.694|              1.51|           7.5|                      0|     ARAGARCAS|    19736|   ARAGARCAS - GO|\n",
            "|08220891000101|2016-12-01 00:00:00| 2016-12|      0|         2|SOCIEDADE EMPRESA...|325036800|    1380845.94|MATRIZ|   ATIVA|COMERCIO VAREJIST...| GO|  ARAGARCAS|  ARAGARCAS - GO|   5201702|   520170|      331.45|        662.89|                    64.86|                 91.95|                        4.58|                13.4|0.732|     0.694|              1.51|           7.5|                      0|     ARAGARCAS|    19736|   ARAGARCAS - GO|\n",
            "|16366044000170|2017-05-01 00:00:00| 2017-05|      0|         2|SOCIEDADE EMPRESA...|152928000|       50000.0|MATRIZ|   ATIVA|RESTAURANTES E SI...| GO|  ARAGARCAS|  ARAGARCAS - GO|   5201702|   520170|      331.45|        662.89|                    64.86|                 91.95|                        4.58|                13.4|0.732|     0.694|              1.51|           7.5|                      0|     ARAGARCAS|    19736|   ARAGARCAS - GO|\n",
            "|04153160000121|2017-04-01 00:00:00| 2017-04|      0|         0|EMPRESARIO (INDIV...|530496000|           0.0|MATRIZ|   ATIVA|COMERCIO VAREJIST...| RS|ARVOREZINHA|ARVOREZINHA - RS|   4301404|   430140|      158.23|       271.643|                     73.7|                  97.5|                        2.27|                14.1|0.694|     0.713|              1.84|          7.09|                      0|   ARVOREZINHA|    10605| ARVOREZINHA - RS|\n",
            "+--------------+-------------------+--------+-------+----------+--------------------+---------+--------------+------+--------+--------------------+---+-----------+----------------+----------+---------+------------+--------------+-------------------------+----------------------+----------------------------+--------------------+-----+----------+------------------+--------------+-----------------------+--------------+---------+-----------------+\n",
            "only showing top 5 rows\n",
            "\n"
          ],
          "name": "stdout"
        }
      ]
    },
    {
      "cell_type": "code",
      "metadata": {
        "id": "MFOVMymcFALh",
        "colab_type": "code",
        "outputId": "6dbb09d5-acb3-42a7-cdc4-9103b484e8b8",
        "colab": {
          "base_uri": "https://localhost:8080/",
          "height": 34
        }
      },
      "source": [
        "df_finalx = df_finalx.filter(df_finalx.porcent_pop_saneamento.isNotNull())\n",
        "df_finalx = df_finalx.filter(df_finalx.populacao.isNotNull())\n",
        "\n",
        "df_finalx.count()"
      ],
      "execution_count": 0,
      "outputs": [
        {
          "output_type": "execute_result",
          "data": {
            "text/plain": [
              "64912"
            ]
          },
          "metadata": {
            "tags": []
          },
          "execution_count": 41
        }
      ]
    },
    {
      "cell_type": "code",
      "metadata": {
        "id": "PCJVICJerMN4",
        "colab_type": "code",
        "colab": {}
      },
      "source": [
        "df_output = df_finalx.toPandas()\n",
        "df_output.to_csv(path+'output5.csv')"
      ],
      "execution_count": 0,
      "outputs": []
    }
  ]
}