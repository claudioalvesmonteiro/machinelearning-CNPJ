{
  "nbformat": 4,
  "nbformat_minor": 0,
  "metadata": {
    "kernelspec": {
      "display_name": "Python 3",
      "language": "python",
      "name": "python3"
    },
    "language_info": {
      "codemirror_mode": {
        "name": "ipython",
        "version": 3
      },
      "file_extension": ".py",
      "mimetype": "text/x-python",
      "name": "python",
      "nbconvert_exporter": "python",
      "pygments_lexer": "ipython3",
      "version": "3.7.3"
    },
    "colab": {
      "name": "FEATURE_ENGINEERING V2.ipynb",
      "version": "0.3.2",
      "provenance": [],
      "collapsed_sections": [],
      "include_colab_link": true
    }
  },
  "cells": [
    {
      "cell_type": "markdown",
      "metadata": {
        "id": "view-in-github",
        "colab_type": "text"
      },
      "source": [
        "<a href=\"https://colab.research.google.com/github/claudioalvesmonteiro/machinelearning-CNPJ/blob/master/pre-processamento/FEATURE_ENGINEERING_V2.ipynb\" target=\"_parent\"><img src=\"https://colab.research.google.com/assets/colab-badge.svg\" alt=\"Open In Colab\"/></a>"
      ]
    },
    {
      "cell_type": "markdown",
      "metadata": {
        "id": "460lR_XZsx34",
        "colab_type": "text"
      },
      "source": [
        "   # Projeto de Análise de Cŕedito CESAR School\n",
        "   \n",
        "   ## Feature Engineering\n",
        "   \n",
        "   Claudio Alves Monteiro\n",
        "   \n",
        "   Marcos Antonio Almeida Souto Júnior\n",
        "   \n",
        "   Virgínia Heimann\n",
        "   \n",
        "   Kayo Renato da Silva Nascimento\n",
        "   \n",
        "   Rosely Cabral"
      ]
    },
    {
      "cell_type": "code",
      "metadata": {
        "id": "gTWh3v3BrRAy",
        "colab_type": "code",
        "colab": {}
      },
      "source": [
        "!apt-get install openjdk-8-jdk-headless -qq > /dev/null\n",
        "!wget -q http://mirror.nbtelecom.com.br/apache/spark/spark-2.4.3/spark-2.4.3-bin-hadoop2.7.tgz\n",
        "!tar xf spark-2.4.3-bin-hadoop2.7.tgz\n",
        "!pip install -q findspark"
      ],
      "execution_count": 0,
      "outputs": []
    },
    {
      "cell_type": "code",
      "metadata": {
        "id": "EoX23c-nrSWz",
        "colab_type": "code",
        "colab": {}
      },
      "source": [
        "import os\n",
        "os.environ[\"JAVA_HOME\"] = \"/usr/lib/jvm/java-8-openjdk-amd64\"\n",
        "os.environ[\"SPARK_HOME\"] = \"/content/spark-2.4.3-bin-hadoop2.7\""
      ],
      "execution_count": 0,
      "outputs": []
    },
    {
      "cell_type": "code",
      "metadata": {
        "id": "P7K-Aj6JrVei",
        "colab_type": "code",
        "colab": {}
      },
      "source": [
        "import findspark\n",
        "findspark.init()\n",
        "from pyspark.sql import SparkSession\n",
        "spark = SparkSession.builder.master(\"local[*]\").getOrCreate()"
      ],
      "execution_count": 0,
      "outputs": []
    },
    {
      "cell_type": "code",
      "metadata": {
        "id": "Yj-6BAHKrnBn",
        "colab_type": "code",
        "colab": {}
      },
      "source": [
        "# import modules\n",
        "import os\n",
        "import pandas as pd\n",
        "from pyspark.sql import functions as SF\n",
        "import pyspark.sql.types as ST"
      ],
      "execution_count": 0,
      "outputs": []
    },
    {
      "cell_type": "code",
      "metadata": {
        "id": "2YloG2xtoqxt",
        "colab_type": "code",
        "colab": {}
      },
      "source": [
        "# funcao para contagem de valores categoricos\n",
        "def countGenTab(df, column):\n",
        "    # groupby, count and sort pyspark\n",
        "    tab = df.select(column).groupby(column).count().alias('count').sort('count', ascending=False)\n",
        "    # transform to pandas df\n",
        "    tab = tab.toPandas()\n",
        "    # calculate proportion\n",
        "    tab['prop'] = round(tab['count']/sum(tab['count'])*100, 2)\n",
        "    return tab"
      ],
      "execution_count": 0,
      "outputs": []
    },
    {
      "cell_type": "markdown",
      "metadata": {
        "id": "ec0J1CJm0gdv",
        "colab_type": "text"
      },
      "source": [
        "## Tratamento"
      ]
    },
    {
      "cell_type": "code",
      "metadata": {
        "id": "1jRId6GF2UII",
        "colab_type": "code",
        "outputId": "1acad950-8111-46f3-da75-b263cf6ef8a3",
        "colab": {
          "base_uri": "https://localhost:8080/",
          "height": 34
        }
      },
      "source": [
        "from google.colab import drive\n",
        "drive.mount('/content/drive')"
      ],
      "execution_count": 0,
      "outputs": [
        {
          "output_type": "stream",
          "text": [
            "Drive already mounted at /content/drive; to attempt to forcibly remount, call drive.mount(\"/content/drive\", force_remount=True).\n"
          ],
          "name": "stdout"
        }
      ]
    },
    {
      "cell_type": "code",
      "metadata": {
        "id": "Ebe_k4H005yd",
        "colab_type": "code",
        "colab": {}
      },
      "source": [
        "# import data\n",
        "path = 'drive/My Drive/Colab Notebooks/ProjetoCESARSchool/codes/data/'\n",
        "\n",
        "df = spark.read.csv(path+'output5.csv',\n",
        "                    sep=',',\n",
        "                    encoding='utf-8',\n",
        "                    header=True,\n",
        "                    inferSchema=False)"
      ],
      "execution_count": 0,
      "outputs": []
    },
    {
      "cell_type": "markdown",
      "metadata": {
        "id": "pcSLon8rFex9",
        "colab_type": "text"
      },
      "source": [
        "### Contagem e drop de nulos"
      ]
    },
    {
      "cell_type": "code",
      "metadata": {
        "id": "zTTb9QDdkhKE",
        "colab_type": "code",
        "outputId": "fdb3c64b-7cd4-45c3-aa67-cf241d8978a2",
        "colab": {
          "base_uri": "https://localhost:8080/",
          "height": 34
        }
      },
      "source": [
        "df.count()"
      ],
      "execution_count": 0,
      "outputs": [
        {
          "output_type": "execute_result",
          "data": {
            "text/plain": [
              "64912"
            ]
          },
          "metadata": {
            "tags": []
          },
          "execution_count": 12
        }
      ]
    },
    {
      "cell_type": "code",
      "metadata": {
        "id": "ahfK8LG1E9yq",
        "colab_type": "code",
        "outputId": "03d2e059-3e83-4162-bbd9-498fcf3f1985",
        "colab": {
          "base_uri": "https://localhost:8080/",
          "height": 138
        }
      },
      "source": [
        "from pyspark.sql.functions import isnan, when, count, col\n",
        "\n",
        "\n",
        "df.select([count(when(isnan(c) | col(c).isNull(), c)).alias(c) for c in df.columns]).show()\n",
        "\n",
        "\n",
        "df = df.na.drop()"
      ],
      "execution_count": 0,
      "outputs": [
        {
          "output_type": "stream",
          "text": [
            "+---+----+--------+--------+-------+----------+-----------------+-----+--------------+----+--------+-------------------+---+---------+------------+----------+---------+------------+--------------+-------------------------+----------------------+----------------------------+--------------------+----+----------+------------------+--------------+-----------------------+--------------+---------+-----------------+\n",
            "|_c0|CNPJ|REF_DATE|DATA_REF|CS_ALVO|QTD_SOCIOS|NATUREZA_JURIDICA|IDADE|CAPITAL_SOCIAL|TIPO|SITUACAO|ATIVIDADE_PRINCIPAL| UF|MUNICIPIO|MUNICIPIO_UF|code_muni2|code_muni|dist_capital|area_municipio|taxa_atividade_18anosmais|porcent_pop_saneamento|porcent_mulheres10a17_filhos|mortalidade_infantil|IDHM|IDHM_renda|taxa_analfabetismo|porcent_pobres|municipio_metropolitano|municipio_nome|populacao|municipio_nome_uf|\n",
            "+---+----+--------+--------+-------+----------+-----------------+-----+--------------+----+--------+-------------------+---+---------+------------+----------+---------+------------+--------------+-------------------------+----------------------+----------------------------+--------------------+----+----------+------------------+--------------+-----------------------+--------------+---------+-----------------+\n",
            "|  0|   0|       0|       0|      0|         0|                0|    0|             0|   0|       0|                  0|  0|        0|           0|         0|        0|           0|             0|                        0|                     0|                           0|                   0|   0|         0|                 0|             0|                      0|             0|        0|                0|\n",
            "+---+----+--------+--------+-------+----------+-----------------+-----+--------------+----+--------+-------------------+---+---------+------------+----------+---------+------------+--------------+-------------------------+----------------------+----------------------------+--------------------+----+----------+------------------+--------------+-----------------------+--------------+---------+-----------------+\n",
            "\n"
          ],
          "name": "stdout"
        }
      ]
    },
    {
      "cell_type": "code",
      "metadata": {
        "id": "2jd0Hb5QkZ3p",
        "colab_type": "code",
        "outputId": "19cfaa2f-50fd-4383-efda-6e442d54d267",
        "colab": {
          "base_uri": "https://localhost:8080/",
          "height": 34
        }
      },
      "source": [
        "df.count()"
      ],
      "execution_count": 0,
      "outputs": [
        {
          "output_type": "execute_result",
          "data": {
            "text/plain": [
              "64912"
            ]
          },
          "metadata": {
            "tags": []
          },
          "execution_count": 14
        }
      ]
    },
    {
      "cell_type": "code",
      "metadata": {
        "id": "UnCXMvlMkkjt",
        "colab_type": "code",
        "outputId": "1547494a-0b0b-48ec-fbe0-d958eca43cc8",
        "colab": {
          "base_uri": "https://localhost:8080/",
          "height": 34
        }
      },
      "source": [
        "df.where(SF.col('populacao') != 'NaN').count()\n"
      ],
      "execution_count": 0,
      "outputs": [
        {
          "output_type": "execute_result",
          "data": {
            "text/plain": [
              "64912"
            ]
          },
          "metadata": {
            "tags": []
          },
          "execution_count": 15
        }
      ]
    },
    {
      "cell_type": "code",
      "metadata": {
        "id": "uuT1M6ferh9C",
        "colab_type": "code",
        "colab": {}
      },
      "source": [
        ""
      ],
      "execution_count": 0,
      "outputs": []
    },
    {
      "cell_type": "code",
      "metadata": {
        "id": "rIWztQUxM57k",
        "colab_type": "code",
        "colab": {}
      },
      "source": [
        "# NORMALIZAÇÃO DAS VARIÁVEIS NUMÉRICAS\n",
        "\n",
        "\n",
        "cols = ['IDADE','CAPITAL_SOCIAL','taxa_atividade_18anosmais',\n",
        "       'porcent_pop_saneamento','dist_capital',\n",
        "       'area_municipio','taxa_atividade_18anosmais',\n",
        "       'porcent_pop_saneamento','porcent_mulheres10a17_filhos',\n",
        "       'mortalidade_infantil','IDHM',\n",
        "       'IDHM_renda','taxa_analfabetismo',\n",
        "        'porcent_pobres','populacao']\n",
        "\n",
        "for col_name in cols:\n",
        "    df = df.withColumn(col_name, SF.col(col_name).cast('double'))\n",
        "    \n"
      ],
      "execution_count": 0,
      "outputs": []
    },
    {
      "cell_type": "code",
      "metadata": {
        "id": "SPfCAoWWNggI",
        "colab_type": "code",
        "colab": {}
      },
      "source": [
        "\n",
        "\n",
        "from sklearn.preprocessing import StandardScaler\n",
        "\n",
        "df_pandas = df.toPandas()\n",
        "\n",
        "scaled_features = df_pandas.copy()\n",
        "col_names = cols\n",
        "features = scaled_features[col_names]\n",
        "scaler = StandardScaler().fit(features.values)\n",
        "features = scaler.transform(features.values)\n",
        "scaled_features[col_names] = features\n",
        "#print(scaled_features)\n",
        "\n",
        "df = spark.createDataFrame(scaled_features)\n",
        "\n",
        "for col_name in cols:\n",
        "    df = df.withColumn(col_name, SF.col(col_name).cast('double'))\n",
        "    \n",
        " "
      ],
      "execution_count": 0,
      "outputs": []
    },
    {
      "cell_type": "code",
      "metadata": {
        "id": "h9n_q3EK69CW",
        "colab_type": "code",
        "outputId": "26085ba5-6eb8-4214-dc5c-f18aef7b9f85",
        "colab": {
          "base_uri": "https://localhost:8080/",
          "height": 474
        }
      },
      "source": [
        "df.show(20)"
      ],
      "execution_count": 0,
      "outputs": [
        {
          "output_type": "stream",
          "text": [
            "+---+--------------+----------+--------+-------+----------+--------------------+--------------------+--------------------+------+--------+--------------------+---+-----------+----------------+----------+---------+-------------------+--------------------+-------------------------+----------------------+----------------------------+--------------------+--------------------+-------------------+--------------------+-------------------+-----------------------+--------------+-------------------+-----------------+\n",
            "|_c0|          CNPJ|  REF_DATE|DATA_REF|CS_ALVO|QTD_SOCIOS|   NATUREZA_JURIDICA|               IDADE|      CAPITAL_SOCIAL|  TIPO|SITUACAO| ATIVIDADE_PRINCIPAL| UF|  MUNICIPIO|    MUNICIPIO_UF|code_muni2|code_muni|       dist_capital|      area_municipio|taxa_atividade_18anosmais|porcent_pop_saneamento|porcent_mulheres10a17_filhos|mortalidade_infantil|                IDHM|         IDHM_renda|  taxa_analfabetismo|     porcent_pobres|municipio_metropolitano|municipio_nome|          populacao|municipio_nome_uf|\n",
            "+---+--------------+----------+--------+-------+----------+--------------------+--------------------+--------------------+------+--------+--------------------+---+-----------+----------------+----------+---------+-------------------+--------------------+-------------------------+----------------------+----------------------------+--------------------+--------------------+-------------------+--------------------+-------------------+-----------------------+--------------+-------------------+-----------------+\n",
            "|  0|02868587000180|2017-03-01| 2017-03|      0|         2|SOCIEDADE EMPRESA...|  0.6251511963767695|-0.01200420058263...|MATRIZ|   ATIVA|COMERCIO VAREJIST...| SP|   ALAMBARI|   ALAMBARI - SP|   3500758|   350075|0.38644715325833306| -0.3164087539072131|      -1.0293593102449354|    0.5411172853797096|          -1.631479447929357|  1.3098659960195367|  -1.184872550714767| -1.444056264519721| -0.3687443765235354|0.10007521135989222|                      0|      ALAMBARI|-0.7353284516940769|    ALAMBARI - SP|\n",
            "|  1|02491531000150|2016-12-01| 2016-12|      0|         0|EMPRESARIO (INDIV...|   0.653546470713647|-0.01224412806742...|MATRIZ|   ATIVA|COMERCIO VAREJIST...| GO|  ARAGARCAS|  ARAGARCAS - GO|   5201702|   520170| 1.9155890234444521| -0.1778917019123863|      -0.9788621345175631|   -0.4474478773484505|          2.7458129010137866|-0.10483219384613056| -0.7922837392573322|-1.2744513749008086| -0.2043983937110114|0.08486165164616337|                      0|     ARAGARCAS|-0.7322610985817152|   ARAGARCAS - GO|\n",
            "|  2|08220891000101|2016-12-01| 2016-12|      0|         2|SOCIEDADE EMPRESA...| -0.1088540809508321|0.020886161259077135|MATRIZ|   ATIVA|COMERCIO VAREJIST...| GO|  ARAGARCAS|  ARAGARCAS - GO|   5201702|   520170| 1.9155890234444521| -0.1778917019123863|      -0.9788621345175631|   -0.4474478773484505|          2.7458129010137866|-0.10483219384613056| -0.7922837392573322|-1.2744513749008086| -0.2043983937110114|0.08486165164616337|                      0|     ARAGARCAS|-0.7322610985817152|   ARAGARCAS - GO|\n",
            "|  3|16366044000170|2017-05-01| 2017-05|      0|         2|SOCIEDADE EMPRESA...| -0.6094150232433971|-0.01104449064347...|MATRIZ|   ATIVA|RESTAURANTES E SI...| GO|  ARAGARCAS|  ARAGARCAS - GO|   5201702|   520170| 1.9155890234444521| -0.1778917019123863|      -0.9788621345175631|   -0.4474478773484505|          2.7458129010137866|-0.10483219384613056| -0.7922837392573322|-1.2744513749008086| -0.2043983937110114|0.08486165164616337|                      0|     ARAGARCAS|-0.7322610985817152|   ARAGARCAS - GO|\n",
            "|  4|04153160000121|2017-04-01| 2017-04|      0|         0|EMPRESARIO (INDIV...| 0.48870310819159746|-0.01224412806742...|MATRIZ|   ATIVA|COMERCIO VAREJIST...| RS|ARVOREZINHA|ARVOREZINHA - RS|   4301404|   430140|  0.608904820624465| -0.2855719281076614|       1.1468285008633166|    0.3177594661858988|         -0.0629496895580639| 0.13670164344800753| -1.5382024810264583|-1.0059102996708618|  0.0667724779296534|0.02815656544044692|                      0|   ARVOREZINHA|-0.7342505858149141| ARVOREZINHA - RS|\n",
            "|  5|20052578000107|2017-06-01| 2017-06|      0|         2|SOCIEDADE EMPRESA...|  -0.765212103675822|-0.00744557837164...|MATRIZ|   ATIVA|COMERCIO VAREJIST...| RS|ARVOREZINHA|ARVOREZINHA - RS|   4301404|   430140|  0.608904820624465| -0.2855719281076614|       1.1468285008633166|    0.3177594661858988|         -0.0629496895580639| 0.13670164344800753| -1.5382024810264583|-1.0059102996708618|  0.0667724779296534|0.02815656544044692|                      0|   ARVOREZINHA|-0.7342505858149141| ARVOREZINHA - RS|\n",
            "|  6|21162651000158|2016-09-01| 2016-09|      0|         5|SOCIEDADE EMPRESA...| -0.8782906297961304|-2.47753827983707...|MATRIZ|   ATIVA|COMERCIO VAREJIST...| RS|ARVOREZINHA|ARVOREZINHA - RS|   4301404|   430140|  0.608904820624465| -0.2855719281076614|       1.1468285008633166|    0.3177594661858988|         -0.0629496895580639| 0.13670164344800753| -1.5382024810264583|-1.0059102996708618|  0.0667724779296534|0.02815656544044692|                      0|   ARVOREZINHA|-0.7342505858149141| ARVOREZINHA - RS|\n",
            "|  7|11086500000104|2017-02-01| 2017-02|      0|         2|SOCIEDADE EMPRESA...|-0.36843211980033996|-0.01200420058263...|MATRIZ|   ATIVA|LANCHONETES, CASA...| SP|     BARIRI|     BARIRI - SP|   3505203|   350520| 1.4585286617722262|-0.23802382872811825|     -0.27911555658109816|    0.5852373484303378|        -0.40340576114253063| -0.6569095362327324|-0.43895380894564084|-0.6808342612346103|  -0.590611453320443|-0.5955993828224339|                      0|        BARIRI|-0.7290817537446941|      BARIRI - SP|\n",
            "|  8|49859416000159|2016-09-01| 2016-09|      0|         2|SOCIEDADE EMPRESA...|   2.395960915420799|0.006950070715679686|MATRIZ|   ATIVA|COMERCIO VAREJIST...| SP|     BARIRI|     BARIRI - SP|   3505203|   350520| 1.4585286617722262|-0.23802382872811825|     -0.27911555658109816|    0.5852373484303378|        -0.40340576114253063| -0.6569095362327324|-0.43895380894564084|-0.6808342612346103|  -0.590611453320443|-0.5955993828224339|                      0|        BARIRI|-0.7290817537446941|      BARIRI - SP|\n",
            "|  9|05257422000160|2017-05-01| 2017-05|      0|         2|SOCIEDADE EMPRESA...|  0.2939567576510664|0.003591085928636769|MATRIZ|   ATIVA|COMERCIO VAREJIST...| SP|   CAIEIRAS|   CAIEIRAS - SP|   3509007|   350900|-0.4105230928329477| -0.3334610289524067|       1.0530480316553366|    0.2115955644703229|          0.2896655274401338| -1.2089868786193347| 0.16955884881338312|-0.6242992980283057|-0.35230977824228304|-0.2498366620558702|                      1|      CAIEIRAS|-0.7154231209909129|    CAIEIRAS - SP|\n",
            "| 10|26791106000144|2016-08-01| 2016-08|      0|         2|SOCIEDADE EMPRESA...| -1.0931398294247163|-0.01176427309784...|MATRIZ|   ATIVA|COMERCIO VAREJIST...| SP|   CAIEIRAS|   CAIEIRAS - SP|   3509007|   350900|-0.4105230928329477| -0.3334610289524067|       1.0530480316553366|    0.2115955644703229|          0.2896655274401338| -1.2089868786193347| 0.16955884881338312|-0.6242992980283057|-0.35230977824228304|-0.2498366620558702|                      1|      CAIEIRAS|-0.7154231209909129|    CAIEIRAS - SP|\n",
            "| 11|10475241000140|2016-08-01| 2016-08|      0|         2|SOCIEDADE EMPRESA...| -0.3425497015994694| -0.0098448532195349|MATRIZ|   ATIVA|COMERCIO VAREJIST...| SP|   CAIEIRAS|   CAIEIRAS - SP|   3509007|   350900|-0.4105230928329477| -0.3334610289524067|       1.0530480316553366|    0.2115955644703229|          0.2896655274401338| -1.2089868786193347| 0.16955884881338312|-0.6242992980283057|-0.35230977824228304|-0.2498366620558702|                      1|      CAIEIRAS|-0.7154231209909129|    CAIEIRAS - SP|\n",
            "| 12|20871985000138|2017-02-01| 2017-02|      1|         0|EMPRESARIO (INDIV...| -0.8290386495303961|-0.01104449064347...|MATRIZ|   ATIVA|LANCHONETES, CASA...| SP|   CAIEIRAS|   CAIEIRAS - SP|   3509007|   350900|-0.4105230928329477| -0.3334610289524067|       1.0530480316553366|    0.2115955644703229|          0.2896655274401338| -1.2089868786193347| 0.16955884881338312|-0.6242992980283057|-0.35230977824228304|-0.2498366620558702|                      1|      CAIEIRAS|-0.7154231209909129|    CAIEIRAS - SP|\n",
            "| 13|60363330000173|2016-09-01| 2016-09|      0|         2|SOCIEDADE EMPRESA...|  1.4591681479174439|-0.01224412806742...|MATRIZ|   ATIVA|PADARIA E CONFEIT...| SP|   CAIEIRAS|   CAIEIRAS - SP|   3509007|   350900|-0.4105230928329477| -0.3334610289524067|       1.0530480316553366|    0.2115955644703229|          0.2896655274401338| -1.2089868786193347| 0.16955884881338312|-0.6242992980283057|-0.35230977824228304|-0.2498366620558702|                      1|      CAIEIRAS|-0.7154231209909129|    CAIEIRAS - SP|\n",
            "| 14|07275447000112|2016-09-01| 2016-09|      0|         2|SOCIEDADE EMPRESA...|-2.98695875336063...|-0.01224412806742...|MATRIZ|   ATIVA|RESTAURANTES E SI...| SP|   CAIEIRAS|   CAIEIRAS - SP|   3509007|   350900|-0.4105230928329477| -0.3334610289524067|       1.0530480316553366|    0.2115955644703229|          0.2896655274401338| -1.2089868786193347| 0.16955884881338312|-0.6242992980283057|-0.35230977824228304|-0.2498366620558702|                      1|      CAIEIRAS|-0.7154231209909129|    CAIEIRAS - SP|\n",
            "| 15|17774817000110|2016-11-01| 2016-11|      0|         2|SOCIEDADE EMPRESA...| -0.7204832644549001|-0.01104449064347...|MATRIZ|   ATIVA|LANCHONETES, CASA...| SP|   CAIEIRAS|   CAIEIRAS - SP|   3509007|   350900|-0.4105230928329477| -0.3334610289524067|       1.0530480316553366|    0.2115955644703229|          0.2896655274401338| -1.2089868786193347| 0.16955884881338312|-0.6242992980283057|-0.35230977824228304|-0.2498366620558702|                      1|      CAIEIRAS|-0.7154231209909129|    CAIEIRAS - SP|\n",
            "| 16|08999339000155|2016-12-01| 2016-12|      0|         2|SOCIEDADE EMPRESA...| -0.1978091881654747|-0.01200420058263...|MATRIZ|   ATIVA|RESTAURANTES E SI...| SP|   CAIEIRAS|   CAIEIRAS - SP|   3509007|   350900|-0.4105230928329477| -0.3334610289524067|       1.0530480316553366|    0.2115955644703229|          0.2896655274401338| -1.2089868786193347| 0.16955884881338312|-0.6242992980283057|-0.35230977824228304|-0.2498366620558702|                      1|      CAIEIRAS|-0.7154231209909129|    CAIEIRAS - SP|\n",
            "| 17|25025798000157|2016-08-01| 2016-08|      0|         0|EMPRESARIO (INDIV...| -1.0428827067045792|-0.01128441812826...|MATRIZ|   ATIVA|COMERCIO VAREJIST...| SP|   CAIEIRAS|   CAIEIRAS - SP|   3509007|   350900|-0.4105230928329477| -0.3334610289524067|       1.0530480316553366|    0.2115955644703229|          0.2896655274401338| -1.2089868786193347| 0.16955884881338312|-0.6242992980283057|-0.35230977824228304|-0.2498366620558702|                      1|      CAIEIRAS|-0.7154231209909129|    CAIEIRAS - SP|\n",
            "| 18|13941684000178|2017-03-01| 2017-03|      0|         2|SOCIEDADE EMPRESA...| -0.5340293391631916|-0.01176427309784...|MATRIZ|   ATIVA|RESTAURANTES E SI...| SP|   CAIEIRAS|   CAIEIRAS - SP|   3509007|   350900|-0.4105230928329477| -0.3334610289524067|       1.0530480316553366|    0.2115955644703229|          0.2896655274401338| -1.2089868786193347| 0.16955884881338312|-0.6242992980283057|-0.35230977824228304|-0.2498366620558702|                      1|      CAIEIRAS|-0.7154231209909129|    CAIEIRAS - SP|\n",
            "| 19|65985699000131|2016-09-01| 2016-09|      0|         0|EMPRESARIO (INDIV...|  1.2649243686041143|-0.01164430935545...|MATRIZ|   ATIVA|COMERCIO VAREJIST...| SP|   CAIEIRAS|   CAIEIRAS - SP|   3509007|   350900|-0.4105230928329477| -0.3334610289524067|       1.0530480316553366|    0.2115955644703229|          0.2896655274401338| -1.2089868786193347| 0.16955884881338312|-0.6242992980283057|-0.35230977824228304|-0.2498366620558702|                      1|      CAIEIRAS|-0.7154231209909129|    CAIEIRAS - SP|\n",
            "+---+--------------+----------+--------+-------+----------+--------------------+--------------------+--------------------+------+--------+--------------------+---+-----------+----------------+----------+---------+-------------------+--------------------+-------------------------+----------------------+----------------------------+--------------------+--------------------+-------------------+--------------------+-------------------+-----------------------+--------------+-------------------+-----------------+\n",
            "only showing top 20 rows\n",
            "\n"
          ],
          "name": "stdout"
        }
      ]
    },
    {
      "cell_type": "code",
      "metadata": {
        "id": "Tbj5JmhkmIa1",
        "colab_type": "code",
        "outputId": "c1631755-1a98-45d4-c82c-ad6ee8dca147",
        "colab": {
          "base_uri": "https://localhost:8080/",
          "height": 34
        }
      },
      "source": [
        "df = df.where(SF.col('taxa_analfabetismo') != 'NaN')\n",
        "df = df.where(SF.col('populacao') != 'NaN')\n",
        "df.count()"
      ],
      "execution_count": 0,
      "outputs": [
        {
          "output_type": "execute_result",
          "data": {
            "text/plain": [
              "64723"
            ]
          },
          "metadata": {
            "tags": []
          },
          "execution_count": 19
        }
      ]
    },
    {
      "cell_type": "markdown",
      "metadata": {
        "id": "6XWut9-S8uhs",
        "colab_type": "text"
      },
      "source": [
        "### TIPO [Matriz-Filial]"
      ]
    },
    {
      "cell_type": "code",
      "metadata": {
        "id": "Bgp-Tx9O813E",
        "colab_type": "code",
        "colab": {}
      },
      "source": [
        "# importar pacotes\n",
        "from pyspark.ml import Pipeline\n",
        "from pyspark.ml.feature import StringIndexer, OneHotEncoderEstimator, VectorAssembler"
      ],
      "execution_count": 0,
      "outputs": []
    },
    {
      "cell_type": "code",
      "metadata": {
        "id": "T34kCy_K0_BG",
        "colab_type": "code",
        "colab": {}
      },
      "source": [
        "## String Indexer em Tipo\n",
        "indexer = StringIndexer(inputCol='TIPO', outputCol='tipo_index')\n",
        "\n",
        "df = indexer.fit(df).transform(df)"
      ],
      "execution_count": 0,
      "outputs": []
    },
    {
      "cell_type": "markdown",
      "metadata": {
        "id": "v5OptIGmJ8rn",
        "colab_type": "text"
      },
      "source": [
        "## Natureza Juridica"
      ]
    },
    {
      "cell_type": "code",
      "metadata": {
        "id": "3RiVNiYBEXfs",
        "colab_type": "code",
        "outputId": "5bfc73f6-bbcd-4a8a-9f2e-0da4aae6c3b8",
        "colab": {
          "base_uri": "https://localhost:8080/",
          "height": 195
        }
      },
      "source": [
        "countGenTab(df, 'NATUREZA_JURIDICA').head()"
      ],
      "execution_count": 0,
      "outputs": [
        {
          "output_type": "execute_result",
          "data": {
            "text/html": [
              "<div>\n",
              "<style scoped>\n",
              "    .dataframe tbody tr th:only-of-type {\n",
              "        vertical-align: middle;\n",
              "    }\n",
              "\n",
              "    .dataframe tbody tr th {\n",
              "        vertical-align: top;\n",
              "    }\n",
              "\n",
              "    .dataframe thead th {\n",
              "        text-align: right;\n",
              "    }\n",
              "</style>\n",
              "<table border=\"1\" class=\"dataframe\">\n",
              "  <thead>\n",
              "    <tr style=\"text-align: right;\">\n",
              "      <th></th>\n",
              "      <th>NATUREZA_JURIDICA</th>\n",
              "      <th>count</th>\n",
              "      <th>prop</th>\n",
              "    </tr>\n",
              "  </thead>\n",
              "  <tbody>\n",
              "    <tr>\n",
              "      <th>0</th>\n",
              "      <td>SOCIEDADE EMPRESARIA LIMITADA</td>\n",
              "      <td>37212</td>\n",
              "      <td>57.49</td>\n",
              "    </tr>\n",
              "    <tr>\n",
              "      <th>1</th>\n",
              "      <td>EMPRESARIO (INDIVIDUAL)</td>\n",
              "      <td>20784</td>\n",
              "      <td>32.11</td>\n",
              "    </tr>\n",
              "    <tr>\n",
              "      <th>2</th>\n",
              "      <td>EMPRESA INDIVIDUAL DE RESPONSABILIDADE LIMITAD...</td>\n",
              "      <td>6544</td>\n",
              "      <td>10.11</td>\n",
              "    </tr>\n",
              "    <tr>\n",
              "      <th>3</th>\n",
              "      <td>SOCIEDADE ANONIMA FECHADA</td>\n",
              "      <td>63</td>\n",
              "      <td>0.10</td>\n",
              "    </tr>\n",
              "    <tr>\n",
              "      <th>4</th>\n",
              "      <td>COOPERATIVA</td>\n",
              "      <td>46</td>\n",
              "      <td>0.07</td>\n",
              "    </tr>\n",
              "  </tbody>\n",
              "</table>\n",
              "</div>"
            ],
            "text/plain": [
              "                                   NATUREZA_JURIDICA  count   prop\n",
              "0                      SOCIEDADE EMPRESARIA LIMITADA  37212  57.49\n",
              "1                            EMPRESARIO (INDIVIDUAL)  20784  32.11\n",
              "2  EMPRESA INDIVIDUAL DE RESPONSABILIDADE LIMITAD...   6544  10.11\n",
              "3                          SOCIEDADE ANONIMA FECHADA     63   0.10\n",
              "4                                        COOPERATIVA     46   0.07"
            ]
          },
          "metadata": {
            "tags": []
          },
          "execution_count": 22
        }
      ]
    },
    {
      "cell_type": "code",
      "metadata": {
        "id": "zjuMd2HCJLGb",
        "colab_type": "code",
        "colab": {}
      },
      "source": [
        "df = df.withColumn('natureza_socied_limitada', when(df.NATUREZA_JURIDICA == 'SOCIEDADE EMPRESARIA LIMITADA', 1).otherwise(0))\n",
        "df = df.withColumn('natureza_empresario_indiv', when(df.NATUREZA_JURIDICA == 'EMPRESARIO (INDIVIDUAL)', 1).otherwise(0))\n",
        "df = df.withColumn('natureza_empresa_indiv_limitada', when(df.NATUREZA_JURIDICA == 'EMPRESA INDIVIDUAL DE RESPONSABILIDADE LIMITADA', 1).otherwise(0))"
      ],
      "execution_count": 0,
      "outputs": []
    },
    {
      "cell_type": "markdown",
      "metadata": {
        "id": "Ph_oaktOMLVB",
        "colab_type": "text"
      },
      "source": [
        "### SITUAÇÃO\n"
      ]
    },
    {
      "cell_type": "code",
      "metadata": {
        "id": "OC9zQsMLMN7Z",
        "colab_type": "code",
        "outputId": "8ed92f53-8afb-4927-8895-db63f3281072",
        "colab": {
          "base_uri": "https://localhost:8080/",
          "height": 166
        }
      },
      "source": [
        "countGenTab(df, 'SITUACAO')"
      ],
      "execution_count": 0,
      "outputs": [
        {
          "output_type": "execute_result",
          "data": {
            "text/html": [
              "<div>\n",
              "<style scoped>\n",
              "    .dataframe tbody tr th:only-of-type {\n",
              "        vertical-align: middle;\n",
              "    }\n",
              "\n",
              "    .dataframe tbody tr th {\n",
              "        vertical-align: top;\n",
              "    }\n",
              "\n",
              "    .dataframe thead th {\n",
              "        text-align: right;\n",
              "    }\n",
              "</style>\n",
              "<table border=\"1\" class=\"dataframe\">\n",
              "  <thead>\n",
              "    <tr style=\"text-align: right;\">\n",
              "      <th></th>\n",
              "      <th>SITUACAO</th>\n",
              "      <th>count</th>\n",
              "      <th>prop</th>\n",
              "    </tr>\n",
              "  </thead>\n",
              "  <tbody>\n",
              "    <tr>\n",
              "      <th>0</th>\n",
              "      <td>ATIVA</td>\n",
              "      <td>60115</td>\n",
              "      <td>92.88</td>\n",
              "    </tr>\n",
              "    <tr>\n",
              "      <th>1</th>\n",
              "      <td>BAIXADA</td>\n",
              "      <td>4093</td>\n",
              "      <td>6.32</td>\n",
              "    </tr>\n",
              "    <tr>\n",
              "      <th>2</th>\n",
              "      <td>INAPTA</td>\n",
              "      <td>441</td>\n",
              "      <td>0.68</td>\n",
              "    </tr>\n",
              "    <tr>\n",
              "      <th>3</th>\n",
              "      <td>SUSPENSA</td>\n",
              "      <td>74</td>\n",
              "      <td>0.11</td>\n",
              "    </tr>\n",
              "  </tbody>\n",
              "</table>\n",
              "</div>"
            ],
            "text/plain": [
              "   SITUACAO  count   prop\n",
              "0     ATIVA  60115  92.88\n",
              "1   BAIXADA   4093   6.32\n",
              "2    INAPTA    441   0.68\n",
              "3  SUSPENSA     74   0.11"
            ]
          },
          "metadata": {
            "tags": []
          },
          "execution_count": 24
        }
      ]
    },
    {
      "cell_type": "code",
      "metadata": {
        "id": "Mj8FywPr76OY",
        "colab_type": "code",
        "colab": {}
      },
      "source": [
        "df = df.withColumn('situacao_ativa', when(df.SITUACAO == 'ATIVA', 1).otherwise(0))\n",
        "df = df.withColumn('situacao_baixada', when(df.SITUACAO == 'BAIXADA', 1).otherwise(0))"
      ],
      "execution_count": 0,
      "outputs": []
    },
    {
      "cell_type": "markdown",
      "metadata": {
        "id": "IsNHCYLI6qEM",
        "colab_type": "text"
      },
      "source": [
        "### UNIDADE FEDERATIVA (UF)"
      ]
    },
    {
      "cell_type": "code",
      "metadata": {
        "id": "NtASWK2D6cxg",
        "colab_type": "code",
        "outputId": "121fa75b-166e-4203-8772-2cd46abbe786",
        "colab": {
          "base_uri": "https://localhost:8080/",
          "height": 554
        }
      },
      "source": [
        "df = df.withColumnRenamed('UF12', 'UF')\n",
        "\n",
        "prop_UF = countGenTab(df, 'UF')\n",
        "#prop_UF.head(30)\n",
        "prop_UF = spark.createDataFrame(prop_UF)\n",
        "prop_UF = prop_UF.withColumn('SIG', SF.when(SF.col(\"prop\")>1, SF.lit(\"1\")).otherwise(SF.lit('0')))\n",
        "prop_UF.show(30, False)"
      ],
      "execution_count": 0,
      "outputs": [
        {
          "output_type": "stream",
          "text": [
            "+---+-----+-----+---+\n",
            "|UF |count|prop |SIG|\n",
            "+---+-----+-----+---+\n",
            "|SP |25970|40.12|1  |\n",
            "|RJ |6859 |10.6 |1  |\n",
            "|MG |6502 |10.05|1  |\n",
            "|PR |4711 |7.28 |1  |\n",
            "|RS |4425 |6.84 |1  |\n",
            "|BA |2796 |4.32 |1  |\n",
            "|SC |2545 |3.93 |1  |\n",
            "|PE |1816 |2.81 |1  |\n",
            "|DF |1364 |2.11 |1  |\n",
            "|GO |1347 |2.08 |1  |\n",
            "|ES |1312 |2.03 |1  |\n",
            "|CE |1147 |1.77 |1  |\n",
            "|MS |519  |0.8  |0  |\n",
            "|MT |512  |0.79 |0  |\n",
            "|PA |444  |0.69 |0  |\n",
            "|PB |424  |0.66 |0  |\n",
            "|AM |384  |0.59 |0  |\n",
            "|MA |339  |0.52 |0  |\n",
            "|RN |269  |0.42 |0  |\n",
            "|AL |241  |0.37 |0  |\n",
            "|SE |214  |0.33 |0  |\n",
            "|PI |189  |0.29 |0  |\n",
            "|TO |181  |0.28 |0  |\n",
            "|RO |76   |0.12 |0  |\n",
            "|AC |59   |0.09 |0  |\n",
            "|AP |40   |0.06 |0  |\n",
            "|RR |38   |0.06 |0  |\n",
            "+---+-----+-----+---+\n",
            "\n"
          ],
          "name": "stdout"
        }
      ]
    },
    {
      "cell_type": "code",
      "metadata": {
        "id": "dJH80H8eXRcJ",
        "colab_type": "code",
        "colab": {}
      },
      "source": [
        "prop_UF = prop_UF.drop('count','prop')\n",
        "df = df.join(prop_UF, ['UF'], 'left')"
      ],
      "execution_count": 0,
      "outputs": []
    },
    {
      "cell_type": "code",
      "metadata": {
        "id": "E4f0yENPa624",
        "colab_type": "code",
        "colab": {}
      },
      "source": [
        "df = df.withColumn('UF', SF.when(SF.col(\"SIG\")==1, SF.col(\"UF\")).otherwise(SF.lit('OUTROS')))\n",
        "df = df.drop('SIG')"
      ],
      "execution_count": 0,
      "outputs": []
    },
    {
      "cell_type": "code",
      "metadata": {
        "id": "cLwnV_uS_c42",
        "colab_type": "code",
        "colab": {}
      },
      "source": [
        "indexer = StringIndexer(inputCol='UF', outputCol='UF_index')\n",
        "\n",
        "df = indexer.fit(df).transform(df)"
      ],
      "execution_count": 0,
      "outputs": []
    },
    {
      "cell_type": "code",
      "metadata": {
        "id": "m7d-UjZUAKbh",
        "colab_type": "code",
        "colab": {}
      },
      "source": [
        "encoder = OneHotEncoderEstimator(inputCols=['UF_index'],\n",
        "                                 outputCols=['UF_encoded'])\n",
        "\n",
        "model = encoder.fit(df)\n",
        "df = model.transform(df)"
      ],
      "execution_count": 0,
      "outputs": []
    },
    {
      "cell_type": "markdown",
      "metadata": {
        "id": "ywY_TngHCqle",
        "colab_type": "text"
      },
      "source": [
        "### ATIVIDADE PRINCIPAL"
      ]
    },
    {
      "cell_type": "code",
      "metadata": {
        "id": "aXbR4nLYCTmZ",
        "colab_type": "code",
        "outputId": "4d505765-1768-44ca-e28d-e384e05abafd",
        "colab": {
          "base_uri": "https://localhost:8080/",
          "height": 195
        }
      },
      "source": [
        "countGenTab(df, 'ATIVIDADE_PRINCIPAL').head()"
      ],
      "execution_count": 0,
      "outputs": [
        {
          "output_type": "execute_result",
          "data": {
            "text/html": [
              "<div>\n",
              "<style scoped>\n",
              "    .dataframe tbody tr th:only-of-type {\n",
              "        vertical-align: middle;\n",
              "    }\n",
              "\n",
              "    .dataframe tbody tr th {\n",
              "        vertical-align: top;\n",
              "    }\n",
              "\n",
              "    .dataframe thead th {\n",
              "        text-align: right;\n",
              "    }\n",
              "</style>\n",
              "<table border=\"1\" class=\"dataframe\">\n",
              "  <thead>\n",
              "    <tr style=\"text-align: right;\">\n",
              "      <th></th>\n",
              "      <th>ATIVIDADE_PRINCIPAL</th>\n",
              "      <th>count</th>\n",
              "      <th>prop</th>\n",
              "    </tr>\n",
              "  </thead>\n",
              "  <tbody>\n",
              "    <tr>\n",
              "      <th>0</th>\n",
              "      <td>RESTAURANTES E SIMILARES</td>\n",
              "      <td>17781</td>\n",
              "      <td>27.47</td>\n",
              "    </tr>\n",
              "    <tr>\n",
              "      <th>1</th>\n",
              "      <td>COMERCIO VAREJISTA DE MERCADORIAS EM GERAL, CO...</td>\n",
              "      <td>10667</td>\n",
              "      <td>16.48</td>\n",
              "    </tr>\n",
              "    <tr>\n",
              "      <th>2</th>\n",
              "      <td>LANCHONETES, CASAS DE CHA, DE SUCOS E SIMILARES</td>\n",
              "      <td>10032</td>\n",
              "      <td>15.50</td>\n",
              "    </tr>\n",
              "    <tr>\n",
              "      <th>3</th>\n",
              "      <td>COMERCIO VAREJISTA DE MERCADORIAS EM GERAL, CO...</td>\n",
              "      <td>5937</td>\n",
              "      <td>9.17</td>\n",
              "    </tr>\n",
              "    <tr>\n",
              "      <th>4</th>\n",
              "      <td>********</td>\n",
              "      <td>4593</td>\n",
              "      <td>7.10</td>\n",
              "    </tr>\n",
              "  </tbody>\n",
              "</table>\n",
              "</div>"
            ],
            "text/plain": [
              "                                 ATIVIDADE_PRINCIPAL  count   prop\n",
              "0                           RESTAURANTES E SIMILARES  17781  27.47\n",
              "1  COMERCIO VAREJISTA DE MERCADORIAS EM GERAL, CO...  10667  16.48\n",
              "2    LANCHONETES, CASAS DE CHA, DE SUCOS E SIMILARES  10032  15.50\n",
              "3  COMERCIO VAREJISTA DE MERCADORIAS EM GERAL, CO...   5937   9.17\n",
              "4                                           ********   4593   7.10"
            ]
          },
          "metadata": {
            "tags": []
          },
          "execution_count": 31
        }
      ]
    },
    {
      "cell_type": "code",
      "metadata": {
        "id": "5sff3Yz_C0P4",
        "colab_type": "code",
        "colab": {}
      },
      "source": [
        "bag_word = ('DOCES', 'ALIMENTO', 'RESTAURANTE')\n",
        "\n",
        "@SF.udf('string')\n",
        "def evalAtividade(value):\n",
        "  cont = 0\n",
        "  for word in bag_word:\n",
        "    if word in value:\n",
        "      cont = cont + 1\n",
        "  if cont >= 1:\n",
        "    return 1\n",
        "  else:\n",
        "    return 0\n",
        "\n",
        "df = df.withColumn('atividade_alimento', evalAtividade('ATIVIDADE_PRINCIPAL'))"
      ],
      "execution_count": 0,
      "outputs": []
    },
    {
      "cell_type": "code",
      "metadata": {
        "id": "VFBW1RzHEabc",
        "colab_type": "code",
        "outputId": "015362c3-6745-4f01-f941-20a6d3c67343",
        "colab": {
          "base_uri": "https://localhost:8080/",
          "height": 106
        }
      },
      "source": [
        "countGenTab(df, 'atividade_alimento')"
      ],
      "execution_count": 0,
      "outputs": [
        {
          "output_type": "execute_result",
          "data": {
            "text/html": [
              "<div>\n",
              "<style scoped>\n",
              "    .dataframe tbody tr th:only-of-type {\n",
              "        vertical-align: middle;\n",
              "    }\n",
              "\n",
              "    .dataframe tbody tr th {\n",
              "        vertical-align: top;\n",
              "    }\n",
              "\n",
              "    .dataframe thead th {\n",
              "        text-align: right;\n",
              "    }\n",
              "</style>\n",
              "<table border=\"1\" class=\"dataframe\">\n",
              "  <thead>\n",
              "    <tr style=\"text-align: right;\">\n",
              "      <th></th>\n",
              "      <th>atividade_alimento</th>\n",
              "      <th>count</th>\n",
              "      <th>prop</th>\n",
              "    </tr>\n",
              "  </thead>\n",
              "  <tbody>\n",
              "    <tr>\n",
              "      <th>0</th>\n",
              "      <td>0</td>\n",
              "      <td>44601</td>\n",
              "      <td>68.91</td>\n",
              "    </tr>\n",
              "    <tr>\n",
              "      <th>1</th>\n",
              "      <td>1</td>\n",
              "      <td>20122</td>\n",
              "      <td>31.09</td>\n",
              "    </tr>\n",
              "  </tbody>\n",
              "</table>\n",
              "</div>"
            ],
            "text/plain": [
              "  atividade_alimento  count   prop\n",
              "0                  0  44601  68.91\n",
              "1                  1  20122  31.09"
            ]
          },
          "metadata": {
            "tags": []
          },
          "execution_count": 33
        }
      ]
    },
    {
      "cell_type": "code",
      "metadata": {
        "id": "QeoFO3XiTXAC",
        "colab_type": "code",
        "outputId": "fceacc5f-44fd-4025-99b1-203fd150bfc7",
        "colab": {
          "base_uri": "https://localhost:8080/",
          "height": 222
        }
      },
      "source": [
        "data = df.select('CNPJ', 'DATA_REF', 'CS_ALVO', 'QTD_SOCIOS', \n",
        "                 'CAPITAL_SOCIAL', 'IDADE', 'tipo_index', \n",
        "                 'natureza_socied_limitada', 'natureza_empresario_indiv',\n",
        "                 'natureza_empresa_indiv_limitada', 'situacao_ativa',\n",
        "                'situacao_baixada', 'UF_index', 'atividade_alimento', 'populacao',\n",
        "                 'municipio_metropolitano','dist_capital','area_municipio',\n",
        "                 'taxa_atividade_18anosmais','porcent_pop_saneamento',\n",
        "                 'porcent_mulheres10a17_filhos','mortalidade_infantil','IDHM',\n",
        "                 'IDHM_renda','taxa_analfabetismo','porcent_pobres')\n",
        "\n",
        "data.show(5)"
      ],
      "execution_count": 0,
      "outputs": [
        {
          "output_type": "stream",
          "text": [
            "+--------------+--------+-------+----------+--------------------+--------------------+----------+------------------------+-------------------------+-------------------------------+--------------+----------------+--------+------------------+-------------------+-----------------------+------------------+--------------------+-------------------------+----------------------+----------------------------+--------------------+-------------------+-------------------+-------------------+-------------------+\n",
            "|          CNPJ|DATA_REF|CS_ALVO|QTD_SOCIOS|      CAPITAL_SOCIAL|               IDADE|tipo_index|natureza_socied_limitada|natureza_empresario_indiv|natureza_empresa_indiv_limitada|situacao_ativa|situacao_baixada|UF_index|atividade_alimento|          populacao|municipio_metropolitano|      dist_capital|      area_municipio|taxa_atividade_18anosmais|porcent_pop_saneamento|porcent_mulheres10a17_filhos|mortalidade_infantil|               IDHM|         IDHM_renda| taxa_analfabetismo|     porcent_pobres|\n",
            "+--------------+--------+-------+----------+--------------------+--------------------+----------+------------------------+-------------------------+-------------------------------+--------------+----------------+--------+------------------+-------------------+-----------------------+------------------+--------------------+-------------------------+----------------------+----------------------------+--------------------+-------------------+-------------------+-------------------+-------------------+\n",
            "|00156902000111| 2016-09|      0|         3|-0.01044467193150...|  0.9674022021009029|       0.0|                       1|                        0|                              0|             1|               0|     7.0|                 1|-0.7279768704066641|                      0|0.9528881923401529|-0.09921971900269752|      -0.7720641767768895|  -0.20754503451065506|          1.7852404133290412| -0.4153756989385943|-1.0082075855589212|-0.9635090772661333| 0.1160762727734105|0.49562776391684105|\n",
            "|81295842000110| 2016-10|      0|         1|-0.01224412806742...|  1.4651990026438604|       0.0|                       0|                        0|                              0|             1|               0|     7.0|                 0|-0.7279768704066641|                      0|0.9528881923401529|-0.09921971900269752|      -0.7720641767768895|  -0.20754503451065506|          1.7852404133290412| -0.4153756989385943|-1.0082075855589212|-0.9635090772661333| 0.1160762727734105|0.49562776391684105|\n",
            "|82156977000167| 2016-09|      0|         3|0.010548982987511384|  1.3335253411171013|       0.0|                       1|                        0|                              0|             1|               0|     7.0|                 0|-0.7279768704066641|                      0|0.9528881923401529|-0.09921971900269752|      -0.7720641767768895|  -0.20754503451065506|          1.7852404133290412| -0.4153756989385943|-1.0082075855589212|-0.9635090772661333| 0.1160762727734105|0.49562776391684105|\n",
            "|03372720000176| 2016-12|      0|         3|-0.01152434561305...|  0.5291600919813078|       0.0|                       1|                        0|                              0|             1|               0|     7.0|                 1| -0.700109450998781|                      0|0.4243909330769714|-0.21461830281712446|       2.6256743614506908|    0.4652859270114391|         -0.8532941414505758|  -1.205536395229418| 0.6014065414165615|0.12478896445523038|-0.7878266326954719|-0.8542298979558235|\n",
            "|12830072000145| 2017-01|      0|         1|-0.00995521986253...|-0.49005435678307163|       0.0|                       0|                        0|                              0|             1|               0|     7.0|                 0| -0.700109450998781|                      0|0.4243909330769714|-0.21461830281712446|       2.6256743614506908|    0.4652859270114391|         -0.8532941414505758|  -1.205536395229418| 0.6014065414165615|0.12478896445523038|-0.7878266326954719|-0.8542298979558235|\n",
            "+--------------+--------+-------+----------+--------------------+--------------------+----------+------------------------+-------------------------+-------------------------------+--------------+----------------+--------+------------------+-------------------+-----------------------+------------------+--------------------+-------------------------+----------------------+----------------------------+--------------------+-------------------+-------------------+-------------------+-------------------+\n",
            "only showing top 5 rows\n",
            "\n"
          ],
          "name": "stdout"
        }
      ]
    },
    {
      "cell_type": "code",
      "metadata": {
        "id": "RUVmSqT_-s5r",
        "colab_type": "code",
        "outputId": "41663782-bd02-4004-eadf-140c770c9228",
        "colab": {
          "base_uri": "https://localhost:8080/",
          "height": 106
        }
      },
      "source": [
        "countGenTab(data, 'CS_ALVO')"
      ],
      "execution_count": 0,
      "outputs": [
        {
          "output_type": "execute_result",
          "data": {
            "text/html": [
              "<div>\n",
              "<style scoped>\n",
              "    .dataframe tbody tr th:only-of-type {\n",
              "        vertical-align: middle;\n",
              "    }\n",
              "\n",
              "    .dataframe tbody tr th {\n",
              "        vertical-align: top;\n",
              "    }\n",
              "\n",
              "    .dataframe thead th {\n",
              "        text-align: right;\n",
              "    }\n",
              "</style>\n",
              "<table border=\"1\" class=\"dataframe\">\n",
              "  <thead>\n",
              "    <tr style=\"text-align: right;\">\n",
              "      <th></th>\n",
              "      <th>CS_ALVO</th>\n",
              "      <th>count</th>\n",
              "      <th>prop</th>\n",
              "    </tr>\n",
              "  </thead>\n",
              "  <tbody>\n",
              "    <tr>\n",
              "      <th>0</th>\n",
              "      <td>0</td>\n",
              "      <td>57382</td>\n",
              "      <td>88.66</td>\n",
              "    </tr>\n",
              "    <tr>\n",
              "      <th>1</th>\n",
              "      <td>1</td>\n",
              "      <td>7341</td>\n",
              "      <td>11.34</td>\n",
              "    </tr>\n",
              "  </tbody>\n",
              "</table>\n",
              "</div>"
            ],
            "text/plain": [
              "  CS_ALVO  count   prop\n",
              "0       0  57382  88.66\n",
              "1       1   7341  11.34"
            ]
          },
          "metadata": {
            "tags": []
          },
          "execution_count": 35
        }
      ]
    },
    {
      "cell_type": "code",
      "metadata": {
        "id": "7gd1B_U8u8-t",
        "colab_type": "code",
        "colab": {}
      },
      "source": [
        "# SALVAR BASE FINAL\n",
        "pdata = data.toPandas()\n",
        "pdata.to_csv(path+'model_data5.csv')"
      ],
      "execution_count": 0,
      "outputs": []
    }
  ]
}